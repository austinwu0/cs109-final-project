{
 "cells": [
  {
   "cell_type": "code",
   "execution_count": 1,
   "metadata": {
    "collapsed": true
   },
   "outputs": [],
   "source": [
    "%matplotlib inline\n",
    "import numpy as np\n",
    "import scipy as sp\n",
    "import matplotlib as mpl\n",
    "import matplotlib.cm as cm\n",
    "import matplotlib.pyplot as plt\n",
    "import pandas as pd\n",
    "pd.set_option('display.width', 500)\n",
    "pd.set_option('display.max_columns', 100)\n",
    "pd.set_option('display.notebook_repr_html', True)\n",
    "import seaborn as sns\n",
    "sns.set_style(\"whitegrid\")\n",
    "sns.set_context(\"poster\")"
   ]
  },
  {
   "cell_type": "code",
   "execution_count": 2,
   "metadata": {
    "collapsed": false
   },
   "outputs": [],
   "source": [
    "# with help from http://planspace.org/20150423-forward_selection_with_statsmodels/\n",
    "import statsmodels.formula.api as smf\n",
    "\n",
    "def forward_selected(data, response):\n",
    "    \"\"\"Linear model designed by forward selection.\n",
    "\n",
    "    Parameters:\n",
    "    -----------\n",
    "    data : pandas DataFrame with all possible predictors and response\n",
    "\n",
    "    response: string, name of response column in data\n",
    "\n",
    "    Returns:\n",
    "    --------\n",
    "    model: an \"optimal\" fitted statsmodels linear model\n",
    "           with an intercept\n",
    "           selected by forward selection\n",
    "           evaluated by adjusted R-squared\n",
    "    \"\"\"\n",
    "    \n",
    "    remaining = set(data.columns)\n",
    "    remaining.remove(response)\n",
    "    selected = []\n",
    "    current_score, best_new_score = 0.0, 0.0\n",
    "    while remaining and current_score == best_new_score:\n",
    "        scores_with_candidates = []\n",
    "        for candidate in remaining:\n",
    "            formula = \"{} ~ {} + 1\".format(response, ' + '.join(selected + [candidate]))\n",
    "            score = smf.ols(formula, data).fit().rsquared_adj\n",
    "            scores_with_candidates.append((score, candidate))\n",
    "        scores_with_candidates.sort()\n",
    "        best_new_score, best_candidate = scores_with_candidates.pop()\n",
    "        if current_score < (best_new_score * 1):\n",
    "            remaining.remove(best_candidate)\n",
    "            selected.append(best_candidate)\n",
    "            current_score = best_new_score\n",
    "    formula = \"{} ~ {} + 1\".format(response, ' + '.join(selected))\n",
    "    \n",
    "    model = smf.ols(formula, data).fit()\n",
    "    return (model, formula)"
   ]
  },
  {
   "cell_type": "code",
   "execution_count": 3,
   "metadata": {
    "collapsed": false
   },
   "outputs": [],
   "source": [
    "response=pd.read_pickle('data/ZipcodeMVPSnew.pkl')[['RegionName','2000_agg','2010_agg']]\n",
    "response=response.rename(columns={'RegionName': 'zipcode'})\n",
    "response['2010_agg_adj'] = response['2010_agg']/1.26\n",
    "response['pct_delta'] = (response['2010_agg_adj']/response['2000_agg']) - 1\n",
    "response = response.drop(['2010_agg','2000_agg', '2010_agg_adj'], 1)"
   ]
  },
  {
   "cell_type": "markdown",
   "metadata": {},
   "source": [
    "## Testing a few different response variables:\n",
    "### - house price delta (above)\n",
    "### - house/rental ratio delta (below)\n",
    "### - house/rental ratio 2015 (below)"
   ]
  },
  {
   "cell_type": "code",
   "execution_count": 4,
   "metadata": {
    "collapsed": false
   },
   "outputs": [
    {
     "name": "stderr",
     "output_type": "stream",
     "text": [
      "/Users/princess_eliza/anaconda/lib/python2.7/site-packages/ipykernel/__main__.py:7: SettingWithCopyWarning: \n",
      "A value is trying to be set on a copy of a slice from a DataFrame.\n",
      "Try using .loc[row_indexer,col_indexer] = value instead\n",
      "\n",
      "See the caveats in the documentation: http://pandas.pydata.org/pandas-docs/stable/indexing.html#indexing-view-versus-copy\n",
      "/Users/princess_eliza/anaconda/lib/python2.7/site-packages/ipykernel/__main__.py:8: SettingWithCopyWarning: \n",
      "A value is trying to be set on a copy of a slice from a DataFrame.\n",
      "Try using .loc[row_indexer,col_indexer] = value instead\n",
      "\n",
      "See the caveats in the documentation: http://pandas.pydata.org/pandas-docs/stable/indexing.html#indexing-view-versus-copy\n"
     ]
    }
   ],
   "source": [
    "ratio_response = pd.read_pickle('data/housing_rental_ratio.pkl')\n",
    "ratio_response = ratio_response.rename(columns = {'RegionName': 'zipcode'})\n",
    "\n",
    "ratio_delta_response = ratio_response[['zipcode','ratio_pct_delta']]\n",
    "ratio_2015_response = ratio_response[['zipcode','ratio_2015']]\n",
    "\n",
    "ratio_delta_response['zipcode'] = ratio_delta_response['zipcode'].astype('str')\n",
    "ratio_2015_response['zipcode'] = ratio_2015_response['zipcode'].astype('str')"
   ]
  },
  {
   "cell_type": "code",
   "execution_count": 5,
   "metadata": {
    "collapsed": false
   },
   "outputs": [
    {
     "data": {
      "text/html": [
       "<div>\n",
       "<table border=\"1\" class=\"dataframe\">\n",
       "  <thead>\n",
       "    <tr style=\"text-align: right;\">\n",
       "      <th></th>\n",
       "      <th>zipcode</th>\n",
       "      <th>ratio_pct_delta</th>\n",
       "    </tr>\n",
       "  </thead>\n",
       "  <tbody>\n",
       "    <tr>\n",
       "      <th>0</th>\n",
       "      <td>11368</td>\n",
       "      <td>0.984804</td>\n",
       "    </tr>\n",
       "    <tr>\n",
       "      <th>1</th>\n",
       "      <td>79936</td>\n",
       "      <td>1.001354</td>\n",
       "    </tr>\n",
       "    <tr>\n",
       "      <th>2</th>\n",
       "      <td>60629</td>\n",
       "      <td>1.073514</td>\n",
       "    </tr>\n",
       "  </tbody>\n",
       "</table>\n",
       "</div>"
      ],
      "text/plain": [
       "  zipcode  ratio_pct_delta\n",
       "0   11368         0.984804\n",
       "1   79936         1.001354\n",
       "2   60629         1.073514"
      ]
     },
     "execution_count": 5,
     "metadata": {},
     "output_type": "execute_result"
    }
   ],
   "source": [
    "ratio_delta_response.head(3)"
   ]
  },
  {
   "cell_type": "code",
   "execution_count": 6,
   "metadata": {
    "collapsed": false
   },
   "outputs": [
    {
     "data": {
      "text/html": [
       "<div>\n",
       "<table border=\"1\" class=\"dataframe\">\n",
       "  <thead>\n",
       "    <tr style=\"text-align: right;\">\n",
       "      <th></th>\n",
       "      <th>zipcode</th>\n",
       "      <th>ratio_2015</th>\n",
       "    </tr>\n",
       "  </thead>\n",
       "  <tbody>\n",
       "    <tr>\n",
       "      <th>0</th>\n",
       "      <td>11368</td>\n",
       "      <td>197.083754</td>\n",
       "    </tr>\n",
       "    <tr>\n",
       "      <th>1</th>\n",
       "      <td>79936</td>\n",
       "      <td>108.096860</td>\n",
       "    </tr>\n",
       "    <tr>\n",
       "      <th>2</th>\n",
       "      <td>60629</td>\n",
       "      <td>96.111037</td>\n",
       "    </tr>\n",
       "  </tbody>\n",
       "</table>\n",
       "</div>"
      ],
      "text/plain": [
       "  zipcode  ratio_2015\n",
       "0   11368  197.083754\n",
       "1   79936  108.096860\n",
       "2   60629   96.111037"
      ]
     },
     "execution_count": 6,
     "metadata": {},
     "output_type": "execute_result"
    }
   ],
   "source": [
    "ratio_2015_response.head(3)"
   ]
  },
  {
   "cell_type": "code",
   "execution_count": 7,
   "metadata": {
    "collapsed": false
   },
   "outputs": [
    {
     "data": {
      "text/html": [
       "<div>\n",
       "<table border=\"1\" class=\"dataframe\">\n",
       "  <thead>\n",
       "    <tr style=\"text-align: right;\">\n",
       "      <th></th>\n",
       "      <th>zipcode</th>\n",
       "      <th>pct_delta</th>\n",
       "    </tr>\n",
       "  </thead>\n",
       "  <tbody>\n",
       "    <tr>\n",
       "      <th>1</th>\n",
       "      <td>79936</td>\n",
       "      <td>0.173843</td>\n",
       "    </tr>\n",
       "    <tr>\n",
       "      <th>2</th>\n",
       "      <td>60629</td>\n",
       "      <td>0.085907</td>\n",
       "    </tr>\n",
       "    <tr>\n",
       "      <th>3</th>\n",
       "      <td>90650</td>\n",
       "      <td>0.426587</td>\n",
       "    </tr>\n",
       "  </tbody>\n",
       "</table>\n",
       "</div>"
      ],
      "text/plain": [
       "  zipcode  pct_delta\n",
       "1   79936   0.173843\n",
       "2   60629   0.085907\n",
       "3   90650   0.426587"
      ]
     },
     "execution_count": 7,
     "metadata": {},
     "output_type": "execute_result"
    }
   ],
   "source": [
    "response.head(3)"
   ]
  },
  {
   "cell_type": "code",
   "execution_count": 8,
   "metadata": {
    "collapsed": false
   },
   "outputs": [
    {
     "name": "stdout",
     "output_type": "stream",
     "text": [
      "(27653, 64) (22122, 64) (5531, 64)\n"
     ]
    },
    {
     "data": {
      "text/html": [
       "<div>\n",
       "<table border=\"1\" class=\"dataframe\">\n",
       "  <thead>\n",
       "    <tr style=\"text-align: right;\">\n",
       "      <th></th>\n",
       "      <th>zipcode</th>\n",
       "      <th>prison</th>\n",
       "      <th>jail</th>\n",
       "      <th>A001</th>\n",
       "      <th>A002</th>\n",
       "      <th>A003</th>\n",
       "      <th>A004</th>\n",
       "      <th>A005</th>\n",
       "      <th>A006</th>\n",
       "      <th>A007</th>\n",
       "      <th>A008</th>\n",
       "      <th>A009</th>\n",
       "      <th>A010</th>\n",
       "      <th>A011</th>\n",
       "      <th>A012</th>\n",
       "      <th>A013</th>\n",
       "      <th>A014</th>\n",
       "      <th>A015</th>\n",
       "      <th>A016</th>\n",
       "      <th>A017</th>\n",
       "      <th>A018</th>\n",
       "      <th>A019</th>\n",
       "      <th>A020</th>\n",
       "      <th>A021</th>\n",
       "      <th>A022</th>\n",
       "      <th>A023</th>\n",
       "      <th>A024</th>\n",
       "      <th>A025</th>\n",
       "      <th>A026</th>\n",
       "      <th>A027</th>\n",
       "      <th>A028</th>\n",
       "      <th>A029</th>\n",
       "      <th>A030</th>\n",
       "      <th>A031</th>\n",
       "      <th>A032</th>\n",
       "      <th>A033</th>\n",
       "      <th>A034</th>\n",
       "      <th>A035</th>\n",
       "      <th>A036</th>\n",
       "      <th>A037</th>\n",
       "      <th>A038</th>\n",
       "      <th>A039</th>\n",
       "      <th>A040</th>\n",
       "      <th>A041</th>\n",
       "      <th>A042</th>\n",
       "      <th>A043</th>\n",
       "      <th>A044</th>\n",
       "      <th>A045</th>\n",
       "      <th>A046</th>\n",
       "      <th>A047</th>\n",
       "      <th>A048</th>\n",
       "      <th>A049</th>\n",
       "      <th>A050</th>\n",
       "      <th>A051</th>\n",
       "      <th>A052</th>\n",
       "      <th>A053</th>\n",
       "      <th>A054</th>\n",
       "      <th>A055</th>\n",
       "      <th>A056</th>\n",
       "      <th>n_establishments</th>\n",
       "      <th>paid_employees</th>\n",
       "      <th>first_quarter_payroll_1000</th>\n",
       "      <th>annual_payroll_1000</th>\n",
       "      <th>median_income</th>\n",
       "    </tr>\n",
       "  </thead>\n",
       "  <tbody>\n",
       "    <tr>\n",
       "      <th>0</th>\n",
       "      <td>01001</td>\n",
       "      <td>0</td>\n",
       "      <td>0</td>\n",
       "      <td>0.393159</td>\n",
       "      <td>-0.844788</td>\n",
       "      <td>-0.576017</td>\n",
       "      <td>-0.174118</td>\n",
       "      <td>-0.117701</td>\n",
       "      <td>0.107539</td>\n",
       "      <td>-0.016376</td>\n",
       "      <td>0.170177</td>\n",
       "      <td>0.302420</td>\n",
       "      <td>1.862902</td>\n",
       "      <td>-0.661973</td>\n",
       "      <td>-0.790923</td>\n",
       "      <td>-0.635659</td>\n",
       "      <td>-0.198994</td>\n",
       "      <td>-0.050199</td>\n",
       "      <td>-0.043662</td>\n",
       "      <td>-0.090009</td>\n",
       "      <td>-0.044475</td>\n",
       "      <td>-0.020593</td>\n",
       "      <td>1.102067</td>\n",
       "      <td>0.725830</td>\n",
       "      <td>-0.772259</td>\n",
       "      <td>-0.455802</td>\n",
       "      <td>-0.057597</td>\n",
       "      <td>-0.171337</td>\n",
       "      <td>0.315046</td>\n",
       "      <td>0.117725</td>\n",
       "      <td>0.383984</td>\n",
       "      <td>0.672488</td>\n",
       "      <td>2.097870</td>\n",
       "      <td>0.537700</td>\n",
       "      <td>-0.396109</td>\n",
       "      <td>-0.176487</td>\n",
       "      <td>-0.012918</td>\n",
       "      <td>-0.132979</td>\n",
       "      <td>-0.367899</td>\n",
       "      <td>-0.890846</td>\n",
       "      <td>-0.317130</td>\n",
       "      <td>-0.457076</td>\n",
       "      <td>-0.174062</td>\n",
       "      <td>-0.299229</td>\n",
       "      <td>1.122282</td>\n",
       "      <td>0.268374</td>\n",
       "      <td>0.452518</td>\n",
       "      <td>1.600822</td>\n",
       "      <td>1.382658</td>\n",
       "      <td>-0.747222</td>\n",
       "      <td>0.588576</td>\n",
       "      <td>0.758788</td>\n",
       "      <td>-0.797671</td>\n",
       "      <td>-0.140852</td>\n",
       "      <td>-0.530444</td>\n",
       "      <td>-0.652569</td>\n",
       "      <td>-0.228583</td>\n",
       "      <td>0.486598</td>\n",
       "      <td>-1.127662</td>\n",
       "      <td>0.459736</td>\n",
       "      <td>0.742016</td>\n",
       "      <td>0.244980</td>\n",
       "      <td>0.334447</td>\n",
       "      <td>0.334018</td>\n",
       "    </tr>\n",
       "    <tr>\n",
       "      <th>1</th>\n",
       "      <td>01002</td>\n",
       "      <td>0</td>\n",
       "      <td>0</td>\n",
       "      <td>1.245532</td>\n",
       "      <td>-1.599994</td>\n",
       "      <td>1.060064</td>\n",
       "      <td>3.597249</td>\n",
       "      <td>-1.353027</td>\n",
       "      <td>-2.046088</td>\n",
       "      <td>-1.219645</td>\n",
       "      <td>-0.868623</td>\n",
       "      <td>-0.806043</td>\n",
       "      <td>-0.218702</td>\n",
       "      <td>-0.400512</td>\n",
       "      <td>-1.502592</td>\n",
       "      <td>0.492105</td>\n",
       "      <td>2.820575</td>\n",
       "      <td>-1.110719</td>\n",
       "      <td>-1.885773</td>\n",
       "      <td>-1.384025</td>\n",
       "      <td>-0.915197</td>\n",
       "      <td>-0.790664</td>\n",
       "      <td>-0.376806</td>\n",
       "      <td>0.464421</td>\n",
       "      <td>-1.508369</td>\n",
       "      <td>1.426019</td>\n",
       "      <td>3.888342</td>\n",
       "      <td>-1.261798</td>\n",
       "      <td>-1.604638</td>\n",
       "      <td>-0.859521</td>\n",
       "      <td>-0.715226</td>\n",
       "      <td>-0.731682</td>\n",
       "      <td>-0.143021</td>\n",
       "      <td>-0.223040</td>\n",
       "      <td>-0.195494</td>\n",
       "      <td>-0.162262</td>\n",
       "      <td>1.524147</td>\n",
       "      <td>-0.132979</td>\n",
       "      <td>-0.065958</td>\n",
       "      <td>-1.612656</td>\n",
       "      <td>-1.106050</td>\n",
       "      <td>-0.983398</td>\n",
       "      <td>-0.122170</td>\n",
       "      <td>0.166579</td>\n",
       "      <td>0.116185</td>\n",
       "      <td>-0.327456</td>\n",
       "      <td>-0.507041</td>\n",
       "      <td>0.520319</td>\n",
       "      <td>0.090974</td>\n",
       "      <td>-0.843631</td>\n",
       "      <td>-0.630502</td>\n",
       "      <td>0.751994</td>\n",
       "      <td>-0.790133</td>\n",
       "      <td>-0.264675</td>\n",
       "      <td>-0.530444</td>\n",
       "      <td>-0.166848</td>\n",
       "      <td>-0.330651</td>\n",
       "      <td>0.973388</td>\n",
       "      <td>-0.031431</td>\n",
       "      <td>0.763299</td>\n",
       "      <td>1.633192</td>\n",
       "      <td>0.335312</td>\n",
       "      <td>0.417431</td>\n",
       "      <td>0.110293</td>\n",
       "    </tr>\n",
       "    <tr>\n",
       "      <th>3</th>\n",
       "      <td>01005</td>\n",
       "      <td>0</td>\n",
       "      <td>0</td>\n",
       "      <td>-0.418261</td>\n",
       "      <td>-0.321953</td>\n",
       "      <td>0.815872</td>\n",
       "      <td>-0.337381</td>\n",
       "      <td>-0.276076</td>\n",
       "      <td>0.681839</td>\n",
       "      <td>0.556609</td>\n",
       "      <td>-0.311218</td>\n",
       "      <td>-0.667485</td>\n",
       "      <td>0.078670</td>\n",
       "      <td>0.165987</td>\n",
       "      <td>-0.298230</td>\n",
       "      <td>1.099363</td>\n",
       "      <td>-0.272642</td>\n",
       "      <td>-0.387638</td>\n",
       "      <td>0.416865</td>\n",
       "      <td>0.479358</td>\n",
       "      <td>0.001353</td>\n",
       "      <td>-0.469801</td>\n",
       "      <td>-0.202821</td>\n",
       "      <td>-0.101965</td>\n",
       "      <td>-0.262645</td>\n",
       "      <td>0.416261</td>\n",
       "      <td>-0.352621</td>\n",
       "      <td>-0.107192</td>\n",
       "      <td>0.778418</td>\n",
       "      <td>0.552056</td>\n",
       "      <td>-0.565334</td>\n",
       "      <td>-0.865412</td>\n",
       "      <td>0.193112</td>\n",
       "      <td>0.667700</td>\n",
       "      <td>-0.433724</td>\n",
       "      <td>-0.176487</td>\n",
       "      <td>-0.316536</td>\n",
       "      <td>-0.132979</td>\n",
       "      <td>-0.466359</td>\n",
       "      <td>0.196325</td>\n",
       "      <td>0.156222</td>\n",
       "      <td>0.244687</td>\n",
       "      <td>-0.139468</td>\n",
       "      <td>-0.066325</td>\n",
       "      <td>-0.223221</td>\n",
       "      <td>-0.142543</td>\n",
       "      <td>0.185974</td>\n",
       "      <td>-0.233994</td>\n",
       "      <td>0.090974</td>\n",
       "      <td>0.291852</td>\n",
       "      <td>-0.171839</td>\n",
       "      <td>0.602543</td>\n",
       "      <td>-0.624302</td>\n",
       "      <td>-0.471047</td>\n",
       "      <td>0.240861</td>\n",
       "      <td>0.226354</td>\n",
       "      <td>0.230722</td>\n",
       "      <td>-0.461362</td>\n",
       "      <td>-0.442518</td>\n",
       "      <td>-0.416119</td>\n",
       "      <td>-0.399458</td>\n",
       "      <td>-0.271116</td>\n",
       "      <td>-0.314831</td>\n",
       "      <td>0.984848</td>\n",
       "    </tr>\n",
       "    <tr>\n",
       "      <th>4</th>\n",
       "      <td>01007</td>\n",
       "      <td>0</td>\n",
       "      <td>0</td>\n",
       "      <td>0.246007</td>\n",
       "      <td>0.171836</td>\n",
       "      <td>0.254233</td>\n",
       "      <td>-0.435338</td>\n",
       "      <td>0.008999</td>\n",
       "      <td>1.327927</td>\n",
       "      <td>0.757154</td>\n",
       "      <td>-0.361891</td>\n",
       "      <td>-0.736764</td>\n",
       "      <td>-0.553246</td>\n",
       "      <td>-0.247993</td>\n",
       "      <td>0.194464</td>\n",
       "      <td>0.231852</td>\n",
       "      <td>-0.346290</td>\n",
       "      <td>-0.194816</td>\n",
       "      <td>0.704695</td>\n",
       "      <td>0.582879</td>\n",
       "      <td>-0.365267</td>\n",
       "      <td>-0.790664</td>\n",
       "      <td>-0.463799</td>\n",
       "      <td>0.311932</td>\n",
       "      <td>0.133722</td>\n",
       "      <td>0.232669</td>\n",
       "      <td>-0.463255</td>\n",
       "      <td>0.341821</td>\n",
       "      <td>1.572770</td>\n",
       "      <td>0.823513</td>\n",
       "      <td>-0.365477</td>\n",
       "      <td>-0.664817</td>\n",
       "      <td>-0.535177</td>\n",
       "      <td>0.547330</td>\n",
       "      <td>-0.421186</td>\n",
       "      <td>-0.190712</td>\n",
       "      <td>-0.012918</td>\n",
       "      <td>-0.003289</td>\n",
       "      <td>-0.413847</td>\n",
       "      <td>0.321082</td>\n",
       "      <td>-0.685293</td>\n",
       "      <td>-0.457076</td>\n",
       "      <td>-0.104873</td>\n",
       "      <td>0.195692</td>\n",
       "      <td>-0.502019</td>\n",
       "      <td>-0.656190</td>\n",
       "      <td>-0.507041</td>\n",
       "      <td>-0.172834</td>\n",
       "      <td>-0.339587</td>\n",
       "      <td>0.538230</td>\n",
       "      <td>-0.835693</td>\n",
       "      <td>0.779167</td>\n",
       "      <td>-0.820284</td>\n",
       "      <td>-0.677419</td>\n",
       "      <td>-0.221922</td>\n",
       "      <td>0.249484</td>\n",
       "      <td>0.154171</td>\n",
       "      <td>0.191188</td>\n",
       "      <td>-0.481669</td>\n",
       "      <td>-0.062791</td>\n",
       "      <td>-0.286955</td>\n",
       "      <td>-0.233152</td>\n",
       "      <td>-0.263373</td>\n",
       "      <td>1.043897</td>\n",
       "    </tr>\n",
       "    <tr>\n",
       "      <th>6</th>\n",
       "      <td>01009</td>\n",
       "      <td>0</td>\n",
       "      <td>0</td>\n",
       "      <td>-0.719368</td>\n",
       "      <td>-0.496231</td>\n",
       "      <td>-0.087635</td>\n",
       "      <td>0.201386</td>\n",
       "      <td>0.832550</td>\n",
       "      <td>0.574158</td>\n",
       "      <td>-0.102324</td>\n",
       "      <td>-0.108525</td>\n",
       "      <td>-1.256356</td>\n",
       "      <td>0.487556</td>\n",
       "      <td>0.492813</td>\n",
       "      <td>-0.133999</td>\n",
       "      <td>0.492105</td>\n",
       "      <td>0.169246</td>\n",
       "      <td>0.962115</td>\n",
       "      <td>-0.043662</td>\n",
       "      <td>-0.245291</td>\n",
       "      <td>0.230490</td>\n",
       "      <td>-0.983182</td>\n",
       "      <td>0.145149</td>\n",
       "      <td>-0.428727</td>\n",
       "      <td>-0.828883</td>\n",
       "      <td>-0.685293</td>\n",
       "      <td>0.200548</td>\n",
       "      <td>0.341821</td>\n",
       "      <td>1.043202</td>\n",
       "      <td>0.009142</td>\n",
       "      <td>-0.365477</td>\n",
       "      <td>-1.333469</td>\n",
       "      <td>0.585268</td>\n",
       "      <td>0.658071</td>\n",
       "      <td>-0.477609</td>\n",
       "      <td>-0.190712</td>\n",
       "      <td>-0.335512</td>\n",
       "      <td>-0.132979</td>\n",
       "      <td>-0.453231</td>\n",
       "      <td>-0.561130</td>\n",
       "      <td>-0.001562</td>\n",
       "      <td>-0.457076</td>\n",
       "      <td>0.759997</td>\n",
       "      <td>0.894404</td>\n",
       "      <td>0.528321</td>\n",
       "      <td>0.658746</td>\n",
       "      <td>-0.027262</td>\n",
       "      <td>0.234903</td>\n",
       "      <td>0.029466</td>\n",
       "      <td>-0.286602</td>\n",
       "      <td>-0.618432</td>\n",
       "      <td>0.548198</td>\n",
       "      <td>-0.564000</td>\n",
       "      <td>-0.388498</td>\n",
       "      <td>-0.838966</td>\n",
       "      <td>-0.375014</td>\n",
       "      <td>-0.177549</td>\n",
       "      <td>-0.754192</td>\n",
       "      <td>-0.227187</td>\n",
       "      <td>-0.617665</td>\n",
       "      <td>-0.509473</td>\n",
       "      <td>-0.307238</td>\n",
       "      <td>-0.358285</td>\n",
       "      <td>-0.233389</td>\n",
       "    </tr>\n",
       "    <tr>\n",
       "      <th>9</th>\n",
       "      <td>01012</td>\n",
       "      <td>0</td>\n",
       "      <td>0</td>\n",
       "      <td>-0.724921</td>\n",
       "      <td>-1.193344</td>\n",
       "      <td>-0.160892</td>\n",
       "      <td>-0.435338</td>\n",
       "      <td>-0.592827</td>\n",
       "      <td>0.466476</td>\n",
       "      <td>1.817176</td>\n",
       "      <td>0.727583</td>\n",
       "      <td>-0.563567</td>\n",
       "      <td>0.190184</td>\n",
       "      <td>0.144198</td>\n",
       "      <td>-1.283617</td>\n",
       "      <td>0.058350</td>\n",
       "      <td>-0.125346</td>\n",
       "      <td>-0.725076</td>\n",
       "      <td>-0.331492</td>\n",
       "      <td>2.083938</td>\n",
       "      <td>0.642937</td>\n",
       "      <td>-0.469801</td>\n",
       "      <td>0.667104</td>\n",
       "      <td>-0.080181</td>\n",
       "      <td>-0.998755</td>\n",
       "      <td>-0.409904</td>\n",
       "      <td>-0.795156</td>\n",
       "      <td>-0.171337</td>\n",
       "      <td>1.307986</td>\n",
       "      <td>1.257844</td>\n",
       "      <td>0.733733</td>\n",
       "      <td>-0.531086</td>\n",
       "      <td>-0.086999</td>\n",
       "      <td>0.720663</td>\n",
       "      <td>-0.490147</td>\n",
       "      <td>-0.176487</td>\n",
       "      <td>-0.259608</td>\n",
       "      <td>-0.132979</td>\n",
       "      <td>-0.486050</td>\n",
       "      <td>-0.222503</td>\n",
       "      <td>0.839952</td>\n",
       "      <td>2.525414</td>\n",
       "      <td>-0.398929</td>\n",
       "      <td>-0.677697</td>\n",
       "      <td>0.128307</td>\n",
       "      <td>0.206737</td>\n",
       "      <td>-0.773585</td>\n",
       "      <td>-0.009739</td>\n",
       "      <td>-0.831657</td>\n",
       "      <td>-0.393723</td>\n",
       "      <td>-0.654642</td>\n",
       "      <td>-0.124331</td>\n",
       "      <td>0.182238</td>\n",
       "      <td>-0.759968</td>\n",
       "      <td>-0.838966</td>\n",
       "      <td>-0.398144</td>\n",
       "      <td>-0.407202</td>\n",
       "      <td>-0.753849</td>\n",
       "      <td>0.203475</td>\n",
       "      <td>-0.622642</td>\n",
       "      <td>-0.515830</td>\n",
       "      <td>-0.312899</td>\n",
       "      <td>-0.364498</td>\n",
       "      <td>-0.092024</td>\n",
       "    </tr>\n",
       "    <tr>\n",
       "      <th>11</th>\n",
       "      <td>01020</td>\n",
       "      <td>0</td>\n",
       "      <td>0</td>\n",
       "      <td>1.288498</td>\n",
       "      <td>-0.670509</td>\n",
       "      <td>-0.405083</td>\n",
       "      <td>0.217712</td>\n",
       "      <td>-0.054351</td>\n",
       "      <td>-0.071930</td>\n",
       "      <td>0.298766</td>\n",
       "      <td>0.068831</td>\n",
       "      <td>0.129222</td>\n",
       "      <td>0.599071</td>\n",
       "      <td>-0.313358</td>\n",
       "      <td>-0.571948</td>\n",
       "      <td>-0.375406</td>\n",
       "      <td>0.095598</td>\n",
       "      <td>-0.050199</td>\n",
       "      <td>-0.101228</td>\n",
       "      <td>0.220555</td>\n",
       "      <td>-0.044475</td>\n",
       "      <td>-0.020593</td>\n",
       "      <td>0.232141</td>\n",
       "      <td>0.377284</td>\n",
       "      <td>-0.715635</td>\n",
       "      <td>-0.364006</td>\n",
       "      <td>0.384938</td>\n",
       "      <td>0.021097</td>\n",
       "      <td>-0.015934</td>\n",
       "      <td>0.334890</td>\n",
       "      <td>0.184128</td>\n",
       "      <td>0.338162</td>\n",
       "      <td>0.697313</td>\n",
       "      <td>0.364367</td>\n",
       "      <td>-0.345955</td>\n",
       "      <td>-0.176487</td>\n",
       "      <td>-0.126775</td>\n",
       "      <td>-0.003289</td>\n",
       "      <td>0.039066</td>\n",
       "      <td>-0.783911</td>\n",
       "      <td>0.208817</td>\n",
       "      <td>-0.106195</td>\n",
       "      <td>0.517833</td>\n",
       "      <td>0.457709</td>\n",
       "      <td>0.976822</td>\n",
       "      <td>0.473833</td>\n",
       "      <td>0.132665</td>\n",
       "      <td>1.193085</td>\n",
       "      <td>0.921343</td>\n",
       "      <td>-0.586540</td>\n",
       "      <td>0.274754</td>\n",
       "      <td>0.758788</td>\n",
       "      <td>-0.797671</td>\n",
       "      <td>-0.347224</td>\n",
       "      <td>-0.530444</td>\n",
       "      <td>-0.583180</td>\n",
       "      <td>-0.254100</td>\n",
       "      <td>1.540822</td>\n",
       "      <td>-0.834029</td>\n",
       "      <td>0.668746</td>\n",
       "      <td>0.529588</td>\n",
       "      <td>0.136917</td>\n",
       "      <td>0.195893</td>\n",
       "      <td>-0.082116</td>\n",
       "    </tr>\n",
       "    <tr>\n",
       "      <th>12</th>\n",
       "      <td>01022</td>\n",
       "      <td>0</td>\n",
       "      <td>0</td>\n",
       "      <td>-0.600674</td>\n",
       "      <td>-1.367623</td>\n",
       "      <td>0.400747</td>\n",
       "      <td>1.278919</td>\n",
       "      <td>-0.751202</td>\n",
       "      <td>-1.723044</td>\n",
       "      <td>-0.446115</td>\n",
       "      <td>0.423543</td>\n",
       "      <td>0.544896</td>\n",
       "      <td>0.376042</td>\n",
       "      <td>-0.574820</td>\n",
       "      <td>-1.338361</td>\n",
       "      <td>0.795734</td>\n",
       "      <td>1.053023</td>\n",
       "      <td>-0.676870</td>\n",
       "      <td>-1.713075</td>\n",
       "      <td>-1.125222</td>\n",
       "      <td>0.093008</td>\n",
       "      <td>-0.213111</td>\n",
       "      <td>0.232141</td>\n",
       "      <td>0.638693</td>\n",
       "      <td>-1.225250</td>\n",
       "      <td>-0.088618</td>\n",
       "      <td>1.306886</td>\n",
       "      <td>-0.556205</td>\n",
       "      <td>-1.207462</td>\n",
       "      <td>0.334890</td>\n",
       "      <td>0.683769</td>\n",
       "      <td>1.274275</td>\n",
       "      <td>0.361179</td>\n",
       "      <td>-0.155632</td>\n",
       "      <td>0.299773</td>\n",
       "      <td>-0.148037</td>\n",
       "      <td>-0.145751</td>\n",
       "      <td>-0.003289</td>\n",
       "      <td>0.130961</td>\n",
       "      <td>-2.289909</td>\n",
       "      <td>-1.106050</td>\n",
       "      <td>-0.983398</td>\n",
       "      <td>-0.312442</td>\n",
       "      <td>-0.473906</td>\n",
       "      <td>2.867799</td>\n",
       "      <td>0.925842</td>\n",
       "      <td>0.719062</td>\n",
       "      <td>3.884150</td>\n",
       "      <td>2.059254</td>\n",
       "      <td>-1.711311</td>\n",
       "      <td>0.492015</td>\n",
       "      <td>0.419127</td>\n",
       "      <td>-0.420783</td>\n",
       "      <td>-0.801242</td>\n",
       "      <td>-0.530444</td>\n",
       "      <td>-1.624009</td>\n",
       "      <td>-0.892024</td>\n",
       "      <td>-0.604940</td>\n",
       "      <td>0.692864</td>\n",
       "      <td>-0.498231</td>\n",
       "      <td>-0.166851</td>\n",
       "      <td>-0.099600</td>\n",
       "      <td>-0.114735</td>\n",
       "      <td>-0.017228</td>\n",
       "    </tr>\n",
       "    <tr>\n",
       "      <th>13</th>\n",
       "      <td>01026</td>\n",
       "      <td>0</td>\n",
       "      <td>0</td>\n",
       "      <td>-0.705138</td>\n",
       "      <td>-0.873834</td>\n",
       "      <td>-0.600436</td>\n",
       "      <td>-0.859821</td>\n",
       "      <td>-0.276076</td>\n",
       "      <td>1.148458</td>\n",
       "      <td>1.903124</td>\n",
       "      <td>0.550226</td>\n",
       "      <td>-0.182533</td>\n",
       "      <td>0.115841</td>\n",
       "      <td>0.013468</td>\n",
       "      <td>-0.517205</td>\n",
       "      <td>-0.635659</td>\n",
       "      <td>-0.616333</td>\n",
       "      <td>-0.917898</td>\n",
       "      <td>0.877393</td>\n",
       "      <td>1.773374</td>\n",
       "      <td>0.505455</td>\n",
       "      <td>0.300270</td>\n",
       "      <td>0.232141</td>\n",
       "      <td>0.050523</td>\n",
       "      <td>-1.225250</td>\n",
       "      <td>-0.455802</td>\n",
       "      <td>-0.979546</td>\n",
       "      <td>0.726690</td>\n",
       "      <td>1.109398</td>\n",
       "      <td>1.746467</td>\n",
       "      <td>0.533877</td>\n",
       "      <td>-0.664817</td>\n",
       "      <td>0.081068</td>\n",
       "      <td>0.744737</td>\n",
       "      <td>-0.490147</td>\n",
       "      <td>-0.204937</td>\n",
       "      <td>-0.373465</td>\n",
       "      <td>-0.132979</td>\n",
       "      <td>-0.486050</td>\n",
       "      <td>-0.890846</td>\n",
       "      <td>-0.474914</td>\n",
       "      <td>-0.106195</td>\n",
       "      <td>-0.623795</td>\n",
       "      <td>-0.066325</td>\n",
       "      <td>1.025309</td>\n",
       "      <td>1.316213</td>\n",
       "      <td>0.345900</td>\n",
       "      <td>0.418385</td>\n",
       "      <td>-0.001289</td>\n",
       "      <td>-0.800782</td>\n",
       "      <td>-0.509801</td>\n",
       "      <td>-0.008846</td>\n",
       "      <td>0.054096</td>\n",
       "      <td>-0.512322</td>\n",
       "      <td>-0.144791</td>\n",
       "      <td>-0.745087</td>\n",
       "      <td>-0.534787</td>\n",
       "      <td>-0.724617</td>\n",
       "      <td>-1.656202</td>\n",
       "      <td>-0.615177</td>\n",
       "      <td>-0.510578</td>\n",
       "      <td>-0.309675</td>\n",
       "      <td>-0.360434</td>\n",
       "      <td>0.413503</td>\n",
       "    </tr>\n",
       "    <tr>\n",
       "      <th>14</th>\n",
       "      <td>01027</td>\n",
       "      <td>0</td>\n",
       "      <td>0</td>\n",
       "      <td>0.455005</td>\n",
       "      <td>-0.699556</td>\n",
       "      <td>-0.698113</td>\n",
       "      <td>-0.059834</td>\n",
       "      <td>0.610825</td>\n",
       "      <td>0.538264</td>\n",
       "      <td>0.642557</td>\n",
       "      <td>0.170177</td>\n",
       "      <td>-0.425009</td>\n",
       "      <td>0.301699</td>\n",
       "      <td>-0.487666</td>\n",
       "      <td>-0.736180</td>\n",
       "      <td>-0.765786</td>\n",
       "      <td>-0.125346</td>\n",
       "      <td>0.335444</td>\n",
       "      <td>0.186601</td>\n",
       "      <td>0.324076</td>\n",
       "      <td>0.138835</td>\n",
       "      <td>-0.533974</td>\n",
       "      <td>0.232141</td>\n",
       "      <td>0.551557</td>\n",
       "      <td>-0.602388</td>\n",
       "      <td>-0.547598</td>\n",
       "      <td>0.089914</td>\n",
       "      <td>0.790835</td>\n",
       "      <td>0.778418</td>\n",
       "      <td>0.823513</td>\n",
       "      <td>0.184128</td>\n",
       "      <td>-0.263625</td>\n",
       "      <td>0.305157</td>\n",
       "      <td>0.556960</td>\n",
       "      <td>-0.446263</td>\n",
       "      <td>-0.176487</td>\n",
       "      <td>0.006058</td>\n",
       "      <td>-0.132979</td>\n",
       "      <td>-0.354771</td>\n",
       "      <td>-0.890846</td>\n",
       "      <td>-0.580103</td>\n",
       "      <td>-0.632516</td>\n",
       "      <td>-0.104873</td>\n",
       "      <td>-0.066325</td>\n",
       "      <td>0.807119</td>\n",
       "      <td>0.309466</td>\n",
       "      <td>-0.133879</td>\n",
       "      <td>1.050377</td>\n",
       "      <td>0.460027</td>\n",
       "      <td>-0.757934</td>\n",
       "      <td>-0.280470</td>\n",
       "      <td>0.684062</td>\n",
       "      <td>-0.714756</td>\n",
       "      <td>-0.347224</td>\n",
       "      <td>-0.684705</td>\n",
       "      <td>-0.629439</td>\n",
       "      <td>-0.356168</td>\n",
       "      <td>0.616248</td>\n",
       "      <td>-1.049360</td>\n",
       "      <td>0.265654</td>\n",
       "      <td>0.056358</td>\n",
       "      <td>-0.068505</td>\n",
       "      <td>-0.067752</td>\n",
       "      <td>0.179472</td>\n",
       "    </tr>\n",
       "  </tbody>\n",
       "</table>\n",
       "</div>"
      ],
      "text/plain": [
       "   zipcode  prison  jail      A001      A002      A003      A004      A005      A006      A007      A008      A009      A010      A011      A012      A013      A014      A015      A016      A017      A018      A019      A020      A021      A022      A023      A024      A025      A026      A027      A028      A029      A030      A031      A032      A033      A034      A035      A036      A037      A038      A039      A040      A041      A042      A043      A044      A045      A046      A047  \\\n",
       "0    01001       0     0  0.393159 -0.844788 -0.576017 -0.174118 -0.117701  0.107539 -0.016376  0.170177  0.302420  1.862902 -0.661973 -0.790923 -0.635659 -0.198994 -0.050199 -0.043662 -0.090009 -0.044475 -0.020593  1.102067  0.725830 -0.772259 -0.455802 -0.057597 -0.171337  0.315046  0.117725  0.383984  0.672488  2.097870  0.537700 -0.396109 -0.176487 -0.012918 -0.132979 -0.367899 -0.890846 -0.317130 -0.457076 -0.174062 -0.299229  1.122282  0.268374  0.452518  1.600822  1.382658 -0.747222   \n",
       "1    01002       0     0  1.245532 -1.599994  1.060064  3.597249 -1.353027 -2.046088 -1.219645 -0.868623 -0.806043 -0.218702 -0.400512 -1.502592  0.492105  2.820575 -1.110719 -1.885773 -1.384025 -0.915197 -0.790664 -0.376806  0.464421 -1.508369  1.426019  3.888342 -1.261798 -1.604638 -0.859521 -0.715226 -0.731682 -0.143021 -0.223040 -0.195494 -0.162262  1.524147 -0.132979 -0.065958 -1.612656 -1.106050 -0.983398 -0.122170  0.166579  0.116185 -0.327456 -0.507041  0.520319  0.090974 -0.843631   \n",
       "3    01005       0     0 -0.418261 -0.321953  0.815872 -0.337381 -0.276076  0.681839  0.556609 -0.311218 -0.667485  0.078670  0.165987 -0.298230  1.099363 -0.272642 -0.387638  0.416865  0.479358  0.001353 -0.469801 -0.202821 -0.101965 -0.262645  0.416261 -0.352621 -0.107192  0.778418  0.552056 -0.565334 -0.865412  0.193112  0.667700 -0.433724 -0.176487 -0.316536 -0.132979 -0.466359  0.196325  0.156222  0.244687 -0.139468 -0.066325 -0.223221 -0.142543  0.185974 -0.233994  0.090974  0.291852   \n",
       "4    01007       0     0  0.246007  0.171836  0.254233 -0.435338  0.008999  1.327927  0.757154 -0.361891 -0.736764 -0.553246 -0.247993  0.194464  0.231852 -0.346290 -0.194816  0.704695  0.582879 -0.365267 -0.790664 -0.463799  0.311932  0.133722  0.232669 -0.463255  0.341821  1.572770  0.823513 -0.365477 -0.664817 -0.535177  0.547330 -0.421186 -0.190712 -0.012918 -0.003289 -0.413847  0.321082 -0.685293 -0.457076 -0.104873  0.195692 -0.502019 -0.656190 -0.507041 -0.172834 -0.339587  0.538230   \n",
       "6    01009       0     0 -0.719368 -0.496231 -0.087635  0.201386  0.832550  0.574158 -0.102324 -0.108525 -1.256356  0.487556  0.492813 -0.133999  0.492105  0.169246  0.962115 -0.043662 -0.245291  0.230490 -0.983182  0.145149 -0.428727 -0.828883 -0.685293  0.200548  0.341821  1.043202  0.009142 -0.365477 -1.333469  0.585268  0.658071 -0.477609 -0.190712 -0.335512 -0.132979 -0.453231 -0.561130 -0.001562 -0.457076  0.759997  0.894404  0.528321  0.658746 -0.027262  0.234903  0.029466 -0.286602   \n",
       "9    01012       0     0 -0.724921 -1.193344 -0.160892 -0.435338 -0.592827  0.466476  1.817176  0.727583 -0.563567  0.190184  0.144198 -1.283617  0.058350 -0.125346 -0.725076 -0.331492  2.083938  0.642937 -0.469801  0.667104 -0.080181 -0.998755 -0.409904 -0.795156 -0.171337  1.307986  1.257844  0.733733 -0.531086 -0.086999  0.720663 -0.490147 -0.176487 -0.259608 -0.132979 -0.486050 -0.222503  0.839952  2.525414 -0.398929 -0.677697  0.128307  0.206737 -0.773585 -0.009739 -0.831657 -0.393723   \n",
       "11   01020       0     0  1.288498 -0.670509 -0.405083  0.217712 -0.054351 -0.071930  0.298766  0.068831  0.129222  0.599071 -0.313358 -0.571948 -0.375406  0.095598 -0.050199 -0.101228  0.220555 -0.044475 -0.020593  0.232141  0.377284 -0.715635 -0.364006  0.384938  0.021097 -0.015934  0.334890  0.184128  0.338162  0.697313  0.364367 -0.345955 -0.176487 -0.126775 -0.003289  0.039066 -0.783911  0.208817 -0.106195  0.517833  0.457709  0.976822  0.473833  0.132665  1.193085  0.921343 -0.586540   \n",
       "12   01022       0     0 -0.600674 -1.367623  0.400747  1.278919 -0.751202 -1.723044 -0.446115  0.423543  0.544896  0.376042 -0.574820 -1.338361  0.795734  1.053023 -0.676870 -1.713075 -1.125222  0.093008 -0.213111  0.232141  0.638693 -1.225250 -0.088618  1.306886 -0.556205 -1.207462  0.334890  0.683769  1.274275  0.361179 -0.155632  0.299773 -0.148037 -0.145751 -0.003289  0.130961 -2.289909 -1.106050 -0.983398 -0.312442 -0.473906  2.867799  0.925842  0.719062  3.884150  2.059254 -1.711311   \n",
       "13   01026       0     0 -0.705138 -0.873834 -0.600436 -0.859821 -0.276076  1.148458  1.903124  0.550226 -0.182533  0.115841  0.013468 -0.517205 -0.635659 -0.616333 -0.917898  0.877393  1.773374  0.505455  0.300270  0.232141  0.050523 -1.225250 -0.455802 -0.979546  0.726690  1.109398  1.746467  0.533877 -0.664817  0.081068  0.744737 -0.490147 -0.204937 -0.373465 -0.132979 -0.486050 -0.890846 -0.474914 -0.106195 -0.623795 -0.066325  1.025309  1.316213  0.345900  0.418385 -0.001289 -0.800782   \n",
       "14   01027       0     0  0.455005 -0.699556 -0.698113 -0.059834  0.610825  0.538264  0.642557  0.170177 -0.425009  0.301699 -0.487666 -0.736180 -0.765786 -0.125346  0.335444  0.186601  0.324076  0.138835 -0.533974  0.232141  0.551557 -0.602388 -0.547598  0.089914  0.790835  0.778418  0.823513  0.184128 -0.263625  0.305157  0.556960 -0.446263 -0.176487  0.006058 -0.132979 -0.354771 -0.890846 -0.580103 -0.632516 -0.104873 -0.066325  0.807119  0.309466 -0.133879  1.050377  0.460027 -0.757934   \n",
       "\n",
       "        A048      A049      A050      A051      A052      A053      A054      A055      A056  n_establishments  paid_employees  first_quarter_payroll_1000  annual_payroll_1000  median_income  \n",
       "0   0.588576  0.758788 -0.797671 -0.140852 -0.530444 -0.652569 -0.228583  0.486598 -1.127662          0.459736        0.742016                    0.244980             0.334447       0.334018  \n",
       "1  -0.630502  0.751994 -0.790133 -0.264675 -0.530444 -0.166848 -0.330651  0.973388 -0.031431          0.763299        1.633192                    0.335312             0.417431       0.110293  \n",
       "3  -0.171839  0.602543 -0.624302 -0.471047  0.240861  0.226354  0.230722 -0.461362 -0.442518         -0.416119       -0.399458                   -0.271116            -0.314831       0.984848  \n",
       "4  -0.835693  0.779167 -0.820284 -0.677419 -0.221922  0.249484  0.154171  0.191188 -0.481669         -0.062791       -0.286955                   -0.233152            -0.263373       1.043897  \n",
       "6  -0.618432  0.548198 -0.564000 -0.388498 -0.838966 -0.375014 -0.177549 -0.754192 -0.227187         -0.617665       -0.509473                   -0.307238            -0.358285      -0.233389  \n",
       "9  -0.654642 -0.124331  0.182238 -0.759968 -0.838966 -0.398144 -0.407202 -0.753849  0.203475         -0.622642       -0.515830                   -0.312899            -0.364498      -0.092024  \n",
       "11  0.274754  0.758788 -0.797671 -0.347224 -0.530444 -0.583180 -0.254100  1.540822 -0.834029          0.668746        0.529588                    0.136917             0.195893      -0.082116  \n",
       "12  0.492015  0.419127 -0.420783 -0.801242 -0.530444 -1.624009 -0.892024 -0.604940  0.692864         -0.498231       -0.166851                   -0.099600            -0.114735      -0.017228  \n",
       "13 -0.509801 -0.008846  0.054096 -0.512322 -0.144791 -0.745087 -0.534787 -0.724617 -1.656202         -0.615177       -0.510578                   -0.309675            -0.360434       0.413503  \n",
       "14 -0.280470  0.684062 -0.714756 -0.347224 -0.684705 -0.629439 -0.356168  0.616248 -1.049360          0.265654        0.056358                   -0.068505            -0.067752       0.179472  "
      ]
     },
     "execution_count": 8,
     "metadata": {},
     "output_type": "execute_result"
    }
   ],
   "source": [
    "# training and test sets that were normalized, and training and test sets that were normalized and transformed ('_t')\n",
    "train_set = pd.read_pickle('data/train_all_features_norm.pkl')\n",
    "itrain_df = pd.DataFrame(train_set.index).rename(columns={0: 'ind'})\n",
    "\n",
    "train_set_t = pd.read_pickle('data/train_all_features_norm_and_transform.pkl')\n",
    "itrain_t_df = pd.DataFrame(train_set_t.index).rename(columns={0: 'ind'})\n",
    "\n",
    "test_set = pd.read_pickle('data/test_all_features_norm.pkl')\n",
    "itest_df = pd.DataFrame(test_set.index).rename(columns={0: 'ind'})\n",
    "\n",
    "test_set_t = pd.read_pickle('data/test_all_features_norm_and_transform.pkl')\n",
    "itest_t_df = pd.DataFrame(test_set_t.index).rename(columns={0: 'ind'})\n",
    "\n",
    "features = pd.concat([train_set, test_set])\n",
    "features_t = pd.concat([train_set_t, test_set_t])\n",
    "\n",
    "print features.shape, train_set.shape, test_set.shape\n",
    "features.head(10)"
   ]
  },
  {
   "cell_type": "code",
   "execution_count": 9,
   "metadata": {
    "collapsed": false
   },
   "outputs": [
    {
     "data": {
      "text/plain": [
       "((11602, 65), (11602, 65))"
      ]
     },
     "execution_count": 9,
     "metadata": {},
     "output_type": "execute_result"
    }
   ],
   "source": [
    "# full df with features and resp. vars for HOUSE price response\n",
    "merged = response.merge(features, how='inner', on=['zipcode'])\n",
    "merged_t = response.merge(features_t, how='inner', on=['zipcode'])\n",
    "\n",
    "merged = merged.astype('float')\n",
    "merged_t = merged_t.astype('float')\n",
    "\n",
    "merged = merged.rename(columns={'pct_delta' : 'response'})\n",
    "merged_t = merged_t.rename(columns={'pct_delta' : 'response'})\n",
    "\n",
    "merged_t.shape, merged.shape"
   ]
  },
  {
   "cell_type": "code",
   "execution_count": 11,
   "metadata": {
    "collapsed": false
   },
   "outputs": [
    {
     "data": {
      "text/plain": [
       "((10306, 65), (10306, 65), (27653, 64))"
      ]
     },
     "execution_count": 11,
     "metadata": {},
     "output_type": "execute_result"
    }
   ],
   "source": [
    "# full df with features and resp. vars for HOUSE/RENT ratio delta and 2015 response\n",
    "merged_ratio_delta = ratio_delta_response.merge(features_t, how='inner', on=['zipcode'])\n",
    "merged_ratio_2015 = ratio_2015_response.merge(features_t, how='inner', on=['zipcode'])\n",
    "\n",
    "merged_ratio_delta = merged_ratio_delta.astype('float')\n",
    "merged_ratio_2015 = merged_ratio_2015.astype('float')\n",
    "\n",
    "merged_ratio_delta = merged_ratio_delta.rename(columns={'ratio_pct_delta':'response'})\n",
    "merged_ratio_2015 = merged_ratio_2015.rename(columns={'ratio_2015':'response'})\n",
    "\n",
    "merged_ratio_delta.shape, merged_ratio_2015.shape, features_t.shape"
   ]
  },
  {
   "cell_type": "code",
   "execution_count": 12,
   "metadata": {
    "collapsed": false
   },
   "outputs": [],
   "source": [
    "# house price delta response (_t ones are better - only use them)\n",
    "merged_train = merged.merge(itrain_df, how='inner', right_on='ind', left_index=True)\n",
    "merged_test = merged.merge(itest_df, how='inner', right_on='ind', left_index=True)\n",
    "merged_t_train = merged_t.merge(itrain_t_df, how='inner', right_on='ind', left_index=True)\n",
    "merged_t_test = merged_t.merge(itest_t_df, how='inner', right_on='ind', left_index=True)\n",
    "\n",
    "# house/rental ratio delta response and house/rental ratio 2015 response\n",
    "ratio_delta_train = merged_ratio_delta.merge(itrain_t_df, how='inner', right_on='ind', left_index=True)\n",
    "ratio_delta_test = merged_ratio_delta.merge(itest_t_df, how='inner', right_on='ind', left_index=True)\n",
    "\n",
    "ratio_2015_train = merged_ratio_2015.merge(itrain_t_df, how='inner', right_on='ind', left_index=True)\n",
    "ratio_2015_test = merged_ratio_2015.merge(itest_t_df, how='inner', right_on='ind', left_index=True)"
   ]
  },
  {
   "cell_type": "code",
   "execution_count": 13,
   "metadata": {
    "collapsed": false
   },
   "outputs": [
    {
     "data": {
      "text/plain": [
       "((9271, 66), (9271, 66), (2098, 66), (8208, 66), (2098, 66), (8208, 66))"
      ]
     },
     "execution_count": 13,
     "metadata": {},
     "output_type": "execute_result"
    }
   ],
   "source": [
    "merged_t_train.shape, merged_t_train.shape, ratio_2015_test.shape, ratio_2015_train.shape, ratio_delta_test.shape, ratio_delta_train.shape"
   ]
  },
  {
   "cell_type": "markdown",
   "metadata": {},
   "source": [
    "# baseline\n",
    "by Austin"
   ]
  },
  {
   "cell_type": "code",
   "execution_count": 21,
   "metadata": {
    "collapsed": false
   },
   "outputs": [
    {
     "name": "stdout",
     "output_type": "stream",
     "text": [
      "Response Variable: Housing Pct Delta\n",
      "RMSE for baseline is 0.232433783005\n",
      "\n",
      "Response Variable: Ratio Pct Delta\n",
      "RMSE for baseline is 0.147287879624\n",
      "\n",
      "Response Variable: Ratio 2015\n",
      "RMSE for baseline is 44.7822450867\n"
     ]
    }
   ],
   "source": [
    "def get_rmse(s, s_predict):\n",
    "    diff = s - s_predict\n",
    "    return np.sqrt(np.dot(diff,diff)/diff.shape[0])\n",
    "\n",
    "train_housing_delta_observed = merged_t_train['response'].dropna().tolist()\n",
    "test_housing_delta_observed = merged_t_test['response'].dropna().tolist()\n",
    "train_housing_delta_mean = np.mean(merged_t_train['response'].dropna().tolist())\n",
    "\n",
    "baseline_rmse = get_rmse(np.array(test_housing_delta_observed), np.array([train_housing_delta_mean]*len(test_housing_delta_observed)))\n",
    "\n",
    "print 'Response Variable: Housing Pct Delta'\n",
    "print 'RMSE for baseline is ' + str(baseline_rmse) + '\\n'\n",
    "\n",
    "train_ratio_delta_observed = ratio_delta_train['response'].dropna().tolist()\n",
    "test_ratio_delta_observed = ratio_delta_test['response'].dropna().tolist()\n",
    "train_ratio_delta_mean = np.mean(ratio_delta_train['response'].dropna().tolist())\n",
    "\n",
    "baseline_rmse = get_rmse(np.array(test_ratio_delta_observed), np.array([train_ratio_delta_mean]*len(test_ratio_delta_observed)))\n",
    "\n",
    "print 'Response Variable: Ratio Pct Delta'\n",
    "print 'RMSE for baseline is ' + str(baseline_rmse) + '\\n'\n",
    "\n",
    "train_ratio_2015_observed = ratio_2015_train['response'].dropna().tolist()\n",
    "test_ratio_2015_observed = ratio_2015_test['response'].dropna().tolist()\n",
    "train_ratio_2015_mean = np.mean(ratio_2015_train['response'].dropna().tolist())\n",
    "\n",
    "baseline_rmse = get_rmse(np.array(test_ratio_2015_observed), np.array([train_ratio_2015_mean]*len(test_ratio_2015_observed)))\n",
    "\n",
    "print 'Response Variable: Ratio 2015'\n",
    "print 'RMSE for baseline is ' + str(baseline_rmse)"
   ]
  },
  {
   "cell_type": "code",
   "execution_count": 22,
   "metadata": {
    "collapsed": false
   },
   "outputs": [
    {
     "name": "stdout",
     "output_type": "stream",
     "text": [
      "61.6912491322 seconds to train model\n"
     ]
    }
   ],
   "source": [
    "import time\n",
    "# house delta response\n",
    "start_time = time.time()\n",
    "bestmodel = forward_selected(merged_train.drop(['zipcode','ind'],1), 'response')\n",
    "\n",
    "print '%s seconds to train model'%(time.time() - start_time)"
   ]
  },
  {
   "cell_type": "code",
   "execution_count": 29,
   "metadata": {
    "collapsed": false
   },
   "outputs": [
    {
     "name": "stdout",
     "output_type": "stream",
     "text": [
      "Response Variable: Housing Pct Delta\n",
      "RMSE for OLS is 0.191492389272\n"
     ]
    }
   ],
   "source": [
    "df = merged_test.drop(['zipcode','ind','response'],1)\n",
    "pred = bestmodel[0].predict(df)\n",
    "\n",
    "ols_rmse = get_rmse(merged_test['response'], pred)\n",
    "\n",
    "print 'Response Variable: Housing Pct Delta'\n",
    "print 'RMSE for OLS is ' + str(ols_rmse)"
   ]
  },
  {
   "cell_type": "code",
   "execution_count": 30,
   "metadata": {
    "collapsed": false,
    "scrolled": false
   },
   "outputs": [
    {
     "data": {
      "text/html": [
       "<table class=\"simpletable\">\n",
       "<caption>OLS Regression Results</caption>\n",
       "<tr>\n",
       "  <th>Dep. Variable:</th>        <td>response</td>     <th>  R-squared:         </th> <td>   0.363</td>\n",
       "</tr>\n",
       "<tr>\n",
       "  <th>Model:</th>                   <td>OLS</td>       <th>  Adj. R-squared:    </th> <td>   0.360</td>\n",
       "</tr>\n",
       "<tr>\n",
       "  <th>Method:</th>             <td>Least Squares</td>  <th>  F-statistic:       </th> <td>   122.2</td>\n",
       "</tr>\n",
       "<tr>\n",
       "  <th>Date:</th>             <td>Wed, 09 Dec 2015</td> <th>  Prob (F-statistic):</th>  <td>  0.00</td> \n",
       "</tr>\n",
       "<tr>\n",
       "  <th>Time:</th>                 <td>21:00:04</td>     <th>  Log-Likelihood:    </th> <td>  1952.1</td>\n",
       "</tr>\n",
       "<tr>\n",
       "  <th>No. Observations:</th>      <td>  9271</td>      <th>  AIC:               </th> <td>  -3816.</td>\n",
       "</tr>\n",
       "<tr>\n",
       "  <th>Df Residuals:</th>          <td>  9227</td>      <th>  BIC:               </th> <td>  -3502.</td>\n",
       "</tr>\n",
       "<tr>\n",
       "  <th>Df Model:</th>              <td>    43</td>      <th>                     </th>     <td> </td>   \n",
       "</tr>\n",
       "<tr>\n",
       "  <th>Covariance Type:</th>      <td>nonrobust</td>    <th>                     </th>     <td> </td>   \n",
       "</tr>\n",
       "</table>\n",
       "<table class=\"simpletable\">\n",
       "<tr>\n",
       "               <td></td>                 <th>coef</th>     <th>std err</th>      <th>t</th>      <th>P>|t|</th> <th>[95.0% Conf. Int.]</th> \n",
       "</tr>\n",
       "<tr>\n",
       "  <th>Intercept</th>                  <td>   -0.4385</td> <td>    0.579</td> <td>   -0.757</td> <td> 0.449</td> <td>   -1.574     0.697</td>\n",
       "</tr>\n",
       "<tr>\n",
       "  <th>A002</th>                       <td>   -0.0650</td> <td>    0.007</td> <td>   -9.183</td> <td> 0.000</td> <td>   -0.079    -0.051</td>\n",
       "</tr>\n",
       "<tr>\n",
       "  <th>A054</th>                       <td>    0.0019</td> <td>    0.011</td> <td>    0.175</td> <td> 0.861</td> <td>   -0.020     0.024</td>\n",
       "</tr>\n",
       "<tr>\n",
       "  <th>A003</th>                       <td>   -0.0787</td> <td>    0.007</td> <td>  -11.825</td> <td> 0.000</td> <td>   -0.092    -0.066</td>\n",
       "</tr>\n",
       "<tr>\n",
       "  <th>median_income</th>              <td>    0.0585</td> <td>    0.004</td> <td>   14.373</td> <td> 0.000</td> <td>    0.050     0.066</td>\n",
       "</tr>\n",
       "<tr>\n",
       "  <th>A050</th>                       <td>   13.8205</td> <td>   13.076</td> <td>    1.057</td> <td> 0.291</td> <td>  -11.811    39.452</td>\n",
       "</tr>\n",
       "<tr>\n",
       "  <th>A052</th>                       <td>   -0.0647</td> <td>    0.004</td> <td>  -17.256</td> <td> 0.000</td> <td>   -0.072    -0.057</td>\n",
       "</tr>\n",
       "<tr>\n",
       "  <th>A024</th>                       <td>    0.0290</td> <td>    0.007</td> <td>    4.225</td> <td> 0.000</td> <td>    0.016     0.042</td>\n",
       "</tr>\n",
       "<tr>\n",
       "  <th>A051</th>                       <td>   -0.0469</td> <td>    0.004</td> <td>  -13.316</td> <td> 0.000</td> <td>   -0.054    -0.040</td>\n",
       "</tr>\n",
       "<tr>\n",
       "  <th>A038</th>                       <td>    0.0104</td> <td>    0.010</td> <td>    1.075</td> <td> 0.283</td> <td>   -0.009     0.029</td>\n",
       "</tr>\n",
       "<tr>\n",
       "  <th>A044</th>                       <td>    0.0486</td> <td>    0.010</td> <td>    5.024</td> <td> 0.000</td> <td>    0.030     0.068</td>\n",
       "</tr>\n",
       "<tr>\n",
       "  <th>A035</th>                       <td>    0.0094</td> <td>    0.002</td> <td>    4.263</td> <td> 0.000</td> <td>    0.005     0.014</td>\n",
       "</tr>\n",
       "<tr>\n",
       "  <th>A026</th>                       <td>    0.0251</td> <td>    0.005</td> <td>    4.951</td> <td> 0.000</td> <td>    0.015     0.035</td>\n",
       "</tr>\n",
       "<tr>\n",
       "  <th>A036</th>                       <td>    0.0107</td> <td>    0.005</td> <td>    2.187</td> <td> 0.029</td> <td>    0.001     0.020</td>\n",
       "</tr>\n",
       "<tr>\n",
       "  <th>A055</th>                       <td>   -0.0354</td> <td>    0.003</td> <td>  -10.496</td> <td> 0.000</td> <td>   -0.042    -0.029</td>\n",
       "</tr>\n",
       "<tr>\n",
       "  <th>A040</th>                       <td>    0.0560</td> <td>    0.015</td> <td>    3.748</td> <td> 0.000</td> <td>    0.027     0.085</td>\n",
       "</tr>\n",
       "<tr>\n",
       "  <th>A029</th>                       <td>    0.1170</td> <td>    0.045</td> <td>    2.604</td> <td> 0.009</td> <td>    0.029     0.205</td>\n",
       "</tr>\n",
       "<tr>\n",
       "  <th>A048</th>                       <td>    0.1502</td> <td>    0.015</td> <td>    9.767</td> <td> 0.000</td> <td>    0.120     0.180</td>\n",
       "</tr>\n",
       "<tr>\n",
       "  <th>A017</th>                       <td>   -0.0119</td> <td>    0.008</td> <td>   -1.510</td> <td> 0.131</td> <td>   -0.027     0.004</td>\n",
       "</tr>\n",
       "<tr>\n",
       "  <th>A037</th>                       <td>   -0.1798</td> <td>    0.016</td> <td>  -11.366</td> <td> 0.000</td> <td>   -0.211    -0.149</td>\n",
       "</tr>\n",
       "<tr>\n",
       "  <th>A042</th>                       <td>   -0.5316</td> <td>    0.334</td> <td>   -1.592</td> <td> 0.111</td> <td>   -1.186     0.123</td>\n",
       "</tr>\n",
       "<tr>\n",
       "  <th>A020</th>                       <td>   -0.0453</td> <td>    0.010</td> <td>   -4.377</td> <td> 0.000</td> <td>   -0.066    -0.025</td>\n",
       "</tr>\n",
       "<tr>\n",
       "  <th>A047</th>                       <td>    0.0862</td> <td>    0.015</td> <td>    5.567</td> <td> 0.000</td> <td>    0.056     0.117</td>\n",
       "</tr>\n",
       "<tr>\n",
       "  <th>A046</th>                       <td>   -0.0687</td> <td>    0.012</td> <td>   -5.617</td> <td> 0.000</td> <td>   -0.093    -0.045</td>\n",
       "</tr>\n",
       "<tr>\n",
       "  <th>A056</th>                       <td>   -0.0297</td> <td>    0.006</td> <td>   -5.245</td> <td> 0.000</td> <td>   -0.041    -0.019</td>\n",
       "</tr>\n",
       "<tr>\n",
       "  <th>A033</th>                       <td>   -0.0052</td> <td>    0.012</td> <td>   -0.424</td> <td> 0.671</td> <td>   -0.029     0.019</td>\n",
       "</tr>\n",
       "<tr>\n",
       "  <th>A025</th>                       <td>    0.0090</td> <td>    0.005</td> <td>    1.664</td> <td> 0.096</td> <td>   -0.002     0.020</td>\n",
       "</tr>\n",
       "<tr>\n",
       "  <th>n_establishments</th>           <td>    0.0444</td> <td>    0.005</td> <td>    8.410</td> <td> 0.000</td> <td>    0.034     0.055</td>\n",
       "</tr>\n",
       "<tr>\n",
       "  <th>paid_employees</th>             <td>   -0.0401</td> <td>    0.007</td> <td>   -5.453</td> <td> 0.000</td> <td>   -0.054    -0.026</td>\n",
       "</tr>\n",
       "<tr>\n",
       "  <th>A034</th>                       <td>   -0.0191</td> <td>    0.005</td> <td>   -4.118</td> <td> 0.000</td> <td>   -0.028    -0.010</td>\n",
       "</tr>\n",
       "<tr>\n",
       "  <th>A045</th>                       <td>    0.2806</td> <td>    0.199</td> <td>    1.412</td> <td> 0.158</td> <td>   -0.109     0.670</td>\n",
       "</tr>\n",
       "<tr>\n",
       "  <th>A028</th>                       <td>   -0.0277</td> <td>    0.008</td> <td>   -3.319</td> <td> 0.001</td> <td>   -0.044    -0.011</td>\n",
       "</tr>\n",
       "<tr>\n",
       "  <th>prison</th>                     <td>   -0.0245</td> <td>    0.013</td> <td>   -1.856</td> <td> 0.063</td> <td>   -0.050     0.001</td>\n",
       "</tr>\n",
       "<tr>\n",
       "  <th>first_quarter_payroll_1000</th> <td>    0.0307</td> <td>    0.015</td> <td>    1.983</td> <td> 0.047</td> <td>    0.000     0.061</td>\n",
       "</tr>\n",
       "<tr>\n",
       "  <th>A009</th>                       <td>   -0.3375</td> <td>    0.084</td> <td>   -4.008</td> <td> 0.000</td> <td>   -0.503    -0.172</td>\n",
       "</tr>\n",
       "<tr>\n",
       "  <th>A019</th>                       <td>    0.1795</td> <td>    0.047</td> <td>    3.844</td> <td> 0.000</td> <td>    0.088     0.271</td>\n",
       "</tr>\n",
       "<tr>\n",
       "  <th>A032</th>                       <td>   -0.0743</td> <td>    0.012</td> <td>   -5.994</td> <td> 0.000</td> <td>   -0.099    -0.050</td>\n",
       "</tr>\n",
       "<tr>\n",
       "  <th>A031</th>                       <td>   -0.0865</td> <td>    0.015</td> <td>   -5.775</td> <td> 0.000</td> <td>   -0.116    -0.057</td>\n",
       "</tr>\n",
       "<tr>\n",
       "  <th>A041</th>                       <td>   -0.0227</td> <td>    0.012</td> <td>   -1.829</td> <td> 0.067</td> <td>   -0.047     0.002</td>\n",
       "</tr>\n",
       "<tr>\n",
       "  <th>A039</th>                       <td>   -0.0118</td> <td>    0.009</td> <td>   -1.383</td> <td> 0.167</td> <td>   -0.028     0.005</td>\n",
       "</tr>\n",
       "<tr>\n",
       "  <th>annual_payroll_1000</th>        <td>   -0.0210</td> <td>    0.016</td> <td>   -1.310</td> <td> 0.190</td> <td>   -0.052     0.010</td>\n",
       "</tr>\n",
       "<tr>\n",
       "  <th>A030</th>                       <td>    0.0123</td> <td>    0.010</td> <td>    1.287</td> <td> 0.198</td> <td>   -0.006     0.031</td>\n",
       "</tr>\n",
       "<tr>\n",
       "  <th>A043</th>                       <td>    0.2365</td> <td>    0.197</td> <td>    1.200</td> <td> 0.230</td> <td>   -0.150     0.623</td>\n",
       "</tr>\n",
       "<tr>\n",
       "  <th>A049</th>                       <td>   15.2375</td> <td>   14.509</td> <td>    1.050</td> <td> 0.294</td> <td>  -13.204    43.679</td>\n",
       "</tr>\n",
       "</table>\n",
       "<table class=\"simpletable\">\n",
       "<tr>\n",
       "  <th>Omnibus:</th>       <td>841.382</td> <th>  Durbin-Watson:     </th> <td>   1.984</td>\n",
       "</tr>\n",
       "<tr>\n",
       "  <th>Prob(Omnibus):</th> <td> 0.000</td>  <th>  Jarque-Bera (JB):  </th> <td>2754.054</td>\n",
       "</tr>\n",
       "<tr>\n",
       "  <th>Skew:</th>          <td> 0.454</td>  <th>  Prob(JB):          </th> <td>    0.00</td>\n",
       "</tr>\n",
       "<tr>\n",
       "  <th>Kurtosis:</th>      <td> 5.511</td>  <th>  Cond. No.          </th> <td>3.06e+04</td>\n",
       "</tr>\n",
       "</table>"
      ],
      "text/plain": [
       "<class 'statsmodels.iolib.summary.Summary'>\n",
       "\"\"\"\n",
       "                            OLS Regression Results                            \n",
       "==============================================================================\n",
       "Dep. Variable:               response   R-squared:                       0.363\n",
       "Model:                            OLS   Adj. R-squared:                  0.360\n",
       "Method:                 Least Squares   F-statistic:                     122.2\n",
       "Date:                Wed, 09 Dec 2015   Prob (F-statistic):               0.00\n",
       "Time:                        21:00:04   Log-Likelihood:                 1952.1\n",
       "No. Observations:                9271   AIC:                            -3816.\n",
       "Df Residuals:                    9227   BIC:                            -3502.\n",
       "Df Model:                          43                                         \n",
       "Covariance Type:            nonrobust                                         \n",
       "==============================================================================================\n",
       "                                 coef    std err          t      P>|t|      [95.0% Conf. Int.]\n",
       "----------------------------------------------------------------------------------------------\n",
       "Intercept                     -0.4385      0.579     -0.757      0.449        -1.574     0.697\n",
       "A002                          -0.0650      0.007     -9.183      0.000        -0.079    -0.051\n",
       "A054                           0.0019      0.011      0.175      0.861        -0.020     0.024\n",
       "A003                          -0.0787      0.007    -11.825      0.000        -0.092    -0.066\n",
       "median_income                  0.0585      0.004     14.373      0.000         0.050     0.066\n",
       "A050                          13.8205     13.076      1.057      0.291       -11.811    39.452\n",
       "A052                          -0.0647      0.004    -17.256      0.000        -0.072    -0.057\n",
       "A024                           0.0290      0.007      4.225      0.000         0.016     0.042\n",
       "A051                          -0.0469      0.004    -13.316      0.000        -0.054    -0.040\n",
       "A038                           0.0104      0.010      1.075      0.283        -0.009     0.029\n",
       "A044                           0.0486      0.010      5.024      0.000         0.030     0.068\n",
       "A035                           0.0094      0.002      4.263      0.000         0.005     0.014\n",
       "A026                           0.0251      0.005      4.951      0.000         0.015     0.035\n",
       "A036                           0.0107      0.005      2.187      0.029         0.001     0.020\n",
       "A055                          -0.0354      0.003    -10.496      0.000        -0.042    -0.029\n",
       "A040                           0.0560      0.015      3.748      0.000         0.027     0.085\n",
       "A029                           0.1170      0.045      2.604      0.009         0.029     0.205\n",
       "A048                           0.1502      0.015      9.767      0.000         0.120     0.180\n",
       "A017                          -0.0119      0.008     -1.510      0.131        -0.027     0.004\n",
       "A037                          -0.1798      0.016    -11.366      0.000        -0.211    -0.149\n",
       "A042                          -0.5316      0.334     -1.592      0.111        -1.186     0.123\n",
       "A020                          -0.0453      0.010     -4.377      0.000        -0.066    -0.025\n",
       "A047                           0.0862      0.015      5.567      0.000         0.056     0.117\n",
       "A046                          -0.0687      0.012     -5.617      0.000        -0.093    -0.045\n",
       "A056                          -0.0297      0.006     -5.245      0.000        -0.041    -0.019\n",
       "A033                          -0.0052      0.012     -0.424      0.671        -0.029     0.019\n",
       "A025                           0.0090      0.005      1.664      0.096        -0.002     0.020\n",
       "n_establishments               0.0444      0.005      8.410      0.000         0.034     0.055\n",
       "paid_employees                -0.0401      0.007     -5.453      0.000        -0.054    -0.026\n",
       "A034                          -0.0191      0.005     -4.118      0.000        -0.028    -0.010\n",
       "A045                           0.2806      0.199      1.412      0.158        -0.109     0.670\n",
       "A028                          -0.0277      0.008     -3.319      0.001        -0.044    -0.011\n",
       "prison                        -0.0245      0.013     -1.856      0.063        -0.050     0.001\n",
       "first_quarter_payroll_1000     0.0307      0.015      1.983      0.047         0.000     0.061\n",
       "A009                          -0.3375      0.084     -4.008      0.000        -0.503    -0.172\n",
       "A019                           0.1795      0.047      3.844      0.000         0.088     0.271\n",
       "A032                          -0.0743      0.012     -5.994      0.000        -0.099    -0.050\n",
       "A031                          -0.0865      0.015     -5.775      0.000        -0.116    -0.057\n",
       "A041                          -0.0227      0.012     -1.829      0.067        -0.047     0.002\n",
       "A039                          -0.0118      0.009     -1.383      0.167        -0.028     0.005\n",
       "annual_payroll_1000           -0.0210      0.016     -1.310      0.190        -0.052     0.010\n",
       "A030                           0.0123      0.010      1.287      0.198        -0.006     0.031\n",
       "A043                           0.2365      0.197      1.200      0.230        -0.150     0.623\n",
       "A049                          15.2375     14.509      1.050      0.294       -13.204    43.679\n",
       "==============================================================================\n",
       "Omnibus:                      841.382   Durbin-Watson:                   1.984\n",
       "Prob(Omnibus):                  0.000   Jarque-Bera (JB):             2754.054\n",
       "Skew:                           0.454   Prob(JB):                         0.00\n",
       "Kurtosis:                       5.511   Cond. No.                     3.06e+04\n",
       "==============================================================================\n",
       "\n",
       "Warnings:\n",
       "[1] Standard Errors assume that the covariance matrix of the errors is correctly specified.\n",
       "[2] The condition number is large, 3.06e+04. This might indicate that there are\n",
       "strong multicollinearity or other numerical problems.\n",
       "\"\"\""
      ]
     },
     "execution_count": 30,
     "metadata": {},
     "output_type": "execute_result"
    }
   ],
   "source": [
    "bestmodel[0].summary()"
   ]
  },
  {
   "cell_type": "code",
   "execution_count": 31,
   "metadata": {
    "collapsed": false
   },
   "outputs": [
    {
     "name": "stdout",
     "output_type": "stream",
     "text": [
      "102.5136168 seconds to train 2 models\n"
     ]
    }
   ],
   "source": [
    "import time\n",
    "start_time = time.time()\n",
    "# house/rental ratio delta response\n",
    "bestmodel_ratio_delta = forward_selected(ratio_delta_train.drop(['zipcode','ind'],1), 'response')\n",
    "# house/rental ratio response\n",
    "bestmodel_ratio_2015 = forward_selected(ratio_2015_train.drop(['zipcode','ind'],1), 'response')\n",
    "\n",
    "print '%s seconds to train 2 models'%(time.time() - start_time)"
   ]
  },
  {
   "cell_type": "code",
   "execution_count": 32,
   "metadata": {
    "collapsed": false
   },
   "outputs": [
    {
     "name": "stdout",
     "output_type": "stream",
     "text": [
      "Response Variable: Ratio Pct Delta\n",
      "RMSE for OLS is 0.12686776404\n"
     ]
    }
   ],
   "source": [
    "import patsy\n",
    "from statsmodels.api import add_constant\n",
    "\n",
    "formula = bestmodel_ratio_delta[1].replace('response ~ ','')\n",
    "data = ratio_delta_test.drop(['zipcode','ind'],1).dropna()\n",
    "response = ratio_delta_test['response']\n",
    "response = response[~np.isnan(response)]\n",
    "data = data.drop('response',1).dropna()\n",
    "\n",
    "df = patsy.dmatrix(formula, data=data)\n",
    "pred = bestmodel_ratio_delta[0].predict(df, transform=False)\n",
    "\n",
    "ols_rmse = get_rmse(response, pred)\n",
    "\n",
    "print 'Response Variable: Ratio Pct Delta'\n",
    "print 'RMSE for OLS is ' + str(ols_rmse)"
   ]
  },
  {
   "cell_type": "code",
   "execution_count": 33,
   "metadata": {
    "collapsed": false
   },
   "outputs": [
    {
     "data": {
      "text/html": [
       "<table class=\"simpletable\">\n",
       "<caption>OLS Regression Results</caption>\n",
       "<tr>\n",
       "  <th>Dep. Variable:</th>        <td>response</td>     <th>  R-squared:         </th> <td>   0.281</td>\n",
       "</tr>\n",
       "<tr>\n",
       "  <th>Model:</th>                   <td>OLS</td>       <th>  Adj. R-squared:    </th> <td>   0.277</td>\n",
       "</tr>\n",
       "<tr>\n",
       "  <th>Method:</th>             <td>Least Squares</td>  <th>  F-statistic:       </th> <td>   78.63</td>\n",
       "</tr>\n",
       "<tr>\n",
       "  <th>Date:</th>             <td>Wed, 09 Dec 2015</td> <th>  Prob (F-statistic):</th>  <td>  0.00</td> \n",
       "</tr>\n",
       "<tr>\n",
       "  <th>Time:</th>                 <td>21:03:35</td>     <th>  Log-Likelihood:    </th> <td>  4921.4</td>\n",
       "</tr>\n",
       "<tr>\n",
       "  <th>No. Observations:</th>      <td>  7686</td>      <th>  AIC:               </th> <td>  -9765.</td>\n",
       "</tr>\n",
       "<tr>\n",
       "  <th>Df Residuals:</th>          <td>  7647</td>      <th>  BIC:               </th> <td>  -9494.</td>\n",
       "</tr>\n",
       "<tr>\n",
       "  <th>Df Model:</th>              <td>    38</td>      <th>                     </th>     <td> </td>   \n",
       "</tr>\n",
       "<tr>\n",
       "  <th>Covariance Type:</th>      <td>nonrobust</td>    <th>                     </th>     <td> </td>   \n",
       "</tr>\n",
       "</table>\n",
       "<table class=\"simpletable\">\n",
       "<tr>\n",
       "           <td></td>              <th>coef</th>     <th>std err</th>      <th>t</th>      <th>P>|t|</th> <th>[95.0% Conf. Int.]</th> \n",
       "</tr>\n",
       "<tr>\n",
       "  <th>Intercept</th>           <td>    1.0249</td> <td>    0.003</td> <td>  330.391</td> <td> 0.000</td> <td>    1.019     1.031</td>\n",
       "</tr>\n",
       "<tr>\n",
       "  <th>A036</th>                <td>    0.0101</td> <td>    0.003</td> <td>    3.998</td> <td> 0.000</td> <td>    0.005     0.015</td>\n",
       "</tr>\n",
       "<tr>\n",
       "  <th>A056</th>                <td>    0.0473</td> <td>    0.004</td> <td>   10.583</td> <td> 0.000</td> <td>    0.039     0.056</td>\n",
       "</tr>\n",
       "<tr>\n",
       "  <th>A052</th>                <td>    0.0280</td> <td>    0.002</td> <td>   12.760</td> <td> 0.000</td> <td>    0.024     0.032</td>\n",
       "</tr>\n",
       "<tr>\n",
       "  <th>A034</th>                <td>    0.0133</td> <td>    0.003</td> <td>    5.250</td> <td> 0.000</td> <td>    0.008     0.018</td>\n",
       "</tr>\n",
       "<tr>\n",
       "  <th>A039</th>                <td>    0.0580</td> <td>    0.006</td> <td>    9.473</td> <td> 0.000</td> <td>    0.046     0.070</td>\n",
       "</tr>\n",
       "<tr>\n",
       "  <th>A002</th>                <td>   -0.0568</td> <td>    0.006</td> <td>  -10.157</td> <td> 0.000</td> <td>   -0.068    -0.046</td>\n",
       "</tr>\n",
       "<tr>\n",
       "  <th>A032</th>                <td>   -0.0226</td> <td>    0.003</td> <td>   -7.177</td> <td> 0.000</td> <td>   -0.029    -0.016</td>\n",
       "</tr>\n",
       "<tr>\n",
       "  <th>A045</th>                <td>    0.1614</td> <td>    0.144</td> <td>    1.123</td> <td> 0.261</td> <td>   -0.120     0.443</td>\n",
       "</tr>\n",
       "<tr>\n",
       "  <th>A001</th>                <td>    0.0072</td> <td>    0.003</td> <td>    2.509</td> <td> 0.012</td> <td>    0.002     0.013</td>\n",
       "</tr>\n",
       "<tr>\n",
       "  <th>A054</th>                <td>    0.0942</td> <td>    0.015</td> <td>    6.480</td> <td> 0.000</td> <td>    0.066     0.123</td>\n",
       "</tr>\n",
       "<tr>\n",
       "  <th>A038</th>                <td>   -0.0155</td> <td>    0.007</td> <td>   -2.264</td> <td> 0.024</td> <td>   -0.029    -0.002</td>\n",
       "</tr>\n",
       "<tr>\n",
       "  <th>A014</th>                <td>   -0.0255</td> <td>    0.007</td> <td>   -3.677</td> <td> 0.000</td> <td>   -0.039    -0.012</td>\n",
       "</tr>\n",
       "<tr>\n",
       "  <th>A037</th>                <td>   -0.0703</td> <td>    0.011</td> <td>   -6.637</td> <td> 0.000</td> <td>   -0.091    -0.050</td>\n",
       "</tr>\n",
       "<tr>\n",
       "  <th>A051</th>                <td>    0.0180</td> <td>    0.003</td> <td>    6.099</td> <td> 0.000</td> <td>    0.012     0.024</td>\n",
       "</tr>\n",
       "<tr>\n",
       "  <th>A049</th>                <td>    0.0447</td> <td>    0.006</td> <td>    7.342</td> <td> 0.000</td> <td>    0.033     0.057</td>\n",
       "</tr>\n",
       "<tr>\n",
       "  <th>A050</th>                <td>    0.0215</td> <td>    0.006</td> <td>    3.614</td> <td> 0.000</td> <td>    0.010     0.033</td>\n",
       "</tr>\n",
       "<tr>\n",
       "  <th>A042</th>                <td>   -0.3207</td> <td>    0.242</td> <td>   -1.327</td> <td> 0.184</td> <td>   -0.794     0.153</td>\n",
       "</tr>\n",
       "<tr>\n",
       "  <th>A040</th>                <td>   -0.0392</td> <td>    0.009</td> <td>   -4.345</td> <td> 0.000</td> <td>   -0.057    -0.022</td>\n",
       "</tr>\n",
       "<tr>\n",
       "  <th>A031</th>                <td>   -0.0186</td> <td>    0.004</td> <td>   -4.386</td> <td> 0.000</td> <td>   -0.027    -0.010</td>\n",
       "</tr>\n",
       "<tr>\n",
       "  <th>A035</th>                <td>   -0.0037</td> <td>    0.001</td> <td>   -2.951</td> <td> 0.003</td> <td>   -0.006    -0.001</td>\n",
       "</tr>\n",
       "<tr>\n",
       "  <th>A044</th>                <td>    0.0092</td> <td>    0.006</td> <td>    1.555</td> <td> 0.120</td> <td>   -0.002     0.021</td>\n",
       "</tr>\n",
       "<tr>\n",
       "  <th>A047</th>                <td>    0.0242</td> <td>    0.012</td> <td>    2.045</td> <td> 0.041</td> <td>    0.001     0.047</td>\n",
       "</tr>\n",
       "<tr>\n",
       "  <th>A053</th>                <td>   -0.0669</td> <td>    0.018</td> <td>   -3.644</td> <td> 0.000</td> <td>   -0.103    -0.031</td>\n",
       "</tr>\n",
       "<tr>\n",
       "  <th>A010</th>                <td>    0.0276</td> <td>    0.006</td> <td>    4.319</td> <td> 0.000</td> <td>    0.015     0.040</td>\n",
       "</tr>\n",
       "<tr>\n",
       "  <th>A030</th>                <td>   -0.0214</td> <td>    0.006</td> <td>   -3.655</td> <td> 0.000</td> <td>   -0.033    -0.010</td>\n",
       "</tr>\n",
       "<tr>\n",
       "  <th>A018</th>                <td>    0.0232</td> <td>    0.007</td> <td>    3.367</td> <td> 0.001</td> <td>    0.010     0.037</td>\n",
       "</tr>\n",
       "<tr>\n",
       "  <th>A025</th>                <td>    0.0046</td> <td>    0.004</td> <td>    1.317</td> <td> 0.188</td> <td>   -0.002     0.012</td>\n",
       "</tr>\n",
       "<tr>\n",
       "  <th>A006</th>                <td>    0.0096</td> <td>    0.004</td> <td>    2.306</td> <td> 0.021</td> <td>    0.001     0.018</td>\n",
       "</tr>\n",
       "<tr>\n",
       "  <th>A041</th>                <td>    0.0176</td> <td>    0.008</td> <td>    2.212</td> <td> 0.027</td> <td>    0.002     0.033</td>\n",
       "</tr>\n",
       "<tr>\n",
       "  <th>n_establishments</th>    <td>   -0.0218</td> <td>    0.006</td> <td>   -3.801</td> <td> 0.000</td> <td>   -0.033    -0.011</td>\n",
       "</tr>\n",
       "<tr>\n",
       "  <th>A055</th>                <td>    0.0263</td> <td>    0.008</td> <td>    3.223</td> <td> 0.001</td> <td>    0.010     0.042</td>\n",
       "</tr>\n",
       "<tr>\n",
       "  <th>median_income</th>       <td>    0.0045</td> <td>    0.003</td> <td>    1.536</td> <td> 0.125</td> <td>   -0.001     0.010</td>\n",
       "</tr>\n",
       "<tr>\n",
       "  <th>annual_payroll_1000</th> <td>    0.0023</td> <td>    0.001</td> <td>    1.532</td> <td> 0.126</td> <td>   -0.001     0.005</td>\n",
       "</tr>\n",
       "<tr>\n",
       "  <th>A033</th>                <td>    0.0091</td> <td>    0.006</td> <td>    1.591</td> <td> 0.112</td> <td>   -0.002     0.020</td>\n",
       "</tr>\n",
       "<tr>\n",
       "  <th>A020</th>                <td>    0.0094</td> <td>    0.006</td> <td>    1.548</td> <td> 0.122</td> <td>   -0.003     0.021</td>\n",
       "</tr>\n",
       "<tr>\n",
       "  <th>A017</th>                <td>   -0.0077</td> <td>    0.005</td> <td>   -1.459</td> <td> 0.145</td> <td>   -0.018     0.003</td>\n",
       "</tr>\n",
       "<tr>\n",
       "  <th>A043</th>                <td>    0.1540</td> <td>    0.143</td> <td>    1.080</td> <td> 0.280</td> <td>   -0.126     0.434</td>\n",
       "</tr>\n",
       "<tr>\n",
       "  <th>A019</th>                <td>   -0.0061</td> <td>    0.006</td> <td>   -1.005</td> <td> 0.315</td> <td>   -0.018     0.006</td>\n",
       "</tr>\n",
       "</table>\n",
       "<table class=\"simpletable\">\n",
       "<tr>\n",
       "  <th>Omnibus:</th>       <td>978.183</td> <th>  Durbin-Watson:     </th> <td>   1.967</td>\n",
       "</tr>\n",
       "<tr>\n",
       "  <th>Prob(Omnibus):</th> <td> 0.000</td>  <th>  Jarque-Bera (JB):  </th> <td>2083.414</td>\n",
       "</tr>\n",
       "<tr>\n",
       "  <th>Skew:</th>          <td> 0.778</td>  <th>  Prob(JB):          </th> <td>    0.00</td>\n",
       "</tr>\n",
       "<tr>\n",
       "  <th>Kurtosis:</th>      <td> 5.020</td>  <th>  Cond. No.          </th> <td>    706.</td>\n",
       "</tr>\n",
       "</table>"
      ],
      "text/plain": [
       "<class 'statsmodels.iolib.summary.Summary'>\n",
       "\"\"\"\n",
       "                            OLS Regression Results                            \n",
       "==============================================================================\n",
       "Dep. Variable:               response   R-squared:                       0.281\n",
       "Model:                            OLS   Adj. R-squared:                  0.277\n",
       "Method:                 Least Squares   F-statistic:                     78.63\n",
       "Date:                Wed, 09 Dec 2015   Prob (F-statistic):               0.00\n",
       "Time:                        21:03:35   Log-Likelihood:                 4921.4\n",
       "No. Observations:                7686   AIC:                            -9765.\n",
       "Df Residuals:                    7647   BIC:                            -9494.\n",
       "Df Model:                          38                                         \n",
       "Covariance Type:            nonrobust                                         \n",
       "=======================================================================================\n",
       "                          coef    std err          t      P>|t|      [95.0% Conf. Int.]\n",
       "---------------------------------------------------------------------------------------\n",
       "Intercept               1.0249      0.003    330.391      0.000         1.019     1.031\n",
       "A036                    0.0101      0.003      3.998      0.000         0.005     0.015\n",
       "A056                    0.0473      0.004     10.583      0.000         0.039     0.056\n",
       "A052                    0.0280      0.002     12.760      0.000         0.024     0.032\n",
       "A034                    0.0133      0.003      5.250      0.000         0.008     0.018\n",
       "A039                    0.0580      0.006      9.473      0.000         0.046     0.070\n",
       "A002                   -0.0568      0.006    -10.157      0.000        -0.068    -0.046\n",
       "A032                   -0.0226      0.003     -7.177      0.000        -0.029    -0.016\n",
       "A045                    0.1614      0.144      1.123      0.261        -0.120     0.443\n",
       "A001                    0.0072      0.003      2.509      0.012         0.002     0.013\n",
       "A054                    0.0942      0.015      6.480      0.000         0.066     0.123\n",
       "A038                   -0.0155      0.007     -2.264      0.024        -0.029    -0.002\n",
       "A014                   -0.0255      0.007     -3.677      0.000        -0.039    -0.012\n",
       "A037                   -0.0703      0.011     -6.637      0.000        -0.091    -0.050\n",
       "A051                    0.0180      0.003      6.099      0.000         0.012     0.024\n",
       "A049                    0.0447      0.006      7.342      0.000         0.033     0.057\n",
       "A050                    0.0215      0.006      3.614      0.000         0.010     0.033\n",
       "A042                   -0.3207      0.242     -1.327      0.184        -0.794     0.153\n",
       "A040                   -0.0392      0.009     -4.345      0.000        -0.057    -0.022\n",
       "A031                   -0.0186      0.004     -4.386      0.000        -0.027    -0.010\n",
       "A035                   -0.0037      0.001     -2.951      0.003        -0.006    -0.001\n",
       "A044                    0.0092      0.006      1.555      0.120        -0.002     0.021\n",
       "A047                    0.0242      0.012      2.045      0.041         0.001     0.047\n",
       "A053                   -0.0669      0.018     -3.644      0.000        -0.103    -0.031\n",
       "A010                    0.0276      0.006      4.319      0.000         0.015     0.040\n",
       "A030                   -0.0214      0.006     -3.655      0.000        -0.033    -0.010\n",
       "A018                    0.0232      0.007      3.367      0.001         0.010     0.037\n",
       "A025                    0.0046      0.004      1.317      0.188        -0.002     0.012\n",
       "A006                    0.0096      0.004      2.306      0.021         0.001     0.018\n",
       "A041                    0.0176      0.008      2.212      0.027         0.002     0.033\n",
       "n_establishments       -0.0218      0.006     -3.801      0.000        -0.033    -0.011\n",
       "A055                    0.0263      0.008      3.223      0.001         0.010     0.042\n",
       "median_income           0.0045      0.003      1.536      0.125        -0.001     0.010\n",
       "annual_payroll_1000     0.0023      0.001      1.532      0.126        -0.001     0.005\n",
       "A033                    0.0091      0.006      1.591      0.112        -0.002     0.020\n",
       "A020                    0.0094      0.006      1.548      0.122        -0.003     0.021\n",
       "A017                   -0.0077      0.005     -1.459      0.145        -0.018     0.003\n",
       "A043                    0.1540      0.143      1.080      0.280        -0.126     0.434\n",
       "A019                   -0.0061      0.006     -1.005      0.315        -0.018     0.006\n",
       "==============================================================================\n",
       "Omnibus:                      978.183   Durbin-Watson:                   1.967\n",
       "Prob(Omnibus):                  0.000   Jarque-Bera (JB):             2083.414\n",
       "Skew:                           0.778   Prob(JB):                         0.00\n",
       "Kurtosis:                       5.020   Cond. No.                         706.\n",
       "==============================================================================\n",
       "\n",
       "Warnings:\n",
       "[1] Standard Errors assume that the covariance matrix of the errors is correctly specified.\n",
       "\"\"\""
      ]
     },
     "execution_count": 33,
     "metadata": {},
     "output_type": "execute_result"
    }
   ],
   "source": [
    "bestmodel_ratio_delta[0].summary()"
   ]
  },
  {
   "cell_type": "code",
   "execution_count": 34,
   "metadata": {
    "collapsed": false
   },
   "outputs": [
    {
     "name": "stdout",
     "output_type": "stream",
     "text": [
      "Response Variable: Ratio 2015\n",
      "RMSE for OLS is 27.0751444377\n"
     ]
    }
   ],
   "source": [
    "formula = bestmodel_ratio_2015[1].replace('response ~ ','')\n",
    "data = ratio_2015_test.drop(['zipcode','ind'],1).dropna()\n",
    "response = ratio_2015_test['response']\n",
    "response = response[~np.isnan(response)]\n",
    "data = data.drop('response',1).dropna()\n",
    "\n",
    "df = patsy.dmatrix(formula, data=data)\n",
    "pred = bestmodel_ratio_2015[0].predict(df, transform=False)\n",
    "\n",
    "ols_rmse = get_rmse(response, pred)\n",
    "\n",
    "print 'Response Variable: Ratio 2015'\n",
    "print 'RMSE for OLS is ' + str(ols_rmse)"
   ]
  },
  {
   "cell_type": "code",
   "execution_count": 35,
   "metadata": {
    "collapsed": false
   },
   "outputs": [
    {
     "data": {
      "text/html": [
       "<table class=\"simpletable\">\n",
       "<caption>OLS Regression Results</caption>\n",
       "<tr>\n",
       "  <th>Dep. Variable:</th>        <td>response</td>     <th>  R-squared:         </th> <td>   0.638</td> \n",
       "</tr>\n",
       "<tr>\n",
       "  <th>Model:</th>                   <td>OLS</td>       <th>  Adj. R-squared:    </th> <td>   0.636</td> \n",
       "</tr>\n",
       "<tr>\n",
       "  <th>Method:</th>             <td>Least Squares</td>  <th>  F-statistic:       </th> <td>   350.9</td> \n",
       "</tr>\n",
       "<tr>\n",
       "  <th>Date:</th>             <td>Wed, 09 Dec 2015</td> <th>  Prob (F-statistic):</th>  <td>  0.00</td>  \n",
       "</tr>\n",
       "<tr>\n",
       "  <th>Time:</th>                 <td>21:03:46</td>     <th>  Log-Likelihood:    </th> <td> -38452.</td> \n",
       "</tr>\n",
       "<tr>\n",
       "  <th>No. Observations:</th>      <td>  8208</td>      <th>  AIC:               </th> <td>7.699e+04</td>\n",
       "</tr>\n",
       "<tr>\n",
       "  <th>Df Residuals:</th>          <td>  8166</td>      <th>  BIC:               </th> <td>7.728e+04</td>\n",
       "</tr>\n",
       "<tr>\n",
       "  <th>Df Model:</th>              <td>    41</td>      <th>                     </th>     <td> </td>    \n",
       "</tr>\n",
       "<tr>\n",
       "  <th>Covariance Type:</th>      <td>nonrobust</td>    <th>                     </th>     <td> </td>    \n",
       "</tr>\n",
       "</table>\n",
       "<table class=\"simpletable\">\n",
       "<tr>\n",
       "          <td></td>            <th>coef</th>     <th>std err</th>      <th>t</th>      <th>P>|t|</th> <th>[95.0% Conf. Int.]</th> \n",
       "</tr>\n",
       "<tr>\n",
       "  <th>Intercept</th>        <td>  127.4246</td> <td>    0.621</td> <td>  205.052</td> <td> 0.000</td> <td>  126.206   128.643</td>\n",
       "</tr>\n",
       "<tr>\n",
       "  <th>A034</th>             <td>    5.4574</td> <td>    0.495</td> <td>   11.029</td> <td> 0.000</td> <td>    4.487     6.427</td>\n",
       "</tr>\n",
       "<tr>\n",
       "  <th>A041</th>             <td>   -8.2425</td> <td>    0.815</td> <td>  -10.114</td> <td> 0.000</td> <td>   -9.840    -6.645</td>\n",
       "</tr>\n",
       "<tr>\n",
       "  <th>median_income</th>    <td>   10.7424</td> <td>    0.600</td> <td>   17.901</td> <td> 0.000</td> <td>    9.566    11.919</td>\n",
       "</tr>\n",
       "<tr>\n",
       "  <th>A036</th>             <td>    3.6961</td> <td>    0.503</td> <td>    7.347</td> <td> 0.000</td> <td>    2.710     4.682</td>\n",
       "</tr>\n",
       "<tr>\n",
       "  <th>A018</th>             <td>   30.0664</td> <td>    9.091</td> <td>    3.307</td> <td> 0.001</td> <td>   12.246    47.887</td>\n",
       "</tr>\n",
       "<tr>\n",
       "  <th>A032</th>             <td>  -18.3488</td> <td>    0.628</td> <td>  -29.210</td> <td> 0.000</td> <td>  -19.580   -17.117</td>\n",
       "</tr>\n",
       "<tr>\n",
       "  <th>A031</th>             <td>  -18.1274</td> <td>    0.801</td> <td>  -22.630</td> <td> 0.000</td> <td>  -19.698   -16.557</td>\n",
       "</tr>\n",
       "<tr>\n",
       "  <th>A037</th>             <td>  -40.0521</td> <td>    2.292</td> <td>  -17.472</td> <td> 0.000</td> <td>  -44.546   -35.558</td>\n",
       "</tr>\n",
       "<tr>\n",
       "  <th>A042</th>             <td>  -26.0767</td> <td>    1.875</td> <td>  -13.906</td> <td> 0.000</td> <td>  -29.753   -22.401</td>\n",
       "</tr>\n",
       "<tr>\n",
       "  <th>A025</th>             <td>    5.8565</td> <td>    0.704</td> <td>    8.322</td> <td> 0.000</td> <td>    4.477     7.236</td>\n",
       "</tr>\n",
       "<tr>\n",
       "  <th>A050</th>             <td>   -9.1837</td> <td>    1.203</td> <td>   -7.631</td> <td> 0.000</td> <td>  -11.543    -6.825</td>\n",
       "</tr>\n",
       "<tr>\n",
       "  <th>A001</th>             <td>    3.7085</td> <td>    0.581</td> <td>    6.387</td> <td> 0.000</td> <td>    2.570     4.847</td>\n",
       "</tr>\n",
       "<tr>\n",
       "  <th>A056</th>             <td>   10.2141</td> <td>    0.899</td> <td>   11.357</td> <td> 0.000</td> <td>    8.451    11.977</td>\n",
       "</tr>\n",
       "<tr>\n",
       "  <th>A038</th>             <td>   -8.7807</td> <td>    1.230</td> <td>   -7.138</td> <td> 0.000</td> <td>  -11.192    -6.369</td>\n",
       "</tr>\n",
       "<tr>\n",
       "  <th>A052</th>             <td>   -2.6494</td> <td>    0.445</td> <td>   -5.954</td> <td> 0.000</td> <td>   -3.522    -1.777</td>\n",
       "</tr>\n",
       "<tr>\n",
       "  <th>A006</th>             <td>    3.8757</td> <td>    0.885</td> <td>    4.379</td> <td> 0.000</td> <td>    2.141     5.611</td>\n",
       "</tr>\n",
       "<tr>\n",
       "  <th>A030</th>             <td>    1.2256</td> <td>    1.180</td> <td>    1.038</td> <td> 0.299</td> <td>   -1.088     3.539</td>\n",
       "</tr>\n",
       "<tr>\n",
       "  <th>A009</th>             <td>   -5.9091</td> <td>    3.390</td> <td>   -1.743</td> <td> 0.081</td> <td>  -12.554     0.736</td>\n",
       "</tr>\n",
       "<tr>\n",
       "  <th>A048</th>             <td>   15.4038</td> <td>    2.260</td> <td>    6.815</td> <td> 0.000</td> <td>   10.973    19.835</td>\n",
       "</tr>\n",
       "<tr>\n",
       "  <th>A044</th>             <td>   -5.9598</td> <td>    1.359</td> <td>   -4.385</td> <td> 0.000</td> <td>   -8.624    -3.295</td>\n",
       "</tr>\n",
       "<tr>\n",
       "  <th>jail</th>             <td>    3.3086</td> <td>    1.118</td> <td>    2.959</td> <td> 0.003</td> <td>    1.116     5.501</td>\n",
       "</tr>\n",
       "<tr>\n",
       "  <th>paid_employees</th>   <td>  -16.7296</td> <td>    1.554</td> <td>  -10.767</td> <td> 0.000</td> <td>  -19.775   -13.684</td>\n",
       "</tr>\n",
       "<tr>\n",
       "  <th>n_establishments</th> <td>   22.1075</td> <td>    1.856</td> <td>   11.911</td> <td> 0.000</td> <td>   18.469    25.746</td>\n",
       "</tr>\n",
       "<tr>\n",
       "  <th>A055</th>             <td>  -12.6020</td> <td>    1.577</td> <td>   -7.992</td> <td> 0.000</td> <td>  -15.693    -9.511</td>\n",
       "</tr>\n",
       "<tr>\n",
       "  <th>A049</th>             <td>   -6.3098</td> <td>    1.240</td> <td>   -5.087</td> <td> 0.000</td> <td>   -8.741    -3.878</td>\n",
       "</tr>\n",
       "<tr>\n",
       "  <th>A051</th>             <td>    2.5477</td> <td>    0.588</td> <td>    4.335</td> <td> 0.000</td> <td>    1.396     3.700</td>\n",
       "</tr>\n",
       "<tr>\n",
       "  <th>A035</th>             <td>    0.8259</td> <td>    0.259</td> <td>    3.188</td> <td> 0.001</td> <td>    0.318     1.334</td>\n",
       "</tr>\n",
       "<tr>\n",
       "  <th>A028</th>             <td>   18.0741</td> <td>    8.351</td> <td>    2.164</td> <td> 0.030</td> <td>    1.704    34.445</td>\n",
       "</tr>\n",
       "<tr>\n",
       "  <th>A015</th>             <td>    3.9678</td> <td>    0.834</td> <td>    4.755</td> <td> 0.000</td> <td>    2.332     5.603</td>\n",
       "</tr>\n",
       "<tr>\n",
       "  <th>A027</th>             <td>    4.4996</td> <td>    1.013</td> <td>    4.444</td> <td> 0.000</td> <td>    2.515     6.484</td>\n",
       "</tr>\n",
       "<tr>\n",
       "  <th>A039</th>             <td>    2.2185</td> <td>    1.147</td> <td>    1.935</td> <td> 0.053</td> <td>   -0.029     4.466</td>\n",
       "</tr>\n",
       "<tr>\n",
       "  <th>A024</th>             <td>    3.5754</td> <td>    1.157</td> <td>    3.090</td> <td> 0.002</td> <td>    1.307     5.844</td>\n",
       "</tr>\n",
       "<tr>\n",
       "  <th>A047</th>             <td>   13.1545</td> <td>    2.466</td> <td>    5.335</td> <td> 0.000</td> <td>    8.321    17.988</td>\n",
       "</tr>\n",
       "<tr>\n",
       "  <th>A053</th>             <td>  -15.1363</td> <td>    3.662</td> <td>   -4.133</td> <td> 0.000</td> <td>  -22.315    -7.957</td>\n",
       "</tr>\n",
       "<tr>\n",
       "  <th>A033</th>             <td>   -2.6682</td> <td>    1.118</td> <td>   -2.387</td> <td> 0.017</td> <td>   -4.860    -0.477</td>\n",
       "</tr>\n",
       "<tr>\n",
       "  <th>A046</th>             <td>   -1.3720</td> <td>    1.408</td> <td>   -0.975</td> <td> 0.330</td> <td>   -4.132     1.388</td>\n",
       "</tr>\n",
       "<tr>\n",
       "  <th>A020</th>             <td>    2.5011</td> <td>    1.232</td> <td>    2.030</td> <td> 0.042</td> <td>    0.086     4.916</td>\n",
       "</tr>\n",
       "<tr>\n",
       "  <th>A054</th>             <td>    6.4144</td> <td>    2.888</td> <td>    2.221</td> <td> 0.026</td> <td>    0.752    12.076</td>\n",
       "</tr>\n",
       "<tr>\n",
       "  <th>A012</th>             <td>   -1.8581</td> <td>    1.018</td> <td>   -1.825</td> <td> 0.068</td> <td>   -3.854     0.138</td>\n",
       "</tr>\n",
       "<tr>\n",
       "  <th>A008</th>             <td>  -26.2477</td> <td>   16.237</td> <td>   -1.617</td> <td> 0.106</td> <td>  -58.076     5.580</td>\n",
       "</tr>\n",
       "<tr>\n",
       "  <th>A029</th>             <td>   -3.5955</td> <td>    2.928</td> <td>   -1.228</td> <td> 0.219</td> <td>   -9.335     2.144</td>\n",
       "</tr>\n",
       "</table>\n",
       "<table class=\"simpletable\">\n",
       "<tr>\n",
       "  <th>Omnibus:</th>       <td>1587.406</td> <th>  Durbin-Watson:     </th> <td>   1.979</td>\n",
       "</tr>\n",
       "<tr>\n",
       "  <th>Prob(Omnibus):</th>  <td> 0.000</td>  <th>  Jarque-Bera (JB):  </th> <td>7305.766</td>\n",
       "</tr>\n",
       "<tr>\n",
       "  <th>Skew:</th>           <td> 0.871</td>  <th>  Prob(JB):          </th> <td>    0.00</td>\n",
       "</tr>\n",
       "<tr>\n",
       "  <th>Kurtosis:</th>       <td> 7.281</td>  <th>  Cond. No.          </th> <td>    244.</td>\n",
       "</tr>\n",
       "</table>"
      ],
      "text/plain": [
       "<class 'statsmodels.iolib.summary.Summary'>\n",
       "\"\"\"\n",
       "                            OLS Regression Results                            \n",
       "==============================================================================\n",
       "Dep. Variable:               response   R-squared:                       0.638\n",
       "Model:                            OLS   Adj. R-squared:                  0.636\n",
       "Method:                 Least Squares   F-statistic:                     350.9\n",
       "Date:                Wed, 09 Dec 2015   Prob (F-statistic):               0.00\n",
       "Time:                        21:03:46   Log-Likelihood:                -38452.\n",
       "No. Observations:                8208   AIC:                         7.699e+04\n",
       "Df Residuals:                    8166   BIC:                         7.728e+04\n",
       "Df Model:                          41                                         \n",
       "Covariance Type:            nonrobust                                         \n",
       "====================================================================================\n",
       "                       coef    std err          t      P>|t|      [95.0% Conf. Int.]\n",
       "------------------------------------------------------------------------------------\n",
       "Intercept          127.4246      0.621    205.052      0.000       126.206   128.643\n",
       "A034                 5.4574      0.495     11.029      0.000         4.487     6.427\n",
       "A041                -8.2425      0.815    -10.114      0.000        -9.840    -6.645\n",
       "median_income       10.7424      0.600     17.901      0.000         9.566    11.919\n",
       "A036                 3.6961      0.503      7.347      0.000         2.710     4.682\n",
       "A018                30.0664      9.091      3.307      0.001        12.246    47.887\n",
       "A032               -18.3488      0.628    -29.210      0.000       -19.580   -17.117\n",
       "A031               -18.1274      0.801    -22.630      0.000       -19.698   -16.557\n",
       "A037               -40.0521      2.292    -17.472      0.000       -44.546   -35.558\n",
       "A042               -26.0767      1.875    -13.906      0.000       -29.753   -22.401\n",
       "A025                 5.8565      0.704      8.322      0.000         4.477     7.236\n",
       "A050                -9.1837      1.203     -7.631      0.000       -11.543    -6.825\n",
       "A001                 3.7085      0.581      6.387      0.000         2.570     4.847\n",
       "A056                10.2141      0.899     11.357      0.000         8.451    11.977\n",
       "A038                -8.7807      1.230     -7.138      0.000       -11.192    -6.369\n",
       "A052                -2.6494      0.445     -5.954      0.000        -3.522    -1.777\n",
       "A006                 3.8757      0.885      4.379      0.000         2.141     5.611\n",
       "A030                 1.2256      1.180      1.038      0.299        -1.088     3.539\n",
       "A009                -5.9091      3.390     -1.743      0.081       -12.554     0.736\n",
       "A048                15.4038      2.260      6.815      0.000        10.973    19.835\n",
       "A044                -5.9598      1.359     -4.385      0.000        -8.624    -3.295\n",
       "jail                 3.3086      1.118      2.959      0.003         1.116     5.501\n",
       "paid_employees     -16.7296      1.554    -10.767      0.000       -19.775   -13.684\n",
       "n_establishments    22.1075      1.856     11.911      0.000        18.469    25.746\n",
       "A055               -12.6020      1.577     -7.992      0.000       -15.693    -9.511\n",
       "A049                -6.3098      1.240     -5.087      0.000        -8.741    -3.878\n",
       "A051                 2.5477      0.588      4.335      0.000         1.396     3.700\n",
       "A035                 0.8259      0.259      3.188      0.001         0.318     1.334\n",
       "A028                18.0741      8.351      2.164      0.030         1.704    34.445\n",
       "A015                 3.9678      0.834      4.755      0.000         2.332     5.603\n",
       "A027                 4.4996      1.013      4.444      0.000         2.515     6.484\n",
       "A039                 2.2185      1.147      1.935      0.053        -0.029     4.466\n",
       "A024                 3.5754      1.157      3.090      0.002         1.307     5.844\n",
       "A047                13.1545      2.466      5.335      0.000         8.321    17.988\n",
       "A053               -15.1363      3.662     -4.133      0.000       -22.315    -7.957\n",
       "A033                -2.6682      1.118     -2.387      0.017        -4.860    -0.477\n",
       "A046                -1.3720      1.408     -0.975      0.330        -4.132     1.388\n",
       "A020                 2.5011      1.232      2.030      0.042         0.086     4.916\n",
       "A054                 6.4144      2.888      2.221      0.026         0.752    12.076\n",
       "A012                -1.8581      1.018     -1.825      0.068        -3.854     0.138\n",
       "A008               -26.2477     16.237     -1.617      0.106       -58.076     5.580\n",
       "A029                -3.5955      2.928     -1.228      0.219        -9.335     2.144\n",
       "==============================================================================\n",
       "Omnibus:                     1587.406   Durbin-Watson:                   1.979\n",
       "Prob(Omnibus):                  0.000   Jarque-Bera (JB):             7305.766\n",
       "Skew:                           0.871   Prob(JB):                         0.00\n",
       "Kurtosis:                       7.281   Cond. No.                         244.\n",
       "==============================================================================\n",
       "\n",
       "Warnings:\n",
       "[1] Standard Errors assume that the covariance matrix of the errors is correctly specified.\n",
       "\"\"\""
      ]
     },
     "execution_count": 35,
     "metadata": {},
     "output_type": "execute_result"
    }
   ],
   "source": [
    "bestmodel_ratio_2015[0].summary()"
   ]
  },
  {
   "cell_type": "code",
   "execution_count": 36,
   "metadata": {
    "collapsed": false
   },
   "outputs": [
    {
     "name": "stdout",
     "output_type": "stream",
     "text": [
      "71.8974740505 seconds to train model\n"
     ]
    }
   ],
   "source": [
    "import time\n",
    "start_time = time.time()\n",
    "bestmodel_t = forward_selected(merged_t_train.drop(['zipcode','ind'],1), 'response')\n",
    "\n",
    "print '%s seconds to train model'%(time.time() - start_time)"
   ]
  },
  {
   "cell_type": "code",
   "execution_count": 37,
   "metadata": {
    "collapsed": false
   },
   "outputs": [
    {
     "name": "stdout",
     "output_type": "stream",
     "text": [
      "Response Variable: Housing Pct Delta\n",
      "RMSE for OLS is 0.189998529533\n"
     ]
    }
   ],
   "source": [
    "formula = bestmodel_t[1].replace('response ~ ','')\n",
    "data = merged_t_test.drop(['zipcode','ind'],1).dropna()\n",
    "response = merged_t_test['response']\n",
    "response = response[~np.isnan(response)]\n",
    "data = data.drop('response',1).dropna()\n",
    "\n",
    "df = patsy.dmatrix(formula, data=data)\n",
    "pred = bestmodel_t[0].predict(df, transform=False)\n",
    "\n",
    "ols_rmse = get_rmse(response, pred)\n",
    "\n",
    "print 'Response Variable: Housing Pct Delta'\n",
    "print 'RMSE for OLS is ' + str(ols_rmse)"
   ]
  },
  {
   "cell_type": "code",
   "execution_count": 38,
   "metadata": {
    "collapsed": false
   },
   "outputs": [
    {
     "data": {
      "text/html": [
       "<table class=\"simpletable\">\n",
       "<caption>OLS Regression Results</caption>\n",
       "<tr>\n",
       "  <th>Dep. Variable:</th>        <td>response</td>     <th>  R-squared:         </th> <td>   0.371</td>\n",
       "</tr>\n",
       "<tr>\n",
       "  <th>Model:</th>                   <td>OLS</td>       <th>  Adj. R-squared:    </th> <td>   0.368</td>\n",
       "</tr>\n",
       "<tr>\n",
       "  <th>Method:</th>             <td>Least Squares</td>  <th>  F-statistic:       </th> <td>   120.8</td>\n",
       "</tr>\n",
       "<tr>\n",
       "  <th>Date:</th>             <td>Wed, 09 Dec 2015</td> <th>  Prob (F-statistic):</th>  <td>  0.00</td> \n",
       "</tr>\n",
       "<tr>\n",
       "  <th>Time:</th>                 <td>21:07:05</td>     <th>  Log-Likelihood:    </th> <td>  2011.0</td>\n",
       "</tr>\n",
       "<tr>\n",
       "  <th>No. Observations:</th>      <td>  9271</td>      <th>  AIC:               </th> <td>  -3930.</td>\n",
       "</tr>\n",
       "<tr>\n",
       "  <th>Df Residuals:</th>          <td>  9225</td>      <th>  BIC:               </th> <td>  -3602.</td>\n",
       "</tr>\n",
       "<tr>\n",
       "  <th>Df Model:</th>              <td>    45</td>      <th>                     </th>     <td> </td>   \n",
       "</tr>\n",
       "<tr>\n",
       "  <th>Covariance Type:</th>      <td>nonrobust</td>    <th>                     </th>     <td> </td>   \n",
       "</tr>\n",
       "</table>\n",
       "<table class=\"simpletable\">\n",
       "<tr>\n",
       "               <td></td>                 <th>coef</th>     <th>std err</th>      <th>t</th>      <th>P>|t|</th> <th>[95.0% Conf. Int.]</th> \n",
       "</tr>\n",
       "<tr>\n",
       "  <th>Intercept</th>                  <td>    0.1890</td> <td>    0.004</td> <td>   43.256</td> <td> 0.000</td> <td>    0.180     0.198</td>\n",
       "</tr>\n",
       "<tr>\n",
       "  <th>A002</th>                       <td>   -0.0678</td> <td>    0.009</td> <td>   -7.682</td> <td> 0.000</td> <td>   -0.085    -0.051</td>\n",
       "</tr>\n",
       "<tr>\n",
       "  <th>A036</th>                       <td>    0.0485</td> <td>    0.004</td> <td>   13.449</td> <td> 0.000</td> <td>    0.041     0.056</td>\n",
       "</tr>\n",
       "<tr>\n",
       "  <th>A052</th>                       <td>   -0.0673</td> <td>    0.004</td> <td>  -17.218</td> <td> 0.000</td> <td>   -0.075    -0.060</td>\n",
       "</tr>\n",
       "<tr>\n",
       "  <th>median_income</th>              <td>    0.0470</td> <td>    0.004</td> <td>   11.683</td> <td> 0.000</td> <td>    0.039     0.055</td>\n",
       "</tr>\n",
       "<tr>\n",
       "  <th>A049</th>                       <td>   -0.0817</td> <td>    0.008</td> <td>   -9.723</td> <td> 0.000</td> <td>   -0.098    -0.065</td>\n",
       "</tr>\n",
       "<tr>\n",
       "  <th>A035</th>                       <td>    0.0163</td> <td>    0.002</td> <td>    8.976</td> <td> 0.000</td> <td>    0.013     0.020</td>\n",
       "</tr>\n",
       "<tr>\n",
       "  <th>A025</th>                       <td>    0.0141</td> <td>    0.006</td> <td>    2.478</td> <td> 0.013</td> <td>    0.003     0.025</td>\n",
       "</tr>\n",
       "<tr>\n",
       "  <th>A055</th>                       <td>   -0.0943</td> <td>    0.012</td> <td>   -8.150</td> <td> 0.000</td> <td>   -0.117    -0.072</td>\n",
       "</tr>\n",
       "<tr>\n",
       "  <th>A040</th>                       <td>    0.0860</td> <td>    0.013</td> <td>    6.389</td> <td> 0.000</td> <td>    0.060     0.112</td>\n",
       "</tr>\n",
       "<tr>\n",
       "  <th>A051</th>                       <td>   -0.0460</td> <td>    0.004</td> <td>  -11.467</td> <td> 0.000</td> <td>   -0.054    -0.038</td>\n",
       "</tr>\n",
       "<tr>\n",
       "  <th>A037</th>                       <td>   -0.1680</td> <td>    0.016</td> <td>  -10.559</td> <td> 0.000</td> <td>   -0.199    -0.137</td>\n",
       "</tr>\n",
       "<tr>\n",
       "  <th>A053</th>                       <td>    0.0984</td> <td>    0.028</td> <td>    3.574</td> <td> 0.000</td> <td>    0.044     0.152</td>\n",
       "</tr>\n",
       "<tr>\n",
       "  <th>A003</th>                       <td>   -0.0757</td> <td>    0.008</td> <td>   -9.160</td> <td> 0.000</td> <td>   -0.092    -0.059</td>\n",
       "</tr>\n",
       "<tr>\n",
       "  <th>A042</th>                       <td>   -0.5570</td> <td>    0.332</td> <td>   -1.679</td> <td> 0.093</td> <td>   -1.207     0.093</td>\n",
       "</tr>\n",
       "<tr>\n",
       "  <th>A044</th>                       <td>    0.0493</td> <td>    0.010</td> <td>    5.057</td> <td> 0.000</td> <td>    0.030     0.068</td>\n",
       "</tr>\n",
       "<tr>\n",
       "  <th>A056</th>                       <td>   -0.0449</td> <td>    0.006</td> <td>   -7.229</td> <td> 0.000</td> <td>   -0.057    -0.033</td>\n",
       "</tr>\n",
       "<tr>\n",
       "  <th>n_establishments</th>           <td>    0.1374</td> <td>    0.013</td> <td>   10.598</td> <td> 0.000</td> <td>    0.112     0.163</td>\n",
       "</tr>\n",
       "<tr>\n",
       "  <th>paid_employees</th>             <td>   -0.1049</td> <td>    0.011</td> <td>   -9.456</td> <td> 0.000</td> <td>   -0.127    -0.083</td>\n",
       "</tr>\n",
       "<tr>\n",
       "  <th>A024</th>                       <td>    0.0289</td> <td>    0.009</td> <td>    3.083</td> <td> 0.002</td> <td>    0.011     0.047</td>\n",
       "</tr>\n",
       "<tr>\n",
       "  <th>A034</th>                       <td>    0.0185</td> <td>    0.004</td> <td>    5.174</td> <td> 0.000</td> <td>    0.011     0.025</td>\n",
       "</tr>\n",
       "<tr>\n",
       "  <th>A006</th>                       <td>    0.0057</td> <td>    0.012</td> <td>    0.465</td> <td> 0.642</td> <td>   -0.018     0.030</td>\n",
       "</tr>\n",
       "<tr>\n",
       "  <th>A048</th>                       <td>    0.0956</td> <td>    0.016</td> <td>    6.002</td> <td> 0.000</td> <td>    0.064     0.127</td>\n",
       "</tr>\n",
       "<tr>\n",
       "  <th>A029</th>                       <td>    0.1093</td> <td>    0.045</td> <td>    2.449</td> <td> 0.014</td> <td>    0.022     0.197</td>\n",
       "</tr>\n",
       "<tr>\n",
       "  <th>A047</th>                       <td>    0.0803</td> <td>    0.017</td> <td>    4.788</td> <td> 0.000</td> <td>    0.047     0.113</td>\n",
       "</tr>\n",
       "<tr>\n",
       "  <th>A010</th>                       <td>   -0.0492</td> <td>    0.010</td> <td>   -4.935</td> <td> 0.000</td> <td>   -0.069    -0.030</td>\n",
       "</tr>\n",
       "<tr>\n",
       "  <th>A030</th>                       <td>    0.0316</td> <td>    0.008</td> <td>    3.881</td> <td> 0.000</td> <td>    0.016     0.048</td>\n",
       "</tr>\n",
       "<tr>\n",
       "  <th>A033</th>                       <td>    0.0329</td> <td>    0.010</td> <td>    3.172</td> <td> 0.002</td> <td>    0.013     0.053</td>\n",
       "</tr>\n",
       "<tr>\n",
       "  <th>A046</th>                       <td>   -0.0367</td> <td>    0.011</td> <td>   -3.251</td> <td> 0.001</td> <td>   -0.059    -0.015</td>\n",
       "</tr>\n",
       "<tr>\n",
       "  <th>A045</th>                       <td>    0.3130</td> <td>    0.197</td> <td>    1.586</td> <td> 0.113</td> <td>   -0.074     0.700</td>\n",
       "</tr>\n",
       "<tr>\n",
       "  <th>A041</th>                       <td>   -0.0387</td> <td>    0.012</td> <td>   -3.291</td> <td> 0.001</td> <td>   -0.062    -0.016</td>\n",
       "</tr>\n",
       "<tr>\n",
       "  <th>A054</th>                       <td>   -0.0438</td> <td>    0.022</td> <td>   -1.982</td> <td> 0.048</td> <td>   -0.087    -0.000</td>\n",
       "</tr>\n",
       "<tr>\n",
       "  <th>annual_payroll_1000</th>        <td>   -0.0211</td> <td>    0.014</td> <td>   -1.502</td> <td> 0.133</td> <td>   -0.049     0.006</td>\n",
       "</tr>\n",
       "<tr>\n",
       "  <th>A031</th>                       <td>    0.0116</td> <td>    0.005</td> <td>    2.197</td> <td> 0.028</td> <td>    0.001     0.022</td>\n",
       "</tr>\n",
       "<tr>\n",
       "  <th>A001</th>                       <td>   -0.0073</td> <td>    0.004</td> <td>   -1.690</td> <td> 0.091</td> <td>   -0.016     0.001</td>\n",
       "</tr>\n",
       "<tr>\n",
       "  <th>A050</th>                       <td>    0.0123</td> <td>    0.008</td> <td>    1.495</td> <td> 0.135</td> <td>   -0.004     0.028</td>\n",
       "</tr>\n",
       "<tr>\n",
       "  <th>prison</th>                     <td>   -0.0244</td> <td>    0.013</td> <td>   -1.844</td> <td> 0.065</td> <td>   -0.050     0.002</td>\n",
       "</tr>\n",
       "<tr>\n",
       "  <th>A017</th>                       <td>   -0.0182</td> <td>    0.008</td> <td>   -2.179</td> <td> 0.029</td> <td>   -0.035    -0.002</td>\n",
       "</tr>\n",
       "<tr>\n",
       "  <th>A043</th>                       <td>    0.2632</td> <td>    0.196</td> <td>    1.344</td> <td> 0.179</td> <td>   -0.121     0.647</td>\n",
       "</tr>\n",
       "<tr>\n",
       "  <th>A028</th>                       <td>   -0.0511</td> <td>    0.021</td> <td>   -2.386</td> <td> 0.017</td> <td>   -0.093    -0.009</td>\n",
       "</tr>\n",
       "<tr>\n",
       "  <th>A008</th>                       <td>    0.0407</td> <td>    0.024</td> <td>    1.726</td> <td> 0.084</td> <td>   -0.006     0.087</td>\n",
       "</tr>\n",
       "<tr>\n",
       "  <th>A026</th>                       <td>    0.0133</td> <td>    0.010</td> <td>    1.397</td> <td> 0.163</td> <td>   -0.005     0.032</td>\n",
       "</tr>\n",
       "<tr>\n",
       "  <th>jail</th>                       <td>    0.0099</td> <td>    0.008</td> <td>    1.218</td> <td> 0.223</td> <td>   -0.006     0.026</td>\n",
       "</tr>\n",
       "<tr>\n",
       "  <th>first_quarter_payroll_1000</th> <td>    0.0178</td> <td>    0.015</td> <td>    1.184</td> <td> 0.237</td> <td>   -0.012     0.047</td>\n",
       "</tr>\n",
       "<tr>\n",
       "  <th>A019</th>                       <td>    0.1809</td> <td>    0.046</td> <td>    3.901</td> <td> 0.000</td> <td>    0.090     0.272</td>\n",
       "</tr>\n",
       "<tr>\n",
       "  <th>A009</th>                       <td>   -0.3135</td> <td>    0.084</td> <td>   -3.741</td> <td> 0.000</td> <td>   -0.478    -0.149</td>\n",
       "</tr>\n",
       "</table>\n",
       "<table class=\"simpletable\">\n",
       "<tr>\n",
       "  <th>Omnibus:</th>       <td>894.988</td> <th>  Durbin-Watson:     </th> <td>   1.981</td>\n",
       "</tr>\n",
       "<tr>\n",
       "  <th>Prob(Omnibus):</th> <td> 0.000</td>  <th>  Jarque-Bera (JB):  </th> <td>2968.678</td>\n",
       "</tr>\n",
       "<tr>\n",
       "  <th>Skew:</th>          <td> 0.482</td>  <th>  Prob(JB):          </th> <td>    0.00</td>\n",
       "</tr>\n",
       "<tr>\n",
       "  <th>Kurtosis:</th>      <td> 5.599</td>  <th>  Cond. No.          </th> <td>    725.</td>\n",
       "</tr>\n",
       "</table>"
      ],
      "text/plain": [
       "<class 'statsmodels.iolib.summary.Summary'>\n",
       "\"\"\"\n",
       "                            OLS Regression Results                            \n",
       "==============================================================================\n",
       "Dep. Variable:               response   R-squared:                       0.371\n",
       "Model:                            OLS   Adj. R-squared:                  0.368\n",
       "Method:                 Least Squares   F-statistic:                     120.8\n",
       "Date:                Wed, 09 Dec 2015   Prob (F-statistic):               0.00\n",
       "Time:                        21:07:05   Log-Likelihood:                 2011.0\n",
       "No. Observations:                9271   AIC:                            -3930.\n",
       "Df Residuals:                    9225   BIC:                            -3602.\n",
       "Df Model:                          45                                         \n",
       "Covariance Type:            nonrobust                                         \n",
       "==============================================================================================\n",
       "                                 coef    std err          t      P>|t|      [95.0% Conf. Int.]\n",
       "----------------------------------------------------------------------------------------------\n",
       "Intercept                      0.1890      0.004     43.256      0.000         0.180     0.198\n",
       "A002                          -0.0678      0.009     -7.682      0.000        -0.085    -0.051\n",
       "A036                           0.0485      0.004     13.449      0.000         0.041     0.056\n",
       "A052                          -0.0673      0.004    -17.218      0.000        -0.075    -0.060\n",
       "median_income                  0.0470      0.004     11.683      0.000         0.039     0.055\n",
       "A049                          -0.0817      0.008     -9.723      0.000        -0.098    -0.065\n",
       "A035                           0.0163      0.002      8.976      0.000         0.013     0.020\n",
       "A025                           0.0141      0.006      2.478      0.013         0.003     0.025\n",
       "A055                          -0.0943      0.012     -8.150      0.000        -0.117    -0.072\n",
       "A040                           0.0860      0.013      6.389      0.000         0.060     0.112\n",
       "A051                          -0.0460      0.004    -11.467      0.000        -0.054    -0.038\n",
       "A037                          -0.1680      0.016    -10.559      0.000        -0.199    -0.137\n",
       "A053                           0.0984      0.028      3.574      0.000         0.044     0.152\n",
       "A003                          -0.0757      0.008     -9.160      0.000        -0.092    -0.059\n",
       "A042                          -0.5570      0.332     -1.679      0.093        -1.207     0.093\n",
       "A044                           0.0493      0.010      5.057      0.000         0.030     0.068\n",
       "A056                          -0.0449      0.006     -7.229      0.000        -0.057    -0.033\n",
       "n_establishments               0.1374      0.013     10.598      0.000         0.112     0.163\n",
       "paid_employees                -0.1049      0.011     -9.456      0.000        -0.127    -0.083\n",
       "A024                           0.0289      0.009      3.083      0.002         0.011     0.047\n",
       "A034                           0.0185      0.004      5.174      0.000         0.011     0.025\n",
       "A006                           0.0057      0.012      0.465      0.642        -0.018     0.030\n",
       "A048                           0.0956      0.016      6.002      0.000         0.064     0.127\n",
       "A029                           0.1093      0.045      2.449      0.014         0.022     0.197\n",
       "A047                           0.0803      0.017      4.788      0.000         0.047     0.113\n",
       "A010                          -0.0492      0.010     -4.935      0.000        -0.069    -0.030\n",
       "A030                           0.0316      0.008      3.881      0.000         0.016     0.048\n",
       "A033                           0.0329      0.010      3.172      0.002         0.013     0.053\n",
       "A046                          -0.0367      0.011     -3.251      0.001        -0.059    -0.015\n",
       "A045                           0.3130      0.197      1.586      0.113        -0.074     0.700\n",
       "A041                          -0.0387      0.012     -3.291      0.001        -0.062    -0.016\n",
       "A054                          -0.0438      0.022     -1.982      0.048        -0.087    -0.000\n",
       "annual_payroll_1000           -0.0211      0.014     -1.502      0.133        -0.049     0.006\n",
       "A031                           0.0116      0.005      2.197      0.028         0.001     0.022\n",
       "A001                          -0.0073      0.004     -1.690      0.091        -0.016     0.001\n",
       "A050                           0.0123      0.008      1.495      0.135        -0.004     0.028\n",
       "prison                        -0.0244      0.013     -1.844      0.065        -0.050     0.002\n",
       "A017                          -0.0182      0.008     -2.179      0.029        -0.035    -0.002\n",
       "A043                           0.2632      0.196      1.344      0.179        -0.121     0.647\n",
       "A028                          -0.0511      0.021     -2.386      0.017        -0.093    -0.009\n",
       "A008                           0.0407      0.024      1.726      0.084        -0.006     0.087\n",
       "A026                           0.0133      0.010      1.397      0.163        -0.005     0.032\n",
       "jail                           0.0099      0.008      1.218      0.223        -0.006     0.026\n",
       "first_quarter_payroll_1000     0.0178      0.015      1.184      0.237        -0.012     0.047\n",
       "A019                           0.1809      0.046      3.901      0.000         0.090     0.272\n",
       "A009                          -0.3135      0.084     -3.741      0.000        -0.478    -0.149\n",
       "==============================================================================\n",
       "Omnibus:                      894.988   Durbin-Watson:                   1.981\n",
       "Prob(Omnibus):                  0.000   Jarque-Bera (JB):             2968.678\n",
       "Skew:                           0.482   Prob(JB):                         0.00\n",
       "Kurtosis:                       5.599   Cond. No.                         725.\n",
       "==============================================================================\n",
       "\n",
       "Warnings:\n",
       "[1] Standard Errors assume that the covariance matrix of the errors is correctly specified.\n",
       "\"\"\""
      ]
     },
     "execution_count": 38,
     "metadata": {},
     "output_type": "execute_result"
    }
   ],
   "source": [
    "bestmodel_t[0].summary()"
   ]
  },
  {
   "cell_type": "markdown",
   "metadata": {},
   "source": [
    "## get features from forward selection to use in sklearn regressions"
   ]
  },
  {
   "cell_type": "code",
   "execution_count": 39,
   "metadata": {
    "collapsed": false
   },
   "outputs": [],
   "source": [
    "# house price delta response\n",
    "best_features = bestmodel[0].params.index.values.tolist() + ['response', 'zipcode']\n",
    "best_features_t = bestmodel_t[0].params.index.values.tolist() + ['response', 'zipcode']\n",
    "\n",
    "# house/rental ratio delta response\n",
    "best_features_ratio_delta = bestmodel_ratio_delta[0].params.index.values.tolist() + ['response', 'zipcode']\n",
    "# house/rental ratio 2015 response\n",
    "best_features_ratio_2015 = bestmodel_ratio_2015[0].params.index.values.tolist() + ['response', 'zipcode']"
   ]
  },
  {
   "cell_type": "code",
   "execution_count": 40,
   "metadata": {
    "collapsed": false
   },
   "outputs": [
    {
     "data": {
      "text/plain": [
       "['Intercept',\n",
       " 'A002',\n",
       " 'A054',\n",
       " 'A003',\n",
       " 'median_income',\n",
       " 'A050',\n",
       " 'A052',\n",
       " 'A024',\n",
       " 'A051',\n",
       " 'A038',\n",
       " 'A044',\n",
       " 'A035',\n",
       " 'A026',\n",
       " 'A036',\n",
       " 'A055',\n",
       " 'A040',\n",
       " 'A029',\n",
       " 'A048',\n",
       " 'A017',\n",
       " 'A037',\n",
       " 'A042',\n",
       " 'A020',\n",
       " 'A047',\n",
       " 'A046',\n",
       " 'A056',\n",
       " 'A033',\n",
       " 'A025',\n",
       " 'n_establishments',\n",
       " 'paid_employees',\n",
       " 'A034',\n",
       " 'A045',\n",
       " 'A028',\n",
       " 'prison',\n",
       " 'first_quarter_payroll_1000',\n",
       " 'A009',\n",
       " 'A019',\n",
       " 'A032',\n",
       " 'A031',\n",
       " 'A041',\n",
       " 'A039',\n",
       " 'annual_payroll_1000',\n",
       " 'A030',\n",
       " 'A043',\n",
       " 'A049',\n",
       " 'response',\n",
       " 'zipcode']"
      ]
     },
     "execution_count": 40,
     "metadata": {},
     "output_type": "execute_result"
    }
   ],
   "source": [
    "best_features"
   ]
  },
  {
   "cell_type": "code",
   "execution_count": 41,
   "metadata": {
    "collapsed": false
   },
   "outputs": [
    {
     "data": {
      "text/plain": [
       "list"
      ]
     },
     "execution_count": 41,
     "metadata": {},
     "output_type": "execute_result"
    }
   ],
   "source": [
    "type(best_features)"
   ]
  },
  {
   "cell_type": "code",
   "execution_count": 42,
   "metadata": {
    "collapsed": false
   },
   "outputs": [
    {
     "data": {
      "text/plain": [
       "(66, 46, 48)"
      ]
     },
     "execution_count": 42,
     "metadata": {},
     "output_type": "execute_result"
    }
   ],
   "source": [
    "len(merged_train.columns), len(best_features), len(best_features_t)"
   ]
  },
  {
   "cell_type": "code",
   "execution_count": 43,
   "metadata": {
    "collapsed": false
   },
   "outputs": [],
   "source": [
    "# house response\n",
    "bad_features_t = [el for el in merged_t_train.columns if (el not in best_features_t)]\n",
    "merged_train_t_best = merged_t_train.drop(bad_features_t + ['ind'], 1)\n",
    "merged_test_t_best = merged_t_test.drop(bad_features_t + ['ind'], 1)"
   ]
  },
  {
   "cell_type": "code",
   "execution_count": 44,
   "metadata": {
    "collapsed": false
   },
   "outputs": [
    {
     "data": {
      "text/plain": [
       "(48, 66)"
      ]
     },
     "execution_count": 44,
     "metadata": {},
     "output_type": "execute_result"
    }
   ],
   "source": [
    "len(best_features_t), len(merged_t_train.columns)"
   ]
  },
  {
   "cell_type": "code",
   "execution_count": 45,
   "metadata": {
    "collapsed": false
   },
   "outputs": [],
   "source": [
    "# house/rental ratio response\n",
    "bad_features_ratio_delta = [el for el in ratio_delta_train.columns if (el not in best_features_ratio_delta)]\n",
    "bad_features_ratio_2015 = [el for el in ratio_2015_train.columns if (el not in best_features_ratio_2015)]\n",
    "\n",
    "ratio_delta_train_best = ratio_delta_train.drop(bad_features_ratio_delta + ['ind'], 1).dropna()\n",
    "ratio_delta_test_best = ratio_delta_test.drop(bad_features_ratio_delta + ['ind'], 1).dropna()\n",
    "\n",
    "ratio_2015_train_best = ratio_2015_train.drop(bad_features_ratio_2015 + ['ind'], 1).dropna()\n",
    "ratio_2015_test_best = ratio_2015_test.drop(bad_features_ratio_2015 + ['ind'], 1).dropna()"
   ]
  },
  {
   "cell_type": "code",
   "execution_count": 46,
   "metadata": {
    "collapsed": false
   },
   "outputs": [
    {
     "data": {
      "text/plain": [
       "((7686, 40), (1970, 40), (8208, 43), (2098, 43))"
      ]
     },
     "execution_count": 46,
     "metadata": {},
     "output_type": "execute_result"
    }
   ],
   "source": [
    "ratio_delta_train_best.shape, ratio_delta_test_best.shape, ratio_2015_train_best.shape, ratio_2015_test_best.shape"
   ]
  },
  {
   "cell_type": "code",
   "execution_count": 47,
   "metadata": {
    "collapsed": false
   },
   "outputs": [
    {
     "data": {
      "text/plain": [
       "((7686, 40), (1970, 40), (8208, 43), (2098, 43))"
      ]
     },
     "execution_count": 47,
     "metadata": {},
     "output_type": "execute_result"
    }
   ],
   "source": [
    "ratio_delta_train_best.shape, ratio_delta_test_best.shape, ratio_2015_train_best.shape, ratio_2015_test_best.shape"
   ]
  },
  {
   "cell_type": "code",
   "execution_count": 48,
   "metadata": {
    "collapsed": false
   },
   "outputs": [
    {
     "data": {
      "text/html": [
       "<div>\n",
       "<table border=\"1\" class=\"dataframe\">\n",
       "  <thead>\n",
       "    <tr style=\"text-align: right;\">\n",
       "      <th></th>\n",
       "      <th>zipcode</th>\n",
       "      <th>response</th>\n",
       "      <th>prison</th>\n",
       "      <th>jail</th>\n",
       "      <th>A001</th>\n",
       "      <th>A002</th>\n",
       "      <th>A003</th>\n",
       "      <th>A006</th>\n",
       "      <th>A008</th>\n",
       "      <th>A009</th>\n",
       "      <th>A010</th>\n",
       "      <th>A017</th>\n",
       "      <th>A019</th>\n",
       "      <th>A024</th>\n",
       "      <th>A025</th>\n",
       "      <th>A026</th>\n",
       "      <th>A028</th>\n",
       "      <th>A029</th>\n",
       "      <th>A030</th>\n",
       "      <th>A031</th>\n",
       "      <th>A033</th>\n",
       "      <th>A034</th>\n",
       "      <th>A035</th>\n",
       "      <th>A036</th>\n",
       "      <th>A037</th>\n",
       "      <th>A040</th>\n",
       "      <th>A041</th>\n",
       "      <th>A042</th>\n",
       "      <th>A043</th>\n",
       "      <th>A044</th>\n",
       "      <th>A045</th>\n",
       "      <th>A046</th>\n",
       "      <th>A047</th>\n",
       "      <th>A048</th>\n",
       "      <th>A049</th>\n",
       "      <th>A050</th>\n",
       "      <th>A051</th>\n",
       "      <th>A052</th>\n",
       "      <th>A053</th>\n",
       "      <th>A054</th>\n",
       "      <th>A055</th>\n",
       "      <th>A056</th>\n",
       "      <th>n_establishments</th>\n",
       "      <th>paid_employees</th>\n",
       "      <th>first_quarter_payroll_1000</th>\n",
       "      <th>annual_payroll_1000</th>\n",
       "      <th>median_income</th>\n",
       "    </tr>\n",
       "  </thead>\n",
       "  <tbody>\n",
       "    <tr>\n",
       "      <th>0</th>\n",
       "      <td>79936</td>\n",
       "      <td>0.173843</td>\n",
       "      <td>0</td>\n",
       "      <td>0</td>\n",
       "      <td>6.939842</td>\n",
       "      <td>1.043228</td>\n",
       "      <td>1.353093</td>\n",
       "      <td>0.251114</td>\n",
       "      <td>-1.274009</td>\n",
       "      <td>-1.290995</td>\n",
       "      <td>-0.924961</td>\n",
       "      <td>-0.918179</td>\n",
       "      <td>-1.239872</td>\n",
       "      <td>0.495572</td>\n",
       "      <td>1.047414</td>\n",
       "      <td>0.646026</td>\n",
       "      <td>-1.164903</td>\n",
       "      <td>-1.199738</td>\n",
       "      <td>-1.299125</td>\n",
       "      <td>0.008071</td>\n",
       "      <td>-0.119587</td>\n",
       "      <td>-0.020352</td>\n",
       "      <td>-0.003289</td>\n",
       "      <td>2.706301</td>\n",
       "      <td>1.256761</td>\n",
       "      <td>1.590272</td>\n",
       "      <td>1.826019</td>\n",
       "      <td>-1.362656</td>\n",
       "      <td>-1.087653</td>\n",
       "      <td>-1.200055</td>\n",
       "      <td>-1.212563</td>\n",
       "      <td>-1.354481</td>\n",
       "      <td>2.230742</td>\n",
       "      <td>-1.402987</td>\n",
       "      <td>0.860686</td>\n",
       "      <td>-1.673460</td>\n",
       "      <td>-0.729692</td>\n",
       "      <td>-0.376183</td>\n",
       "      <td>1.637257</td>\n",
       "      <td>1.481053</td>\n",
       "      <td>1.805892</td>\n",
       "      <td>1.064799</td>\n",
       "      <td>1.825619</td>\n",
       "      <td>1.803127</td>\n",
       "      <td>1.142390</td>\n",
       "      <td>1.422776</td>\n",
       "      <td>-0.054825</td>\n",
       "    </tr>\n",
       "    <tr>\n",
       "      <th>1</th>\n",
       "      <td>60629</td>\n",
       "      <td>0.085907</td>\n",
       "      <td>0</td>\n",
       "      <td>0</td>\n",
       "      <td>7.136276</td>\n",
       "      <td>1.711295</td>\n",
       "      <td>1.035645</td>\n",
       "      <td>-0.574443</td>\n",
       "      <td>-1.426029</td>\n",
       "      <td>-1.325635</td>\n",
       "      <td>-0.813446</td>\n",
       "      <td>-1.332265</td>\n",
       "      <td>-1.239872</td>\n",
       "      <td>0.864351</td>\n",
       "      <td>1.175703</td>\n",
       "      <td>-0.479306</td>\n",
       "      <td>-1.314796</td>\n",
       "      <td>-1.266604</td>\n",
       "      <td>-0.929836</td>\n",
       "      <td>-1.994890</td>\n",
       "      <td>-0.105362</td>\n",
       "      <td>-0.396648</td>\n",
       "      <td>-0.132979</td>\n",
       "      <td>2.470766</td>\n",
       "      <td>0.909223</td>\n",
       "      <td>2.040004</td>\n",
       "      <td>1.796906</td>\n",
       "      <td>-0.938398</td>\n",
       "      <td>-0.758919</td>\n",
       "      <td>-0.507041</td>\n",
       "      <td>-0.825213</td>\n",
       "      <td>-0.862411</td>\n",
       "      <td>2.359287</td>\n",
       "      <td>-0.871903</td>\n",
       "      <td>0.290055</td>\n",
       "      <td>-0.022089</td>\n",
       "      <td>1.099626</td>\n",
       "      <td>0.240861</td>\n",
       "      <td>2.909382</td>\n",
       "      <td>3.165172</td>\n",
       "      <td>1.779076</td>\n",
       "      <td>1.573763</td>\n",
       "      <td>1.350804</td>\n",
       "      <td>1.178124</td>\n",
       "      <td>0.356887</td>\n",
       "      <td>0.430216</td>\n",
       "      <td>-0.457911</td>\n",
       "    </tr>\n",
       "  </tbody>\n",
       "</table>\n",
       "</div>"
      ],
      "text/plain": [
       "   zipcode  response  prison  jail      A001      A002      A003      A006      A008      A009      A010      A017      A019      A024      A025      A026      A028      A029      A030      A031      A033      A034      A035      A036      A037      A040      A041      A042      A043      A044      A045      A046      A047      A048      A049      A050      A051      A052      A053      A054      A055      A056  n_establishments  paid_employees  first_quarter_payroll_1000  annual_payroll_1000  \\\n",
       "0    79936  0.173843       0     0  6.939842  1.043228  1.353093  0.251114 -1.274009 -1.290995 -0.924961 -0.918179 -1.239872  0.495572  1.047414  0.646026 -1.164903 -1.199738 -1.299125  0.008071 -0.119587 -0.020352 -0.003289  2.706301  1.256761  1.590272  1.826019 -1.362656 -1.087653 -1.200055 -1.212563 -1.354481  2.230742 -1.402987  0.860686 -1.673460 -0.729692 -0.376183  1.637257  1.481053  1.805892  1.064799          1.825619        1.803127                    1.142390             1.422776   \n",
       "1    60629  0.085907       0     0  7.136276  1.711295  1.035645 -0.574443 -1.426029 -1.325635 -0.813446 -1.332265 -1.239872  0.864351  1.175703 -0.479306 -1.314796 -1.266604 -0.929836 -1.994890 -0.105362 -0.396648 -0.132979  2.470766  0.909223  2.040004  1.796906 -0.938398 -0.758919 -0.507041 -0.825213 -0.862411  2.359287 -0.871903  0.290055 -0.022089  1.099626  0.240861  2.909382  3.165172  1.779076  1.573763          1.350804        1.178124                    0.356887             0.430216   \n",
       "\n",
       "   median_income  \n",
       "0      -0.054825  \n",
       "1      -0.457911  "
      ]
     },
     "execution_count": 48,
     "metadata": {},
     "output_type": "execute_result"
    }
   ],
   "source": [
    "merged_train_t_best.head(2)"
   ]
  },
  {
   "cell_type": "markdown",
   "metadata": {},
   "source": [
    "## Linear Regression with Lasso Regularization (normalized and transformed features)"
   ]
  },
  {
   "cell_type": "code",
   "execution_count": 76,
   "metadata": {
    "collapsed": false
   },
   "outputs": [
    {
     "name": "stdout",
     "output_type": "stream",
     "text": [
      "----- 0.153439044952 seconds to run ----- \n",
      "---- best alpha = 0.001 ----\n"
     ]
    }
   ],
   "source": [
    "from sklearn.linear_model import LassoCV\n",
    "# HOUSE RESPONSE\n",
    "start_time = time.time()\n",
    "\n",
    "X_train = merged_train_t_best.drop(['zipcode','response'], 1).values\n",
    "Y_train = merged_train_t_best['response'].values\n",
    "X_test = merged_test_t_best.drop(['zipcode','response'], 1).values\n",
    "Y_test = merged_test_t_best['response'].values\n",
    "\n",
    "alphas = [0.001, 0.01, 0.1, 1.0, 10.0, 100.0]\n",
    "alphas_temp = [0.001, 0.01]\n",
    "clf_lasso_model = LassoCV(alphas = alphas).fit(X_train, Y_train)\n",
    "best_alpha_lasso = clf_lasso_model.alpha_\n",
    "\n",
    "print '----- %s seconds to run ----- \\n---- best alpha = %s ----'%(time.time() - start_time, best_alpha_lasso)"
   ]
  },
  {
   "cell_type": "code",
   "execution_count": 77,
   "metadata": {
    "collapsed": false
   },
   "outputs": [
    {
     "name": "stdout",
     "output_type": "stream",
     "text": [
      "#### based on the best Linear Regression with Lasso Regularization ####\n",
      "R-squared on training data: 0.36\n",
      "R-squared on test data:     0.33\n",
      "----- 0.00247406959534 seconds to run -----\n"
     ]
    }
   ],
   "source": [
    "# calculate accuracy\n",
    "start_time = time.time()\n",
    "\n",
    "training_accuracy = clf_lasso_model.score(X_train, Y_train)\n",
    "test_accuracy = clf_lasso_model.score(X_test, Y_test)\n",
    "print '#### based on the best Linear Regression with Lasso Regularization ####'\n",
    "print \"R-squared on training data: %0.2f\" % (training_accuracy)\n",
    "print \"R-squared on test data:     %0.2f\" % (test_accuracy)\n",
    "print '----- %s seconds to run -----'%(time.time() - start_time)"
   ]
  },
  {
   "cell_type": "code",
   "execution_count": 78,
   "metadata": {
    "collapsed": false
   },
   "outputs": [
    {
     "name": "stdout",
     "output_type": "stream",
     "text": [
      "Response Variable: Housing Delta\n",
      "RMSE for Lasso: 0.190030052059\n"
     ]
    }
   ],
   "source": [
    "lasso_pred_house = clf_lasso_model.predict(X_test)\n",
    "lasso_rmse = get_rmse(lasso_pred_house, Y_test)\n",
    "\n",
    "print 'Response Variable: Housing Delta'\n",
    "print 'RMSE for Lasso: ' + str(lasso_rmse)"
   ]
  },
  {
   "cell_type": "code",
   "execution_count": 79,
   "metadata": {
    "collapsed": false
   },
   "outputs": [
    {
     "name": "stdout",
     "output_type": "stream",
     "text": [
      "----- 0.04603099823 seconds to run ----- \n",
      "---- best alpha = 0.001 ----\n"
     ]
    }
   ],
   "source": [
    "# HOUSE/RENTAL RATIO DELTA RESPONSE\n",
    "start_time = time.time()\n",
    "\n",
    "X_train = ratio_delta_train_best.drop(['response','zipcode'], 1).values\n",
    "Y_train = ratio_delta_train_best['response'].values\n",
    "X_test = ratio_delta_test_best.drop(['response','zipcode'], 1).values\n",
    "Y_test = ratio_delta_test_best['response'].values\n",
    "\n",
    "alphas = [0.001, 0.01, 0.1, 1.0, 10.0, 100.0]\n",
    "alphas_temp = [0.001, 0.01]\n",
    "lasso_model_ratio_delta = LassoCV(alphas = alphas).fit(X_train, Y_train)\n",
    "best_alpha_lasso = lasso_model_ratio_delta.alpha_\n",
    "\n",
    "print '----- %s seconds to run ----- \\n---- best alpha = %s ----'%(time.time() - start_time, best_alpha_lasso)"
   ]
  },
  {
   "cell_type": "code",
   "execution_count": 80,
   "metadata": {
    "collapsed": false
   },
   "outputs": [
    {
     "name": "stdout",
     "output_type": "stream",
     "text": [
      "#### based on the best Linear Regression with Lasso Regularization ####\n",
      "R-squared on training data: 0.26\n",
      "R-squared on test data:     0.26\n",
      "----- 0.00184488296509 seconds to run -----\n"
     ]
    }
   ],
   "source": [
    "# calculate accuracy\n",
    "start_time = time.time()\n",
    "\n",
    "training_accuracy = lasso_model_ratio_delta.score(X_train, Y_train)\n",
    "test_accuracy = lasso_model_ratio_delta.score(X_test, Y_test)\n",
    "print '#### based on the best Linear Regression with Lasso Regularization ####'\n",
    "print \"R-squared on training data: %0.2f\" % (training_accuracy)\n",
    "print \"R-squared on test data:     %0.2f\" % (test_accuracy)\n",
    "print '----- %s seconds to run -----'%(time.time() - start_time)"
   ]
  },
  {
   "cell_type": "code",
   "execution_count": 81,
   "metadata": {
    "collapsed": false
   },
   "outputs": [
    {
     "name": "stdout",
     "output_type": "stream",
     "text": [
      "Response Variable: House/Rental Ratio Delta\n",
      "RMSE for Lasso: 0.126965803065\n"
     ]
    }
   ],
   "source": [
    "lasso_pred_ratio_delta = lasso_model_ratio_delta.predict(X_test)\n",
    "lasso_rmse = get_rmse(lasso_pred_ratio_delta, Y_test)\n",
    "\n",
    "print 'Response Variable: House/Rental Ratio Delta'\n",
    "print 'RMSE for Lasso: ' + str(lasso_rmse)"
   ]
  },
  {
   "cell_type": "code",
   "execution_count": 82,
   "metadata": {
    "collapsed": false
   },
   "outputs": [
    {
     "name": "stdout",
     "output_type": "stream",
     "text": [
      "----- 0.391401052475 seconds to run ----- \n",
      "---- best alpha = 0.1 ----\n"
     ]
    }
   ],
   "source": [
    "# HOUSE/RENTAL RATIO 2015 RESPONSE\n",
    "start_time = time.time()\n",
    "\n",
    "X_train = ratio_2015_train_best.drop(['response','zipcode'], 1).values\n",
    "Y_train = ratio_2015_train_best['response'].values\n",
    "X_test = ratio_2015_test_best.drop(['response','zipcode'], 1).values\n",
    "Y_test = ratio_2015_test_best['response'].values\n",
    "\n",
    "alphas = [0.001, 0.01, 0.1, 1.0, 10.0, 100.0]\n",
    "alphas_temp = [0.001, 0.01]\n",
    "lasso_model_ratio_2015 = LassoCV(alphas = alphas).fit(X_train, Y_train)\n",
    "best_alpha_lasso = lasso_model_ratio_2015.alpha_\n",
    "\n",
    "print '----- %s seconds to run ----- \\n---- best alpha = %s ----'%(time.time() - start_time, best_alpha_lasso)"
   ]
  },
  {
   "cell_type": "code",
   "execution_count": 83,
   "metadata": {
    "collapsed": false
   },
   "outputs": [
    {
     "name": "stdout",
     "output_type": "stream",
     "text": [
      "#### based on the best Linear Regression with Lasso Regularization ####\n",
      "R-squared on training data: 0.63\n",
      "R-squared on test data:     0.63\n",
      "----- 0.00186610221863 seconds to run -----\n"
     ]
    }
   ],
   "source": [
    "# calculate accuracy\n",
    "start_time = time.time()\n",
    "\n",
    "training_accuracy = lasso_model_ratio_2015.score(X_train, Y_train)\n",
    "test_accuracy = lasso_model_ratio_2015.score(X_test, Y_test)\n",
    "print '#### based on the best Linear Regression with Lasso Regularization ####'\n",
    "print \"R-squared on training data: %0.2f\" % (training_accuracy)\n",
    "print \"R-squared on test data:     %0.2f\" % (test_accuracy)\n",
    "print '----- %s seconds to run -----'%(time.time() - start_time)"
   ]
  },
  {
   "cell_type": "code",
   "execution_count": 84,
   "metadata": {
    "collapsed": false
   },
   "outputs": [
    {
     "name": "stdout",
     "output_type": "stream",
     "text": [
      "Response Variable: House/Rental 2015 Ratio\n",
      "RMSE for Lasso: 27.09083961\n"
     ]
    }
   ],
   "source": [
    "lasso_pred_ratio_2015 = lasso_model_ratio_2015.predict(X_test)\n",
    "lasso_rmse = get_rmse(lasso_pred_ratio_2015, Y_test)\n",
    "\n",
    "print 'Response Variable: House/Rental 2015 Ratio'\n",
    "print 'RMSE for Lasso: ' + str(lasso_rmse)"
   ]
  },
  {
   "cell_type": "code",
   "execution_count": 123,
   "metadata": {
    "collapsed": false
   },
   "outputs": [
    {
     "data": {
      "text/plain": [
       "(2098, 4)"
      ]
     },
     "execution_count": 123,
     "metadata": {},
     "output_type": "execute_result"
    }
   ],
   "source": [
    "ratio_2015_preds_df.shape"
   ]
  },
  {
   "cell_type": "code",
   "execution_count": 128,
   "metadata": {
    "collapsed": false
   },
   "outputs": [
    {
     "name": "stderr",
     "output_type": "stream",
     "text": [
      "/Users/princess_eliza/anaconda/lib/python2.7/site-packages/ipykernel/__main__.py:5: FutureWarning: sort(columns=....) is deprecated, use sort_values(by=.....)\n"
     ]
    },
    {
     "data": {
      "image/png": "[encoded data removed]",
      "text/plain": [
       "<matplotlib.figure.Figure at 0x115417090>"
      ]
     },
     "metadata": {},
     "output_type": "display_data"
    }
   ],
   "source": [
    "# plot to show difference between baseline, lasso, and ridge regressions\n",
    "# HOUSE/RENTAL ratio 2015\n",
    "\n",
    "ratio_2015_preds_df = pd.DataFrame({'baseline':train_ratio_2015_mean,'lasso':lasso_pred_ratio_2015, 'ridge': ridge_pred_ratio_2015,'actual':ratio_2015_test.response})\n",
    "ratio_2015_preds_df = ratio_2015_preds_df.sort('actual')\n",
    "\n",
    "m=0\n",
    "n=2098\n",
    "\n",
    "plt.plot(ratio_2015_preds_df.lasso[m:n], color='g', linewidth=0.5, label='lasso')\n",
    "plt.plot(ratio_2015_preds_df.ridge[m:n], color='m', linewidth=0.5, label='ridge')\n",
    "plt.plot(ratio_2015_preds_df.actual[m:n], color='b', linewidth=0.5, label='actual')\n",
    "plt.plot(ratio_2015_preds_df.baseline[m:n], color='k', linewidth=0.5, label='baseline')\n",
    "plt.legend(loc='best')\n",
    "plt.show()"
   ]
  },
  {
   "cell_type": "code",
   "execution_count": 126,
   "metadata": {
    "collapsed": false
   },
   "outputs": [
    {
     "data": {
      "image/png": "[encoded data removed]",
      "text/plain": [
       "<matplotlib.figure.Figure at 0x119d0e790>"
      ]
     },
     "metadata": {},
     "output_type": "display_data"
    }
   ],
   "source": [
    "# plt.plot(ratio_2015_preds_df.actual[m:n], color='b', linewidth=0.5, label='actual')\n",
    "plt.plot(abs(ratio_2015_preds_df.baseline[m:n] - ratio_2015_preds_df.actual[m:n]), color='k', linewidth=0.5, label='baseline')\n",
    "plt.plot(abs(ratio_2015_preds_df.lasso[m:n] - ratio_2015_preds_df.actual[m:n]), color='g', linewidth=0.5, label='lasso')\n",
    "plt.plot(abs(ratio_2015_preds_df.ridge[m:n] - ratio_2015_preds_df.actual[m:n]), color='m', linewidth=0.5, label='ridge')\n",
    "plt.legend(loc='best')\n",
    "plt.show()"
   ]
  },
  {
   "cell_type": "code",
   "execution_count": null,
   "metadata": {
    "collapsed": true
   },
   "outputs": [],
   "source": [
    "plt.plot(ratio_2015_preds_df.actual[m:n], color='b', linewidth=0.5, label='actual')\n",
    "plt.plot(ratio_2015_preds_df.baseline[m:n], color='k', linewidth=0.5, label='baseline')\n",
    "plt.plot(ratio_2015_preds_df.lasso[m:n], color='g', linewidth=0.5, label='lasso')\n",
    "plt.plot(ratio_2015_preds_df.ridge[m:n], color='m', linewidth=0.5, label='ridge')\n",
    "plt.legend(loc='best')\n",
    "plt.show()"
   ]
  },
  {
   "cell_type": "code",
   "execution_count": 113,
   "metadata": {
    "collapsed": false
   },
   "outputs": [
    {
     "data": {
      "text/html": [
       "<div>\n",
       "<table border=\"1\" class=\"dataframe\">\n",
       "  <thead>\n",
       "    <tr style=\"text-align: right;\">\n",
       "      <th></th>\n",
       "      <th>actual</th>\n",
       "      <th>baseline</th>\n",
       "      <th>lasso</th>\n",
       "      <th>ridge</th>\n",
       "    </tr>\n",
       "  </thead>\n",
       "  <tbody>\n",
       "    <tr>\n",
       "      <th>1004</th>\n",
       "      <td>38.362361</td>\n",
       "      <td>133.223276</td>\n",
       "      <td>67.113344</td>\n",
       "      <td>63.128328</td>\n",
       "    </tr>\n",
       "    <tr>\n",
       "      <th>1193</th>\n",
       "      <td>47.400434</td>\n",
       "      <td>133.223276</td>\n",
       "      <td>63.270515</td>\n",
       "      <td>63.547341</td>\n",
       "    </tr>\n",
       "    <tr>\n",
       "      <th>285</th>\n",
       "      <td>47.734003</td>\n",
       "      <td>133.223276</td>\n",
       "      <td>78.182436</td>\n",
       "      <td>76.285234</td>\n",
       "    </tr>\n",
       "    <tr>\n",
       "      <th>877</th>\n",
       "      <td>47.954011</td>\n",
       "      <td>133.223276</td>\n",
       "      <td>90.008024</td>\n",
       "      <td>86.677352</td>\n",
       "    </tr>\n",
       "  </tbody>\n",
       "</table>\n",
       "</div>"
      ],
      "text/plain": [
       "         actual    baseline      lasso      ridge\n",
       "1004  38.362361  133.223276  67.113344  63.128328\n",
       "1193  47.400434  133.223276  63.270515  63.547341\n",
       "285   47.734003  133.223276  78.182436  76.285234\n",
       "877   47.954011  133.223276  90.008024  86.677352"
      ]
     },
     "execution_count": 113,
     "metadata": {},
     "output_type": "execute_result"
    }
   ],
   "source": [
    "ratio_2015_preds_df.head(4)"
   ]
  },
  {
   "cell_type": "markdown",
   "metadata": {},
   "source": [
    "## Linear Regression with Ridge Regularization (normalized and transformed features)"
   ]
  },
  {
   "cell_type": "code",
   "execution_count": 85,
   "metadata": {
    "collapsed": false
   },
   "outputs": [
    {
     "name": "stdout",
     "output_type": "stream",
     "text": [
      "----- 0.0536119937897 seconds to run ----- \n",
      "---- best alpha = 0.1 ----\n"
     ]
    }
   ],
   "source": [
    "from sklearn.linear_model import RidgeCV\n",
    "\n",
    "start_time = time.time()\n",
    "X_train = merged_train_t_best.drop(['zipcode','response'], 1).values\n",
    "Y_train = merged_train_t_best['response'].values\n",
    "X_test = merged_test_t_best.drop(['zipcode','response'], 1).values\n",
    "Y_test = merged_test_t_best['response'].values\n",
    "\n",
    "alphas = [0.001, 0.01, 0.1, 1.0, 10.0, 100.0]\n",
    "clf_ridge_model = RidgeCV(alphas = alphas).fit(X_train, Y_train)\n",
    "best_alpha_ridge = clf_ridge_model.alpha_\n",
    "\n",
    "print '----- %s seconds to run ----- \\n---- best alpha = %s ----'%(time.time() - start_time, best_alpha_ridge)"
   ]
  },
  {
   "cell_type": "code",
   "execution_count": 86,
   "metadata": {
    "collapsed": false
   },
   "outputs": [
    {
     "name": "stdout",
     "output_type": "stream",
     "text": [
      "#### based on the best Linear Regression with Ridge Regularization ####\n",
      "R-squared on training data: 0.37\n",
      "R-squared on test data:     0.33\n"
     ]
    }
   ],
   "source": [
    "training_accuracy = clf_ridge_model.score(X_train, Y_train)\n",
    "test_accuracy = clf_ridge_model.score(X_test, Y_test)\n",
    "print '#### based on the best Linear Regression with Ridge Regularization ####'\n",
    "print \"R-squared on training data: %0.2f\" % (training_accuracy)\n",
    "print \"R-squared on test data:     %0.2f\" % (test_accuracy)"
   ]
  },
  {
   "cell_type": "code",
   "execution_count": 87,
   "metadata": {
    "collapsed": false
   },
   "outputs": [
    {
     "name": "stdout",
     "output_type": "stream",
     "text": [
      "Response Variable: Housing Delta\n",
      "RMSE for Ridge: 27.09083961\n"
     ]
    }
   ],
   "source": [
    "ridge_pred_house = clf_ridge_model.predict(X_test)\n",
    "ridge_rmse = get_rmse(ridge_pred_house, Y_test)\n",
    "\n",
    "print 'Response Variable: Housing Delta'\n",
    "print 'RMSE for Ridge: ' + str(lasso_rmse)"
   ]
  },
  {
   "cell_type": "code",
   "execution_count": 88,
   "metadata": {
    "collapsed": false
   },
   "outputs": [
    {
     "name": "stdout",
     "output_type": "stream",
     "text": [
      "----- 0.0509660243988 seconds to run ----- \n",
      "---- best alpha = 10.0 ----\n"
     ]
    }
   ],
   "source": [
    "# HOUSE/RENTAL RATIO DELTA RESPONSE\n",
    "start_time = time.time()\n",
    "\n",
    "X_train = ratio_delta_train_best.drop(['response','zipcode'], 1).values\n",
    "Y_train = ratio_delta_train_best['response'].values\n",
    "X_test = ratio_delta_test_best.drop(['response','zipcode'], 1).values\n",
    "Y_test = ratio_delta_test_best['response'].values\n",
    "\n",
    "alphas = [0.001, 0.01, 0.1, 1.0, 10.0, 100.0]\n",
    "ridge_model_ratio_delta = RidgeCV(alphas = alphas).fit(X_train, Y_train)\n",
    "best_alpha_ridge = ridge_model_ratio_delta.alpha_\n",
    "\n",
    "print '----- %s seconds to run ----- \\n---- best alpha = %s ----'%(time.time() - start_time, best_alpha_ridge)"
   ]
  },
  {
   "cell_type": "code",
   "execution_count": 89,
   "metadata": {
    "collapsed": false
   },
   "outputs": [
    {
     "name": "stdout",
     "output_type": "stream",
     "text": [
      "#### based on the best Linear Regression with Ridge Regularization ####\n",
      "R-squared on training data: 0.28\n",
      "R-squared on test data:     0.26\n"
     ]
    }
   ],
   "source": [
    "training_accuracy = ridge_model_ratio_delta.score(X_train, Y_train)\n",
    "test_accuracy = ridge_model_ratio_delta.score(X_test, Y_test)\n",
    "print '#### based on the best Linear Regression with Ridge Regularization ####'\n",
    "print \"R-squared on training data: %0.2f\" % (training_accuracy)\n",
    "print \"R-squared on test data:     %0.2f\" % (test_accuracy)"
   ]
  },
  {
   "cell_type": "code",
   "execution_count": 90,
   "metadata": {
    "collapsed": false
   },
   "outputs": [
    {
     "name": "stdout",
     "output_type": "stream",
     "text": [
      "Response Variable: Housing/Rental Ratio Delta\n",
      "RMSE for Ridge: 0.126692986346\n"
     ]
    }
   ],
   "source": [
    "ridge_pred_ratio_delta = ridge_model_ratio_delta.predict(X_test)\n",
    "ridge_rmse = get_rmse(ridge_pred_ratio_delta, Y_test)\n",
    "\n",
    "print 'Response Variable: Housing/Rental Ratio Delta'\n",
    "print 'RMSE for Ridge: ' + str(ridge_rmse)"
   ]
  },
  {
   "cell_type": "code",
   "execution_count": 91,
   "metadata": {
    "collapsed": false
   },
   "outputs": [
    {
     "name": "stdout",
     "output_type": "stream",
     "text": [
      "----- 0.0388121604919 seconds to run ----- \n",
      "---- best alpha = 1.0 ----\n"
     ]
    }
   ],
   "source": [
    "# HOUSE/RENTAL RATIO 2015 RESPONSE\n",
    "start_time = time.time()\n",
    "\n",
    "X_train = ratio_2015_train_best.drop(['response','zipcode'], 1).values\n",
    "Y_train = ratio_2015_train_best['response'].values\n",
    "X_test = ratio_2015_test_best.drop(['response','zipcode'], 1).values\n",
    "Y_test = ratio_2015_test_best['response'].values\n",
    "\n",
    "alphas = [0.001, 0.01, 0.1, 1.0, 10.0, 100.0]\n",
    "ridge_model_ratio_2015 = RidgeCV(alphas = alphas).fit(X_train, Y_train)\n",
    "best_alpha_ridge = ridge_model_ratio_2015.alpha_\n",
    "\n",
    "print '----- %s seconds to run ----- \\n---- best alpha = %s ----'%(time.time() - start_time, best_alpha_ridge)"
   ]
  },
  {
   "cell_type": "code",
   "execution_count": 92,
   "metadata": {
    "collapsed": false
   },
   "outputs": [
    {
     "name": "stdout",
     "output_type": "stream",
     "text": [
      "#### based on the best Linear Regression with Ridge Regularization ####\n",
      "R-squared on training data: 0.64\n",
      "R-squared on test data:     0.63\n"
     ]
    }
   ],
   "source": [
    "training_accuracy = ridge_model_ratio_2015.score(X_train, Y_train)\n",
    "test_accuracy = ridge_model_ratio_2015.score(X_test, Y_test)\n",
    "print '#### based on the best Linear Regression with Ridge Regularization ####'\n",
    "print \"R-squared on training data: %0.2f\" % (training_accuracy)\n",
    "print \"R-squared on test data:     %0.2f\" % (test_accuracy)"
   ]
  },
  {
   "cell_type": "code",
   "execution_count": 93,
   "metadata": {
    "collapsed": false
   },
   "outputs": [
    {
     "name": "stdout",
     "output_type": "stream",
     "text": [
      "Response Variable: Housing/Rental Ratio 2015\n",
      "RMSE for Ridge: 27.0631983355\n"
     ]
    }
   ],
   "source": [
    "ridge_pred_ratio_2015 = ridge_model_ratio_2015.predict(X_test)\n",
    "ridge_rmse = get_rmse(ridge_pred_ratio_2015, Y_test)\n",
    "\n",
    "print 'Response Variable: Housing/Rental Ratio 2015'\n",
    "print 'RMSE for Ridge: ' + str(ridge_rmse)"
   ]
  },
  {
   "cell_type": "markdown",
   "metadata": {
    "collapsed": true
   },
   "source": [
    "#svm's"
   ]
  },
  {
   "cell_type": "code",
   "execution_count": null,
   "metadata": {
    "collapsed": true
   },
   "outputs": [],
   "source": [
    "from sklearn.svm import LinearSVC\n",
    "\n",
    "clfsvm=LinearSVC(loss=\"hinge\")\n",
    "Cs=[0.001, 0.01, 0.1, 1.0, 10.0, 100.0]\n",
    "Xmatrix=dftouse[lcols].values\n",
    "Yresp=dftouse['RESP'].values\n",
    "\n",
    "Xmatrix_train=Xmatrix[mask]\n",
    "Xmatrix_test=Xmatrix[~mask]\n",
    "Yresp_train=Yresp[mask]\n",
    "Yresp_test=Yresp[~mask]\n",
    "\n",
    "#your code here\n",
    "from sklearn.grid_search import GridSearchCV\n",
    "import time\n",
    "\n",
    "start_time = time.time()\n",
    "\n",
    "n_folds = 5\n",
    "n_jobs = 4\n",
    "gs = GridSearchCV(clfsvm, param_grid={\"C\": Cs}, cv=n_folds, n_jobs=n_jobs)\n",
    "gs.fit(Xmatrix_train, Yresp_train)\n",
    "\n",
    "C_best = gs.best_params_['C']\n",
    "print 'The best c-value is %s'%(C_best)\n",
    "\n",
    "print '----- %s seconds to run -----'%(time.time() - start_time)"
   ]
  },
  {
   "cell_type": "code",
   "execution_count": null,
   "metadata": {
    "collapsed": true
   },
   "outputs": [],
   "source": []
  },
  {
   "cell_type": "code",
   "execution_count": null,
   "metadata": {
    "collapsed": true
   },
   "outputs": [],
   "source": []
  },
  {
   "cell_type": "code",
   "execution_count": null,
   "metadata": {
    "collapsed": true
   },
   "outputs": [],
   "source": []
  },
  {
   "cell_type": "code",
   "execution_count": null,
   "metadata": {
    "collapsed": true
   },
   "outputs": [],
   "source": []
  },
  {
   "cell_type": "code",
   "execution_count": null,
   "metadata": {
    "collapsed": true
   },
   "outputs": [],
   "source": [
    "##### In case we want to do SVM regression/other types of models later"
   ]
  },
  {
   "cell_type": "code",
   "execution_count": null,
   "metadata": {
    "collapsed": true
   },
   "outputs": [],
   "source": [
    "#calculate the accuracy here\n",
    "#your code here\n",
    "start_time = time.time()\n",
    "\n",
    "best = LinearSVC(C=C_best, class_weight=None, dual=True, fit_intercept=True,\n",
    "      intercept_scaling=1, loss='hinge', max_iter=1000, multi_class='ovr',\n",
    "      penalty='l2', random_state=None, tol=0.0001, verbose=0)\n",
    "best.fit(Xmatrix_train, Yresp_train)\n",
    "\n",
    "training_accuracy = best.score(Xmatrix_train, Yresp_train)\n",
    "test_accuracy = best.score(Xmatrix_test, Yresp_test)\n",
    "print '#### based on the best LinearSVC ####'\n",
    "print \"Accuracy on training data: %0.2f\" % (training_accuracy)\n",
    "print \"Accuracy on test data:     %0.2f\" % (test_accuracy)\n",
    "print '----- %s seconds to run -----'%(time.time() - start_time)"
   ]
  }
 ],
 "metadata": {
  "kernelspec": {
   "display_name": "Python 2",
   "language": "python",
   "name": "python2"
  },
  "language_info": {
   "codemirror_mode": {
    "name": "ipython",
    "version": 2
   },
   "file_extension": ".py",
   "mimetype": "text/x-python",
   "name": "python",
   "nbconvert_exporter": "python",
   "pygments_lexer": "ipython2",
   "version": "2.7.10"
  }
 },
 "nbformat": 4,
 "nbformat_minor": 0
}
