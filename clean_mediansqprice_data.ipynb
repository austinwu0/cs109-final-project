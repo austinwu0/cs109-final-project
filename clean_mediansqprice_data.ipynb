{
 "cells": [
  {
   "cell_type": "code",
   "execution_count": 1,
   "metadata": {
    "collapsed": true
   },
   "outputs": [],
   "source": [
    "%matplotlib inline\n",
    "import numpy as np\n",
    "import scipy as sp\n",
    "import matplotlib as mpl\n",
    "import matplotlib.cm as cm\n",
    "import matplotlib.pyplot as plt\n",
    "import pandas as pd\n",
    "import time\n",
    "pd.set_option('display.width', 500)\n",
    "pd.set_option('display.max_columns', 100)\n",
    "pd.set_option('display.notebook_repr_html', True)\n",
    "import seaborn as sns\n",
    "sns.set_style(\"whitegrid\")\n",
    "sns.set_context(\"poster\")"
   ]
  },
  {
   "cell_type": "code",
   "execution_count": 29,
   "metadata": {
    "collapsed": true
   },
   "outputs": [],
   "source": [
    "sold = pd.read_csv('data/Zip_MedianValuePerSqft_AllHomes.csv')"
   ]
  },
  {
   "cell_type": "code",
   "execution_count": 30,
   "metadata": {
    "collapsed": false
   },
   "outputs": [],
   "source": [
    "col_11 = [col for col in sold.columns if '2011' in col]\n",
    "sold['agg_2011'] = sold[col_11].mean(axis=1)"
   ]
  },
  {
   "cell_type": "code",
   "execution_count": 31,
   "metadata": {
    "collapsed": false
   },
   "outputs": [],
   "source": [
    "col_14_15 = sold.columns[-12:]\n",
    "sold['agg_2015'] = sold[col_14_15].mean(axis=1)"
   ]
  },
  {
   "cell_type": "code",
   "execution_count": 36,
   "metadata": {
    "collapsed": false
   },
   "outputs": [],
   "source": [
    "sold['agg_2015_adj'] = [index/1.0573 for index in sold['agg_2015']]\n",
    "sold['pct_delta'] = sold['agg_2015_adj'] / sold['agg_2011']"
   ]
  },
  {
   "cell_type": "code",
   "execution_count": 39,
   "metadata": {
    "collapsed": false
   },
   "outputs": [
    {
     "data": {
      "text/html": [
       "<div>\n",
       "<table border=\"1\" class=\"dataframe\">\n",
       "  <thead>\n",
       "    <tr style=\"text-align: right;\">\n",
       "      <th></th>\n",
       "      <th>RegionName</th>\n",
       "      <th>agg_2011</th>\n",
       "      <th>agg_2015_adj</th>\n",
       "      <th>pct_delta</th>\n",
       "    </tr>\n",
       "  </thead>\n",
       "  <tbody>\n",
       "    <tr>\n",
       "      <th>0</th>\n",
       "      <td>11368</td>\n",
       "      <td>373.833333</td>\n",
       "      <td>431.274105</td>\n",
       "      <td>1.153653</td>\n",
       "    </tr>\n",
       "    <tr>\n",
       "      <th>1</th>\n",
       "      <td>79936</td>\n",
       "      <td>80.333333</td>\n",
       "      <td>75.060164</td>\n",
       "      <td>0.934359</td>\n",
       "    </tr>\n",
       "    <tr>\n",
       "      <th>2</th>\n",
       "      <td>60629</td>\n",
       "      <td>107.166667</td>\n",
       "      <td>113.430961</td>\n",
       "      <td>1.058454</td>\n",
       "    </tr>\n",
       "    <tr>\n",
       "      <th>3</th>\n",
       "      <td>90650</td>\n",
       "      <td>228.750000</td>\n",
       "      <td>292.549418</td>\n",
       "      <td>1.278905</td>\n",
       "    </tr>\n",
       "    <tr>\n",
       "      <th>4</th>\n",
       "      <td>11226</td>\n",
       "      <td>309.166667</td>\n",
       "      <td>416.876846</td>\n",
       "      <td>1.348389</td>\n",
       "    </tr>\n",
       "    <tr>\n",
       "      <th>5</th>\n",
       "      <td>11385</td>\n",
       "      <td>308.583333</td>\n",
       "      <td>341.718161</td>\n",
       "      <td>1.107377</td>\n",
       "    </tr>\n",
       "    <tr>\n",
       "      <th>6</th>\n",
       "      <td>11220</td>\n",
       "      <td>438.750000</td>\n",
       "      <td>512.764431</td>\n",
       "      <td>1.168694</td>\n",
       "    </tr>\n",
       "    <tr>\n",
       "      <th>7</th>\n",
       "      <td>90201</td>\n",
       "      <td>204.583333</td>\n",
       "      <td>270.467491</td>\n",
       "      <td>1.322041</td>\n",
       "    </tr>\n",
       "    <tr>\n",
       "      <th>8</th>\n",
       "      <td>90280</td>\n",
       "      <td>203.333333</td>\n",
       "      <td>265.324674</td>\n",
       "      <td>1.304875</td>\n",
       "    </tr>\n",
       "    <tr>\n",
       "      <th>9</th>\n",
       "      <td>10025</td>\n",
       "      <td>871.916667</td>\n",
       "      <td>1161.994125</td>\n",
       "      <td>1.332689</td>\n",
       "    </tr>\n",
       "  </tbody>\n",
       "</table>\n",
       "</div>"
      ],
      "text/plain": [
       "   RegionName    agg_2011  agg_2015_adj  pct_delta\n",
       "0       11368  373.833333    431.274105   1.153653\n",
       "1       79936   80.333333     75.060164   0.934359\n",
       "2       60629  107.166667    113.430961   1.058454\n",
       "3       90650  228.750000    292.549418   1.278905\n",
       "4       11226  309.166667    416.876846   1.348389\n",
       "5       11385  308.583333    341.718161   1.107377\n",
       "6       11220  438.750000    512.764431   1.168694\n",
       "7       90201  204.583333    270.467491   1.322041\n",
       "8       90280  203.333333    265.324674   1.304875\n",
       "9       10025  871.916667   1161.994125   1.332689"
      ]
     },
     "execution_count": 39,
     "metadata": {},
     "output_type": "execute_result"
    }
   ],
   "source": [
    "sold = sold[['RegionName','agg_2011','agg_2015_adj','pct_delta']]\n",
    "sold.to_pickle('data/response_houses.pkl')\n",
    "sold.head(10)"
   ]
  },
  {
   "cell_type": "code",
   "execution_count": null,
   "metadata": {
    "collapsed": true
   },
   "outputs": [],
   "source": []
  }
 ],
 "metadata": {
  "kernelspec": {
   "display_name": "Python 2",
   "language": "python",
   "name": "python2"
  },
  "language_info": {
   "codemirror_mode": {
    "name": "ipython",
    "version": 2
   },
   "file_extension": ".py",
   "mimetype": "text/x-python",
   "name": "python",
   "nbconvert_exporter": "python",
   "pygments_lexer": "ipython2",
   "version": "2.7.10"
  }
 },
 "nbformat": 4,
 "nbformat_minor": 0
}
