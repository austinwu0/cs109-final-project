{
 "cells": [
  {
   "cell_type": "code",
   "execution_count": 7,
   "metadata": {
    "collapsed": true
   },
   "outputs": [],
   "source": [
    "%matplotlib inline\n",
    "import numpy as np\n",
    "import scipy as sp\n",
    "import matplotlib as mpl\n",
    "import matplotlib.cm as cm\n",
    "import matplotlib.pyplot as plt\n",
    "import pandas as pd\n",
    "import time\n",
    "import json\n",
    "pd.set_option('display.width', 500)\n",
    "pd.set_option('display.max_columns', 100)\n",
    "pd.set_option('display.notebook_repr_html', True)\n",
    "import seaborn as sns\n",
    "sns.set_style(\"whitegrid\")\n",
    "sns.set_context(\"poster\")\n",
    "\n",
    "from pyquery import PyQuery as pq\n",
    "from bs4 import BeautifulSoup\n",
    "import requests\n",
    "import random\n",
    "import time"
   ]
  },
  {
   "cell_type": "code",
   "execution_count": 8,
   "metadata": {
    "collapsed": false
   },
   "outputs": [
    {
     "name": "stdout",
     "output_type": "stream",
     "text": [
      "(341, 18)\n"
     ]
    },
    {
     "data": {
      "text/html": [
       "<div>\n",
       "<table border=\"1\" class=\"dataframe\">\n",
       "  <thead>\n",
       "    <tr style=\"text-align: right;\">\n",
       "      <th></th>\n",
       "      <th>arts</th>\n",
       "      <th>shopping</th>\n",
       "      <th>beautysvc</th>\n",
       "      <th>financialservices</th>\n",
       "      <th>restaurants</th>\n",
       "      <th>zipcode</th>\n",
       "      <th>religiousorgs</th>\n",
       "      <th>food</th>\n",
       "      <th>health</th>\n",
       "      <th>massmedia</th>\n",
       "      <th>pets</th>\n",
       "      <th>professional</th>\n",
       "      <th>active</th>\n",
       "      <th>hotelstravel</th>\n",
       "      <th>education</th>\n",
       "      <th>publicservicesgovt</th>\n",
       "      <th>realestate</th>\n",
       "      <th>nightlife</th>\n",
       "    </tr>\n",
       "  </thead>\n",
       "  <tbody>\n",
       "    <tr>\n",
       "      <th>0</th>\n",
       "      <td>0.015132</td>\n",
       "      <td>0.142411</td>\n",
       "      <td>0.107582</td>\n",
       "      <td>0.020616</td>\n",
       "      <td>0.257038</td>\n",
       "      <td>11368</td>\n",
       "      <td>0.008332</td>\n",
       "      <td>0.141767</td>\n",
       "      <td>0.087977</td>\n",
       "      <td>0.001501</td>\n",
       "      <td>0.022239</td>\n",
       "      <td>0.030847</td>\n",
       "      <td>0.030847</td>\n",
       "      <td>0.039822</td>\n",
       "      <td>0.022270</td>\n",
       "      <td>0.010047</td>\n",
       "      <td>0.026926</td>\n",
       "      <td>0.034645</td>\n",
       "    </tr>\n",
       "    <tr>\n",
       "      <th>0</th>\n",
       "      <td>0.010592</td>\n",
       "      <td>0.156386</td>\n",
       "      <td>0.095950</td>\n",
       "      <td>0.014953</td>\n",
       "      <td>0.327103</td>\n",
       "      <td>79936</td>\n",
       "      <td>0.008100</td>\n",
       "      <td>0.116511</td>\n",
       "      <td>0.082243</td>\n",
       "      <td>0.000000</td>\n",
       "      <td>0.019938</td>\n",
       "      <td>0.017445</td>\n",
       "      <td>0.036137</td>\n",
       "      <td>0.021184</td>\n",
       "      <td>0.012461</td>\n",
       "      <td>0.007477</td>\n",
       "      <td>0.023676</td>\n",
       "      <td>0.049844</td>\n",
       "    </tr>\n",
       "    <tr>\n",
       "      <th>0</th>\n",
       "      <td>0.018508</td>\n",
       "      <td>0.166826</td>\n",
       "      <td>0.098629</td>\n",
       "      <td>0.035725</td>\n",
       "      <td>0.131185</td>\n",
       "      <td>90650</td>\n",
       "      <td>0.010213</td>\n",
       "      <td>0.083205</td>\n",
       "      <td>0.126516</td>\n",
       "      <td>0.000959</td>\n",
       "      <td>0.026846</td>\n",
       "      <td>0.066781</td>\n",
       "      <td>0.041394</td>\n",
       "      <td>0.045604</td>\n",
       "      <td>0.039518</td>\n",
       "      <td>0.007754</td>\n",
       "      <td>0.086957</td>\n",
       "      <td>0.013381</td>\n",
       "    </tr>\n",
       "    <tr>\n",
       "      <th>0</th>\n",
       "      <td>0.035742</td>\n",
       "      <td>0.171011</td>\n",
       "      <td>0.095117</td>\n",
       "      <td>0.017556</td>\n",
       "      <td>0.213251</td>\n",
       "      <td>11226</td>\n",
       "      <td>0.006177</td>\n",
       "      <td>0.120098</td>\n",
       "      <td>0.112266</td>\n",
       "      <td>0.003892</td>\n",
       "      <td>0.015950</td>\n",
       "      <td>0.035878</td>\n",
       "      <td>0.038287</td>\n",
       "      <td>0.032579</td>\n",
       "      <td>0.021509</td>\n",
       "      <td>0.007993</td>\n",
       "      <td>0.027761</td>\n",
       "      <td>0.044933</td>\n",
       "    </tr>\n",
       "    <tr>\n",
       "      <th>0</th>\n",
       "      <td>0.037747</td>\n",
       "      <td>0.171274</td>\n",
       "      <td>0.093309</td>\n",
       "      <td>0.017269</td>\n",
       "      <td>0.210591</td>\n",
       "      <td>11220</td>\n",
       "      <td>0.005652</td>\n",
       "      <td>0.117650</td>\n",
       "      <td>0.112012</td>\n",
       "      <td>0.004055</td>\n",
       "      <td>0.016054</td>\n",
       "      <td>0.038006</td>\n",
       "      <td>0.038662</td>\n",
       "      <td>0.033911</td>\n",
       "      <td>0.021802</td>\n",
       "      <td>0.008095</td>\n",
       "      <td>0.028204</td>\n",
       "      <td>0.045706</td>\n",
       "    </tr>\n",
       "  </tbody>\n",
       "</table>\n",
       "</div>"
      ],
      "text/plain": [
       "       arts  shopping  beautysvc  financialservices  restaurants zipcode  religiousorgs      food    health  massmedia      pets  professional    active  hotelstravel  education  publicservicesgovt  realestate  nightlife\n",
       "0  0.015132  0.142411   0.107582           0.020616     0.257038   11368       0.008332  0.141767  0.087977   0.001501  0.022239      0.030847  0.030847      0.039822   0.022270            0.010047    0.026926   0.034645\n",
       "0  0.010592  0.156386   0.095950           0.014953     0.327103   79936       0.008100  0.116511  0.082243   0.000000  0.019938      0.017445  0.036137      0.021184   0.012461            0.007477    0.023676   0.049844\n",
       "0  0.018508  0.166826   0.098629           0.035725     0.131185   90650       0.010213  0.083205  0.126516   0.000959  0.026846      0.066781  0.041394      0.045604   0.039518            0.007754    0.086957   0.013381\n",
       "0  0.035742  0.171011   0.095117           0.017556     0.213251   11226       0.006177  0.120098  0.112266   0.003892  0.015950      0.035878  0.038287      0.032579   0.021509            0.007993    0.027761   0.044933\n",
       "0  0.037747  0.171274   0.093309           0.017269     0.210591   11220       0.005652  0.117650  0.112012   0.004055  0.016054      0.038006  0.038662      0.033911   0.021802            0.008095    0.028204   0.045706"
      ]
     },
     "execution_count": 8,
     "metadata": {},
     "output_type": "execute_result"
    }
   ],
   "source": [
    "df = pd.read_pickle('data/yelpexport_new.pkl')\n",
    "df = df.fillna(0)\n",
    "print df.shape\n",
    "df.head()"
   ]
  },
  {
   "cell_type": "code",
   "execution_count": 7,
   "metadata": {
    "collapsed": true
   },
   "outputs": [],
   "source": [
    "# with help from http://planspace.org/20150423-forward_selection_with_statsmodels/\n",
    "import statsmodels.formula.api as smf\n",
    "\n",
    "def forward_selected(data, response):\n",
    "    \"\"\"Linear model designed by forward selection.\n",
    "\n",
    "    Parameters:\n",
    "    -----------\n",
    "    data : pandas DataFrame with all possible predictors and response\n",
    "\n",
    "    response: string, name of response column in data\n",
    "\n",
    "    Returns:\n",
    "    --------\n",
    "    model: an \"optimal\" fitted statsmodels linear model\n",
    "           with an intercept\n",
    "           selected by forward selection\n",
    "           evaluated by adjusted R-squared\n",
    "    \"\"\"\n",
    "    \n",
    "    remaining = set(data.columns)\n",
    "    remaining.remove(response)\n",
    "    selected = []\n",
    "    current_score, best_new_score = 0.0, 0.0\n",
    "    while remaining and current_score == best_new_score:\n",
    "        scores_with_candidates = []\n",
    "        for candidate in remaining:\n",
    "            formula = \"{} ~ {} + 1\".format(response, ' + '.join(selected + [candidate]))\n",
    "            score = smf.ols(formula, data).fit().rsquared_adj\n",
    "            scores_with_candidates.append((score, candidate))\n",
    "        scores_with_candidates.sort()\n",
    "        best_new_score, best_candidate = scores_with_candidates.pop()\n",
    "        if current_score < (best_new_score * 1):\n",
    "            remaining.remove(best_candidate)\n",
    "            selected.append(best_candidate)\n",
    "            current_score = best_new_score\n",
    "    formula = \"{} ~ {} + 1\".format(response, ' + '.join(selected))\n",
    "    \n",
    "    model = smf.ols(formula, data).fit()\n",
    "    return model"
   ]
  },
  {
   "cell_type": "code",
   "execution_count": 11,
   "metadata": {
    "collapsed": false
   },
   "outputs": [
    {
     "data": {
      "text/html": [
       "<div>\n",
       "<table border=\"1\" class=\"dataframe\">\n",
       "  <thead>\n",
       "    <tr style=\"text-align: right;\">\n",
       "      <th></th>\n",
       "      <th>zipcode</th>\n",
       "      <th>r_agg_2011</th>\n",
       "      <th>r_agg_2015_adj</th>\n",
       "      <th>r_pct_delta</th>\n",
       "      <th>h_agg_2011</th>\n",
       "      <th>h_agg_2015_adj</th>\n",
       "      <th>h_pct_delta</th>\n",
       "      <th>ratio_2011</th>\n",
       "      <th>ratio_2015</th>\n",
       "      <th>ratio_pct_delta</th>\n",
       "    </tr>\n",
       "  </thead>\n",
       "  <tbody>\n",
       "    <tr>\n",
       "      <th>0</th>\n",
       "      <td>11368</td>\n",
       "      <td>1.868000</td>\n",
       "      <td>2.188278</td>\n",
       "      <td>1.171455</td>\n",
       "      <td>373.833333</td>\n",
       "      <td>431.274105</td>\n",
       "      <td>1.153653</td>\n",
       "      <td>16.677076</td>\n",
       "      <td>16.423646</td>\n",
       "      <td>0.984804</td>\n",
       "    </tr>\n",
       "    <tr>\n",
       "      <th>1</th>\n",
       "      <td>79936</td>\n",
       "      <td>0.744167</td>\n",
       "      <td>0.694379</td>\n",
       "      <td>0.933096</td>\n",
       "      <td>80.333333</td>\n",
       "      <td>75.060164</td>\n",
       "      <td>0.934359</td>\n",
       "      <td>8.995894</td>\n",
       "      <td>9.008072</td>\n",
       "      <td>1.001354</td>\n",
       "    </tr>\n",
       "    <tr>\n",
       "      <th>2</th>\n",
       "      <td>60629</td>\n",
       "      <td>1.197000</td>\n",
       "      <td>1.180207</td>\n",
       "      <td>0.985971</td>\n",
       "      <td>107.166667</td>\n",
       "      <td>113.430961</td>\n",
       "      <td>1.058454</td>\n",
       "      <td>7.460782</td>\n",
       "      <td>8.009253</td>\n",
       "      <td>1.073514</td>\n",
       "    </tr>\n",
       "    <tr>\n",
       "      <th>3</th>\n",
       "      <td>90650</td>\n",
       "      <td>1.524333</td>\n",
       "      <td>1.640026</td>\n",
       "      <td>1.075898</td>\n",
       "      <td>228.750000</td>\n",
       "      <td>292.549418</td>\n",
       "      <td>1.278905</td>\n",
       "      <td>12.505467</td>\n",
       "      <td>14.865076</td>\n",
       "      <td>1.188686</td>\n",
       "    </tr>\n",
       "    <tr>\n",
       "      <th>4</th>\n",
       "      <td>11226</td>\n",
       "      <td>1.014000</td>\n",
       "      <td>1.277783</td>\n",
       "      <td>1.260141</td>\n",
       "      <td>309.166667</td>\n",
       "      <td>416.876846</td>\n",
       "      <td>1.348389</td>\n",
       "      <td>25.408174</td>\n",
       "      <td>27.187509</td>\n",
       "      <td>1.070030</td>\n",
       "    </tr>\n",
       "  </tbody>\n",
       "</table>\n",
       "</div>"
      ],
      "text/plain": [
       "  zipcode  r_agg_2011  r_agg_2015_adj  r_pct_delta  h_agg_2011  h_agg_2015_adj  h_pct_delta  ratio_2011  ratio_2015  ratio_pct_delta\n",
       "0   11368    1.868000        2.188278     1.171455  373.833333      431.274105     1.153653   16.677076   16.423646         0.984804\n",
       "1   79936    0.744167        0.694379     0.933096   80.333333       75.060164     0.934359    8.995894    9.008072         1.001354\n",
       "2   60629    1.197000        1.180207     0.985971  107.166667      113.430961     1.058454    7.460782    8.009253         1.073514\n",
       "3   90650    1.524333        1.640026     1.075898  228.750000      292.549418     1.278905   12.505467   14.865076         1.188686\n",
       "4   11226    1.014000        1.277783     1.260141  309.166667      416.876846     1.348389   25.408174   27.187509         1.070030"
      ]
     },
     "execution_count": 11,
     "metadata": {},
     "output_type": "execute_result"
    }
   ],
   "source": [
    "response=pd.read_pickle('data/housing_rental_ratio.pkl')\n",
    "response=response.rename(columns={'RegionName':'zipcode'})\n",
    "response['zipcode']=response['zipcode'].astype(str)\n",
    "response['zipcode'] = [(5-len(zipcode))*'0' + zipcode if len(zipcode) < 5 else zipcode for zipcode in response['zipcode']]\n",
    "response.head()"
   ]
  },
  {
   "cell_type": "code",
   "execution_count": 12,
   "metadata": {
    "collapsed": false
   },
   "outputs": [],
   "source": [
    "zipCodeStrings = df.zipcode\n",
    "all_features = df.astype('float')"
   ]
  },
  {
   "cell_type": "code",
   "execution_count": 13,
   "metadata": {
    "collapsed": false
   },
   "outputs": [
    {
     "name": "stdout",
     "output_type": "stream",
     "text": [
      "samples in training set = 272 \n",
      "samples in test set = 69\n"
     ]
    }
   ],
   "source": [
    "from sklearn.cross_validation import train_test_split\n",
    "# split into training and test sets\n",
    "itrain, itest = train_test_split(xrange(df.shape[0]), train_size=0.8)\n",
    "\n",
    "mask=np.ones(df.shape[0], dtype='int')\n",
    "mask[itrain]=1\n",
    "mask[itest]=0\n",
    "mask = (mask==1)\n",
    "\n",
    "print 'samples in training set = %s \\nsamples in test set = %s'%(mask.sum(), mask.shape[0] - mask.sum())"
   ]
  },
  {
   "cell_type": "code",
   "execution_count": 15,
   "metadata": {
    "collapsed": false
   },
   "outputs": [
    {
     "data": {
      "text/plain": [
       "((272, 18), (69, 18))"
      ]
     },
     "execution_count": 15,
     "metadata": {},
     "output_type": "execute_result"
    }
   ],
   "source": [
    "train_df = df[mask]\n",
    "test_df = df[~mask]\n",
    "train_df.shape, test_df.shape"
   ]
  },
  {
   "cell_type": "code",
   "execution_count": 18,
   "metadata": {
    "collapsed": false
   },
   "outputs": [],
   "source": [
    "train_ratio_2015 = pd.merge(train_df, response[['zipcode','ratio_2011','ratio_2015']], on='zipcode')\n",
    "test_ratio_2015 = pd.merge(test_df, response[['zipcode','ratio_2011','ratio_2015']], on='zipcode')"
   ]
  },
  {
   "cell_type": "code",
   "execution_count": 21,
   "metadata": {
    "collapsed": false
   },
   "outputs": [
    {
     "data": {
      "text/html": [
       "<table class=\"simpletable\">\n",
       "<caption>OLS Regression Results</caption>\n",
       "<tr>\n",
       "  <th>Dep. Variable:</th>       <td>ratio_2015</td>    <th>  R-squared:         </th> <td>   0.839</td> \n",
       "</tr>\n",
       "<tr>\n",
       "  <th>Model:</th>                   <td>OLS</td>       <th>  Adj. R-squared:    </th> <td>   0.838</td> \n",
       "</tr>\n",
       "<tr>\n",
       "  <th>Method:</th>             <td>Least Squares</td>  <th>  F-statistic:       </th> <td>   1404.</td> \n",
       "</tr>\n",
       "<tr>\n",
       "  <th>Date:</th>             <td>Thu, 10 Dec 2015</td> <th>  Prob (F-statistic):</th> <td>5.67e-109</td>\n",
       "</tr>\n",
       "<tr>\n",
       "  <th>Time:</th>                 <td>20:16:00</td>     <th>  Log-Likelihood:    </th> <td> -551.19</td> \n",
       "</tr>\n",
       "<tr>\n",
       "  <th>No. Observations:</th>      <td>   272</td>      <th>  AIC:               </th> <td>   1106.</td> \n",
       "</tr>\n",
       "<tr>\n",
       "  <th>Df Residuals:</th>          <td>   270</td>      <th>  BIC:               </th> <td>   1114.</td> \n",
       "</tr>\n",
       "<tr>\n",
       "  <th>Df Model:</th>              <td>     1</td>      <th>                     </th>     <td> </td>    \n",
       "</tr>\n",
       "<tr>\n",
       "  <th>Covariance Type:</th>      <td>nonrobust</td>    <th>                     </th>     <td> </td>    \n",
       "</tr>\n",
       "</table>\n",
       "<table class=\"simpletable\">\n",
       "<tr>\n",
       "       <td></td>         <th>coef</th>     <th>std err</th>      <th>t</th>      <th>P>|t|</th> <th>[95.0% Conf. Int.]</th> \n",
       "</tr>\n",
       "<tr>\n",
       "  <th>Intercept</th>  <td>    2.2663</td> <td>    0.308</td> <td>    7.347</td> <td> 0.000</td> <td>    1.659     2.874</td>\n",
       "</tr>\n",
       "<tr>\n",
       "  <th>ratio_2011</th> <td>    0.9238</td> <td>    0.025</td> <td>   37.469</td> <td> 0.000</td> <td>    0.875     0.972</td>\n",
       "</tr>\n",
       "</table>\n",
       "<table class=\"simpletable\">\n",
       "<tr>\n",
       "  <th>Omnibus:</th>       <td>36.036</td> <th>  Durbin-Watson:     </th> <td>   2.119</td>\n",
       "</tr>\n",
       "<tr>\n",
       "  <th>Prob(Omnibus):</th> <td> 0.000</td> <th>  Jarque-Bera (JB):  </th> <td>   9.915</td>\n",
       "</tr>\n",
       "<tr>\n",
       "  <th>Skew:</th>          <td>-0.041</td> <th>  Prob(JB):          </th> <td> 0.00703</td>\n",
       "</tr>\n",
       "<tr>\n",
       "  <th>Kurtosis:</th>      <td> 2.068</td> <th>  Cond. No.          </th> <td>    34.7</td>\n",
       "</tr>\n",
       "</table>"
      ],
      "text/plain": [
       "<class 'statsmodels.iolib.summary.Summary'>\n",
       "\"\"\"\n",
       "                            OLS Regression Results                            \n",
       "==============================================================================\n",
       "Dep. Variable:             ratio_2015   R-squared:                       0.839\n",
       "Model:                            OLS   Adj. R-squared:                  0.838\n",
       "Method:                 Least Squares   F-statistic:                     1404.\n",
       "Date:                Thu, 10 Dec 2015   Prob (F-statistic):          5.67e-109\n",
       "Time:                        20:16:00   Log-Likelihood:                -551.19\n",
       "No. Observations:                 272   AIC:                             1106.\n",
       "Df Residuals:                     270   BIC:                             1114.\n",
       "Df Model:                           1                                         \n",
       "Covariance Type:            nonrobust                                         \n",
       "==============================================================================\n",
       "                 coef    std err          t      P>|t|      [95.0% Conf. Int.]\n",
       "------------------------------------------------------------------------------\n",
       "Intercept      2.2663      0.308      7.347      0.000         1.659     2.874\n",
       "ratio_2011     0.9238      0.025     37.469      0.000         0.875     0.972\n",
       "==============================================================================\n",
       "Omnibus:                       36.036   Durbin-Watson:                   2.119\n",
       "Prob(Omnibus):                  0.000   Jarque-Bera (JB):                9.915\n",
       "Skew:                          -0.041   Prob(JB):                      0.00703\n",
       "Kurtosis:                       2.068   Cond. No.                         34.7\n",
       "==============================================================================\n",
       "\n",
       "Warnings:\n",
       "[1] Standard Errors assume that the covariance matrix of the errors is correctly specified.\n",
       "\"\"\""
      ]
     },
     "execution_count": 21,
     "metadata": {},
     "output_type": "execute_result"
    }
   ],
   "source": [
    "train_ratio_2015_baseline = forward_selected(train_ratio_2015[['ratio_2011', 'ratio_2015']], 'ratio_2015')\n",
    "train_ratio_2015_baseline.summary()"
   ]
  },
  {
   "cell_type": "code",
   "execution_count": 20,
   "metadata": {
    "collapsed": false
   },
   "outputs": [
    {
     "data": {
      "text/html": [
       "<table class=\"simpletable\">\n",
       "<caption>OLS Regression Results</caption>\n",
       "<tr>\n",
       "  <th>Dep. Variable:</th>       <td>ratio_2015</td>    <th>  R-squared:         </th> <td>   0.933</td> \n",
       "</tr>\n",
       "<tr>\n",
       "  <th>Model:</th>                   <td>OLS</td>       <th>  Adj. R-squared:    </th> <td>   0.929</td> \n",
       "</tr>\n",
       "<tr>\n",
       "  <th>Method:</th>             <td>Least Squares</td>  <th>  F-statistic:       </th> <td>   298.5</td> \n",
       "</tr>\n",
       "<tr>\n",
       "  <th>Date:</th>             <td>Thu, 10 Dec 2015</td> <th>  Prob (F-statistic):</th> <td>5.31e-144</td>\n",
       "</tr>\n",
       "<tr>\n",
       "  <th>Time:</th>                 <td>20:15:55</td>     <th>  Log-Likelihood:    </th> <td> -432.60</td> \n",
       "</tr>\n",
       "<tr>\n",
       "  <th>No. Observations:</th>      <td>   272</td>      <th>  AIC:               </th> <td>   891.2</td> \n",
       "</tr>\n",
       "<tr>\n",
       "  <th>Df Residuals:</th>          <td>   259</td>      <th>  BIC:               </th> <td>   938.1</td> \n",
       "</tr>\n",
       "<tr>\n",
       "  <th>Df Model:</th>              <td>    12</td>      <th>                     </th>     <td> </td>    \n",
       "</tr>\n",
       "<tr>\n",
       "  <th>Covariance Type:</th>      <td>nonrobust</td>    <th>                     </th>     <td> </td>    \n",
       "</tr>\n",
       "</table>\n",
       "<table class=\"simpletable\">\n",
       "<tr>\n",
       "          <td></td>             <th>coef</th>     <th>std err</th>      <th>t</th>      <th>P>|t|</th> <th>[95.0% Conf. Int.]</th> \n",
       "</tr>\n",
       "<tr>\n",
       "  <th>Intercept</th>         <td>   -0.3850</td> <td>    0.912</td> <td>   -0.422</td> <td> 0.673</td> <td>   -2.182     1.412</td>\n",
       "</tr>\n",
       "<tr>\n",
       "  <th>ratio_2011</th>        <td>    0.9112</td> <td>    0.017</td> <td>   52.283</td> <td> 0.000</td> <td>    0.877     0.946</td>\n",
       "</tr>\n",
       "<tr>\n",
       "  <th>realestate</th>        <td>   23.5505</td> <td>    2.989</td> <td>    7.880</td> <td> 0.000</td> <td>   17.666    29.435</td>\n",
       "</tr>\n",
       "<tr>\n",
       "  <th>financialservices</th> <td>   48.7506</td> <td>   13.198</td> <td>    3.694</td> <td> 0.000</td> <td>   22.762    74.739</td>\n",
       "</tr>\n",
       "<tr>\n",
       "  <th>pets</th>              <td>  -47.3446</td> <td>   10.435</td> <td>   -4.537</td> <td> 0.000</td> <td>  -67.893   -26.796</td>\n",
       "</tr>\n",
       "<tr>\n",
       "  <th>nightlife</th>         <td>  -49.5769</td> <td>    8.483</td> <td>   -5.844</td> <td> 0.000</td> <td>  -66.281   -32.873</td>\n",
       "</tr>\n",
       "<tr>\n",
       "  <th>arts</th>              <td>   24.7866</td> <td>   10.414</td> <td>    2.380</td> <td> 0.018</td> <td>    4.279    45.294</td>\n",
       "</tr>\n",
       "<tr>\n",
       "  <th>beautysvc</th>         <td>   13.7284</td> <td>    5.959</td> <td>    2.304</td> <td> 0.022</td> <td>    1.994    25.463</td>\n",
       "</tr>\n",
       "<tr>\n",
       "  <th>shopping</th>          <td>    9.8772</td> <td>    3.639</td> <td>    2.714</td> <td> 0.007</td> <td>    2.711    17.044</td>\n",
       "</tr>\n",
       "<tr>\n",
       "  <th>education</th>         <td>  -10.9835</td> <td>    4.345</td> <td>   -2.528</td> <td> 0.012</td> <td>  -19.540    -2.427</td>\n",
       "</tr>\n",
       "<tr>\n",
       "  <th>massmedia</th>         <td>  159.4860</td> <td>   76.197</td> <td>    2.093</td> <td> 0.037</td> <td>    9.442   309.530</td>\n",
       "</tr>\n",
       "<tr>\n",
       "  <th>active</th>            <td>  -10.6179</td> <td>    6.874</td> <td>   -1.545</td> <td> 0.124</td> <td>  -24.154     2.919</td>\n",
       "</tr>\n",
       "<tr>\n",
       "  <th>religiousorgs</th>     <td>  -39.7357</td> <td>   29.228</td> <td>   -1.359</td> <td> 0.175</td> <td>  -97.291    17.820</td>\n",
       "</tr>\n",
       "</table>\n",
       "<table class=\"simpletable\">\n",
       "<tr>\n",
       "  <th>Omnibus:</th>       <td> 8.942</td> <th>  Durbin-Watson:     </th> <td>   2.027</td>\n",
       "</tr>\n",
       "<tr>\n",
       "  <th>Prob(Omnibus):</th> <td> 0.011</td> <th>  Jarque-Bera (JB):  </th> <td>  12.341</td>\n",
       "</tr>\n",
       "<tr>\n",
       "  <th>Skew:</th>          <td> 0.238</td> <th>  Prob(JB):          </th> <td> 0.00209</td>\n",
       "</tr>\n",
       "<tr>\n",
       "  <th>Kurtosis:</th>      <td> 3.929</td> <th>  Cond. No.          </th> <td>1.30e+04</td>\n",
       "</tr>\n",
       "</table>"
      ],
      "text/plain": [
       "<class 'statsmodels.iolib.summary.Summary'>\n",
       "\"\"\"\n",
       "                            OLS Regression Results                            \n",
       "==============================================================================\n",
       "Dep. Variable:             ratio_2015   R-squared:                       0.933\n",
       "Model:                            OLS   Adj. R-squared:                  0.929\n",
       "Method:                 Least Squares   F-statistic:                     298.5\n",
       "Date:                Thu, 10 Dec 2015   Prob (F-statistic):          5.31e-144\n",
       "Time:                        20:15:55   Log-Likelihood:                -432.60\n",
       "No. Observations:                 272   AIC:                             891.2\n",
       "Df Residuals:                     259   BIC:                             938.1\n",
       "Df Model:                          12                                         \n",
       "Covariance Type:            nonrobust                                         \n",
       "=====================================================================================\n",
       "                        coef    std err          t      P>|t|      [95.0% Conf. Int.]\n",
       "-------------------------------------------------------------------------------------\n",
       "Intercept            -0.3850      0.912     -0.422      0.673        -2.182     1.412\n",
       "ratio_2011            0.9112      0.017     52.283      0.000         0.877     0.946\n",
       "realestate           23.5505      2.989      7.880      0.000        17.666    29.435\n",
       "financialservices    48.7506     13.198      3.694      0.000        22.762    74.739\n",
       "pets                -47.3446     10.435     -4.537      0.000       -67.893   -26.796\n",
       "nightlife           -49.5769      8.483     -5.844      0.000       -66.281   -32.873\n",
       "arts                 24.7866     10.414      2.380      0.018         4.279    45.294\n",
       "beautysvc            13.7284      5.959      2.304      0.022         1.994    25.463\n",
       "shopping              9.8772      3.639      2.714      0.007         2.711    17.044\n",
       "education           -10.9835      4.345     -2.528      0.012       -19.540    -2.427\n",
       "massmedia           159.4860     76.197      2.093      0.037         9.442   309.530\n",
       "active              -10.6179      6.874     -1.545      0.124       -24.154     2.919\n",
       "religiousorgs       -39.7357     29.228     -1.359      0.175       -97.291    17.820\n",
       "==============================================================================\n",
       "Omnibus:                        8.942   Durbin-Watson:                   2.027\n",
       "Prob(Omnibus):                  0.011   Jarque-Bera (JB):               12.341\n",
       "Skew:                           0.238   Prob(JB):                      0.00209\n",
       "Kurtosis:                       3.929   Cond. No.                     1.30e+04\n",
       "==============================================================================\n",
       "\n",
       "Warnings:\n",
       "[1] Standard Errors assume that the covariance matrix of the errors is correctly specified.\n",
       "[2] The condition number is large, 1.3e+04. This might indicate that there are\n",
       "strong multicollinearity or other numerical problems.\n",
       "\"\"\""
      ]
     },
     "execution_count": 20,
     "metadata": {},
     "output_type": "execute_result"
    }
   ],
   "source": [
    "train_ratio_2015_model = forward_selected(train_ratio_2015.drop('zipcode',1), 'ratio_2015')\n",
    "ratio_2015_model_features = train_ratio_2015_model.params.index.values.tolist()\n",
    "train_ratio_2015_model.summary()"
   ]
  },
  {
   "cell_type": "code",
   "execution_count": 22,
   "metadata": {
    "collapsed": false
   },
   "outputs": [
    {
     "data": {
      "text/plain": [
       "['ratio_2011',\n",
       " 'realestate',\n",
       " 'financialservices',\n",
       " 'pets',\n",
       " 'nightlife',\n",
       " 'arts',\n",
       " 'beautysvc',\n",
       " 'shopping',\n",
       " 'education',\n",
       " 'massmedia',\n",
       " 'active',\n",
       " 'religiousorgs',\n",
       " 'ratio_2015']"
      ]
     },
     "execution_count": 22,
     "metadata": {},
     "output_type": "execute_result"
    }
   ],
   "source": [
    "ratio_2015_model_features = [el.replace('[T.True]','') for el in ratio_2015_model_features if el != 'Intercept'] + ['ratio_2015']\n",
    "ratio_2015_model_features"
   ]
  },
  {
   "cell_type": "code",
   "execution_count": 23,
   "metadata": {
    "collapsed": false
   },
   "outputs": [
    {
     "name": "stdout",
     "output_type": "stream",
     "text": [
      "(272, 13) (69, 13)\n"
     ]
    }
   ],
   "source": [
    "# feature selected training, testing\n",
    "fs_train_trans_df_ratio_2015 = train_ratio_2015[ratio_2015_model_features].dropna()\n",
    "fs_test_trans_df_ratio_2015 = test_ratio_2015[ratio_2015_model_features].dropna()\n",
    "print fs_train_trans_df_ratio_2015.shape, fs_test_trans_df_ratio_2015.shape"
   ]
  },
  {
   "cell_type": "markdown",
   "metadata": {},
   "source": [
    "#lasso"
   ]
  },
  {
   "cell_type": "code",
   "execution_count": 24,
   "metadata": {
    "collapsed": false
   },
   "outputs": [
    {
     "name": "stdout",
     "output_type": "stream",
     "text": [
      "----- 0.0139520168304 seconds to run ----- \n",
      "---- best alpha = 0.001 ----\n"
     ]
    },
    {
     "name": "stderr",
     "output_type": "stream",
     "text": [
      "//anaconda/lib/python2.7/site-packages/sklearn/linear_model/base.py:424: FutureWarning: elementwise comparison failed; returning scalar instead, but in the future will perform elementwise comparison\n",
      "  if precompute == 'auto':\n"
     ]
    }
   ],
   "source": [
    "from sklearn.linear_model import LassoCV\n",
    "# ratio 2015 only\n",
    "start_time = time.time()\n",
    "\n",
    "X_train = fs_train_trans_df_ratio_2015.drop('ratio_2015',1).values * 1\n",
    "Y_train = fs_train_trans_df_ratio_2015['ratio_2015'].values * 1\n",
    "X_test = fs_test_trans_df_ratio_2015.drop('ratio_2015',1).values * 1\n",
    "Y_test = fs_test_trans_df_ratio_2015['ratio_2015'].values * 1\n",
    "\n",
    "alphas = [0.001, 0.01, 0.1, 1.0, 10.0, 100.0]\n",
    "alphas_temp = [0.001, 0.01]\n",
    "clf_lasso_model = LassoCV(alphas = alphas).fit(X_train, Y_train)\n",
    "best_alpha_lasso = clf_lasso_model.alpha_\n",
    "\n",
    "print '----- %s seconds to run ----- \\n---- best alpha = %s ----'%(time.time() - start_time, best_alpha_lasso)"
   ]
  },
  {
   "cell_type": "code",
   "execution_count": 26,
   "metadata": {
    "collapsed": false
   },
   "outputs": [
    {
     "name": "stdout",
     "output_type": "stream",
     "text": [
      "#### based on the best Linear Regression with Lasso Regularization ####\n",
      "R-squared on training data: 0.93\n",
      "R-squared on test data:     0.94\n",
      "----- 0.00116205215454 seconds to run -----\n"
     ]
    }
   ],
   "source": [
    "# calculate accuracy\n",
    "start_time = time.time()\n",
    "\n",
    "training_accuracy = clf_lasso_model.score(X_train, Y_train)\n",
    "test_accuracy = clf_lasso_model.score(X_test, Y_test)\n",
    "print '#### based on the best Linear Regression with Lasso Regularization ####'\n",
    "print \"R-squared on training data: %0.2f\" % (training_accuracy)\n",
    "print \"R-squared on test data:     %0.2f\" % (test_accuracy)\n",
    "print '----- %s seconds to run -----'%(time.time() - start_time)"
   ]
  },
  {
   "cell_type": "markdown",
   "metadata": {},
   "source": [
    "#ridge"
   ]
  },
  {
   "cell_type": "code",
   "execution_count": 27,
   "metadata": {
    "collapsed": false
   },
   "outputs": [
    {
     "name": "stdout",
     "output_type": "stream",
     "text": [
      "----- 0.00356316566467 seconds to run ----- \n",
      "---- best alpha = 0.001 ----\n"
     ]
    }
   ],
   "source": [
    "from sklearn.linear_model import RidgeCV\n",
    "\n",
    "#ratio only\n",
    "start_time = time.time()\n",
    "\n",
    "X_train = fs_train_trans_df_ratio_2015.drop('ratio_2015',1).values * 1\n",
    "Y_train = fs_train_trans_df_ratio_2015['ratio_2015'].values * 1\n",
    "X_test = fs_test_trans_df_ratio_2015.drop('ratio_2015',1).values * 1\n",
    "Y_test = fs_test_trans_df_ratio_2015['ratio_2015'].values * 1\n",
    "\n",
    "alphas = [0.001, 0.01, 0.1, 1.0, 10.0, 100.0]\n",
    "clf_ridge_model = RidgeCV(alphas = alphas).fit(X_train, Y_train)\n",
    "best_alpha_ridge = clf_ridge_model.alpha_\n",
    "\n",
    "print '----- %s seconds to run ----- \\n---- best alpha = %s ----'%(time.time() - start_time, best_alpha_ridge)"
   ]
  },
  {
   "cell_type": "code",
   "execution_count": 28,
   "metadata": {
    "collapsed": false
   },
   "outputs": [
    {
     "name": "stdout",
     "output_type": "stream",
     "text": [
      "#### based on the best Linear Regression with Ridge Regularization ####\n",
      "R-squared on training data: 0.93\n",
      "R-squared on test data:     0.94\n",
      "----- 0.000977039337158 seconds to run -----\n"
     ]
    }
   ],
   "source": [
    "start_time = time.time()\n",
    "training_accuracy = clf_ridge_model.score(X_train, Y_train)\n",
    "test_accuracy = clf_ridge_model.score(X_test, Y_test)\n",
    "print '#### based on the best Linear Regression with Ridge Regularization ####'\n",
    "print \"R-squared on training data: %0.2f\" % (training_accuracy)\n",
    "print \"R-squared on test data:     %0.2f\" % (test_accuracy)\n",
    "print '----- %s seconds to run -----'%(time.time() - start_time)"
   ]
  },
  {
   "cell_type": "code",
   "execution_count": 29,
   "metadata": {
    "collapsed": false
   },
   "outputs": [
    {
     "data": {
      "text/plain": [
       "341"
      ]
     },
     "execution_count": 29,
     "metadata": {},
     "output_type": "execute_result"
    }
   ],
   "source": [
    "len(pd.read_pickle('data/yelpexport_new.pkl')['zipcode'])"
   ]
  },
  {
   "cell_type": "code",
   "execution_count": null,
   "metadata": {
    "collapsed": true
   },
   "outputs": [],
   "source": []
  }
 ],
 "metadata": {
  "kernelspec": {
   "display_name": "Python 2",
   "language": "python",
   "name": "python2"
  },
  "language_info": {
   "codemirror_mode": {
    "name": "ipython",
    "version": 2
   },
   "file_extension": ".py",
   "mimetype": "text/x-python",
   "name": "python",
   "nbconvert_exporter": "python",
   "pygments_lexer": "ipython2",
   "version": "2.7.10"
  }
 },
 "nbformat": 4,
 "nbformat_minor": 0
}
