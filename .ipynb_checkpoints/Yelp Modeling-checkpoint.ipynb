{
 "cells": [
  {
   "cell_type": "code",
   "execution_count": 1,
   "metadata": {
    "collapsed": true
   },
   "outputs": [],
   "source": [
    "%matplotlib inline\n",
    "import numpy as np\n",
    "import scipy as sp\n",
    "import matplotlib as mpl\n",
    "import matplotlib.cm as cm\n",
    "import matplotlib.pyplot as plt\n",
    "import pandas as pd\n",
    "import time\n",
    "import json\n",
    "pd.set_option('display.width', 500)\n",
    "pd.set_option('display.max_columns', 100)\n",
    "pd.set_option('display.notebook_repr_html', True)\n",
    "import seaborn as sns\n",
    "sns.set_style(\"whitegrid\")\n",
    "sns.set_context(\"poster\")\n",
    "\n",
    "from pyquery import PyQuery as pq\n",
    "from bs4 import BeautifulSoup\n",
    "import requests\n",
    "import random\n",
    "import time"
   ]
  },
  {
   "cell_type": "code",
   "execution_count": 6,
   "metadata": {
    "collapsed": false
   },
   "outputs": [
    {
     "name": "stdout",
     "output_type": "stream",
     "text": [
      "(905, 19)\n"
     ]
    },
    {
     "data": {
      "text/html": [
       "<div>\n",
       "<table border=\"1\" class=\"dataframe\">\n",
       "  <thead>\n",
       "    <tr style=\"text-align: right;\">\n",
       "      <th></th>\n",
       "      <th>active</th>\n",
       "      <th>arts</th>\n",
       "      <th>auto</th>\n",
       "      <th>beautysvc</th>\n",
       "      <th>education</th>\n",
       "      <th>financialservices</th>\n",
       "      <th>food</th>\n",
       "      <th>health</th>\n",
       "      <th>hotelstravel</th>\n",
       "      <th>massmedia</th>\n",
       "      <th>nightlife</th>\n",
       "      <th>pets</th>\n",
       "      <th>professional</th>\n",
       "      <th>publicservicesgovt</th>\n",
       "      <th>realestate</th>\n",
       "      <th>religiousorgs</th>\n",
       "      <th>restaurants</th>\n",
       "      <th>shopping</th>\n",
       "      <th>zipcode</th>\n",
       "    </tr>\n",
       "  </thead>\n",
       "  <tbody>\n",
       "    <tr>\n",
       "      <th>0</th>\n",
       "      <td>0.044293</td>\n",
       "      <td>0.018750</td>\n",
       "      <td>0.101630</td>\n",
       "      <td>0.089946</td>\n",
       "      <td>0.015761</td>\n",
       "      <td>0.015489</td>\n",
       "      <td>0.107337</td>\n",
       "      <td>0.063587</td>\n",
       "      <td>0.070924</td>\n",
       "      <td>0.001087</td>\n",
       "      <td>0.029891</td>\n",
       "      <td>0.029891</td>\n",
       "      <td>0.044293</td>\n",
       "      <td>0.005707</td>\n",
       "      <td>0.020109</td>\n",
       "      <td>0.001359</td>\n",
       "      <td>0.172011</td>\n",
       "      <td>0.167935</td>\n",
       "      <td>11705</td>\n",
       "    </tr>\n",
       "    <tr>\n",
       "      <th>0</th>\n",
       "      <td>0.033516</td>\n",
       "      <td>0.012996</td>\n",
       "      <td>0.110123</td>\n",
       "      <td>0.088919</td>\n",
       "      <td>0.010260</td>\n",
       "      <td>0.015732</td>\n",
       "      <td>0.084131</td>\n",
       "      <td>0.093707</td>\n",
       "      <td>0.049932</td>\n",
       "      <td>0.000000</td>\n",
       "      <td>0.026676</td>\n",
       "      <td>0.020520</td>\n",
       "      <td>0.022572</td>\n",
       "      <td>0.004788</td>\n",
       "      <td>0.044460</td>\n",
       "      <td>0.008208</td>\n",
       "      <td>0.202462</td>\n",
       "      <td>0.170999</td>\n",
       "      <td>37128</td>\n",
       "    </tr>\n",
       "    <tr>\n",
       "      <th>0</th>\n",
       "      <td>0.044632</td>\n",
       "      <td>0.027744</td>\n",
       "      <td>0.113390</td>\n",
       "      <td>0.028951</td>\n",
       "      <td>0.019300</td>\n",
       "      <td>0.006031</td>\n",
       "      <td>0.075995</td>\n",
       "      <td>0.048251</td>\n",
       "      <td>0.125452</td>\n",
       "      <td>0.000000</td>\n",
       "      <td>0.007238</td>\n",
       "      <td>0.049457</td>\n",
       "      <td>0.106152</td>\n",
       "      <td>0.002413</td>\n",
       "      <td>0.168878</td>\n",
       "      <td>0.001206</td>\n",
       "      <td>0.044632</td>\n",
       "      <td>0.130277</td>\n",
       "      <td>98260</td>\n",
       "    </tr>\n",
       "    <tr>\n",
       "      <th>0</th>\n",
       "      <td>0.037657</td>\n",
       "      <td>0.016736</td>\n",
       "      <td>0.146444</td>\n",
       "      <td>0.029289</td>\n",
       "      <td>0.008368</td>\n",
       "      <td>0.000000</td>\n",
       "      <td>0.054393</td>\n",
       "      <td>0.033473</td>\n",
       "      <td>0.184100</td>\n",
       "      <td>0.004184</td>\n",
       "      <td>0.008368</td>\n",
       "      <td>0.037657</td>\n",
       "      <td>0.100418</td>\n",
       "      <td>0.008368</td>\n",
       "      <td>0.083682</td>\n",
       "      <td>0.000000</td>\n",
       "      <td>0.108787</td>\n",
       "      <td>0.138075</td>\n",
       "      <td>21660</td>\n",
       "    </tr>\n",
       "    <tr>\n",
       "      <th>0</th>\n",
       "      <td>0.047544</td>\n",
       "      <td>0.051506</td>\n",
       "      <td>0.083994</td>\n",
       "      <td>0.045166</td>\n",
       "      <td>0.020602</td>\n",
       "      <td>0.004754</td>\n",
       "      <td>0.061014</td>\n",
       "      <td>0.108558</td>\n",
       "      <td>0.148177</td>\n",
       "      <td>0.001585</td>\n",
       "      <td>0.002377</td>\n",
       "      <td>0.040412</td>\n",
       "      <td>0.116482</td>\n",
       "      <td>0.003170</td>\n",
       "      <td>0.107765</td>\n",
       "      <td>0.002377</td>\n",
       "      <td>0.032488</td>\n",
       "      <td>0.122029</td>\n",
       "      <td>93924</td>\n",
       "    </tr>\n",
       "  </tbody>\n",
       "</table>\n",
       "</div>"
      ],
      "text/plain": [
       "     active      arts      auto  beautysvc  education  financialservices      food    health  hotelstravel  massmedia  nightlife      pets  professional  publicservicesgovt  realestate  religiousorgs  restaurants  shopping zipcode\n",
       "0  0.044293  0.018750  0.101630   0.089946   0.015761           0.015489  0.107337  0.063587      0.070924   0.001087   0.029891  0.029891      0.044293            0.005707    0.020109       0.001359     0.172011  0.167935   11705\n",
       "0  0.033516  0.012996  0.110123   0.088919   0.010260           0.015732  0.084131  0.093707      0.049932   0.000000   0.026676  0.020520      0.022572            0.004788    0.044460       0.008208     0.202462  0.170999   37128\n",
       "0  0.044632  0.027744  0.113390   0.028951   0.019300           0.006031  0.075995  0.048251      0.125452   0.000000   0.007238  0.049457      0.106152            0.002413    0.168878       0.001206     0.044632  0.130277   98260\n",
       "0  0.037657  0.016736  0.146444   0.029289   0.008368           0.000000  0.054393  0.033473      0.184100   0.004184   0.008368  0.037657      0.100418            0.008368    0.083682       0.000000     0.108787  0.138075   21660\n",
       "0  0.047544  0.051506  0.083994   0.045166   0.020602           0.004754  0.061014  0.108558      0.148177   0.001585   0.002377  0.040412      0.116482            0.003170    0.107765       0.002377     0.032488  0.122029   93924"
      ]
     },
     "execution_count": 6,
     "metadata": {},
     "output_type": "execute_result"
    }
   ],
   "source": [
    "df = pd.read_pickle('data/yelpexport.pkl')\n",
    "df = df.fillna(0)\n",
    "print df.shape\n",
    "df.head()"
   ]
  },
  {
   "cell_type": "code",
   "execution_count": 7,
   "metadata": {
    "collapsed": true
   },
   "outputs": [],
   "source": [
    "# with help from http://planspace.org/20150423-forward_selection_with_statsmodels/\n",
    "import statsmodels.formula.api as smf\n",
    "\n",
    "def forward_selected(data, response):\n",
    "    \"\"\"Linear model designed by forward selection.\n",
    "\n",
    "    Parameters:\n",
    "    -----------\n",
    "    data : pandas DataFrame with all possible predictors and response\n",
    "\n",
    "    response: string, name of response column in data\n",
    "\n",
    "    Returns:\n",
    "    --------\n",
    "    model: an \"optimal\" fitted statsmodels linear model\n",
    "           with an intercept\n",
    "           selected by forward selection\n",
    "           evaluated by adjusted R-squared\n",
    "    \"\"\"\n",
    "    \n",
    "    remaining = set(data.columns)\n",
    "    remaining.remove(response)\n",
    "    selected = []\n",
    "    current_score, best_new_score = 0.0, 0.0\n",
    "    while remaining and current_score == best_new_score:\n",
    "        scores_with_candidates = []\n",
    "        for candidate in remaining:\n",
    "            formula = \"{} ~ {} + 1\".format(response, ' + '.join(selected + [candidate]))\n",
    "            score = smf.ols(formula, data).fit().rsquared_adj\n",
    "            scores_with_candidates.append((score, candidate))\n",
    "        scores_with_candidates.sort()\n",
    "        best_new_score, best_candidate = scores_with_candidates.pop()\n",
    "        if current_score < (best_new_score * 1):\n",
    "            remaining.remove(best_candidate)\n",
    "            selected.append(best_candidate)\n",
    "            current_score = best_new_score\n",
    "    formula = \"{} ~ {} + 1\".format(response, ' + '.join(selected))\n",
    "    \n",
    "    model = smf.ols(formula, data).fit()\n",
    "    return model"
   ]
  },
  {
   "cell_type": "code",
   "execution_count": 11,
   "metadata": {
    "collapsed": false
   },
   "outputs": [
    {
     "data": {
      "text/html": [
       "<div>\n",
       "<table border=\"1\" class=\"dataframe\">\n",
       "  <thead>\n",
       "    <tr style=\"text-align: right;\">\n",
       "      <th></th>\n",
       "      <th>zipcode</th>\n",
       "      <th>r_agg_2011</th>\n",
       "      <th>r_agg_2015_adj</th>\n",
       "      <th>r_pct_delta</th>\n",
       "      <th>h_agg_2011</th>\n",
       "      <th>h_agg_2015_adj</th>\n",
       "      <th>h_pct_delta</th>\n",
       "      <th>ratio_2011</th>\n",
       "      <th>ratio_2015</th>\n",
       "      <th>ratio_pct_delta</th>\n",
       "    </tr>\n",
       "  </thead>\n",
       "  <tbody>\n",
       "    <tr>\n",
       "      <th>0</th>\n",
       "      <td>11368</td>\n",
       "      <td>1.868000</td>\n",
       "      <td>2.188278</td>\n",
       "      <td>1.171455</td>\n",
       "      <td>373.833333</td>\n",
       "      <td>431.274105</td>\n",
       "      <td>1.153653</td>\n",
       "      <td>200.124911</td>\n",
       "      <td>197.083754</td>\n",
       "      <td>0.984804</td>\n",
       "    </tr>\n",
       "    <tr>\n",
       "      <th>1</th>\n",
       "      <td>79936</td>\n",
       "      <td>0.744167</td>\n",
       "      <td>0.694379</td>\n",
       "      <td>0.933096</td>\n",
       "      <td>80.333333</td>\n",
       "      <td>75.060164</td>\n",
       "      <td>0.934359</td>\n",
       "      <td>107.950728</td>\n",
       "      <td>108.096860</td>\n",
       "      <td>1.001354</td>\n",
       "    </tr>\n",
       "    <tr>\n",
       "      <th>2</th>\n",
       "      <td>60629</td>\n",
       "      <td>1.197000</td>\n",
       "      <td>1.180207</td>\n",
       "      <td>0.985971</td>\n",
       "      <td>107.166667</td>\n",
       "      <td>113.430961</td>\n",
       "      <td>1.058454</td>\n",
       "      <td>89.529379</td>\n",
       "      <td>96.111037</td>\n",
       "      <td>1.073514</td>\n",
       "    </tr>\n",
       "    <tr>\n",
       "      <th>3</th>\n",
       "      <td>90650</td>\n",
       "      <td>1.524333</td>\n",
       "      <td>1.640026</td>\n",
       "      <td>1.075898</td>\n",
       "      <td>228.750000</td>\n",
       "      <td>292.549418</td>\n",
       "      <td>1.278905</td>\n",
       "      <td>150.065602</td>\n",
       "      <td>178.380911</td>\n",
       "      <td>1.188686</td>\n",
       "    </tr>\n",
       "    <tr>\n",
       "      <th>4</th>\n",
       "      <td>11226</td>\n",
       "      <td>1.014000</td>\n",
       "      <td>1.277783</td>\n",
       "      <td>1.260141</td>\n",
       "      <td>309.166667</td>\n",
       "      <td>416.876846</td>\n",
       "      <td>1.348389</td>\n",
       "      <td>304.898093</td>\n",
       "      <td>326.250103</td>\n",
       "      <td>1.070030</td>\n",
       "    </tr>\n",
       "  </tbody>\n",
       "</table>\n",
       "</div>"
      ],
      "text/plain": [
       "  zipcode  r_agg_2011  r_agg_2015_adj  r_pct_delta  h_agg_2011  h_agg_2015_adj  h_pct_delta  ratio_2011  ratio_2015  ratio_pct_delta\n",
       "0   11368    1.868000        2.188278     1.171455  373.833333      431.274105     1.153653  200.124911  197.083754         0.984804\n",
       "1   79936    0.744167        0.694379     0.933096   80.333333       75.060164     0.934359  107.950728  108.096860         1.001354\n",
       "2   60629    1.197000        1.180207     0.985971  107.166667      113.430961     1.058454   89.529379   96.111037         1.073514\n",
       "3   90650    1.524333        1.640026     1.075898  228.750000      292.549418     1.278905  150.065602  178.380911         1.188686\n",
       "4   11226    1.014000        1.277783     1.260141  309.166667      416.876846     1.348389  304.898093  326.250103         1.070030"
      ]
     },
     "execution_count": 11,
     "metadata": {},
     "output_type": "execute_result"
    }
   ],
   "source": [
    "response=pd.read_pickle('data/housing_rental_ratio2.pkl')\n",
    "response=response.rename(columns={'zip':'zipcode'})\n",
    "response['zipcode']=response['zipcode'].astype(str)\n",
    "response['zipcode'] = [(5-len(zipcode))*'0' + zipcode if len(zipcode) < 5 else zipcode for zipcode in response['zipcode']]\n",
    "response.head()"
   ]
  },
  {
   "cell_type": "code",
   "execution_count": 12,
   "metadata": {
    "collapsed": false
   },
   "outputs": [],
   "source": [
    "zipCodeStrings = df.zipcode\n",
    "all_features = df.astype('float')"
   ]
  },
  {
   "cell_type": "code",
   "execution_count": 16,
   "metadata": {
    "collapsed": false
   },
   "outputs": [
    {
     "name": "stdout",
     "output_type": "stream",
     "text": [
      "samples in training set = 724 \n",
      "samples in test set = 181\n"
     ]
    }
   ],
   "source": [
    "from sklearn.cross_validation import train_test_split\n",
    "# split into training and test sets\n",
    "itrain, itest = train_test_split(xrange(trans_df.shape[0]), train_size=0.8)\n",
    "\n",
    "mask=np.ones(trans_df.shape[0], dtype='int')\n",
    "mask[itrain]=1\n",
    "mask[itest]=0\n",
    "mask = (mask==1)\n",
    "\n",
    "print 'samples in training set = %s \\nsamples in test set = %s'%(mask.sum(), mask.shape[0] - mask.sum())"
   ]
  },
  {
   "cell_type": "code",
   "execution_count": 17,
   "metadata": {
    "collapsed": false
   },
   "outputs": [
    {
     "data": {
      "text/plain": [
       "((724, 19), (181, 19))"
      ]
     },
     "execution_count": 17,
     "metadata": {},
     "output_type": "execute_result"
    }
   ],
   "source": [
    "train_norm_df = df[mask]\n",
    "test_norm_df = df[~mask]\n",
    "train_norm_df.shape, test_norm_df.shape"
   ]
  },
  {
   "cell_type": "code",
   "execution_count": null,
   "metadata": {
    "collapsed": true
   },
   "outputs": [],
   "source": []
  },
  {
   "cell_type": "code",
   "execution_count": 39,
   "metadata": {
    "collapsed": false
   },
   "outputs": [],
   "source": [
    "train_ratio_2015 = pd.merge(train_norm_df, response[['zipcode','ratio_2011','ratio_2015']], on='zipcode')\n",
    "test_ratio_2015 = pd.merge(test_norm_df, response[['zipcode','ratio_2011','ratio_2015']], on='zipcode')"
   ]
  },
  {
   "cell_type": "code",
   "execution_count": 27,
   "metadata": {
    "collapsed": false
   },
   "outputs": [
    {
     "data": {
      "text/html": [
       "<table class=\"simpletable\">\n",
       "<caption>OLS Regression Results</caption>\n",
       "<tr>\n",
       "  <th>Dep. Variable:</th>       <td>ratio_2015</td>    <th>  R-squared:         </th> <td>   0.839</td> \n",
       "</tr>\n",
       "<tr>\n",
       "  <th>Model:</th>                   <td>OLS</td>       <th>  Adj. R-squared:    </th> <td>   0.839</td> \n",
       "</tr>\n",
       "<tr>\n",
       "  <th>Method:</th>             <td>Least Squares</td>  <th>  F-statistic:       </th> <td>   3333.</td> \n",
       "</tr>\n",
       "<tr>\n",
       "  <th>Date:</th>             <td>Thu, 10 Dec 2015</td> <th>  Prob (F-statistic):</th> <td>9.92e-256</td>\n",
       "</tr>\n",
       "<tr>\n",
       "  <th>Time:</th>                 <td>16:51:47</td>     <th>  Log-Likelihood:    </th> <td> -2705.5</td> \n",
       "</tr>\n",
       "<tr>\n",
       "  <th>No. Observations:</th>      <td>   641</td>      <th>  AIC:               </th> <td>   5415.</td> \n",
       "</tr>\n",
       "<tr>\n",
       "  <th>Df Residuals:</th>          <td>   639</td>      <th>  BIC:               </th> <td>   5424.</td> \n",
       "</tr>\n",
       "<tr>\n",
       "  <th>Df Model:</th>              <td>     1</td>      <th>                     </th>     <td> </td>    \n",
       "</tr>\n",
       "<tr>\n",
       "  <th>Covariance Type:</th>      <td>nonrobust</td>    <th>                     </th>     <td> </td>    \n",
       "</tr>\n",
       "</table>\n",
       "<table class=\"simpletable\">\n",
       "<tr>\n",
       "       <td></td>         <th>coef</th>     <th>std err</th>      <th>t</th>      <th>P>|t|</th> <th>[95.0% Conf. Int.]</th> \n",
       "</tr>\n",
       "<tr>\n",
       "  <th>Intercept</th>  <td>    8.4589</td> <td>    2.270</td> <td>    3.726</td> <td> 0.000</td> <td>    4.001    12.917</td>\n",
       "</tr>\n",
       "<tr>\n",
       "  <th>ratio_2011</th> <td>    0.9841</td> <td>    0.017</td> <td>   57.736</td> <td> 0.000</td> <td>    0.951     1.018</td>\n",
       "</tr>\n",
       "</table>\n",
       "<table class=\"simpletable\">\n",
       "<tr>\n",
       "  <th>Omnibus:</th>       <td>79.636</td> <th>  Durbin-Watson:     </th> <td>   1.972</td>\n",
       "</tr>\n",
       "<tr>\n",
       "  <th>Prob(Omnibus):</th> <td> 0.000</td> <th>  Jarque-Bera (JB):  </th> <td> 110.513</td>\n",
       "</tr>\n",
       "<tr>\n",
       "  <th>Skew:</th>          <td> 0.901</td> <th>  Prob(JB):          </th> <td>1.01e-24</td>\n",
       "</tr>\n",
       "<tr>\n",
       "  <th>Kurtosis:</th>      <td> 3.945</td> <th>  Cond. No.          </th> <td>    464.</td>\n",
       "</tr>\n",
       "</table>"
      ],
      "text/plain": [
       "<class 'statsmodels.iolib.summary.Summary'>\n",
       "\"\"\"\n",
       "                            OLS Regression Results                            \n",
       "==============================================================================\n",
       "Dep. Variable:             ratio_2015   R-squared:                       0.839\n",
       "Model:                            OLS   Adj. R-squared:                  0.839\n",
       "Method:                 Least Squares   F-statistic:                     3333.\n",
       "Date:                Thu, 10 Dec 2015   Prob (F-statistic):          9.92e-256\n",
       "Time:                        16:51:47   Log-Likelihood:                -2705.5\n",
       "No. Observations:                 641   AIC:                             5415.\n",
       "Df Residuals:                     639   BIC:                             5424.\n",
       "Df Model:                           1                                         \n",
       "Covariance Type:            nonrobust                                         \n",
       "==============================================================================\n",
       "                 coef    std err          t      P>|t|      [95.0% Conf. Int.]\n",
       "------------------------------------------------------------------------------\n",
       "Intercept      8.4589      2.270      3.726      0.000         4.001    12.917\n",
       "ratio_2011     0.9841      0.017     57.736      0.000         0.951     1.018\n",
       "==============================================================================\n",
       "Omnibus:                       79.636   Durbin-Watson:                   1.972\n",
       "Prob(Omnibus):                  0.000   Jarque-Bera (JB):              110.513\n",
       "Skew:                           0.901   Prob(JB):                     1.01e-24\n",
       "Kurtosis:                       3.945   Cond. No.                         464.\n",
       "==============================================================================\n",
       "\n",
       "Warnings:\n",
       "[1] Standard Errors assume that the covariance matrix of the errors is correctly specified.\n",
       "\"\"\""
      ]
     },
     "execution_count": 27,
     "metadata": {},
     "output_type": "execute_result"
    }
   ],
   "source": [
    "train_ratio_2015_baseline = forward_selected(train_ratio_2015[['ratio_2011', 'ratio_2015']], 'ratio_2015')\n",
    "train_ratio_2015_baseline.summary()"
   ]
  },
  {
   "cell_type": "code",
   "execution_count": 36,
   "metadata": {
    "collapsed": false
   },
   "outputs": [
    {
     "data": {
      "text/html": [
       "<table class=\"simpletable\">\n",
       "<caption>OLS Regression Results</caption>\n",
       "<tr>\n",
       "  <th>Dep. Variable:</th>       <td>ratio_2015</td>    <th>  R-squared:         </th> <td>   0.907</td> \n",
       "</tr>\n",
       "<tr>\n",
       "  <th>Model:</th>                   <td>OLS</td>       <th>  Adj. R-squared:    </th> <td>   0.905</td> \n",
       "</tr>\n",
       "<tr>\n",
       "  <th>Method:</th>             <td>Least Squares</td>  <th>  F-statistic:       </th> <td>   434.1</td> \n",
       "</tr>\n",
       "<tr>\n",
       "  <th>Date:</th>             <td>Thu, 10 Dec 2015</td> <th>  Prob (F-statistic):</th> <td>3.87e-311</td>\n",
       "</tr>\n",
       "<tr>\n",
       "  <th>Time:</th>                 <td>16:55:11</td>     <th>  Log-Likelihood:    </th> <td> -2531.3</td> \n",
       "</tr>\n",
       "<tr>\n",
       "  <th>No. Observations:</th>      <td>   641</td>      <th>  AIC:               </th> <td>   5093.</td> \n",
       "</tr>\n",
       "<tr>\n",
       "  <th>Df Residuals:</th>          <td>   626</td>      <th>  BIC:               </th> <td>   5159.</td> \n",
       "</tr>\n",
       "<tr>\n",
       "  <th>Df Model:</th>              <td>    14</td>      <th>                     </th>     <td> </td>    \n",
       "</tr>\n",
       "<tr>\n",
       "  <th>Covariance Type:</th>      <td>nonrobust</td>    <th>                     </th>     <td> </td>    \n",
       "</tr>\n",
       "</table>\n",
       "<table class=\"simpletable\">\n",
       "<tr>\n",
       "           <td></td>             <th>coef</th>     <th>std err</th>      <th>t</th>      <th>P>|t|</th> <th>[95.0% Conf. Int.]</th> \n",
       "</tr>\n",
       "<tr>\n",
       "  <th>Intercept</th>          <td>    7.8233</td> <td>    4.512</td> <td>    1.734</td> <td> 0.083</td> <td>   -1.038    16.684</td>\n",
       "</tr>\n",
       "<tr>\n",
       "  <th>ratio_2011</th>         <td>    0.8561</td> <td>    0.016</td> <td>   53.771</td> <td> 0.000</td> <td>    0.825     0.887</td>\n",
       "</tr>\n",
       "<tr>\n",
       "  <th>education</th>          <td>  167.4550</td> <td>   76.761</td> <td>    2.182</td> <td> 0.030</td> <td>   16.714   318.196</td>\n",
       "</tr>\n",
       "<tr>\n",
       "  <th>realestate</th>         <td>  132.3443</td> <td>   15.683</td> <td>    8.439</td> <td> 0.000</td> <td>  101.547   163.142</td>\n",
       "</tr>\n",
       "<tr>\n",
       "  <th>financialservices</th>  <td>  491.4060</td> <td>   92.091</td> <td>    5.336</td> <td> 0.000</td> <td>  310.562   672.250</td>\n",
       "</tr>\n",
       "<tr>\n",
       "  <th>pets</th>               <td> -189.0758</td> <td>   39.093</td> <td>   -4.837</td> <td> 0.000</td> <td> -265.845  -112.306</td>\n",
       "</tr>\n",
       "<tr>\n",
       "  <th>health</th>             <td>  109.5605</td> <td>   27.575</td> <td>    3.973</td> <td> 0.000</td> <td>   55.410   163.711</td>\n",
       "</tr>\n",
       "<tr>\n",
       "  <th>professional</th>       <td>   36.6102</td> <td>   18.616</td> <td>    1.967</td> <td> 0.050</td> <td>    0.053    73.167</td>\n",
       "</tr>\n",
       "<tr>\n",
       "  <th>active</th>             <td>   59.9527</td> <td>   24.350</td> <td>    2.462</td> <td> 0.014</td> <td>   12.136   107.770</td>\n",
       "</tr>\n",
       "<tr>\n",
       "  <th>arts</th>               <td>  125.7662</td> <td>   42.662</td> <td>    2.948</td> <td> 0.003</td> <td>   41.989   209.544</td>\n",
       "</tr>\n",
       "<tr>\n",
       "  <th>publicservicesgovt</th> <td> -228.0308</td> <td>   83.014</td> <td>   -2.747</td> <td> 0.006</td> <td> -391.050   -65.012</td>\n",
       "</tr>\n",
       "<tr>\n",
       "  <th>nightlife</th>          <td>  -77.2067</td> <td>   33.376</td> <td>   -2.313</td> <td> 0.021</td> <td> -142.749   -11.664</td>\n",
       "</tr>\n",
       "<tr>\n",
       "  <th>shopping</th>           <td>  -30.5855</td> <td>   15.870</td> <td>   -1.927</td> <td> 0.054</td> <td>  -61.751     0.580</td>\n",
       "</tr>\n",
       "<tr>\n",
       "  <th>beautysvc</th>          <td>  -42.6431</td> <td>   32.364</td> <td>   -1.318</td> <td> 0.188</td> <td> -106.198    20.911</td>\n",
       "</tr>\n",
       "<tr>\n",
       "  <th>massmedia</th>          <td>  233.7752</td> <td>  232.578</td> <td>    1.005</td> <td> 0.315</td> <td> -222.952   690.503</td>\n",
       "</tr>\n",
       "</table>\n",
       "<table class=\"simpletable\">\n",
       "<tr>\n",
       "  <th>Omnibus:</th>       <td>13.009</td> <th>  Durbin-Watson:     </th> <td>   1.955</td>\n",
       "</tr>\n",
       "<tr>\n",
       "  <th>Prob(Omnibus):</th> <td> 0.001</td> <th>  Jarque-Bera (JB):  </th> <td>  13.722</td>\n",
       "</tr>\n",
       "<tr>\n",
       "  <th>Skew:</th>          <td> 0.302</td> <th>  Prob(JB):          </th> <td> 0.00105</td>\n",
       "</tr>\n",
       "<tr>\n",
       "  <th>Kurtosis:</th>      <td> 3.385</td> <th>  Cond. No.          </th> <td>6.19e+04</td>\n",
       "</tr>\n",
       "</table>"
      ],
      "text/plain": [
       "<class 'statsmodels.iolib.summary.Summary'>\n",
       "\"\"\"\n",
       "                            OLS Regression Results                            \n",
       "==============================================================================\n",
       "Dep. Variable:             ratio_2015   R-squared:                       0.907\n",
       "Model:                            OLS   Adj. R-squared:                  0.905\n",
       "Method:                 Least Squares   F-statistic:                     434.1\n",
       "Date:                Thu, 10 Dec 2015   Prob (F-statistic):          3.87e-311\n",
       "Time:                        16:55:11   Log-Likelihood:                -2531.3\n",
       "No. Observations:                 641   AIC:                             5093.\n",
       "Df Residuals:                     626   BIC:                             5159.\n",
       "Df Model:                          14                                         \n",
       "Covariance Type:            nonrobust                                         \n",
       "======================================================================================\n",
       "                         coef    std err          t      P>|t|      [95.0% Conf. Int.]\n",
       "--------------------------------------------------------------------------------------\n",
       "Intercept              7.8233      4.512      1.734      0.083        -1.038    16.684\n",
       "ratio_2011             0.8561      0.016     53.771      0.000         0.825     0.887\n",
       "education            167.4550     76.761      2.182      0.030        16.714   318.196\n",
       "realestate           132.3443     15.683      8.439      0.000       101.547   163.142\n",
       "financialservices    491.4060     92.091      5.336      0.000       310.562   672.250\n",
       "pets                -189.0758     39.093     -4.837      0.000      -265.845  -112.306\n",
       "health               109.5605     27.575      3.973      0.000        55.410   163.711\n",
       "professional          36.6102     18.616      1.967      0.050         0.053    73.167\n",
       "active                59.9527     24.350      2.462      0.014        12.136   107.770\n",
       "arts                 125.7662     42.662      2.948      0.003        41.989   209.544\n",
       "publicservicesgovt  -228.0308     83.014     -2.747      0.006      -391.050   -65.012\n",
       "nightlife            -77.2067     33.376     -2.313      0.021      -142.749   -11.664\n",
       "shopping             -30.5855     15.870     -1.927      0.054       -61.751     0.580\n",
       "beautysvc            -42.6431     32.364     -1.318      0.188      -106.198    20.911\n",
       "massmedia            233.7752    232.578      1.005      0.315      -222.952   690.503\n",
       "==============================================================================\n",
       "Omnibus:                       13.009   Durbin-Watson:                   1.955\n",
       "Prob(Omnibus):                  0.001   Jarque-Bera (JB):               13.722\n",
       "Skew:                           0.302   Prob(JB):                      0.00105\n",
       "Kurtosis:                       3.385   Cond. No.                     6.19e+04\n",
       "==============================================================================\n",
       "\n",
       "Warnings:\n",
       "[1] Standard Errors assume that the covariance matrix of the errors is correctly specified.\n",
       "[2] The condition number is large, 6.19e+04. This might indicate that there are\n",
       "strong multicollinearity or other numerical problems.\n",
       "\"\"\""
      ]
     },
     "execution_count": 36,
     "metadata": {},
     "output_type": "execute_result"
    }
   ],
   "source": [
    "train_ratio_2015_model = forward_selected(train_ratio_2015.drop('zipcode',1), 'ratio_2015')\n",
    "ratio_2015_model_features = train_ratio_2015_model.params.index.values.tolist()\n",
    "train_ratio_2015_model.summary()"
   ]
  },
  {
   "cell_type": "code",
   "execution_count": 37,
   "metadata": {
    "collapsed": false
   },
   "outputs": [
    {
     "data": {
      "text/plain": [
       "['ratio_2011',\n",
       " 'education',\n",
       " 'realestate',\n",
       " 'financialservices',\n",
       " 'pets',\n",
       " 'health',\n",
       " 'professional',\n",
       " 'active',\n",
       " 'arts',\n",
       " 'publicservicesgovt',\n",
       " 'nightlife',\n",
       " 'shopping',\n",
       " 'beautysvc',\n",
       " 'massmedia',\n",
       " 'ratio_2015']"
      ]
     },
     "execution_count": 37,
     "metadata": {},
     "output_type": "execute_result"
    }
   ],
   "source": [
    "ratio_2015_model_features = [el.replace('[T.True]','') for el in ratio_2015_model_features if el != 'Intercept'] + ['ratio_2015']\n",
    "ratio_2015_model_features"
   ]
  },
  {
   "cell_type": "code",
   "execution_count": 40,
   "metadata": {
    "collapsed": false
   },
   "outputs": [
    {
     "name": "stdout",
     "output_type": "stream",
     "text": [
      "(641, 15) (164, 15)\n"
     ]
    }
   ],
   "source": [
    "# feature selected training, testing\n",
    "fs_train_trans_df_ratio_2015 = train_ratio_2015[ratio_2015_model_features].dropna()\n",
    "fs_test_trans_df_ratio_2015 = test_ratio_2015[ratio_2015_model_features].dropna()\n",
    "print fs_train_trans_df_ratio_2015.shape, fs_test_trans_df_ratio_2015.shape"
   ]
  },
  {
   "cell_type": "markdown",
   "metadata": {},
   "source": [
    "#lasso"
   ]
  },
  {
   "cell_type": "code",
   "execution_count": 41,
   "metadata": {
    "collapsed": false
   },
   "outputs": [
    {
     "name": "stdout",
     "output_type": "stream",
     "text": [
      "----- 0.0131919384003 seconds to run ----- \n",
      "---- best alpha = 0.001 ----\n"
     ]
    },
    {
     "name": "stderr",
     "output_type": "stream",
     "text": [
      "//anaconda/lib/python2.7/site-packages/sklearn/linear_model/base.py:424: FutureWarning: elementwise comparison failed; returning scalar instead, but in the future will perform elementwise comparison\n",
      "  if precompute == 'auto':\n"
     ]
    }
   ],
   "source": [
    "from sklearn.linear_model import LassoCV\n",
    "# ratio 2015 only\n",
    "start_time = time.time()\n",
    "\n",
    "X_train = fs_train_trans_df_ratio_2015.drop('ratio_2015',1).values * 1\n",
    "Y_train = fs_train_trans_df_ratio_2015['ratio_2015'].values * 1\n",
    "X_test = fs_test_trans_df_ratio_2015.drop('ratio_2015',1).values * 1\n",
    "Y_test = fs_test_trans_df_ratio_2015['ratio_2015'].values * 1\n",
    "\n",
    "alphas = [0.001, 0.01, 0.1, 1.0, 10.0, 100.0]\n",
    "alphas_temp = [0.001, 0.01]\n",
    "clf_lasso_model = LassoCV(alphas = alphas).fit(X_train, Y_train)\n",
    "best_alpha_lasso = clf_lasso_model.alpha_\n",
    "\n",
    "print '----- %s seconds to run ----- \\n---- best alpha = %s ----'%(time.time() - start_time, best_alpha_lasso)"
   ]
  },
  {
   "cell_type": "code",
   "execution_count": 42,
   "metadata": {
    "collapsed": false
   },
   "outputs": [
    {
     "name": "stdout",
     "output_type": "stream",
     "text": [
      "#### based on the best Linear Regression with Lasso Regularization ####\n",
      "R-squared on training data: 0.91\n",
      "R-squared on test data:     0.88\n",
      "----- 0.00111699104309 seconds to run -----\n"
     ]
    }
   ],
   "source": [
    "# calculate accuracy\n",
    "start_time = time.time()\n",
    "\n",
    "training_accuracy = clf_lasso_model.score(X_train, Y_train)\n",
    "test_accuracy = clf_lasso_model.score(X_test, Y_test)\n",
    "print '#### based on the best Linear Regression with Lasso Regularization ####'\n",
    "print \"R-squared on training data: %0.2f\" % (training_accuracy)\n",
    "print \"R-squared on test data:     %0.2f\" % (test_accuracy)\n",
    "print '----- %s seconds to run -----'%(time.time() - start_time)"
   ]
  },
  {
   "cell_type": "markdown",
   "metadata": {},
   "source": [
    "#ridge"
   ]
  },
  {
   "cell_type": "code",
   "execution_count": 44,
   "metadata": {
    "collapsed": false
   },
   "outputs": [
    {
     "name": "stdout",
     "output_type": "stream",
     "text": [
      "----- 0.00765085220337 seconds to run ----- \n",
      "---- best alpha = 0.01 ----\n"
     ]
    }
   ],
   "source": [
    "from sklearn.linear_model import RidgeCV\n",
    "\n",
    "#ratio only\n",
    "start_time = time.time()\n",
    "\n",
    "X_train = fs_train_trans_df_ratio_2015.drop('ratio_2015',1).values * 1\n",
    "Y_train = fs_train_trans_df_ratio_2015['ratio_2015'].values * 1\n",
    "X_test = fs_test_trans_df_ratio_2015.drop('ratio_2015',1).values * 1\n",
    "Y_test = fs_test_trans_df_ratio_2015['ratio_2015'].values * 1\n",
    "\n",
    "alphas = [0.001, 0.01, 0.1, 1.0, 10.0, 100.0]\n",
    "clf_ridge_model = RidgeCV(alphas = alphas).fit(X_train, Y_train)\n",
    "best_alpha_ridge = clf_ridge_model.alpha_\n",
    "\n",
    "print '----- %s seconds to run ----- \\n---- best alpha = %s ----'%(time.time() - start_time, best_alpha_ridge)"
   ]
  },
  {
   "cell_type": "code",
   "execution_count": 45,
   "metadata": {
    "collapsed": false
   },
   "outputs": [
    {
     "name": "stdout",
     "output_type": "stream",
     "text": [
      "#### based on the best Linear Regression with Ridge Regularization ####\n",
      "R-squared on training data: 0.91\n",
      "R-squared on test data:     0.88\n",
      "----- 0.00111413002014 seconds to run -----\n"
     ]
    }
   ],
   "source": [
    "start_time = time.time()\n",
    "training_accuracy = clf_ridge_model.score(X_train, Y_train)\n",
    "test_accuracy = clf_ridge_model.score(X_test, Y_test)\n",
    "print '#### based on the best Linear Regression with Ridge Regularization ####'\n",
    "print \"R-squared on training data: %0.2f\" % (training_accuracy)\n",
    "print \"R-squared on test data:     %0.2f\" % (test_accuracy)\n",
    "print '----- %s seconds to run -----'%(time.time() - start_time)"
   ]
  },
  {
   "cell_type": "code",
   "execution_count": 52,
   "metadata": {
    "collapsed": false
   },
   "outputs": [
    {
     "data": {
      "text/plain": [
       "18"
      ]
     },
     "execution_count": 52,
     "metadata": {},
     "output_type": "execute_result"
    }
   ],
   "source": [
    "len(pd.read_pickle('data/yelpexport_new.pkl')['zipcode'])"
   ]
  },
  {
   "cell_type": "code",
   "execution_count": null,
   "metadata": {
    "collapsed": true
   },
   "outputs": [],
   "source": []
  }
 ],
 "metadata": {
  "kernelspec": {
   "display_name": "Python 2",
   "language": "python",
   "name": "python2"
  },
  "language_info": {
   "codemirror_mode": {
    "name": "ipython",
    "version": 2
   },
   "file_extension": ".py",
   "mimetype": "text/x-python",
   "name": "python",
   "nbconvert_exporter": "python",
   "pygments_lexer": "ipython2",
   "version": "2.7.10"
  }
 },
 "nbformat": 4,
 "nbformat_minor": 0
}
