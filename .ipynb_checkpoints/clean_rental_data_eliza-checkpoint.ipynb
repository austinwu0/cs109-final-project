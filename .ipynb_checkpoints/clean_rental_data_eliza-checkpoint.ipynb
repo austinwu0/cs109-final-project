{
 "cells": [
  {
   "cell_type": "code",
   "execution_count": 1,
   "metadata": {
    "collapsed": true
   },
   "outputs": [],
   "source": [
    "import numpy as np\n",
    "import pandas as pd"
   ]
  },
  {
   "cell_type": "markdown",
   "metadata": {},
   "source": [
    "## average all months from 2010 2011 to get 2010 avg, average all months from 2014 2015 to get 2014 avg"
   ]
  },
  {
   "cell_type": "code",
   "execution_count": 15,
   "metadata": {
    "collapsed": true
   },
   "outputs": [],
   "source": [
    "rental_raw = pd.read_csv('data/Zip_ZriPerSqft_AllHomes.csv')"
   ]
  },
  {
   "cell_type": "code",
   "execution_count": 16,
   "metadata": {
    "collapsed": false
   },
   "outputs": [
    {
     "data": {
      "text/html": [
       "<div>\n",
       "<table border=\"1\" class=\"dataframe\">\n",
       "  <thead>\n",
       "    <tr style=\"text-align: right;\">\n",
       "      <th></th>\n",
       "      <th>RegionID</th>\n",
       "      <th>RegionName</th>\n",
       "      <th>City</th>\n",
       "      <th>State</th>\n",
       "      <th>Metro</th>\n",
       "      <th>CountyName</th>\n",
       "      <th>SizeRank</th>\n",
       "      <th>2010-11</th>\n",
       "      <th>2010-12</th>\n",
       "      <th>2011-01</th>\n",
       "      <th>...</th>\n",
       "      <th>2015-01</th>\n",
       "      <th>2015-02</th>\n",
       "      <th>2015-03</th>\n",
       "      <th>2015-04</th>\n",
       "      <th>2015-05</th>\n",
       "      <th>2015-06</th>\n",
       "      <th>2015-07</th>\n",
       "      <th>2015-08</th>\n",
       "      <th>2015-09</th>\n",
       "      <th>2015-10</th>\n",
       "    </tr>\n",
       "  </thead>\n",
       "  <tbody>\n",
       "    <tr>\n",
       "      <th>0</th>\n",
       "      <td>62080</td>\n",
       "      <td>11368</td>\n",
       "      <td>New York</td>\n",
       "      <td>NY</td>\n",
       "      <td>New York</td>\n",
       "      <td>Queens</td>\n",
       "      <td>1</td>\n",
       "      <td>NaN</td>\n",
       "      <td>NaN</td>\n",
       "      <td>NaN</td>\n",
       "      <td>...</td>\n",
       "      <td>2.298</td>\n",
       "      <td>2.306</td>\n",
       "      <td>2.310</td>\n",
       "      <td>2.306</td>\n",
       "      <td>2.290</td>\n",
       "      <td>2.284</td>\n",
       "      <td>2.280</td>\n",
       "      <td>2.312</td>\n",
       "      <td>2.354</td>\n",
       "      <td>2.404</td>\n",
       "    </tr>\n",
       "    <tr>\n",
       "      <th>1</th>\n",
       "      <td>93144</td>\n",
       "      <td>79936</td>\n",
       "      <td>El Paso</td>\n",
       "      <td>TX</td>\n",
       "      <td>El Paso</td>\n",
       "      <td>El Paso</td>\n",
       "      <td>2</td>\n",
       "      <td>0.760</td>\n",
       "      <td>0.760</td>\n",
       "      <td>0.756</td>\n",
       "      <td>...</td>\n",
       "      <td>0.726</td>\n",
       "      <td>0.730</td>\n",
       "      <td>0.732</td>\n",
       "      <td>0.736</td>\n",
       "      <td>0.736</td>\n",
       "      <td>0.738</td>\n",
       "      <td>0.740</td>\n",
       "      <td>0.742</td>\n",
       "      <td>0.742</td>\n",
       "      <td>0.742</td>\n",
       "    </tr>\n",
       "    <tr>\n",
       "      <th>2</th>\n",
       "      <td>84630</td>\n",
       "      <td>60629</td>\n",
       "      <td>Chicago</td>\n",
       "      <td>IL</td>\n",
       "      <td>Chicago</td>\n",
       "      <td>Cook</td>\n",
       "      <td>3</td>\n",
       "      <td>1.194</td>\n",
       "      <td>1.212</td>\n",
       "      <td>1.222</td>\n",
       "      <td>...</td>\n",
       "      <td>1.246</td>\n",
       "      <td>1.238</td>\n",
       "      <td>1.238</td>\n",
       "      <td>1.240</td>\n",
       "      <td>1.238</td>\n",
       "      <td>1.240</td>\n",
       "      <td>1.244</td>\n",
       "      <td>1.254</td>\n",
       "      <td>1.258</td>\n",
       "      <td>1.258</td>\n",
       "    </tr>\n",
       "  </tbody>\n",
       "</table>\n",
       "<p>3 rows × 67 columns</p>\n",
       "</div>"
      ],
      "text/plain": [
       "   RegionID  RegionName      City State     Metro CountyName  SizeRank  \\\n",
       "0     62080       11368  New York    NY  New York     Queens         1   \n",
       "1     93144       79936   El Paso    TX   El Paso    El Paso         2   \n",
       "2     84630       60629   Chicago    IL   Chicago       Cook         3   \n",
       "\n",
       "   2010-11  2010-12  2011-01   ...     2015-01  2015-02  2015-03  2015-04  \\\n",
       "0      NaN      NaN      NaN   ...       2.298    2.306    2.310    2.306   \n",
       "1    0.760    0.760    0.756   ...       0.726    0.730    0.732    0.736   \n",
       "2    1.194    1.212    1.222   ...       1.246    1.238    1.238    1.240   \n",
       "\n",
       "   2015-05  2015-06  2015-07  2015-08  2015-09  2015-10  \n",
       "0    2.290    2.284    2.280    2.312    2.354    2.404  \n",
       "1    0.736    0.738    0.740    0.742    0.742    0.742  \n",
       "2    1.238    1.240    1.244    1.254    1.258    1.258  \n",
       "\n",
       "[3 rows x 67 columns]"
      ]
     },
     "execution_count": 16,
     "metadata": {},
     "output_type": "execute_result"
    }
   ],
   "source": [
    "rental_raw.head(3)"
   ]
  },
  {
   "cell_type": "code",
   "execution_count": 23,
   "metadata": {
    "collapsed": false
   },
   "outputs": [],
   "source": [
    "col_11 = [col for col in rental_raw.columns if '2011' in col]\n",
    "col_14_15 = rental_raw.columns[-12:]\n",
    "rental_raw['agg_2011'] = rental_raw[col_11].mean(axis=1)\n",
    "rental_raw['agg_2015'] = rental_raw[col_14_15].mean(axis=1)\n",
    "rental_raw = rental_raw[['RegionName','agg_2011','agg_2015']]\n",
    "\n",
    "infl_rate = 1.0573\n",
    "rental_raw['agg_2015_adj'] = rental_raw.agg_2015/infl_rate\n",
    "rental_raw['pct_delta'] = rental_raw.agg_2015_adj/rental_raw.agg_2011"
   ]
  },
  {
   "cell_type": "code",
   "execution_count": 25,
   "metadata": {
    "collapsed": true
   },
   "outputs": [],
   "source": [
    "rental_raw.drop('agg_2015',1).to_pickle('data/response_rental.pkl')"
   ]
  },
  {
   "cell_type": "code",
   "execution_count": 24,
   "metadata": {
    "collapsed": false
   },
   "outputs": [
    {
     "data": {
      "text/html": [
       "<div>\n",
       "<table border=\"1\" class=\"dataframe\">\n",
       "  <thead>\n",
       "    <tr style=\"text-align: right;\">\n",
       "      <th></th>\n",
       "      <th>RegionName</th>\n",
       "      <th>agg_2011</th>\n",
       "      <th>agg_2015</th>\n",
       "      <th>agg_2015_adj</th>\n",
       "      <th>pct_delta</th>\n",
       "    </tr>\n",
       "  </thead>\n",
       "  <tbody>\n",
       "    <tr>\n",
       "      <th>0</th>\n",
       "      <td>11368</td>\n",
       "      <td>1.868000</td>\n",
       "      <td>3790.714009</td>\n",
       "      <td>3585.277603</td>\n",
       "      <td>1919.313492</td>\n",
       "    </tr>\n",
       "    <tr>\n",
       "      <th>1</th>\n",
       "      <td>79936</td>\n",
       "      <td>0.744167</td>\n",
       "      <td>26645.827061</td>\n",
       "      <td>25201.765876</td>\n",
       "      <td>33865.754816</td>\n",
       "    </tr>\n",
       "    <tr>\n",
       "      <th>2</th>\n",
       "      <td>60629</td>\n",
       "      <td>1.197000</td>\n",
       "      <td>20210.479363</td>\n",
       "      <td>19115.179574</td>\n",
       "      <td>15969.239410</td>\n",
       "    </tr>\n",
       "    <tr>\n",
       "      <th>3</th>\n",
       "      <td>90650</td>\n",
       "      <td>1.524333</td>\n",
       "      <td>30217.749431</td>\n",
       "      <td>28580.109176</td>\n",
       "      <td>18749.251591</td>\n",
       "    </tr>\n",
       "    <tr>\n",
       "      <th>4</th>\n",
       "      <td>11226</td>\n",
       "      <td>1.014000</td>\n",
       "      <td>3742.778644</td>\n",
       "      <td>3539.940077</td>\n",
       "      <td>3491.065165</td>\n",
       "    </tr>\n",
       "    <tr>\n",
       "      <th>5</th>\n",
       "      <td>11385</td>\n",
       "      <td>1.254000</td>\n",
       "      <td>3795.930282</td>\n",
       "      <td>3590.211182</td>\n",
       "      <td>2863.007322</td>\n",
       "    </tr>\n",
       "    <tr>\n",
       "      <th>6</th>\n",
       "      <td>10467</td>\n",
       "      <td>1.040000</td>\n",
       "      <td>3489.743685</td>\n",
       "      <td>3300.618259</td>\n",
       "      <td>3173.671403</td>\n",
       "    </tr>\n",
       "    <tr>\n",
       "      <th>7</th>\n",
       "      <td>11220</td>\n",
       "      <td>1.636000</td>\n",
       "      <td>3741.224560</td>\n",
       "      <td>3538.470217</td>\n",
       "      <td>2162.879106</td>\n",
       "    </tr>\n",
       "    <tr>\n",
       "      <th>8</th>\n",
       "      <td>90201</td>\n",
       "      <td>1.459667</td>\n",
       "      <td>30068.042643</td>\n",
       "      <td>28438.515694</td>\n",
       "      <td>19482.883553</td>\n",
       "    </tr>\n",
       "    <tr>\n",
       "      <th>9</th>\n",
       "      <td>90280</td>\n",
       "      <td>1.459833</td>\n",
       "      <td>30094.371324</td>\n",
       "      <td>28463.417501</td>\n",
       "      <td>19497.717206</td>\n",
       "    </tr>\n",
       "  </tbody>\n",
       "</table>\n",
       "</div>"
      ],
      "text/plain": [
       "   RegionName  agg_2011      agg_2015  agg_2015_adj     pct_delta\n",
       "0       11368  1.868000   3790.714009   3585.277603   1919.313492\n",
       "1       79936  0.744167  26645.827061  25201.765876  33865.754816\n",
       "2       60629  1.197000  20210.479363  19115.179574  15969.239410\n",
       "3       90650  1.524333  30217.749431  28580.109176  18749.251591\n",
       "4       11226  1.014000   3742.778644   3539.940077   3491.065165\n",
       "5       11385  1.254000   3795.930282   3590.211182   2863.007322\n",
       "6       10467  1.040000   3489.743685   3300.618259   3173.671403\n",
       "7       11220  1.636000   3741.224560   3538.470217   2162.879106\n",
       "8       90201  1.459667  30068.042643  28438.515694  19482.883553\n",
       "9       90280  1.459833  30094.371324  28463.417501  19497.717206"
      ]
     },
     "execution_count": 24,
     "metadata": {},
     "output_type": "execute_result"
    }
   ],
   "source": [
    "rental_raw.head(10)"
   ]
  },
  {
   "cell_type": "code",
   "execution_count": null,
   "metadata": {
    "collapsed": true
   },
   "outputs": [],
   "source": []
  }
 ],
 "metadata": {
  "kernelspec": {
   "display_name": "Python 2",
   "language": "python",
   "name": "python2"
  },
  "language_info": {
   "codemirror_mode": {
    "name": "ipython",
    "version": 2
   },
   "file_extension": ".py",
   "mimetype": "text/x-python",
   "name": "python",
   "nbconvert_exporter": "python",
   "pygments_lexer": "ipython2",
   "version": "2.7.10"
  }
 },
 "nbformat": 4,
 "nbformat_minor": 0
}
