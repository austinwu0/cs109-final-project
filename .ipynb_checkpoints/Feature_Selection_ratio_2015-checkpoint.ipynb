{
 "cells": [
  {
   "cell_type": "code",
   "execution_count": 1,
   "metadata": {
    "collapsed": true
   },
   "outputs": [],
   "source": [
    "%matplotlib inline\n",
    "import numpy as np\n",
    "import scipy as sp\n",
    "import matplotlib as mpl\n",
    "import matplotlib.cm as cm\n",
    "import matplotlib.pyplot as plt\n",
    "import pandas as pd\n",
    "pd.set_option('display.width', 500)\n",
    "pd.set_option('display.max_columns', 100)\n",
    "pd.set_option('display.notebook_repr_html', True)\n",
    "import seaborn as sns\n",
    "sns.set_style(\"whitegrid\")\n",
    "sns.set_context(\"poster\")"
   ]
  },
  {
   "cell_type": "code",
   "execution_count": 2,
   "metadata": {
    "collapsed": false
   },
   "outputs": [],
   "source": [
    "# with help from http://planspace.org/20150423-forward_selection_with_statsmodels/\n",
    "import statsmodels.formula.api as smf\n",
    "\n",
    "def forward_selected(data, response):\n",
    "    \"\"\"Linear model designed by forward selection.\n",
    "\n",
    "    Parameters:\n",
    "    -----------\n",
    "    data : pandas DataFrame with all possible predictors and response\n",
    "\n",
    "    response: string, name of response column in data\n",
    "\n",
    "    Returns:\n",
    "    --------\n",
    "    model: an \"optimal\" fitted statsmodels linear model\n",
    "           with an intercept\n",
    "           selected by forward selection\n",
    "           evaluated by adjusted R-squared\n",
    "    \"\"\"\n",
    "    \n",
    "    remaining = set(data.columns)\n",
    "    remaining.remove(response)\n",
    "    selected = []\n",
    "    current_score, best_new_score = 0.0, 0.0\n",
    "    while remaining and current_score == best_new_score:\n",
    "        scores_with_candidates = []\n",
    "        for candidate in remaining:\n",
    "            formula = \"{} ~ {} + 1\".format(response, ' + '.join(selected + [candidate]))\n",
    "            score = smf.ols(formula, data).fit().rsquared_adj\n",
    "            scores_with_candidates.append((score, candidate))\n",
    "        scores_with_candidates.sort()\n",
    "        best_new_score, best_candidate = scores_with_candidates.pop()\n",
    "        if current_score < (best_new_score * 1):\n",
    "            remaining.remove(best_candidate)\n",
    "            selected.append(best_candidate)\n",
    "            current_score = best_new_score\n",
    "    formula = \"{} ~ {} + 1\".format(response, ' + '.join(selected))\n",
    "    \n",
    "    model = smf.ols(formula, data).fit()\n",
    "    return (model, formula)"
   ]
  },
  {
   "cell_type": "markdown",
   "metadata": {},
   "source": [
    "### - house/rental ratio 2015 (below)"
   ]
  },
  {
   "cell_type": "code",
   "execution_count": 6,
   "metadata": {
    "collapsed": false
   },
   "outputs": [
    {
     "name": "stderr",
     "output_type": "stream",
     "text": [
      "/Users/princess_eliza/anaconda/lib/python2.7/site-packages/ipykernel/__main__.py:6: SettingWithCopyWarning: \n",
      "A value is trying to be set on a copy of a slice from a DataFrame.\n",
      "Try using .loc[row_indexer,col_indexer] = value instead\n",
      "\n",
      "See the caveats in the documentation: http://pandas.pydata.org/pandas-docs/stable/indexing.html#indexing-view-versus-copy\n"
     ]
    }
   ],
   "source": [
    "ratio_response = pd.read_pickle('data/housing_rental_ratio.pkl')\n",
    "ratio_response = ratio_response.rename(columns = {'RegionName': 'zipcode'})\n",
    "\n",
    "ratio_2015_response = ratio_response[['zipcode','ratio_2015']]\n",
    "\n",
    "ratio_2015_response['zipcode'] = ratio_2015_response['zipcode'].astype('str')\n",
    "# create ratio_2011 feature to be predictor!\n",
    "ratio_2011_feature = ratio_response[['zipcode','ratio_2011']]"
   ]
  },
  {
   "cell_type": "code",
   "execution_count": 7,
   "metadata": {
    "collapsed": false
   },
   "outputs": [
    {
     "data": {
      "text/html": [
       "<div>\n",
       "<table border=\"1\" class=\"dataframe\">\n",
       "  <thead>\n",
       "    <tr style=\"text-align: right;\">\n",
       "      <th></th>\n",
       "      <th>zipcode</th>\n",
       "      <th>ratio_2011</th>\n",
       "    </tr>\n",
       "  </thead>\n",
       "  <tbody>\n",
       "    <tr>\n",
       "      <th>0</th>\n",
       "      <td>11368</td>\n",
       "      <td>200.124911</td>\n",
       "    </tr>\n",
       "    <tr>\n",
       "      <th>1</th>\n",
       "      <td>79936</td>\n",
       "      <td>107.950728</td>\n",
       "    </tr>\n",
       "    <tr>\n",
       "      <th>2</th>\n",
       "      <td>60629</td>\n",
       "      <td>89.529379</td>\n",
       "    </tr>\n",
       "  </tbody>\n",
       "</table>\n",
       "</div>"
      ],
      "text/plain": [
       "   zipcode  ratio_2011\n",
       "0    11368  200.124911\n",
       "1    79936  107.950728\n",
       "2    60629   89.529379"
      ]
     },
     "execution_count": 7,
     "metadata": {},
     "output_type": "execute_result"
    }
   ],
   "source": [
    "ratio_2011_feature.head(3)"
   ]
  },
  {
   "cell_type": "code",
   "execution_count": 5,
   "metadata": {
    "collapsed": false
   },
   "outputs": [
    {
     "data": {
      "text/html": [
       "<div>\n",
       "<table border=\"1\" class=\"dataframe\">\n",
       "  <thead>\n",
       "    <tr style=\"text-align: right;\">\n",
       "      <th></th>\n",
       "      <th>zipcode</th>\n",
       "      <th>ratio_pct_delta</th>\n",
       "    </tr>\n",
       "  </thead>\n",
       "  <tbody>\n",
       "    <tr>\n",
       "      <th>0</th>\n",
       "      <td>11368</td>\n",
       "      <td>0.984804</td>\n",
       "    </tr>\n",
       "    <tr>\n",
       "      <th>1</th>\n",
       "      <td>79936</td>\n",
       "      <td>1.001354</td>\n",
       "    </tr>\n",
       "    <tr>\n",
       "      <th>2</th>\n",
       "      <td>60629</td>\n",
       "      <td>1.073514</td>\n",
       "    </tr>\n",
       "  </tbody>\n",
       "</table>\n",
       "</div>"
      ],
      "text/plain": [
       "  zipcode  ratio_pct_delta\n",
       "0   11368         0.984804\n",
       "1   79936         1.001354\n",
       "2   60629         1.073514"
      ]
     },
     "execution_count": 5,
     "metadata": {},
     "output_type": "execute_result"
    }
   ],
   "source": [
    "ratio_delta_response.head(3)"
   ]
  },
  {
   "cell_type": "code",
   "execution_count": 6,
   "metadata": {
    "collapsed": false
   },
   "outputs": [
    {
     "data": {
      "text/html": [
       "<div>\n",
       "<table border=\"1\" class=\"dataframe\">\n",
       "  <thead>\n",
       "    <tr style=\"text-align: right;\">\n",
       "      <th></th>\n",
       "      <th>zipcode</th>\n",
       "      <th>ratio_2015</th>\n",
       "    </tr>\n",
       "  </thead>\n",
       "  <tbody>\n",
       "    <tr>\n",
       "      <th>0</th>\n",
       "      <td>11368</td>\n",
       "      <td>197.083754</td>\n",
       "    </tr>\n",
       "    <tr>\n",
       "      <th>1</th>\n",
       "      <td>79936</td>\n",
       "      <td>108.096860</td>\n",
       "    </tr>\n",
       "    <tr>\n",
       "      <th>2</th>\n",
       "      <td>60629</td>\n",
       "      <td>96.111037</td>\n",
       "    </tr>\n",
       "  </tbody>\n",
       "</table>\n",
       "</div>"
      ],
      "text/plain": [
       "  zipcode  ratio_2015\n",
       "0   11368  197.083754\n",
       "1   79936  108.096860\n",
       "2   60629   96.111037"
      ]
     },
     "execution_count": 6,
     "metadata": {},
     "output_type": "execute_result"
    }
   ],
   "source": [
    "ratio_2015_response.head(3)"
   ]
  },
  {
   "cell_type": "code",
   "execution_count": 7,
   "metadata": {
    "collapsed": false
   },
   "outputs": [
    {
     "data": {
      "text/html": [
       "<div>\n",
       "<table border=\"1\" class=\"dataframe\">\n",
       "  <thead>\n",
       "    <tr style=\"text-align: right;\">\n",
       "      <th></th>\n",
       "      <th>zipcode</th>\n",
       "      <th>pct_delta</th>\n",
       "    </tr>\n",
       "  </thead>\n",
       "  <tbody>\n",
       "    <tr>\n",
       "      <th>1</th>\n",
       "      <td>79936</td>\n",
       "      <td>0.173843</td>\n",
       "    </tr>\n",
       "    <tr>\n",
       "      <th>2</th>\n",
       "      <td>60629</td>\n",
       "      <td>0.085907</td>\n",
       "    </tr>\n",
       "    <tr>\n",
       "      <th>3</th>\n",
       "      <td>90650</td>\n",
       "      <td>0.426587</td>\n",
       "    </tr>\n",
       "  </tbody>\n",
       "</table>\n",
       "</div>"
      ],
      "text/plain": [
       "  zipcode  pct_delta\n",
       "1   79936   0.173843\n",
       "2   60629   0.085907\n",
       "3   90650   0.426587"
      ]
     },
     "execution_count": 7,
     "metadata": {},
     "output_type": "execute_result"
    }
   ],
   "source": [
    "response.head(3)"
   ]
  },
  {
   "cell_type": "code",
   "execution_count": 10,
   "metadata": {
    "collapsed": false
   },
   "outputs": [
    {
     "data": {
      "text/plain": [
       "(str, numpy.int64)"
      ]
     },
     "execution_count": 10,
     "metadata": {},
     "output_type": "execute_result"
    }
   ],
   "source": [
    "type(features_t.zipcode[0]), type(ratio_2011_feature.zipcode[0])"
   ]
  },
  {
   "cell_type": "code",
   "execution_count": 12,
   "metadata": {
    "collapsed": false
   },
   "outputs": [
    {
     "name": "stdout",
     "output_type": "stream",
     "text": [
      "(27653, 64)\n",
      "(10306, 65)\n"
     ]
    },
    {
     "name": "stderr",
     "output_type": "stream",
     "text": [
      "/Users/princess_eliza/anaconda/lib/python2.7/site-packages/ipykernel/__main__.py:10: SettingWithCopyWarning: \n",
      "A value is trying to be set on a copy of a slice from a DataFrame.\n",
      "Try using .loc[row_indexer,col_indexer] = value instead\n",
      "\n",
      "See the caveats in the documentation: http://pandas.pydata.org/pandas-docs/stable/indexing.html#indexing-view-versus-copy\n"
     ]
    },
    {
     "data": {
      "text/html": [
       "<div>\n",
       "<table border=\"1\" class=\"dataframe\">\n",
       "  <thead>\n",
       "    <tr style=\"text-align: right;\">\n",
       "      <th></th>\n",
       "      <th>zipcode</th>\n",
       "      <th>prison</th>\n",
       "      <th>jail</th>\n",
       "      <th>A001</th>\n",
       "      <th>A002</th>\n",
       "      <th>A003</th>\n",
       "      <th>A004</th>\n",
       "      <th>A005</th>\n",
       "      <th>A006</th>\n",
       "      <th>A007</th>\n",
       "      <th>A008</th>\n",
       "      <th>A009</th>\n",
       "      <th>A010</th>\n",
       "      <th>A011</th>\n",
       "      <th>A012</th>\n",
       "      <th>A013</th>\n",
       "      <th>A014</th>\n",
       "      <th>A015</th>\n",
       "      <th>A016</th>\n",
       "      <th>A017</th>\n",
       "      <th>A018</th>\n",
       "      <th>A019</th>\n",
       "      <th>A020</th>\n",
       "      <th>A021</th>\n",
       "      <th>A022</th>\n",
       "      <th>A023</th>\n",
       "      <th>A024</th>\n",
       "      <th>A025</th>\n",
       "      <th>A026</th>\n",
       "      <th>A027</th>\n",
       "      <th>A028</th>\n",
       "      <th>A029</th>\n",
       "      <th>A030</th>\n",
       "      <th>A031</th>\n",
       "      <th>A032</th>\n",
       "      <th>A033</th>\n",
       "      <th>A034</th>\n",
       "      <th>A035</th>\n",
       "      <th>A036</th>\n",
       "      <th>A037</th>\n",
       "      <th>A038</th>\n",
       "      <th>A039</th>\n",
       "      <th>A040</th>\n",
       "      <th>A041</th>\n",
       "      <th>A042</th>\n",
       "      <th>A043</th>\n",
       "      <th>A044</th>\n",
       "      <th>A045</th>\n",
       "      <th>A046</th>\n",
       "      <th>A047</th>\n",
       "      <th>A048</th>\n",
       "      <th>A049</th>\n",
       "      <th>A050</th>\n",
       "      <th>A051</th>\n",
       "      <th>A052</th>\n",
       "      <th>A053</th>\n",
       "      <th>A054</th>\n",
       "      <th>A055</th>\n",
       "      <th>A056</th>\n",
       "      <th>n_establishments</th>\n",
       "      <th>paid_employees</th>\n",
       "      <th>first_quarter_payroll_1000</th>\n",
       "      <th>annual_payroll_1000</th>\n",
       "      <th>median_income</th>\n",
       "      <th>ratio_2011</th>\n",
       "    </tr>\n",
       "  </thead>\n",
       "  <tbody>\n",
       "    <tr>\n",
       "      <th>0</th>\n",
       "      <td>10001</td>\n",
       "      <td>0</td>\n",
       "      <td>0</td>\n",
       "      <td>0.693919</td>\n",
       "      <td>-2.035690</td>\n",
       "      <td>-1.137657</td>\n",
       "      <td>2.242169</td>\n",
       "      <td>1.909501</td>\n",
       "      <td>-0.215505</td>\n",
       "      <td>-0.875854</td>\n",
       "      <td>-0.589921</td>\n",
       "      <td>-0.528927</td>\n",
       "      <td>-0.107188</td>\n",
       "      <td>-0.335147</td>\n",
       "      <td>-1.940542</td>\n",
       "      <td>-1.806799</td>\n",
       "      <td>1.028473</td>\n",
       "      <td>1.878019</td>\n",
       "      <td>0.762261</td>\n",
       "      <td>-0.452334</td>\n",
       "      <td>-0.686059</td>\n",
       "      <td>-0.598146</td>\n",
       "      <td>-0.247528</td>\n",
       "      <td>0.399069</td>\n",
       "      <td>-2.017984</td>\n",
       "      <td>-0.226312</td>\n",
       "      <td>3.482684</td>\n",
       "      <td>1.303993</td>\n",
       "      <td>-1.207462</td>\n",
       "      <td>-1.130978</td>\n",
       "      <td>-0.415442</td>\n",
       "      <td>-0.397356</td>\n",
       "      <td>0.239734</td>\n",
       "      <td>-0.839335</td>\n",
       "      <td>0.823987</td>\n",
       "      <td>-0.148037</td>\n",
       "      <td>2.839064</td>\n",
       "      <td>-0.132979</td>\n",
       "      <td>1.215809</td>\n",
       "      <td>-3.484015</td>\n",
       "      <td>-1.263834</td>\n",
       "      <td>-1.685160</td>\n",
       "      <td>-0.502713</td>\n",
       "      <td>-0.823262</td>\n",
       "      <td>3.340543</td>\n",
       "      <td>2.816061</td>\n",
       "      <td>0.185974</td>\n",
       "      <td>2.824034</td>\n",
       "      <td>0.367764</td>\n",
       "      <td>-2.236204</td>\n",
       "      <td>-0.944324</td>\n",
       "      <td>0.276469</td>\n",
       "      <td>0.001264</td>\n",
       "      <td>1.648459</td>\n",
       "      <td>-0.684705</td>\n",
       "      <td>-1.832175</td>\n",
       "      <td>-0.789956</td>\n",
       "      <td>1.165569</td>\n",
       "      <td>-1.382144</td>\n",
       "      <td>2.711530</td>\n",
       "      <td>2.442075</td>\n",
       "      <td>13.534164</td>\n",
       "      <td>16.006621</td>\n",
       "      <td>0.703002</td>\n",
       "      <td>271.597187</td>\n",
       "    </tr>\n",
       "    <tr>\n",
       "      <th>1</th>\n",
       "      <td>10003</td>\n",
       "      <td>0</td>\n",
       "      <td>0</td>\n",
       "      <td>3.117907</td>\n",
       "      <td>-2.355200</td>\n",
       "      <td>-0.356245</td>\n",
       "      <td>2.797262</td>\n",
       "      <td>2.289601</td>\n",
       "      <td>-1.112850</td>\n",
       "      <td>-1.362891</td>\n",
       "      <td>-0.767277</td>\n",
       "      <td>-0.806043</td>\n",
       "      <td>-0.478903</td>\n",
       "      <td>-0.465877</td>\n",
       "      <td>-2.323748</td>\n",
       "      <td>-0.895913</td>\n",
       "      <td>1.642207</td>\n",
       "      <td>1.878019</td>\n",
       "      <td>-0.446624</td>\n",
       "      <td>-1.176983</td>\n",
       "      <td>-0.731887</td>\n",
       "      <td>-0.790664</td>\n",
       "      <td>-0.535884</td>\n",
       "      <td>0.529773</td>\n",
       "      <td>-2.187855</td>\n",
       "      <td>0.278567</td>\n",
       "      <td>3.851464</td>\n",
       "      <td>2.137875</td>\n",
       "      <td>-1.538442</td>\n",
       "      <td>-1.348144</td>\n",
       "      <td>-0.665262</td>\n",
       "      <td>-0.731682</td>\n",
       "      <td>-0.509032</td>\n",
       "      <td>-0.290447</td>\n",
       "      <td>0.179201</td>\n",
       "      <td>-0.176487</td>\n",
       "      <td>2.649621</td>\n",
       "      <td>-0.132979</td>\n",
       "      <td>0.538816</td>\n",
       "      <td>-3.840464</td>\n",
       "      <td>-1.684591</td>\n",
       "      <td>-1.685160</td>\n",
       "      <td>-1.281096</td>\n",
       "      <td>-1.289070</td>\n",
       "      <td>3.692071</td>\n",
       "      <td>2.754423</td>\n",
       "      <td>0.079356</td>\n",
       "      <td>3.476413</td>\n",
       "      <td>-0.062797</td>\n",
       "      <td>-2.504006</td>\n",
       "      <td>-1.330566</td>\n",
       "      <td>0.514232</td>\n",
       "      <td>-0.473715</td>\n",
       "      <td>0.320747</td>\n",
       "      <td>-0.299052</td>\n",
       "      <td>-2.040341</td>\n",
       "      <td>-1.172711</td>\n",
       "      <td>1.724085</td>\n",
       "      <td>-1.597475</td>\n",
       "      <td>2.366411</td>\n",
       "      <td>2.158851</td>\n",
       "      <td>8.050092</td>\n",
       "      <td>9.806025</td>\n",
       "      <td>1.623292</td>\n",
       "      <td>286.730050</td>\n",
       "    </tr>\n",
       "    <tr>\n",
       "      <th>2</th>\n",
       "      <td>10004</td>\n",
       "      <td>0</td>\n",
       "      <td>0</td>\n",
       "      <td>-0.556390</td>\n",
       "      <td>-0.699556</td>\n",
       "      <td>-2.407451</td>\n",
       "      <td>2.764609</td>\n",
       "      <td>5.267054</td>\n",
       "      <td>0.179326</td>\n",
       "      <td>-1.821279</td>\n",
       "      <td>-1.628721</td>\n",
       "      <td>-1.810587</td>\n",
       "      <td>-1.296676</td>\n",
       "      <td>0.492813</td>\n",
       "      <td>-0.462461</td>\n",
       "      <td>-2.327306</td>\n",
       "      <td>1.961348</td>\n",
       "      <td>4.336497</td>\n",
       "      <td>0.416865</td>\n",
       "      <td>-1.435786</td>\n",
       "      <td>-1.327644</td>\n",
       "      <td>-1.432390</td>\n",
       "      <td>-2.081362</td>\n",
       "      <td>-0.428727</td>\n",
       "      <td>-0.942131</td>\n",
       "      <td>-2.016337</td>\n",
       "      <td>3.298295</td>\n",
       "      <td>4.960244</td>\n",
       "      <td>-0.214522</td>\n",
       "      <td>-1.945349</td>\n",
       "      <td>-1.764473</td>\n",
       "      <td>-2.002121</td>\n",
       "      <td>-2.456670</td>\n",
       "      <td>-0.588965</td>\n",
       "      <td>0.104032</td>\n",
       "      <td>-0.162262</td>\n",
       "      <td>3.127999</td>\n",
       "      <td>-0.132979</td>\n",
       "      <td>0.312607</td>\n",
       "      <td>-2.976074</td>\n",
       "      <td>-1.579402</td>\n",
       "      <td>-1.334279</td>\n",
       "      <td>-1.332988</td>\n",
       "      <td>-1.172618</td>\n",
       "      <td>2.625366</td>\n",
       "      <td>2.672240</td>\n",
       "      <td>-1.093438</td>\n",
       "      <td>1.763917</td>\n",
       "      <td>-1.846551</td>\n",
       "      <td>-1.797008</td>\n",
       "      <td>-2.742765</td>\n",
       "      <td>-0.497958</td>\n",
       "      <td>0.941754</td>\n",
       "      <td>0.425055</td>\n",
       "      <td>3.634604</td>\n",
       "      <td>-1.624009</td>\n",
       "      <td>-0.892024</td>\n",
       "      <td>0.102974</td>\n",
       "      <td>-1.323417</td>\n",
       "      <td>1.708130</td>\n",
       "      <td>2.006364</td>\n",
       "      <td>47.196053</td>\n",
       "      <td>24.213028</td>\n",
       "      <td>3.341571</td>\n",
       "      <td>250.959497</td>\n",
       "    </tr>\n",
       "    <tr>\n",
       "      <th>3</th>\n",
       "      <td>10005</td>\n",
       "      <td>0</td>\n",
       "      <td>0</td>\n",
       "      <td>-0.275551</td>\n",
       "      <td>-2.180922</td>\n",
       "      <td>-2.846995</td>\n",
       "      <td>6.046188</td>\n",
       "      <td>5.425430</td>\n",
       "      <td>-1.543575</td>\n",
       "      <td>-3.081846</td>\n",
       "      <td>-2.414156</td>\n",
       "      <td>-2.191621</td>\n",
       "      <td>-1.408190</td>\n",
       "      <td>-0.335147</td>\n",
       "      <td>-2.214260</td>\n",
       "      <td>-2.674310</td>\n",
       "      <td>3.630704</td>\n",
       "      <td>4.673935</td>\n",
       "      <td>-0.849586</td>\n",
       "      <td>-2.678041</td>\n",
       "      <td>-2.198366</td>\n",
       "      <td>-1.881598</td>\n",
       "      <td>-2.632966</td>\n",
       "      <td>0.399069</td>\n",
       "      <td>-1.961360</td>\n",
       "      <td>-2.521216</td>\n",
       "      <td>8.203060</td>\n",
       "      <td>4.767810</td>\n",
       "      <td>-1.869422</td>\n",
       "      <td>-3.031178</td>\n",
       "      <td>-2.414006</td>\n",
       "      <td>-2.269582</td>\n",
       "      <td>-2.675849</td>\n",
       "      <td>-0.593780</td>\n",
       "      <td>0.161055</td>\n",
       "      <td>-0.190712</td>\n",
       "      <td>3.098202</td>\n",
       "      <td>-0.132979</td>\n",
       "      <td>0.473000</td>\n",
       "      <td>-4.098890</td>\n",
       "      <td>-1.579402</td>\n",
       "      <td>-1.685160</td>\n",
       "      <td>-1.367583</td>\n",
       "      <td>-1.405522</td>\n",
       "      <td>2.928407</td>\n",
       "      <td>2.692786</td>\n",
       "      <td>-1.573217</td>\n",
       "      <td>2.273588</td>\n",
       "      <td>-2.000323</td>\n",
       "      <td>-2.632551</td>\n",
       "      <td>-3.141078</td>\n",
       "      <td>-0.294162</td>\n",
       "      <td>0.746855</td>\n",
       "      <td>0.952329</td>\n",
       "      <td>3.094691</td>\n",
       "      <td>-1.947823</td>\n",
       "      <td>-1.478914</td>\n",
       "      <td>0.643684</td>\n",
       "      <td>-1.499597</td>\n",
       "      <td>1.647646</td>\n",
       "      <td>1.875059</td>\n",
       "      <td>19.026526</td>\n",
       "      <td>12.931793</td>\n",
       "      <td>2.918581</td>\n",
       "      <td>237.300228</td>\n",
       "    </tr>\n",
       "    <tr>\n",
       "      <th>4</th>\n",
       "      <td>10006</td>\n",
       "      <td>0</td>\n",
       "      <td>0</td>\n",
       "      <td>-0.561804</td>\n",
       "      <td>-2.471386</td>\n",
       "      <td>-2.724899</td>\n",
       "      <td>5.882925</td>\n",
       "      <td>5.868880</td>\n",
       "      <td>-1.794832</td>\n",
       "      <td>-2.909951</td>\n",
       "      <td>-2.338146</td>\n",
       "      <td>-2.122342</td>\n",
       "      <td>-1.445362</td>\n",
       "      <td>0.122410</td>\n",
       "      <td>-2.433235</td>\n",
       "      <td>-2.500808</td>\n",
       "      <td>3.778000</td>\n",
       "      <td>5.107785</td>\n",
       "      <td>-0.964718</td>\n",
       "      <td>-2.470999</td>\n",
       "      <td>-2.015056</td>\n",
       "      <td>-1.817425</td>\n",
       "      <td>-2.344610</td>\n",
       "      <td>-0.058397</td>\n",
       "      <td>-2.301103</td>\n",
       "      <td>-2.475318</td>\n",
       "      <td>7.613013</td>\n",
       "      <td>5.024389</td>\n",
       "      <td>-2.200402</td>\n",
       "      <td>-2.868303</td>\n",
       "      <td>-2.414006</td>\n",
       "      <td>-2.202717</td>\n",
       "      <td>-2.915932</td>\n",
       "      <td>-0.632299</td>\n",
       "      <td>0.341240</td>\n",
       "      <td>-0.190712</td>\n",
       "      <td>3.030157</td>\n",
       "      <td>-0.132979</td>\n",
       "      <td>0.559782</td>\n",
       "      <td>-4.036511</td>\n",
       "      <td>-1.263834</td>\n",
       "      <td>-1.772880</td>\n",
       "      <td>-1.505962</td>\n",
       "      <td>-1.434635</td>\n",
       "      <td>2.879921</td>\n",
       "      <td>2.651694</td>\n",
       "      <td>-1.573217</td>\n",
       "      <td>2.192041</td>\n",
       "      <td>-2.031078</td>\n",
       "      <td>-2.750385</td>\n",
       "      <td>-3.153148</td>\n",
       "      <td>0.385160</td>\n",
       "      <td>-0.196949</td>\n",
       "      <td>0.707146</td>\n",
       "      <td>-0.144791</td>\n",
       "      <td>-1.924694</td>\n",
       "      <td>-1.606499</td>\n",
       "      <td>0.042750</td>\n",
       "      <td>-1.401720</td>\n",
       "      <td>1.399714</td>\n",
       "      <td>1.496039</td>\n",
       "      <td>3.838398</td>\n",
       "      <td>3.789502</td>\n",
       "      <td>2.641335</td>\n",
       "      <td>202.651515</td>\n",
       "    </tr>\n",
       "    <tr>\n",
       "      <th>5</th>\n",
       "      <td>10009</td>\n",
       "      <td>0</td>\n",
       "      <td>0</td>\n",
       "      <td>3.487384</td>\n",
       "      <td>-1.658087</td>\n",
       "      <td>-1.479524</td>\n",
       "      <td>2.454410</td>\n",
       "      <td>1.434376</td>\n",
       "      <td>-0.394974</td>\n",
       "      <td>-0.703958</td>\n",
       "      <td>-0.589921</td>\n",
       "      <td>-0.459648</td>\n",
       "      <td>-0.107188</td>\n",
       "      <td>-0.770915</td>\n",
       "      <td>-1.612079</td>\n",
       "      <td>-1.416419</td>\n",
       "      <td>1.445812</td>\n",
       "      <td>1.058526</td>\n",
       "      <td>-0.273926</td>\n",
       "      <td>-0.814658</td>\n",
       "      <td>-0.869369</td>\n",
       "      <td>-0.662319</td>\n",
       "      <td>-0.247528</td>\n",
       "      <td>0.834750</td>\n",
       "      <td>-1.564993</td>\n",
       "      <td>-1.327866</td>\n",
       "      <td>3.372051</td>\n",
       "      <td>1.496427</td>\n",
       "      <td>-0.346914</td>\n",
       "      <td>-0.479481</td>\n",
       "      <td>-0.265549</td>\n",
       "      <td>-0.196760</td>\n",
       "      <td>0.310695</td>\n",
       "      <td>-0.978965</td>\n",
       "      <td>0.886132</td>\n",
       "      <td>-0.133812</td>\n",
       "      <td>2.588772</td>\n",
       "      <td>-0.003289</td>\n",
       "      <td>1.586832</td>\n",
       "      <td>-2.815672</td>\n",
       "      <td>-0.843076</td>\n",
       "      <td>-1.421999</td>\n",
       "      <td>0.362157</td>\n",
       "      <td>-0.270116</td>\n",
       "      <td>2.019284</td>\n",
       "      <td>1.275121</td>\n",
       "      <td>-0.080570</td>\n",
       "      <td>2.130881</td>\n",
       "      <td>0.244746</td>\n",
       "      <td>-1.754159</td>\n",
       "      <td>-0.775343</td>\n",
       "      <td>0.738408</td>\n",
       "      <td>-1.131134</td>\n",
       "      <td>0.571395</td>\n",
       "      <td>-1.070358</td>\n",
       "      <td>-1.207678</td>\n",
       "      <td>-0.305134</td>\n",
       "      <td>1.736386</td>\n",
       "      <td>-0.794878</td>\n",
       "      <td>1.556373</td>\n",
       "      <td>1.136204</td>\n",
       "      <td>0.262950</td>\n",
       "      <td>0.380467</td>\n",
       "      <td>0.151031</td>\n",
       "      <td>252.956008</td>\n",
       "    </tr>\n",
       "    <tr>\n",
       "      <th>6</th>\n",
       "      <td>10010</td>\n",
       "      <td>0</td>\n",
       "      <td>0</td>\n",
       "      <td>1.438843</td>\n",
       "      <td>-2.006643</td>\n",
       "      <td>-1.699297</td>\n",
       "      <td>2.993177</td>\n",
       "      <td>2.321276</td>\n",
       "      <td>-1.005169</td>\n",
       "      <td>-1.420189</td>\n",
       "      <td>-0.488574</td>\n",
       "      <td>-0.563567</td>\n",
       "      <td>-0.032845</td>\n",
       "      <td>-0.770915</td>\n",
       "      <td>-1.940542</td>\n",
       "      <td>-1.763424</td>\n",
       "      <td>1.519460</td>\n",
       "      <td>1.781608</td>\n",
       "      <td>-0.504190</td>\n",
       "      <td>-1.125222</td>\n",
       "      <td>-0.640232</td>\n",
       "      <td>-0.662319</td>\n",
       "      <td>-0.113042</td>\n",
       "      <td>0.834750</td>\n",
       "      <td>-1.848112</td>\n",
       "      <td>-1.281968</td>\n",
       "      <td>4.441511</td>\n",
       "      <td>2.394454</td>\n",
       "      <td>-1.339854</td>\n",
       "      <td>-1.511018</td>\n",
       "      <td>-0.315513</td>\n",
       "      <td>-0.397356</td>\n",
       "      <td>0.310695</td>\n",
       "      <td>-0.415632</td>\n",
       "      <td>0.524357</td>\n",
       "      <td>-0.176487</td>\n",
       "      <td>2.649621</td>\n",
       "      <td>-0.132979</td>\n",
       "      <td>0.685867</td>\n",
       "      <td>-3.430547</td>\n",
       "      <td>-1.737186</td>\n",
       "      <td>-1.772880</td>\n",
       "      <td>-1.004337</td>\n",
       "      <td>-1.201731</td>\n",
       "      <td>3.316300</td>\n",
       "      <td>1.891497</td>\n",
       "      <td>-0.027262</td>\n",
       "      <td>3.700668</td>\n",
       "      <td>0.460027</td>\n",
       "      <td>-2.311188</td>\n",
       "      <td>-0.944324</td>\n",
       "      <td>0.507438</td>\n",
       "      <td>-0.457763</td>\n",
       "      <td>0.523871</td>\n",
       "      <td>-0.453314</td>\n",
       "      <td>-1.924694</td>\n",
       "      <td>-1.070643</td>\n",
       "      <td>1.390902</td>\n",
       "      <td>-1.440871</td>\n",
       "      <td>2.170019</td>\n",
       "      <td>2.123289</td>\n",
       "      <td>19.221514</td>\n",
       "      <td>16.702551</td>\n",
       "      <td>1.872804</td>\n",
       "      <td>287.429044</td>\n",
       "    </tr>\n",
       "    <tr>\n",
       "      <th>7</th>\n",
       "      <td>10026</td>\n",
       "      <td>1</td>\n",
       "      <td>0</td>\n",
       "      <td>1.589397</td>\n",
       "      <td>-0.176721</td>\n",
       "      <td>-0.405083</td>\n",
       "      <td>0.936068</td>\n",
       "      <td>1.687776</td>\n",
       "      <td>0.753627</td>\n",
       "      <td>-0.732607</td>\n",
       "      <td>-1.020643</td>\n",
       "      <td>-0.840682</td>\n",
       "      <td>-0.590417</td>\n",
       "      <td>-0.683762</td>\n",
       "      <td>-0.298230</td>\n",
       "      <td>-0.462157</td>\n",
       "      <td>0.488388</td>\n",
       "      <td>0.962115</td>\n",
       "      <td>0.474431</td>\n",
       "      <td>-0.762897</td>\n",
       "      <td>-1.144334</td>\n",
       "      <td>-0.983182</td>\n",
       "      <td>-0.854647</td>\n",
       "      <td>0.747614</td>\n",
       "      <td>-0.036149</td>\n",
       "      <td>-0.318108</td>\n",
       "      <td>1.417520</td>\n",
       "      <td>2.202019</td>\n",
       "      <td>0.844614</td>\n",
       "      <td>-0.588064</td>\n",
       "      <td>-0.765190</td>\n",
       "      <td>-0.597951</td>\n",
       "      <td>-0.509032</td>\n",
       "      <td>-2.909704</td>\n",
       "      <td>2.266766</td>\n",
       "      <td>-0.091137</td>\n",
       "      <td>1.254399</td>\n",
       "      <td>-0.003289</td>\n",
       "      <td>1.454390</td>\n",
       "      <td>-1.577011</td>\n",
       "      <td>0.524385</td>\n",
       "      <td>-0.369355</td>\n",
       "      <td>2.368655</td>\n",
       "      <td>1.767793</td>\n",
       "      <td>1.485931</td>\n",
       "      <td>0.905296</td>\n",
       "      <td>0.026047</td>\n",
       "      <td>1.600822</td>\n",
       "      <td>-0.216569</td>\n",
       "      <td>-0.340162</td>\n",
       "      <td>-1.016744</td>\n",
       "      <td>0.364781</td>\n",
       "      <td>-0.157675</td>\n",
       "      <td>1.202977</td>\n",
       "      <td>0.549383</td>\n",
       "      <td>-0.513791</td>\n",
       "      <td>0.358307</td>\n",
       "      <td>1.310999</td>\n",
       "      <td>-0.148885</td>\n",
       "      <td>0.939424</td>\n",
       "      <td>0.634290</td>\n",
       "      <td>-0.177822</td>\n",
       "      <td>-0.189627</td>\n",
       "      <td>-0.545269</td>\n",
       "      <td>241.282051</td>\n",
       "    </tr>\n",
       "    <tr>\n",
       "      <th>8</th>\n",
       "      <td>10029</td>\n",
       "      <td>0</td>\n",
       "      <td>0</td>\n",
       "      <td>4.504679</td>\n",
       "      <td>-0.118628</td>\n",
       "      <td>0.156556</td>\n",
       "      <td>1.115657</td>\n",
       "      <td>0.832550</td>\n",
       "      <td>-0.430868</td>\n",
       "      <td>-1.105048</td>\n",
       "      <td>-0.767277</td>\n",
       "      <td>-0.321091</td>\n",
       "      <td>-0.181531</td>\n",
       "      <td>-0.879857</td>\n",
       "      <td>-0.079255</td>\n",
       "      <td>0.058350</td>\n",
       "      <td>0.758431</td>\n",
       "      <td>0.431855</td>\n",
       "      <td>-0.734454</td>\n",
       "      <td>-1.487547</td>\n",
       "      <td>-1.052679</td>\n",
       "      <td>-0.726491</td>\n",
       "      <td>-0.388272</td>\n",
       "      <td>0.943671</td>\n",
       "      <td>-0.149397</td>\n",
       "      <td>0.232669</td>\n",
       "      <td>1.380642</td>\n",
       "      <td>1.047414</td>\n",
       "      <td>0.116458</td>\n",
       "      <td>-0.533772</td>\n",
       "      <td>-0.365477</td>\n",
       "      <td>0.070701</td>\n",
       "      <td>0.239734</td>\n",
       "      <td>-2.399334</td>\n",
       "      <td>1.775738</td>\n",
       "      <td>-0.048462</td>\n",
       "      <td>1.776506</td>\n",
       "      <td>-0.003289</td>\n",
       "      <td>2.237399</td>\n",
       "      <td>-0.926491</td>\n",
       "      <td>0.682168</td>\n",
       "      <td>-0.457076</td>\n",
       "      <td>3.371904</td>\n",
       "      <td>2.495618</td>\n",
       "      <td>1.061674</td>\n",
       "      <td>0.268374</td>\n",
       "      <td>0.026047</td>\n",
       "      <td>1.519275</td>\n",
       "      <td>0.521536</td>\n",
       "      <td>0.002625</td>\n",
       "      <td>-0.208049</td>\n",
       "      <td>0.684062</td>\n",
       "      <td>-0.942539</td>\n",
       "      <td>0.874106</td>\n",
       "      <td>-0.761836</td>\n",
       "      <td>-0.143719</td>\n",
       "      <td>0.536925</td>\n",
       "      <td>1.724931</td>\n",
       "      <td>0.125173</td>\n",
       "      <td>1.513508</td>\n",
       "      <td>1.679409</td>\n",
       "      <td>2.412394</td>\n",
       "      <td>3.086867</td>\n",
       "      <td>-0.886872</td>\n",
       "      <td>221.116449</td>\n",
       "    </tr>\n",
       "    <tr>\n",
       "      <th>9</th>\n",
       "      <td>10030</td>\n",
       "      <td>0</td>\n",
       "      <td>0</td>\n",
       "      <td>1.103239</td>\n",
       "      <td>0.026604</td>\n",
       "      <td>0.180975</td>\n",
       "      <td>0.968720</td>\n",
       "      <td>1.022600</td>\n",
       "      <td>0.430583</td>\n",
       "      <td>-0.789906</td>\n",
       "      <td>-1.020643</td>\n",
       "      <td>-0.806043</td>\n",
       "      <td>-0.739103</td>\n",
       "      <td>-0.727338</td>\n",
       "      <td>0.030233</td>\n",
       "      <td>0.101725</td>\n",
       "      <td>0.488388</td>\n",
       "      <td>0.431855</td>\n",
       "      <td>0.013904</td>\n",
       "      <td>-0.866419</td>\n",
       "      <td>-1.098507</td>\n",
       "      <td>-0.854837</td>\n",
       "      <td>-1.027577</td>\n",
       "      <td>0.791182</td>\n",
       "      <td>0.077098</td>\n",
       "      <td>0.278567</td>\n",
       "      <td>1.491276</td>\n",
       "      <td>1.496427</td>\n",
       "      <td>0.778418</td>\n",
       "      <td>-0.533772</td>\n",
       "      <td>-0.815155</td>\n",
       "      <td>-0.664817</td>\n",
       "      <td>-0.710657</td>\n",
       "      <td>-3.439333</td>\n",
       "      <td>2.428067</td>\n",
       "      <td>-0.076912</td>\n",
       "      <td>0.322828</td>\n",
       "      <td>-0.003289</td>\n",
       "      <td>1.454390</td>\n",
       "      <td>-1.585922</td>\n",
       "      <td>0.734763</td>\n",
       "      <td>-0.018474</td>\n",
       "      <td>3.025956</td>\n",
       "      <td>2.582957</td>\n",
       "      <td>1.910189</td>\n",
       "      <td>1.521672</td>\n",
       "      <td>0.505826</td>\n",
       "      <td>1.723143</td>\n",
       "      <td>-0.216569</td>\n",
       "      <td>-0.136632</td>\n",
       "      <td>-0.944324</td>\n",
       "      <td>0.235710</td>\n",
       "      <td>0.069164</td>\n",
       "      <td>1.700603</td>\n",
       "      <td>-0.067661</td>\n",
       "      <td>-0.513791</td>\n",
       "      <td>0.562442</td>\n",
       "      <td>1.189615</td>\n",
       "      <td>-0.207611</td>\n",
       "      <td>0.627160</td>\n",
       "      <td>0.493229</td>\n",
       "      <td>-0.216167</td>\n",
       "      <td>-0.245897</td>\n",
       "      <td>-1.010191</td>\n",
       "      <td>223.163168</td>\n",
       "    </tr>\n",
       "  </tbody>\n",
       "</table>\n",
       "</div>"
      ],
      "text/plain": [
       "  zipcode  prison  jail      A001      A002      A003      A004      A005      A006      A007      A008      A009      A010      A011      A012      A013      A014      A015      A016      A017      A018      A019      A020      A021      A022      A023      A024      A025      A026      A027      A028      A029      A030      A031      A032      A033      A034      A035      A036      A037      A038      A039      A040      A041      A042      A043      A044      A045      A046      A047  \\\n",
       "0   10001       0     0  0.693919 -2.035690 -1.137657  2.242169  1.909501 -0.215505 -0.875854 -0.589921 -0.528927 -0.107188 -0.335147 -1.940542 -1.806799  1.028473  1.878019  0.762261 -0.452334 -0.686059 -0.598146 -0.247528  0.399069 -2.017984 -0.226312  3.482684  1.303993 -1.207462 -1.130978 -0.415442 -0.397356  0.239734 -0.839335  0.823987 -0.148037  2.839064 -0.132979  1.215809 -3.484015 -1.263834 -1.685160 -0.502713 -0.823262  3.340543  2.816061  0.185974  2.824034  0.367764 -2.236204   \n",
       "1   10003       0     0  3.117907 -2.355200 -0.356245  2.797262  2.289601 -1.112850 -1.362891 -0.767277 -0.806043 -0.478903 -0.465877 -2.323748 -0.895913  1.642207  1.878019 -0.446624 -1.176983 -0.731887 -0.790664 -0.535884  0.529773 -2.187855  0.278567  3.851464  2.137875 -1.538442 -1.348144 -0.665262 -0.731682 -0.509032 -0.290447  0.179201 -0.176487  2.649621 -0.132979  0.538816 -3.840464 -1.684591 -1.685160 -1.281096 -1.289070  3.692071  2.754423  0.079356  3.476413 -0.062797 -2.504006   \n",
       "2   10004       0     0 -0.556390 -0.699556 -2.407451  2.764609  5.267054  0.179326 -1.821279 -1.628721 -1.810587 -1.296676  0.492813 -0.462461 -2.327306  1.961348  4.336497  0.416865 -1.435786 -1.327644 -1.432390 -2.081362 -0.428727 -0.942131 -2.016337  3.298295  4.960244 -0.214522 -1.945349 -1.764473 -2.002121 -2.456670 -0.588965  0.104032 -0.162262  3.127999 -0.132979  0.312607 -2.976074 -1.579402 -1.334279 -1.332988 -1.172618  2.625366  2.672240 -1.093438  1.763917 -1.846551 -1.797008   \n",
       "3   10005       0     0 -0.275551 -2.180922 -2.846995  6.046188  5.425430 -1.543575 -3.081846 -2.414156 -2.191621 -1.408190 -0.335147 -2.214260 -2.674310  3.630704  4.673935 -0.849586 -2.678041 -2.198366 -1.881598 -2.632966  0.399069 -1.961360 -2.521216  8.203060  4.767810 -1.869422 -3.031178 -2.414006 -2.269582 -2.675849 -0.593780  0.161055 -0.190712  3.098202 -0.132979  0.473000 -4.098890 -1.579402 -1.685160 -1.367583 -1.405522  2.928407  2.692786 -1.573217  2.273588 -2.000323 -2.632551   \n",
       "4   10006       0     0 -0.561804 -2.471386 -2.724899  5.882925  5.868880 -1.794832 -2.909951 -2.338146 -2.122342 -1.445362  0.122410 -2.433235 -2.500808  3.778000  5.107785 -0.964718 -2.470999 -2.015056 -1.817425 -2.344610 -0.058397 -2.301103 -2.475318  7.613013  5.024389 -2.200402 -2.868303 -2.414006 -2.202717 -2.915932 -0.632299  0.341240 -0.190712  3.030157 -0.132979  0.559782 -4.036511 -1.263834 -1.772880 -1.505962 -1.434635  2.879921  2.651694 -1.573217  2.192041 -2.031078 -2.750385   \n",
       "5   10009       0     0  3.487384 -1.658087 -1.479524  2.454410  1.434376 -0.394974 -0.703958 -0.589921 -0.459648 -0.107188 -0.770915 -1.612079 -1.416419  1.445812  1.058526 -0.273926 -0.814658 -0.869369 -0.662319 -0.247528  0.834750 -1.564993 -1.327866  3.372051  1.496427 -0.346914 -0.479481 -0.265549 -0.196760  0.310695 -0.978965  0.886132 -0.133812  2.588772 -0.003289  1.586832 -2.815672 -0.843076 -1.421999  0.362157 -0.270116  2.019284  1.275121 -0.080570  2.130881  0.244746 -1.754159   \n",
       "6   10010       0     0  1.438843 -2.006643 -1.699297  2.993177  2.321276 -1.005169 -1.420189 -0.488574 -0.563567 -0.032845 -0.770915 -1.940542 -1.763424  1.519460  1.781608 -0.504190 -1.125222 -0.640232 -0.662319 -0.113042  0.834750 -1.848112 -1.281968  4.441511  2.394454 -1.339854 -1.511018 -0.315513 -0.397356  0.310695 -0.415632  0.524357 -0.176487  2.649621 -0.132979  0.685867 -3.430547 -1.737186 -1.772880 -1.004337 -1.201731  3.316300  1.891497 -0.027262  3.700668  0.460027 -2.311188   \n",
       "7   10026       1     0  1.589397 -0.176721 -0.405083  0.936068  1.687776  0.753627 -0.732607 -1.020643 -0.840682 -0.590417 -0.683762 -0.298230 -0.462157  0.488388  0.962115  0.474431 -0.762897 -1.144334 -0.983182 -0.854647  0.747614 -0.036149 -0.318108  1.417520  2.202019  0.844614 -0.588064 -0.765190 -0.597951 -0.509032 -2.909704  2.266766 -0.091137  1.254399 -0.003289  1.454390 -1.577011  0.524385 -0.369355  2.368655  1.767793  1.485931  0.905296  0.026047  1.600822 -0.216569 -0.340162   \n",
       "8   10029       0     0  4.504679 -0.118628  0.156556  1.115657  0.832550 -0.430868 -1.105048 -0.767277 -0.321091 -0.181531 -0.879857 -0.079255  0.058350  0.758431  0.431855 -0.734454 -1.487547 -1.052679 -0.726491 -0.388272  0.943671 -0.149397  0.232669  1.380642  1.047414  0.116458 -0.533772 -0.365477  0.070701  0.239734 -2.399334  1.775738 -0.048462  1.776506 -0.003289  2.237399 -0.926491  0.682168 -0.457076  3.371904  2.495618  1.061674  0.268374  0.026047  1.519275  0.521536  0.002625   \n",
       "9   10030       0     0  1.103239  0.026604  0.180975  0.968720  1.022600  0.430583 -0.789906 -1.020643 -0.806043 -0.739103 -0.727338  0.030233  0.101725  0.488388  0.431855  0.013904 -0.866419 -1.098507 -0.854837 -1.027577  0.791182  0.077098  0.278567  1.491276  1.496427  0.778418 -0.533772 -0.815155 -0.664817 -0.710657 -3.439333  2.428067 -0.076912  0.322828 -0.003289  1.454390 -1.585922  0.734763 -0.018474  3.025956  2.582957  1.910189  1.521672  0.505826  1.723143 -0.216569 -0.136632   \n",
       "\n",
       "       A048      A049      A050      A051      A052      A053      A054      A055      A056  n_establishments  paid_employees  first_quarter_payroll_1000  annual_payroll_1000  median_income  ratio_2011  \n",
       "0 -0.944324  0.276469  0.001264  1.648459 -0.684705 -1.832175 -0.789956  1.165569 -1.382144          2.711530        2.442075                   13.534164            16.006621       0.703002  271.597187  \n",
       "1 -1.330566  0.514232 -0.473715  0.320747 -0.299052 -2.040341 -1.172711  1.724085 -1.597475          2.366411        2.158851                    8.050092             9.806025       1.623292  286.730050  \n",
       "2 -2.742765 -0.497958  0.941754  0.425055  3.634604 -1.624009 -0.892024  0.102974 -1.323417          1.708130        2.006364                   47.196053            24.213028       3.341571  250.959497  \n",
       "3 -3.141078 -0.294162  0.746855  0.952329  3.094691 -1.947823 -1.478914  0.643684 -1.499597          1.647646        1.875059                   19.026526            12.931793       2.918581  237.300228  \n",
       "4 -3.153148  0.385160 -0.196949  0.707146 -0.144791 -1.924694 -1.606499  0.042750 -1.401720          1.399714        1.496039                    3.838398             3.789502       2.641335  202.651515  \n",
       "5 -0.775343  0.738408 -1.131134  0.571395 -1.070358 -1.207678 -0.305134  1.736386 -0.794878          1.556373        1.136204                    0.262950             0.380467       0.151031  252.956008  \n",
       "6 -0.944324  0.507438 -0.457763  0.523871 -0.453314 -1.924694 -1.070643  1.390902 -1.440871          2.170019        2.123289                   19.221514            16.702551       1.872804  287.429044  \n",
       "7 -1.016744  0.364781 -0.157675  1.202977  0.549383 -0.513791  0.358307  1.310999 -0.148885          0.939424        0.634290                   -0.177822            -0.189627      -0.545269  241.282051  \n",
       "8 -0.208049  0.684062 -0.942539  0.874106 -0.761836 -0.143719  0.536925  1.724931  0.125173          1.513508        1.679409                    2.412394             3.086867      -0.886872  221.116449  \n",
       "9 -0.944324  0.235710  0.069164  1.700603 -0.067661 -0.513791  0.562442  1.189615 -0.207611          0.627160        0.493229                   -0.216167            -0.245897      -1.010191  223.163168  "
      ]
     },
     "execution_count": 12,
     "metadata": {},
     "output_type": "execute_result"
    }
   ],
   "source": [
    "# training and test sets were normalized and transformed\n",
    "\n",
    "train_set_t = pd.read_pickle('data/train_all_features_norm_and_transform.pkl')\n",
    "itrain_t_df = pd.DataFrame(train_set_t.index).rename(columns={0: 'ind'})\n",
    "\n",
    "test_set_t = pd.read_pickle('data/test_all_features_norm_and_transform.pkl')\n",
    "itest_t_df = pd.DataFrame(test_set_t.index).rename(columns={0: 'ind'})\n",
    "\n",
    "features_t = pd.concat([train_set_t, test_set_t])\n",
    "ratio_2011_feature['zipcode'] = ratio_2011_feature.zipcode.astype('str')\n",
    "print features_t.shape\n",
    "features_t = features_t.merge(ratio_2011_feature, how='inner', on='zipcode')\n",
    "print features_t.shape\n",
    "\n",
    "features_t.head(10)"
   ]
  },
  {
   "cell_type": "code",
   "execution_count": 13,
   "metadata": {
    "collapsed": false
   },
   "outputs": [
    {
     "data": {
      "text/plain": [
       "((10306, 65), (10306, 66))"
      ]
     },
     "execution_count": 13,
     "metadata": {},
     "output_type": "execute_result"
    }
   ],
   "source": [
    "# full df with features and resp. vars for HOUSE/RENT ratio delta and 2015 response\n",
    "merged_ratio_2015 = ratio_2015_response.merge(features_t, how='inner', on=['zipcode'])\n",
    "\n",
    "merged_ratio_2015 = merged_ratio_2015.astype('float')\n",
    "\n",
    "merged_ratio_2015 = merged_ratio_2015.rename(columns={'ratio_2015':'response'})\n",
    "\n",
    "features_t.shape, merged_ratio_2015.shape"
   ]
  },
  {
   "cell_type": "code",
   "execution_count": 14,
   "metadata": {
    "collapsed": false
   },
   "outputs": [],
   "source": [
    "# house/rental ratio delta response and house/rental ratio 2015 response\n",
    "ratio_2015_train = merged_ratio_2015.merge(itrain_t_df, how='inner', right_on='ind', left_index=True)\n",
    "ratio_2015_test = merged_ratio_2015.merge(itest_t_df, how='inner', right_on='ind', left_index=True)"
   ]
  },
  {
   "cell_type": "code",
   "execution_count": 15,
   "metadata": {
    "collapsed": false
   },
   "outputs": [
    {
     "data": {
      "text/plain": [
       "((8208, 67), (2098, 67))"
      ]
     },
     "execution_count": 15,
     "metadata": {},
     "output_type": "execute_result"
    }
   ],
   "source": [
    "ratio_2015_train.shape, ratio_2015_test.shape"
   ]
  },
  {
   "cell_type": "markdown",
   "metadata": {},
   "source": [
    "# baseline - average\n",
    "by Austin"
   ]
  },
  {
   "cell_type": "code",
   "execution_count": 17,
   "metadata": {
    "collapsed": false
   },
   "outputs": [
    {
     "name": "stdout",
     "output_type": "stream",
     "text": [
      "Response Variable: Ratio 2015\n",
      "RMSE for baseline is 44.7822450867\n"
     ]
    }
   ],
   "source": [
    "def get_rmse(s, s_predict):\n",
    "    diff = s - s_predict\n",
    "    return np.sqrt(np.dot(diff,diff)/diff.shape[0])\n",
    "\n",
    "train_ratio_2015_observed = ratio_2015_train['response'].dropna().tolist()\n",
    "test_ratio_2015_observed = ratio_2015_test['response'].dropna().tolist()\n",
    "train_ratio_2015_mean = np.mean(ratio_2015_train['response'].dropna().tolist())\n",
    "\n",
    "baseline_rmse = get_rmse(np.array(test_ratio_2015_observed), np.array([train_ratio_2015_mean]*len(test_ratio_2015_observed)))\n",
    "\n",
    "print 'Response Variable: Ratio 2015'\n",
    "print 'RMSE for baseline is ' + str(baseline_rmse)"
   ]
  },
  {
   "cell_type": "markdown",
   "metadata": {},
   "source": [
    "## baseline - 2011 ratio"
   ]
  },
  {
   "cell_type": "code",
   "execution_count": 19,
   "metadata": {
    "collapsed": false
   },
   "outputs": [
    {
     "data": {
      "text/plain": [
       "(2098, 1970)"
      ]
     },
     "execution_count": 19,
     "metadata": {},
     "output_type": "execute_result"
    }
   ],
   "source": [
    "len(ratio_2015_test['response'].dropna().tolist()), len(ratio_2015_test.ratio_2011.dropna().tolist())"
   ]
  },
  {
   "cell_type": "code",
   "execution_count": 22,
   "metadata": {
    "collapsed": false
   },
   "outputs": [
    {
     "name": "stdout",
     "output_type": "stream",
     "text": [
      "Response Variable: Ratio 2015\n",
      "RMSE for baseline is 18.2026286944\n"
     ]
    }
   ],
   "source": [
    "temp = ratio_2015_test[['response','ratio_2011']].dropna()\n",
    "test_ratio_2015_obs = temp.response.tolist()\n",
    "ratio_2011_obs = temp.ratio_2011.tolist()\n",
    "\n",
    "baseline_ratio_rmse = get_rmse(np.array(test_ratio_2015_obs), np.array(ratio_2011_obs))\n",
    "\n",
    "print 'Response Variable: Ratio 2015'\n",
    "print 'RMSE for baseline is ' + str(baseline_ratio_rmse)"
   ]
  },
  {
   "cell_type": "code",
   "execution_count": 74,
   "metadata": {
    "collapsed": false
   },
   "outputs": [
    {
     "data": {
      "text/plain": [
       "array([0, 1, 2, 3])"
      ]
     },
     "execution_count": 74,
     "metadata": {},
     "output_type": "execute_result"
    }
   ],
   "source": [
    "np.subtract([1,2,3,4],[1]*4)"
   ]
  },
  {
   "cell_type": "markdown",
   "metadata": {},
   "source": [
    "## baseline - 2011 ratio + avg. diff between"
   ]
  },
  {
   "cell_type": "code",
   "execution_count": 86,
   "metadata": {
    "collapsed": false
   },
   "outputs": [
    {
     "name": "stdout",
     "output_type": "stream",
     "text": [
      "Response Variable: Ratio 2015\n",
      "RMSE for baseline is 17.0425818506\n"
     ]
    }
   ],
   "source": [
    "temp = ratio_2015_test[['response','ratio_2011']].dropna()\n",
    "avg_diff = np.mean(temp.response) - np.mean(temp.ratio_2011)\n",
    "test_rat = temp.response.tolist()\n",
    "ratio_2011_scaled = np.add(temp.ratio_2011.tolist(), [avg_diff]*len(temp.ratio_2011.tolist()))\n",
    "\n",
    "baseline_ratio_rmse = get_rmse(np.array(test_rat), np.array(ratio_2011_scaled))\n",
    "\n",
    "print 'Response Variable: Ratio 2015'\n",
    "print 'RMSE for baseline is ' + str(baseline_ratio_rmse)"
   ]
  },
  {
   "cell_type": "code",
   "execution_count": 23,
   "metadata": {
    "collapsed": false
   },
   "outputs": [
    {
     "name": "stdout",
     "output_type": "stream",
     "text": [
      "57.1347699165 seconds to train 2 models\n"
     ]
    }
   ],
   "source": [
    "import time\n",
    "start_time = time.time()\n",
    "\n",
    "# house/rental ratio response\n",
    "bestmodel_ratio_2015 = forward_selected(ratio_2015_train.drop(['zipcode','ind'],1), 'response')\n",
    "\n",
    "print '%s seconds to train 2 models'%(time.time() - start_time)"
   ]
  },
  {
   "cell_type": "code",
   "execution_count": 33,
   "metadata": {
    "collapsed": false
   },
   "outputs": [
    {
     "data": {
      "text/plain": [
       "2098"
      ]
     },
     "execution_count": 33,
     "metadata": {},
     "output_type": "execute_result"
    }
   ],
   "source": [
    "len(response)"
   ]
  },
  {
   "cell_type": "code",
   "execution_count": 34,
   "metadata": {
    "collapsed": false
   },
   "outputs": [
    {
     "name": "stdout",
     "output_type": "stream",
     "text": [
      "Response Variable: Ratio 2015\n",
      "RMSE for OLS is 13.7425868673\n"
     ]
    }
   ],
   "source": [
    "import patsy\n",
    "from statsmodels.api import add_constant\n",
    "\n",
    "formula = bestmodel_ratio_2015[1].replace('response ~ ','')\n",
    "data = ratio_2015_test.drop(['zipcode','ind'],1).dropna()\n",
    "response = data['response']\n",
    "data = data.drop('response',1)\n",
    "\n",
    "df = patsy.dmatrix(formula, data=data)\n",
    "pred = bestmodel_ratio_2015[0].predict(df, transform=False)\n",
    "\n",
    "ols_rmse = get_rmse(response, pred)\n",
    "\n",
    "print 'Response Variable: Ratio 2015'\n",
    "print 'RMSE for OLS is ' + str(ols_rmse)"
   ]
  },
  {
   "cell_type": "code",
   "execution_count": 35,
   "metadata": {
    "collapsed": false
   },
   "outputs": [
    {
     "data": {
      "text/html": [
       "<table class=\"simpletable\">\n",
       "<caption>OLS Regression Results</caption>\n",
       "<tr>\n",
       "  <th>Dep. Variable:</th>        <td>response</td>     <th>  R-squared:         </th> <td>   0.907</td> \n",
       "</tr>\n",
       "<tr>\n",
       "  <th>Model:</th>                   <td>OLS</td>       <th>  Adj. R-squared:    </th> <td>   0.906</td> \n",
       "</tr>\n",
       "<tr>\n",
       "  <th>Method:</th>             <td>Least Squares</td>  <th>  F-statistic:       </th> <td>   1903.</td> \n",
       "</tr>\n",
       "<tr>\n",
       "  <th>Date:</th>             <td>Wed, 09 Dec 2015</td> <th>  Prob (F-statistic):</th>  <td>  0.00</td>  \n",
       "</tr>\n",
       "<tr>\n",
       "  <th>Time:</th>                 <td>22:29:52</td>     <th>  Log-Likelihood:    </th> <td> -30952.</td> \n",
       "</tr>\n",
       "<tr>\n",
       "  <th>No. Observations:</th>      <td>  7686</td>      <th>  AIC:               </th> <td>6.198e+04</td>\n",
       "</tr>\n",
       "<tr>\n",
       "  <th>Df Residuals:</th>          <td>  7646</td>      <th>  BIC:               </th> <td>6.226e+04</td>\n",
       "</tr>\n",
       "<tr>\n",
       "  <th>Df Model:</th>              <td>    39</td>      <th>                     </th>     <td> </td>    \n",
       "</tr>\n",
       "<tr>\n",
       "  <th>Covariance Type:</th>      <td>nonrobust</td>    <th>                     </th>     <td> </td>    \n",
       "</tr>\n",
       "</table>\n",
       "<table class=\"simpletable\">\n",
       "<tr>\n",
       "               <td></td>                 <th>coef</th>     <th>std err</th>      <th>t</th>      <th>P>|t|</th> <th>[95.0% Conf. Int.]</th> \n",
       "</tr>\n",
       "<tr>\n",
       "  <th>Intercept</th>                  <td>   20.5392</td> <td>    0.745</td> <td>   27.554</td> <td> 0.000</td> <td>   19.078    22.000</td>\n",
       "</tr>\n",
       "<tr>\n",
       "  <th>ratio_2011</th>                 <td>    0.8588</td> <td>    0.006</td> <td>  150.501</td> <td> 0.000</td> <td>    0.848     0.870</td>\n",
       "</tr>\n",
       "<tr>\n",
       "  <th>A036</th>                       <td>    1.7554</td> <td>    0.270</td> <td>    6.507</td> <td> 0.000</td> <td>    1.227     2.284</td>\n",
       "</tr>\n",
       "<tr>\n",
       "  <th>A034</th>                       <td>    2.3805</td> <td>    0.268</td> <td>    8.883</td> <td> 0.000</td> <td>    1.855     2.906</td>\n",
       "</tr>\n",
       "<tr>\n",
       "  <th>A032</th>                       <td>   -6.7340</td> <td>    0.343</td> <td>  -19.656</td> <td> 0.000</td> <td>   -7.406    -6.062</td>\n",
       "</tr>\n",
       "<tr>\n",
       "  <th>A056</th>                       <td>    7.2176</td> <td>    0.473</td> <td>   15.273</td> <td> 0.000</td> <td>    6.291     8.144</td>\n",
       "</tr>\n",
       "<tr>\n",
       "  <th>A002</th>                       <td>   -5.2419</td> <td>    0.592</td> <td>   -8.850</td> <td> 0.000</td> <td>   -6.403    -4.081</td>\n",
       "</tr>\n",
       "<tr>\n",
       "  <th>A031</th>                       <td>   -6.3932</td> <td>    0.446</td> <td>  -14.344</td> <td> 0.000</td> <td>   -7.267    -5.519</td>\n",
       "</tr>\n",
       "<tr>\n",
       "  <th>A052</th>                       <td>    1.7711</td> <td>    0.229</td> <td>    7.734</td> <td> 0.000</td> <td>    1.322     2.220</td>\n",
       "</tr>\n",
       "<tr>\n",
       "  <th>median_income</th>              <td>    2.7776</td> <td>    0.323</td> <td>    8.598</td> <td> 0.000</td> <td>    2.144     3.411</td>\n",
       "</tr>\n",
       "<tr>\n",
       "  <th>A037</th>                       <td>  -17.0358</td> <td>    1.198</td> <td>  -14.223</td> <td> 0.000</td> <td>  -19.384   -14.688</td>\n",
       "</tr>\n",
       "<tr>\n",
       "  <th>A039</th>                       <td>    5.8041</td> <td>    0.626</td> <td>    9.276</td> <td> 0.000</td> <td>    4.578     7.031</td>\n",
       "</tr>\n",
       "<tr>\n",
       "  <th>A014</th>                       <td>   -2.6351</td> <td>    1.379</td> <td>   -1.911</td> <td> 0.056</td> <td>   -5.338     0.068</td>\n",
       "</tr>\n",
       "<tr>\n",
       "  <th>A042</th>                       <td>  -42.5285</td> <td>   25.727</td> <td>   -1.653</td> <td> 0.098</td> <td>  -92.961     7.904</td>\n",
       "</tr>\n",
       "<tr>\n",
       "  <th>A040</th>                       <td>   -3.2273</td> <td>    0.514</td> <td>   -6.276</td> <td> 0.000</td> <td>   -4.235    -2.219</td>\n",
       "</tr>\n",
       "<tr>\n",
       "  <th>A001</th>                       <td>    1.4600</td> <td>    0.215</td> <td>    6.776</td> <td> 0.000</td> <td>    1.038     1.882</td>\n",
       "</tr>\n",
       "<tr>\n",
       "  <th>A049</th>                       <td>    2.9768</td> <td>    0.359</td> <td>    8.299</td> <td> 0.000</td> <td>    2.274     3.680</td>\n",
       "</tr>\n",
       "<tr>\n",
       "  <th>A051</th>                       <td>    1.9076</td> <td>    0.289</td> <td>    6.593</td> <td> 0.000</td> <td>    1.340     2.475</td>\n",
       "</tr>\n",
       "<tr>\n",
       "  <th>A004</th>                       <td>   -0.7499</td> <td>    1.355</td> <td>   -0.554</td> <td> 0.580</td> <td>   -3.405     1.905</td>\n",
       "</tr>\n",
       "<tr>\n",
       "  <th>A038</th>                       <td>   -3.4191</td> <td>    0.700</td> <td>   -4.884</td> <td> 0.000</td> <td>   -4.791    -2.047</td>\n",
       "</tr>\n",
       "<tr>\n",
       "  <th>A005</th>                       <td>   -0.0345</td> <td>    0.889</td> <td>   -0.039</td> <td> 0.969</td> <td>   -1.778     1.709</td>\n",
       "</tr>\n",
       "<tr>\n",
       "  <th>A054</th>                       <td>    6.4792</td> <td>    1.563</td> <td>    4.146</td> <td> 0.000</td> <td>    3.416     9.543</td>\n",
       "</tr>\n",
       "<tr>\n",
       "  <th>A018</th>                       <td>    4.5000</td> <td>    0.819</td> <td>    5.493</td> <td> 0.000</td> <td>    2.894     6.106</td>\n",
       "</tr>\n",
       "<tr>\n",
       "  <th>A046</th>                       <td>   -1.1740</td> <td>    0.895</td> <td>   -1.312</td> <td> 0.190</td> <td>   -2.928     0.580</td>\n",
       "</tr>\n",
       "<tr>\n",
       "  <th>A006</th>                       <td>    0.2283</td> <td>    1.014</td> <td>    0.225</td> <td> 0.822</td> <td>   -1.759     2.216</td>\n",
       "</tr>\n",
       "<tr>\n",
       "  <th>A020</th>                       <td>    1.0272</td> <td>    0.686</td> <td>    1.497</td> <td> 0.134</td> <td>   -0.318     2.372</td>\n",
       "</tr>\n",
       "<tr>\n",
       "  <th>paid_employees</th>             <td>   -1.2046</td> <td>    0.419</td> <td>   -2.874</td> <td> 0.004</td> <td>   -2.026    -0.383</td>\n",
       "</tr>\n",
       "<tr>\n",
       "  <th>A053</th>                       <td>   -7.5106</td> <td>    1.960</td> <td>   -3.832</td> <td> 0.000</td> <td>  -11.352    -3.669</td>\n",
       "</tr>\n",
       "<tr>\n",
       "  <th>A047</th>                       <td>    4.1845</td> <td>    1.186</td> <td>    3.528</td> <td> 0.000</td> <td>    1.859     6.510</td>\n",
       "</tr>\n",
       "<tr>\n",
       "  <th>first_quarter_payroll_1000</th> <td>    0.3663</td> <td>    0.157</td> <td>    2.333</td> <td> 0.020</td> <td>    0.058     0.674</td>\n",
       "</tr>\n",
       "<tr>\n",
       "  <th>jail</th>                       <td>    1.3021</td> <td>    0.600</td> <td>    2.170</td> <td> 0.030</td> <td>    0.126     2.479</td>\n",
       "</tr>\n",
       "<tr>\n",
       "  <th>A025</th>                       <td>    1.7391</td> <td>    0.878</td> <td>    1.981</td> <td> 0.048</td> <td>    0.019     3.460</td>\n",
       "</tr>\n",
       "<tr>\n",
       "  <th>A035</th>                       <td>   -0.2052</td> <td>    0.134</td> <td>   -1.527</td> <td> 0.127</td> <td>   -0.469     0.058</td>\n",
       "</tr>\n",
       "<tr>\n",
       "  <th>A048</th>                       <td>    3.2362</td> <td>    1.136</td> <td>    2.848</td> <td> 0.004</td> <td>    1.009     5.464</td>\n",
       "</tr>\n",
       "<tr>\n",
       "  <th>A019</th>                       <td>   -2.3362</td> <td>    0.797</td> <td>   -2.930</td> <td> 0.003</td> <td>   -3.899    -0.773</td>\n",
       "</tr>\n",
       "<tr>\n",
       "  <th>A010</th>                       <td>    1.3439</td> <td>    0.732</td> <td>    1.837</td> <td> 0.066</td> <td>   -0.091     2.778</td>\n",
       "</tr>\n",
       "<tr>\n",
       "  <th>A045</th>                       <td>   19.3153</td> <td>   15.303</td> <td>    1.262</td> <td> 0.207</td> <td>  -10.682    49.313</td>\n",
       "</tr>\n",
       "<tr>\n",
       "  <th>A016</th>                       <td>    1.2875</td> <td>    1.000</td> <td>    1.288</td> <td> 0.198</td> <td>   -0.672     3.247</td>\n",
       "</tr>\n",
       "<tr>\n",
       "  <th>A030</th>                       <td>   -0.7827</td> <td>    0.648</td> <td>   -1.207</td> <td> 0.227</td> <td>   -2.054     0.488</td>\n",
       "</tr>\n",
       "<tr>\n",
       "  <th>A043</th>                       <td>   17.5567</td> <td>   15.190</td> <td>    1.156</td> <td> 0.248</td> <td>  -12.220    47.333</td>\n",
       "</tr>\n",
       "</table>\n",
       "<table class=\"simpletable\">\n",
       "<tr>\n",
       "  <th>Omnibus:</th>       <td>418.252</td> <th>  Durbin-Watson:     </th> <td>   1.968</td> \n",
       "</tr>\n",
       "<tr>\n",
       "  <th>Prob(Omnibus):</th> <td> 0.000</td>  <th>  Jarque-Bera (JB):  </th> <td> 855.309</td> \n",
       "</tr>\n",
       "<tr>\n",
       "  <th>Skew:</th>          <td> 0.381</td>  <th>  Prob(JB):          </th> <td>1.87e-186</td>\n",
       "</tr>\n",
       "<tr>\n",
       "  <th>Kurtosis:</th>      <td> 4.446</td>  <th>  Cond. No.          </th> <td>2.89e+04</td> \n",
       "</tr>\n",
       "</table>"
      ],
      "text/plain": [
       "<class 'statsmodels.iolib.summary.Summary'>\n",
       "\"\"\"\n",
       "                            OLS Regression Results                            \n",
       "==============================================================================\n",
       "Dep. Variable:               response   R-squared:                       0.907\n",
       "Model:                            OLS   Adj. R-squared:                  0.906\n",
       "Method:                 Least Squares   F-statistic:                     1903.\n",
       "Date:                Wed, 09 Dec 2015   Prob (F-statistic):               0.00\n",
       "Time:                        22:29:52   Log-Likelihood:                -30952.\n",
       "No. Observations:                7686   AIC:                         6.198e+04\n",
       "Df Residuals:                    7646   BIC:                         6.226e+04\n",
       "Df Model:                          39                                         \n",
       "Covariance Type:            nonrobust                                         \n",
       "==============================================================================================\n",
       "                                 coef    std err          t      P>|t|      [95.0% Conf. Int.]\n",
       "----------------------------------------------------------------------------------------------\n",
       "Intercept                     20.5392      0.745     27.554      0.000        19.078    22.000\n",
       "ratio_2011                     0.8588      0.006    150.501      0.000         0.848     0.870\n",
       "A036                           1.7554      0.270      6.507      0.000         1.227     2.284\n",
       "A034                           2.3805      0.268      8.883      0.000         1.855     2.906\n",
       "A032                          -6.7340      0.343    -19.656      0.000        -7.406    -6.062\n",
       "A056                           7.2176      0.473     15.273      0.000         6.291     8.144\n",
       "A002                          -5.2419      0.592     -8.850      0.000        -6.403    -4.081\n",
       "A031                          -6.3932      0.446    -14.344      0.000        -7.267    -5.519\n",
       "A052                           1.7711      0.229      7.734      0.000         1.322     2.220\n",
       "median_income                  2.7776      0.323      8.598      0.000         2.144     3.411\n",
       "A037                         -17.0358      1.198    -14.223      0.000       -19.384   -14.688\n",
       "A039                           5.8041      0.626      9.276      0.000         4.578     7.031\n",
       "A014                          -2.6351      1.379     -1.911      0.056        -5.338     0.068\n",
       "A042                         -42.5285     25.727     -1.653      0.098       -92.961     7.904\n",
       "A040                          -3.2273      0.514     -6.276      0.000        -4.235    -2.219\n",
       "A001                           1.4600      0.215      6.776      0.000         1.038     1.882\n",
       "A049                           2.9768      0.359      8.299      0.000         2.274     3.680\n",
       "A051                           1.9076      0.289      6.593      0.000         1.340     2.475\n",
       "A004                          -0.7499      1.355     -0.554      0.580        -3.405     1.905\n",
       "A038                          -3.4191      0.700     -4.884      0.000        -4.791    -2.047\n",
       "A005                          -0.0345      0.889     -0.039      0.969        -1.778     1.709\n",
       "A054                           6.4792      1.563      4.146      0.000         3.416     9.543\n",
       "A018                           4.5000      0.819      5.493      0.000         2.894     6.106\n",
       "A046                          -1.1740      0.895     -1.312      0.190        -2.928     0.580\n",
       "A006                           0.2283      1.014      0.225      0.822        -1.759     2.216\n",
       "A020                           1.0272      0.686      1.497      0.134        -0.318     2.372\n",
       "paid_employees                -1.2046      0.419     -2.874      0.004        -2.026    -0.383\n",
       "A053                          -7.5106      1.960     -3.832      0.000       -11.352    -3.669\n",
       "A047                           4.1845      1.186      3.528      0.000         1.859     6.510\n",
       "first_quarter_payroll_1000     0.3663      0.157      2.333      0.020         0.058     0.674\n",
       "jail                           1.3021      0.600      2.170      0.030         0.126     2.479\n",
       "A025                           1.7391      0.878      1.981      0.048         0.019     3.460\n",
       "A035                          -0.2052      0.134     -1.527      0.127        -0.469     0.058\n",
       "A048                           3.2362      1.136      2.848      0.004         1.009     5.464\n",
       "A019                          -2.3362      0.797     -2.930      0.003        -3.899    -0.773\n",
       "A010                           1.3439      0.732      1.837      0.066        -0.091     2.778\n",
       "A045                          19.3153     15.303      1.262      0.207       -10.682    49.313\n",
       "A016                           1.2875      1.000      1.288      0.198        -0.672     3.247\n",
       "A030                          -0.7827      0.648     -1.207      0.227        -2.054     0.488\n",
       "A043                          17.5567     15.190      1.156      0.248       -12.220    47.333\n",
       "==============================================================================\n",
       "Omnibus:                      418.252   Durbin-Watson:                   1.968\n",
       "Prob(Omnibus):                  0.000   Jarque-Bera (JB):              855.309\n",
       "Skew:                           0.381   Prob(JB):                    1.87e-186\n",
       "Kurtosis:                       4.446   Cond. No.                     2.89e+04\n",
       "==============================================================================\n",
       "\n",
       "Warnings:\n",
       "[1] Standard Errors assume that the covariance matrix of the errors is correctly specified.\n",
       "[2] The condition number is large, 2.89e+04. This might indicate that there are\n",
       "strong multicollinearity or other numerical problems.\n",
       "\"\"\""
      ]
     },
     "execution_count": 35,
     "metadata": {},
     "output_type": "execute_result"
    }
   ],
   "source": [
    "bestmodel_ratio_2015[0].summary()"
   ]
  },
  {
   "cell_type": "markdown",
   "metadata": {},
   "source": [
    "## get features from forward selection to use in sklearn regressions"
   ]
  },
  {
   "cell_type": "code",
   "execution_count": 36,
   "metadata": {
    "collapsed": false
   },
   "outputs": [],
   "source": [
    "# house/rental ratio 2015 response\n",
    "best_features_ratio_2015 = bestmodel_ratio_2015[0].params.index.values.tolist() + ['response', 'zipcode']"
   ]
  },
  {
   "cell_type": "code",
   "execution_count": 71,
   "metadata": {
    "collapsed": false
   },
   "outputs": [
    {
     "data": {
      "text/plain": [
       "(['Intercept',\n",
       "  'ratio_2011',\n",
       "  'A036',\n",
       "  'A034',\n",
       "  'A032',\n",
       "  'A056',\n",
       "  'A002',\n",
       "  'A031',\n",
       "  'A052',\n",
       "  'median_income',\n",
       "  'A037',\n",
       "  'A039',\n",
       "  'A014',\n",
       "  'A042',\n",
       "  'A040',\n",
       "  'A001',\n",
       "  'A049',\n",
       "  'A051',\n",
       "  'A004',\n",
       "  'A038',\n",
       "  'A005',\n",
       "  'A054',\n",
       "  'A018',\n",
       "  'A046',\n",
       "  'A006',\n",
       "  'A020',\n",
       "  'paid_employees',\n",
       "  'A053',\n",
       "  'A047',\n",
       "  'first_quarter_payroll_1000',\n",
       "  'jail',\n",
       "  'A025',\n",
       "  'A035',\n",
       "  'A048',\n",
       "  'A019',\n",
       "  'A010',\n",
       "  'A045',\n",
       "  'A016',\n",
       "  'A030',\n",
       "  'A043',\n",
       "  'response',\n",
       "  'zipcode'],\n",
       " ['prison',\n",
       "  'A003',\n",
       "  'A007',\n",
       "  'A008',\n",
       "  'A009',\n",
       "  'A011',\n",
       "  'A012',\n",
       "  'A013',\n",
       "  'A015',\n",
       "  'A017',\n",
       "  'A021',\n",
       "  'A022',\n",
       "  'A023',\n",
       "  'A024',\n",
       "  'A026',\n",
       "  'A027',\n",
       "  'A028',\n",
       "  'A029',\n",
       "  'A033',\n",
       "  'A041',\n",
       "  'A044',\n",
       "  'A050',\n",
       "  'A055',\n",
       "  'n_establishments',\n",
       "  'annual_payroll_1000',\n",
       "  'ind'],\n",
       " 42,\n",
       " 26)"
      ]
     },
     "execution_count": 71,
     "metadata": {},
     "output_type": "execute_result"
    }
   ],
   "source": [
    "best_features_ratio_2015, bad_features_ratio_2015, len(best_features_ratio_2015), len(bad_features_ratio_2015)"
   ]
  },
  {
   "cell_type": "code",
   "execution_count": 38,
   "metadata": {
    "collapsed": false
   },
   "outputs": [],
   "source": [
    "# house/rental ratio response\n",
    "bad_features_ratio_2015 = [el for el in ratio_2015_train.columns if (el not in best_features_ratio_2015)]\n",
    "\n",
    "ratio_2015_train_best = ratio_2015_train.drop(bad_features_ratio_2015 + ['ind'], 1).dropna()\n",
    "ratio_2015_test_best = ratio_2015_test.drop(bad_features_ratio_2015 + ['ind'], 1).dropna()"
   ]
  },
  {
   "cell_type": "code",
   "execution_count": 39,
   "metadata": {
    "collapsed": false
   },
   "outputs": [
    {
     "data": {
      "text/plain": [
       "((7686, 41), (1970, 41))"
      ]
     },
     "execution_count": 39,
     "metadata": {},
     "output_type": "execute_result"
    }
   ],
   "source": [
    "ratio_2015_train_best.shape, ratio_2015_test_best.shape"
   ]
  },
  {
   "cell_type": "code",
   "execution_count": 40,
   "metadata": {
    "collapsed": false
   },
   "outputs": [
    {
     "data": {
      "text/plain": [
       "((7686, 41), (1970, 41))"
      ]
     },
     "execution_count": 40,
     "metadata": {},
     "output_type": "execute_result"
    }
   ],
   "source": [
    "ratio_2015_train_best.shape, ratio_2015_test_best.shape"
   ]
  },
  {
   "cell_type": "code",
   "execution_count": 41,
   "metadata": {
    "collapsed": false
   },
   "outputs": [
    {
     "data": {
      "text/html": [
       "<div>\n",
       "<table border=\"1\" class=\"dataframe\">\n",
       "  <thead>\n",
       "    <tr style=\"text-align: right;\">\n",
       "      <th></th>\n",
       "      <th>zipcode</th>\n",
       "      <th>response</th>\n",
       "      <th>jail</th>\n",
       "      <th>A001</th>\n",
       "      <th>A002</th>\n",
       "      <th>A004</th>\n",
       "      <th>A005</th>\n",
       "      <th>A006</th>\n",
       "      <th>A010</th>\n",
       "      <th>A014</th>\n",
       "      <th>A016</th>\n",
       "      <th>A018</th>\n",
       "      <th>A019</th>\n",
       "      <th>A020</th>\n",
       "      <th>A025</th>\n",
       "      <th>A030</th>\n",
       "      <th>A031</th>\n",
       "      <th>A032</th>\n",
       "      <th>A034</th>\n",
       "      <th>A035</th>\n",
       "      <th>A036</th>\n",
       "      <th>A037</th>\n",
       "      <th>A038</th>\n",
       "      <th>A039</th>\n",
       "      <th>A040</th>\n",
       "      <th>A042</th>\n",
       "      <th>A043</th>\n",
       "      <th>A045</th>\n",
       "      <th>A046</th>\n",
       "      <th>A047</th>\n",
       "      <th>A048</th>\n",
       "      <th>A049</th>\n",
       "      <th>A051</th>\n",
       "      <th>A052</th>\n",
       "      <th>A053</th>\n",
       "      <th>A054</th>\n",
       "      <th>A056</th>\n",
       "      <th>paid_employees</th>\n",
       "      <th>first_quarter_payroll_1000</th>\n",
       "      <th>median_income</th>\n",
       "      <th>ratio_2011</th>\n",
       "    </tr>\n",
       "  </thead>\n",
       "  <tbody>\n",
       "    <tr>\n",
       "      <th>0</th>\n",
       "      <td>60629</td>\n",
       "      <td>96.111037</td>\n",
       "      <td>0</td>\n",
       "      <td>7.136276</td>\n",
       "      <td>1.711295</td>\n",
       "      <td>0.691174</td>\n",
       "      <td>1.180975</td>\n",
       "      <td>-0.574443</td>\n",
       "      <td>-0.813446</td>\n",
       "      <td>0.488388</td>\n",
       "      <td>-0.50419</td>\n",
       "      <td>-1.327644</td>\n",
       "      <td>-1.239872</td>\n",
       "      <td>-1.027577</td>\n",
       "      <td>1.175703</td>\n",
       "      <td>-0.929836</td>\n",
       "      <td>-1.994890</td>\n",
       "      <td>1.530919</td>\n",
       "      <td>-0.396648</td>\n",
       "      <td>-0.132979</td>\n",
       "      <td>2.470766</td>\n",
       "      <td>0.909223</td>\n",
       "      <td>2.049629</td>\n",
       "      <td>1.472771</td>\n",
       "      <td>2.040004</td>\n",
       "      <td>-0.938398</td>\n",
       "      <td>-0.758919</td>\n",
       "      <td>-0.825213</td>\n",
       "      <td>-0.862411</td>\n",
       "      <td>2.359287</td>\n",
       "      <td>-0.871903</td>\n",
       "      <td>0.290055</td>\n",
       "      <td>1.099626</td>\n",
       "      <td>0.240861</td>\n",
       "      <td>2.909382</td>\n",
       "      <td>3.165172</td>\n",
       "      <td>1.573763</td>\n",
       "      <td>1.178124</td>\n",
       "      <td>0.356887</td>\n",
       "      <td>-0.457911</td>\n",
       "      <td>89.529379</td>\n",
       "    </tr>\n",
       "    <tr>\n",
       "      <th>1</th>\n",
       "      <td>11385</td>\n",
       "      <td>231.576933</td>\n",
       "      <td>0</td>\n",
       "      <td>6.072615</td>\n",
       "      <td>0.142790</td>\n",
       "      <td>0.772805</td>\n",
       "      <td>1.497726</td>\n",
       "      <td>0.143432</td>\n",
       "      <td>-0.516074</td>\n",
       "      <td>0.537487</td>\n",
       "      <td>0.07147</td>\n",
       "      <td>-0.915197</td>\n",
       "      <td>-0.790664</td>\n",
       "      <td>-0.691070</td>\n",
       "      <td>1.496427</td>\n",
       "      <td>-0.413966</td>\n",
       "      <td>-0.815261</td>\n",
       "      <td>0.161055</td>\n",
       "      <td>1.708541</td>\n",
       "      <td>-0.003289</td>\n",
       "      <td>2.069883</td>\n",
       "      <td>0.205236</td>\n",
       "      <td>1.208115</td>\n",
       "      <td>0.244687</td>\n",
       "      <td>1.105945</td>\n",
       "      <td>-0.380802</td>\n",
       "      <td>-0.430185</td>\n",
       "      <td>-0.193221</td>\n",
       "      <td>-0.339587</td>\n",
       "      <td>0.623927</td>\n",
       "      <td>-0.606362</td>\n",
       "      <td>0.622923</td>\n",
       "      <td>0.523871</td>\n",
       "      <td>-0.684705</td>\n",
       "      <td>0.735204</td>\n",
       "      <td>0.817612</td>\n",
       "      <td>0.751591</td>\n",
       "      <td>1.368660</td>\n",
       "      <td>0.560189</td>\n",
       "      <td>-0.048234</td>\n",
       "      <td>246.079213</td>\n",
       "    </tr>\n",
       "  </tbody>\n",
       "</table>\n",
       "</div>"
      ],
      "text/plain": [
       "   zipcode    response  jail      A001      A002      A004      A005      A006      A010      A014     A016      A018      A019      A020      A025      A030      A031      A032      A034      A035      A036      A037      A038      A039      A040      A042      A043      A045      A046      A047      A048      A049      A051      A052      A053      A054      A056  paid_employees  first_quarter_payroll_1000  median_income  ratio_2011\n",
       "0    60629   96.111037     0  7.136276  1.711295  0.691174  1.180975 -0.574443 -0.813446  0.488388 -0.50419 -1.327644 -1.239872 -1.027577  1.175703 -0.929836 -1.994890  1.530919 -0.396648 -0.132979  2.470766  0.909223  2.049629  1.472771  2.040004 -0.938398 -0.758919 -0.825213 -0.862411  2.359287 -0.871903  0.290055  1.099626  0.240861  2.909382  3.165172  1.573763        1.178124                    0.356887      -0.457911   89.529379\n",
       "1    11385  231.576933     0  6.072615  0.142790  0.772805  1.497726  0.143432 -0.516074  0.537487  0.07147 -0.915197 -0.790664 -0.691070  1.496427 -0.413966 -0.815261  0.161055  1.708541 -0.003289  2.069883  0.205236  1.208115  0.244687  1.105945 -0.380802 -0.430185 -0.193221 -0.339587  0.623927 -0.606362  0.622923  0.523871 -0.684705  0.735204  0.817612  0.751591        1.368660                    0.560189      -0.048234  246.079213"
      ]
     },
     "execution_count": 41,
     "metadata": {},
     "output_type": "execute_result"
    }
   ],
   "source": [
    "ratio_2015_test_best.head(2)"
   ]
  },
  {
   "cell_type": "code",
   "execution_count": 89,
   "metadata": {
    "collapsed": false
   },
   "outputs": [],
   "source": [
    "## replace 2011 ratio with 2011 ratio + avg(2015 ratio) - avg(2011 ratio)\n",
    "ratio_2015_train_best['ratio_2011'] = np.add(ratio_2015_train_best['ratio_2011'], avg_diff)\n",
    "ratio_2015_test_best['ratio_2011'] = np.add(ratio_2015_test_best['ratio_2011'], avg_diff)"
   ]
  },
  {
   "cell_type": "markdown",
   "metadata": {},
   "source": [
    "## Linear Regression with Lasso Regularization (normalized and transformed features)"
   ]
  },
  {
   "cell_type": "code",
   "execution_count": 90,
   "metadata": {
    "collapsed": false
   },
   "outputs": [
    {
     "name": "stdout",
     "output_type": "stream",
     "text": [
      "----- 0.0805239677429 seconds to run ----- \n",
      "---- best alpha = 0.1 ----\n"
     ]
    }
   ],
   "source": [
    "from sklearn.linear_model import LassoCV\n",
    "# HOUSE/RENTAL RATIO 2015 RESPONSE\n",
    "start_time = time.time()\n",
    "\n",
    "X_train = ratio_2015_train_best.drop(['response','zipcode'], 1).values\n",
    "Y_train = ratio_2015_train_best['response'].values\n",
    "X_test = ratio_2015_test_best.drop(['response','zipcode'], 1).values\n",
    "Y_test = ratio_2015_test_best['response'].values\n",
    "\n",
    "alphas = [0.001, 0.01, 0.1, 1.0, 10.0, 100.0]\n",
    "alphas_temp = [0.001, 0.01]\n",
    "lasso_model_ratio_2015 = LassoCV(alphas = alphas).fit(X_train, Y_train)\n",
    "best_alpha_lasso = lasso_model_ratio_2015.alpha_\n",
    "\n",
    "print '----- %s seconds to run ----- \\n---- best alpha = %s ----'%(time.time() - start_time, best_alpha_lasso)"
   ]
  },
  {
   "cell_type": "code",
   "execution_count": 91,
   "metadata": {
    "collapsed": false
   },
   "outputs": [
    {
     "name": "stdout",
     "output_type": "stream",
     "text": [
      "#### based on the best Linear Regression with Lasso Regularization ####\n",
      "R-squared on training data: 0.90\n",
      "R-squared on test data:     0.89\n",
      "----- 0.00247311592102 seconds to run -----\n"
     ]
    }
   ],
   "source": [
    "# calculate accuracy\n",
    "start_time = time.time()\n",
    "\n",
    "training_accuracy = lasso_model_ratio_2015.score(X_train, Y_train)\n",
    "test_accuracy = lasso_model_ratio_2015.score(X_test, Y_test)\n",
    "print '#### based on the best Linear Regression with Lasso Regularization ####'\n",
    "print \"R-squared on training data: %0.2f\" % (training_accuracy)\n",
    "print \"R-squared on test data:     %0.2f\" % (test_accuracy)\n",
    "print '----- %s seconds to run -----'%(time.time() - start_time)"
   ]
  },
  {
   "cell_type": "code",
   "execution_count": 92,
   "metadata": {
    "collapsed": false
   },
   "outputs": [
    {
     "name": "stdout",
     "output_type": "stream",
     "text": [
      "Response Variable: House/Rental 2015 Ratio\n",
      "RMSE for Lasso: 14.8008930878\n"
     ]
    }
   ],
   "source": [
    "lasso_pred_ratio_2015 = lasso_model_ratio_2015.predict(X_test)\n",
    "lasso_rmse = get_rmse(lasso_pred_ratio_2015, Y_test)\n",
    "\n",
    "print 'Response Variable: House/Rental 2015 Ratio'\n",
    "print 'RMSE for Lasso: ' + str(lasso_rmse)"
   ]
  },
  {
   "cell_type": "code",
   "execution_count": 113,
   "metadata": {
    "collapsed": false
   },
   "outputs": [
    {
     "data": {
      "text/html": [
       "<div>\n",
       "<table border=\"1\" class=\"dataframe\">\n",
       "  <thead>\n",
       "    <tr style=\"text-align: right;\">\n",
       "      <th></th>\n",
       "      <th>actual</th>\n",
       "      <th>baseline</th>\n",
       "      <th>lasso</th>\n",
       "      <th>ridge</th>\n",
       "    </tr>\n",
       "  </thead>\n",
       "  <tbody>\n",
       "    <tr>\n",
       "      <th>1004</th>\n",
       "      <td>38.362361</td>\n",
       "      <td>133.223276</td>\n",
       "      <td>67.113344</td>\n",
       "      <td>63.128328</td>\n",
       "    </tr>\n",
       "    <tr>\n",
       "      <th>1193</th>\n",
       "      <td>47.400434</td>\n",
       "      <td>133.223276</td>\n",
       "      <td>63.270515</td>\n",
       "      <td>63.547341</td>\n",
       "    </tr>\n",
       "    <tr>\n",
       "      <th>285</th>\n",
       "      <td>47.734003</td>\n",
       "      <td>133.223276</td>\n",
       "      <td>78.182436</td>\n",
       "      <td>76.285234</td>\n",
       "    </tr>\n",
       "    <tr>\n",
       "      <th>877</th>\n",
       "      <td>47.954011</td>\n",
       "      <td>133.223276</td>\n",
       "      <td>90.008024</td>\n",
       "      <td>86.677352</td>\n",
       "    </tr>\n",
       "  </tbody>\n",
       "</table>\n",
       "</div>"
      ],
      "text/plain": [
       "         actual    baseline      lasso      ridge\n",
       "1004  38.362361  133.223276  67.113344  63.128328\n",
       "1193  47.400434  133.223276  63.270515  63.547341\n",
       "285   47.734003  133.223276  78.182436  76.285234\n",
       "877   47.954011  133.223276  90.008024  86.677352"
      ]
     },
     "execution_count": 113,
     "metadata": {},
     "output_type": "execute_result"
    }
   ],
   "source": [
    "ratio_2015_preds_df.head(4)"
   ]
  },
  {
   "cell_type": "markdown",
   "metadata": {},
   "source": [
    "## Linear Regression with Ridge Regularization (normalized and transformed features)"
   ]
  },
  {
   "cell_type": "code",
   "execution_count": 47,
   "metadata": {
    "collapsed": false
   },
   "outputs": [
    {
     "name": "stdout",
     "output_type": "stream",
     "text": [
      "----- 0.041759967804 seconds to run ----- \n",
      "---- best alpha = 0.1 ----\n"
     ]
    }
   ],
   "source": [
    "from sklearn.linear_model import RidgeCV\n",
    "# HOUSE/RENTAL RATIO 2015 RESPONSE\n",
    "start_time = time.time()\n",
    "\n",
    "X_train = ratio_2015_train_best.drop(['response','zipcode'], 1).values\n",
    "Y_train = ratio_2015_train_best['response'].values\n",
    "X_test = ratio_2015_test_best.drop(['response','zipcode'], 1).values\n",
    "Y_test = ratio_2015_test_best['response'].values\n",
    "\n",
    "alphas = [0.001, 0.01, 0.1, 1.0, 10.0, 100.0]\n",
    "ridge_model_ratio_2015 = RidgeCV(alphas = alphas).fit(X_train, Y_train)\n",
    "best_alpha_ridge = ridge_model_ratio_2015.alpha_\n",
    "\n",
    "print '----- %s seconds to run ----- \\n---- best alpha = %s ----'%(time.time() - start_time, best_alpha_ridge)"
   ]
  },
  {
   "cell_type": "code",
   "execution_count": 83,
   "metadata": {
    "collapsed": false
   },
   "outputs": [
    {
     "name": "stderr",
     "output_type": "stream",
     "text": [
      "/Users/princess_eliza/anaconda/lib/python2.7/site-packages/ipykernel/__main__.py:1: FutureWarning: sort(columns=....) is deprecated, use sort_values(by=.....)\n",
      "  if __name__ == '__main__':\n"
     ]
    },
    {
     "data": {
      "text/html": [
       "<div>\n",
       "<table border=\"1\" class=\"dataframe\">\n",
       "  <thead>\n",
       "    <tr style=\"text-align: right;\">\n",
       "      <th></th>\n",
       "      <th>coeff</th>\n",
       "      <th>feature</th>\n",
       "    </tr>\n",
       "  </thead>\n",
       "  <tbody>\n",
       "    <tr>\n",
       "      <th>23</th>\n",
       "      <td>-28.220521</td>\n",
       "      <td>A042</td>\n",
       "    </tr>\n",
       "    <tr>\n",
       "      <th>19</th>\n",
       "      <td>-17.021160</td>\n",
       "      <td>A037</td>\n",
       "    </tr>\n",
       "    <tr>\n",
       "      <th>32</th>\n",
       "      <td>-7.488033</td>\n",
       "      <td>A053</td>\n",
       "    </tr>\n",
       "    <tr>\n",
       "      <th>15</th>\n",
       "      <td>-6.731690</td>\n",
       "      <td>A032</td>\n",
       "    </tr>\n",
       "    <tr>\n",
       "      <th>14</th>\n",
       "      <td>-6.391397</td>\n",
       "      <td>A031</td>\n",
       "    </tr>\n",
       "    <tr>\n",
       "      <th>2</th>\n",
       "      <td>-5.235915</td>\n",
       "      <td>A002</td>\n",
       "    </tr>\n",
       "    <tr>\n",
       "      <th>20</th>\n",
       "      <td>-3.423253</td>\n",
       "      <td>A038</td>\n",
       "    </tr>\n",
       "    <tr>\n",
       "      <th>22</th>\n",
       "      <td>-3.223983</td>\n",
       "      <td>A040</td>\n",
       "    </tr>\n",
       "    <tr>\n",
       "      <th>7</th>\n",
       "      <td>-2.641196</td>\n",
       "      <td>A014</td>\n",
       "    </tr>\n",
       "    <tr>\n",
       "      <th>10</th>\n",
       "      <td>-2.332890</td>\n",
       "      <td>A019</td>\n",
       "    </tr>\n",
       "    <tr>\n",
       "      <th>35</th>\n",
       "      <td>-1.209813</td>\n",
       "      <td>paid_employees</td>\n",
       "    </tr>\n",
       "    <tr>\n",
       "      <th>26</th>\n",
       "      <td>-1.179651</td>\n",
       "      <td>A046</td>\n",
       "    </tr>\n",
       "    <tr>\n",
       "      <th>13</th>\n",
       "      <td>-0.776474</td>\n",
       "      <td>A030</td>\n",
       "    </tr>\n",
       "    <tr>\n",
       "      <th>3</th>\n",
       "      <td>-0.746170</td>\n",
       "      <td>A004</td>\n",
       "    </tr>\n",
       "    <tr>\n",
       "      <th>17</th>\n",
       "      <td>-0.206790</td>\n",
       "      <td>A035</td>\n",
       "    </tr>\n",
       "    <tr>\n",
       "      <th>4</th>\n",
       "      <td>-0.029451</td>\n",
       "      <td>A005</td>\n",
       "    </tr>\n",
       "    <tr>\n",
       "      <th>5</th>\n",
       "      <td>0.231725</td>\n",
       "      <td>A006</td>\n",
       "    </tr>\n",
       "    <tr>\n",
       "      <th>36</th>\n",
       "      <td>0.367942</td>\n",
       "      <td>first_quarter_payroll_1000</td>\n",
       "    </tr>\n",
       "    <tr>\n",
       "      <th>38</th>\n",
       "      <td>0.858800</td>\n",
       "      <td>ratio_2011</td>\n",
       "    </tr>\n",
       "    <tr>\n",
       "      <th>11</th>\n",
       "      <td>1.019071</td>\n",
       "      <td>A020</td>\n",
       "    </tr>\n",
       "    <tr>\n",
       "      <th>8</th>\n",
       "      <td>1.285807</td>\n",
       "      <td>A016</td>\n",
       "    </tr>\n",
       "    <tr>\n",
       "      <th>0</th>\n",
       "      <td>1.298005</td>\n",
       "      <td>jail</td>\n",
       "    </tr>\n",
       "    <tr>\n",
       "      <th>6</th>\n",
       "      <td>1.343992</td>\n",
       "      <td>A010</td>\n",
       "    </tr>\n",
       "    <tr>\n",
       "      <th>1</th>\n",
       "      <td>1.460009</td>\n",
       "      <td>A001</td>\n",
       "    </tr>\n",
       "    <tr>\n",
       "      <th>12</th>\n",
       "      <td>1.730110</td>\n",
       "      <td>A025</td>\n",
       "    </tr>\n",
       "    <tr>\n",
       "      <th>18</th>\n",
       "      <td>1.758195</td>\n",
       "      <td>A036</td>\n",
       "    </tr>\n",
       "    <tr>\n",
       "      <th>31</th>\n",
       "      <td>1.772461</td>\n",
       "      <td>A052</td>\n",
       "    </tr>\n",
       "    <tr>\n",
       "      <th>30</th>\n",
       "      <td>1.908387</td>\n",
       "      <td>A051</td>\n",
       "    </tr>\n",
       "    <tr>\n",
       "      <th>16</th>\n",
       "      <td>2.383258</td>\n",
       "      <td>A034</td>\n",
       "    </tr>\n",
       "    <tr>\n",
       "      <th>37</th>\n",
       "      <td>2.777761</td>\n",
       "      <td>median_income</td>\n",
       "    </tr>\n",
       "    <tr>\n",
       "      <th>29</th>\n",
       "      <td>2.976188</td>\n",
       "      <td>A049</td>\n",
       "    </tr>\n",
       "    <tr>\n",
       "      <th>28</th>\n",
       "      <td>3.235989</td>\n",
       "      <td>A048</td>\n",
       "    </tr>\n",
       "    <tr>\n",
       "      <th>27</th>\n",
       "      <td>4.170351</td>\n",
       "      <td>A047</td>\n",
       "    </tr>\n",
       "    <tr>\n",
       "      <th>9</th>\n",
       "      <td>4.492746</td>\n",
       "      <td>A018</td>\n",
       "    </tr>\n",
       "    <tr>\n",
       "      <th>21</th>\n",
       "      <td>5.807899</td>\n",
       "      <td>A039</td>\n",
       "    </tr>\n",
       "    <tr>\n",
       "      <th>33</th>\n",
       "      <td>6.463857</td>\n",
       "      <td>A054</td>\n",
       "    </tr>\n",
       "    <tr>\n",
       "      <th>34</th>\n",
       "      <td>7.215738</td>\n",
       "      <td>A056</td>\n",
       "    </tr>\n",
       "    <tr>\n",
       "      <th>24</th>\n",
       "      <td>9.122439</td>\n",
       "      <td>A043</td>\n",
       "    </tr>\n",
       "    <tr>\n",
       "      <th>25</th>\n",
       "      <td>10.819889</td>\n",
       "      <td>A045</td>\n",
       "    </tr>\n",
       "  </tbody>\n",
       "</table>\n",
       "</div>"
      ],
      "text/plain": [
       "        coeff                     feature\n",
       "23 -28.220521                        A042\n",
       "19 -17.021160                        A037\n",
       "32  -7.488033                        A053\n",
       "15  -6.731690                        A032\n",
       "14  -6.391397                        A031\n",
       "2   -5.235915                        A002\n",
       "20  -3.423253                        A038\n",
       "22  -3.223983                        A040\n",
       "7   -2.641196                        A014\n",
       "10  -2.332890                        A019\n",
       "35  -1.209813              paid_employees\n",
       "26  -1.179651                        A046\n",
       "13  -0.776474                        A030\n",
       "3   -0.746170                        A004\n",
       "17  -0.206790                        A035\n",
       "4   -0.029451                        A005\n",
       "5    0.231725                        A006\n",
       "36   0.367942  first_quarter_payroll_1000\n",
       "38   0.858800                  ratio_2011\n",
       "11   1.019071                        A020\n",
       "8    1.285807                        A016\n",
       "0    1.298005                        jail\n",
       "6    1.343992                        A010\n",
       "1    1.460009                        A001\n",
       "12   1.730110                        A025\n",
       "18   1.758195                        A036\n",
       "31   1.772461                        A052\n",
       "30   1.908387                        A051\n",
       "16   2.383258                        A034\n",
       "37   2.777761               median_income\n",
       "29   2.976188                        A049\n",
       "28   3.235989                        A048\n",
       "27   4.170351                        A047\n",
       "9    4.492746                        A018\n",
       "21   5.807899                        A039\n",
       "33   6.463857                        A054\n",
       "34   7.215738                        A056\n",
       "24   9.122439                        A043\n",
       "25  10.819889                        A045"
      ]
     },
     "execution_count": 83,
     "metadata": {},
     "output_type": "execute_result"
    }
   ],
   "source": [
    "pd.DataFrame({'coeff':ridge_model_ratio_2015.coef_,'feature': ratio_2015_train_best.columns.values.tolist()[2:]}).sort('coeff')"
   ]
  },
  {
   "cell_type": "code",
   "execution_count": 81,
   "metadata": {
    "collapsed": false
   },
   "outputs": [
    {
     "data": {
      "text/plain": [
       "['jail',\n",
       " 'A001',\n",
       " 'A002',\n",
       " 'A004',\n",
       " 'A005',\n",
       " 'A006',\n",
       " 'A010',\n",
       " 'A014',\n",
       " 'A016',\n",
       " 'A018',\n",
       " 'A019',\n",
       " 'A020',\n",
       " 'A025',\n",
       " 'A030',\n",
       " 'A031',\n",
       " 'A032',\n",
       " 'A034',\n",
       " 'A035',\n",
       " 'A036',\n",
       " 'A037',\n",
       " 'A038',\n",
       " 'A039',\n",
       " 'A040',\n",
       " 'A042',\n",
       " 'A043',\n",
       " 'A045',\n",
       " 'A046',\n",
       " 'A047',\n",
       " 'A048',\n",
       " 'A049',\n",
       " 'A051',\n",
       " 'A052',\n",
       " 'A053',\n",
       " 'A054',\n",
       " 'A056',\n",
       " 'paid_employees',\n",
       " 'first_quarter_payroll_1000',\n",
       " 'median_income',\n",
       " 'ratio_2011']"
      ]
     },
     "execution_count": 81,
     "metadata": {},
     "output_type": "execute_result"
    }
   ],
   "source": [
    "ratio_2015_train_best.columns.values.tolist()[2:]"
   ]
  },
  {
   "cell_type": "code",
   "execution_count": 48,
   "metadata": {
    "collapsed": false
   },
   "outputs": [
    {
     "name": "stdout",
     "output_type": "stream",
     "text": [
      "#### based on the best Linear Regression with Ridge Regularization ####\n",
      "R-squared on training data: 0.91\n",
      "R-squared on test data:     0.91\n"
     ]
    }
   ],
   "source": [
    "training_accuracy = ridge_model_ratio_2015.score(X_train, Y_train)\n",
    "test_accuracy = ridge_model_ratio_2015.score(X_test, Y_test)\n",
    "print '#### based on the best Linear Regression with Ridge Regularization ####'\n",
    "print \"R-squared on training data: %0.2f\" % (training_accuracy)\n",
    "print \"R-squared on test data:     %0.2f\" % (test_accuracy)"
   ]
  },
  {
   "cell_type": "code",
   "execution_count": 49,
   "metadata": {
    "collapsed": false
   },
   "outputs": [
    {
     "name": "stdout",
     "output_type": "stream",
     "text": [
      "Response Variable: Housing/Rental Ratio 2015\n",
      "RMSE for Ridge: 13.7408316241\n"
     ]
    }
   ],
   "source": [
    "ridge_pred_ratio_2015 = ridge_model_ratio_2015.predict(X_test)\n",
    "ridge_rmse = get_rmse(ridge_pred_ratio_2015, Y_test)\n",
    "\n",
    "print 'Response Variable: Housing/Rental Ratio 2015'\n",
    "print 'RMSE for Ridge: ' + str(ridge_rmse)"
   ]
  },
  {
   "cell_type": "code",
   "execution_count": 55,
   "metadata": {
    "collapsed": false
   },
   "outputs": [
    {
     "data": {
      "text/plain": [
       "((), (1970,), (1970,), (1970, 41))"
      ]
     },
     "execution_count": 55,
     "metadata": {},
     "output_type": "execute_result"
    }
   ],
   "source": [
    "train_ratio_2015_mean.shape, lasso_pred_ratio_2015.shape, ridge_pred_ratio_2015.shape, ratio_2015_test_best.shape"
   ]
  },
  {
   "cell_type": "code",
   "execution_count": 67,
   "metadata": {
    "collapsed": false
   },
   "outputs": [
    {
     "name": "stderr",
     "output_type": "stream",
     "text": [
      "/Users/princess_eliza/anaconda/lib/python2.7/site-packages/ipykernel/__main__.py:5: FutureWarning: sort(columns=....) is deprecated, use sort_values(by=.....)\n"
     ]
    },
    {
     "data": {
      "image/png": "[encoded data removed]",
      "text/plain": [
       "<matplotlib.figure.Figure at 0x10d709dd0>"
      ]
     },
     "metadata": {},
     "output_type": "display_data"
    }
   ],
   "source": [
    "# plot to show difference between baseline, lasso, and ridge regressions\n",
    "# HOUSE/RENTAL ratio 2015\n",
    "\n",
    "ratio_2015_preds_df = pd.DataFrame({'baseline_2011':ratio_2015_test_best.ratio_2011, 'baseline':train_ratio_2015_mean,'lasso':lasso_pred_ratio_2015, 'ridge': ridge_pred_ratio_2015,'actual':ratio_2015_test_best.response})\n",
    "ratio_2015_preds_df = ratio_2015_preds_df.sort('actual')\n",
    "\n",
    "m=1870\n",
    "n=1970\n",
    "\n",
    "plt.plot(ratio_2015_preds_df.lasso[m:n], color='g', linewidth=0.5, label='lasso')\n",
    "plt.plot(ratio_2015_preds_df.ridge[m:n], color='m', linewidth=0.5, label='ridge')\n",
    "plt.plot(ratio_2015_preds_df.actual[m:n], color='b', linewidth=0.5, label='actual')\n",
    "plt.plot(ratio_2015_preds_df.baseline[m:n], color='k', linewidth=0.5, label='baseline')\n",
    "plt.plot(ratio_2015_preds_df.baseline_2011[m:n], color='r', linewidth=0.5, label='baseline_2011')\n",
    "plt.legend(loc='best')\n",
    "plt.show()"
   ]
  },
  {
   "cell_type": "code",
   "execution_count": 68,
   "metadata": {
    "collapsed": false
   },
   "outputs": [
    {
     "data": {
      "image/png": "[encoded data removed]",
      "text/plain": [
       "<matplotlib.figure.Figure at 0x10e2864d0>"
      ]
     },
     "metadata": {},
     "output_type": "display_data"
    }
   ],
   "source": [
    "# plt.plot(ratio_2015_preds_df.actual[m:n], color='b', linewidth=0.5, label='actual')\n",
    "plt.plot(abs(ratio_2015_preds_df.baseline[m:n] - ratio_2015_preds_df.actual[m:n]), color='k', linewidth=0.5, label='baseline')\n",
    "plt.plot(abs(ratio_2015_preds_df.lasso[m:n] - ratio_2015_preds_df.actual[m:n]), color='g', linewidth=0.5, label='lasso')\n",
    "plt.plot(abs(ratio_2015_preds_df.ridge[m:n] - ratio_2015_preds_df.actual[m:n]), color='m', linewidth=0.5, label='ridge')\n",
    "plt.plot(abs(ratio_2015_preds_df.baseline_2011[m:n] - ratio_2015_preds_df.actual[m:n]), color='r', linewidth=0.5, label='baseline_2011')\n",
    "\n",
    "plt.legend(loc='best')\n",
    "plt.show()"
   ]
  },
  {
   "cell_type": "markdown",
   "metadata": {
    "collapsed": true
   },
   "source": [
    "#svm's"
   ]
  },
  {
   "cell_type": "code",
   "execution_count": null,
   "metadata": {
    "collapsed": true
   },
   "outputs": [],
   "source": []
  },
  {
   "cell_type": "code",
   "execution_count": null,
   "metadata": {
    "collapsed": true
   },
   "outputs": [],
   "source": []
  },
  {
   "cell_type": "code",
   "execution_count": null,
   "metadata": {
    "collapsed": true
   },
   "outputs": [],
   "source": []
  },
  {
   "cell_type": "code",
   "execution_count": null,
   "metadata": {
    "collapsed": true
   },
   "outputs": [],
   "source": [
    "from sklearn.svm import LinearSVC\n",
    "\n",
    "clfsvm=LinearSVC(loss=\"hinge\")\n",
    "Cs=[0.001, 0.01, 0.1, 1.0, 10.0, 100.0]\n",
    "Xmatrix=dftouse[lcols].values\n",
    "Yresp=dftouse['RESP'].values\n",
    "\n",
    "Xmatrix_train=Xmatrix[mask]\n",
    "Xmatrix_test=Xmatrix[~mask]\n",
    "Yresp_train=Yresp[mask]\n",
    "Yresp_test=Yresp[~mask]\n",
    "\n",
    "#your code here\n",
    "from sklearn.grid_search import GridSearchCV\n",
    "import time\n",
    "\n",
    "start_time = time.time()\n",
    "\n",
    "n_folds = 5\n",
    "n_jobs = 4\n",
    "gs = GridSearchCV(clfsvm, param_grid={\"C\": Cs}, cv=n_folds, n_jobs=n_jobs)\n",
    "gs.fit(Xmatrix_train, Yresp_train)\n",
    "\n",
    "C_best = gs.best_params_['C']\n",
    "print 'The best c-value is %s'%(C_best)\n",
    "\n",
    "print '----- %s seconds to run -----'%(time.time() - start_time)"
   ]
  },
  {
   "cell_type": "code",
   "execution_count": null,
   "metadata": {
    "collapsed": true
   },
   "outputs": [],
   "source": []
  },
  {
   "cell_type": "code",
   "execution_count": null,
   "metadata": {
    "collapsed": true
   },
   "outputs": [],
   "source": []
  },
  {
   "cell_type": "code",
   "execution_count": null,
   "metadata": {
    "collapsed": true
   },
   "outputs": [],
   "source": []
  },
  {
   "cell_type": "code",
   "execution_count": null,
   "metadata": {
    "collapsed": true
   },
   "outputs": [],
   "source": []
  },
  {
   "cell_type": "code",
   "execution_count": null,
   "metadata": {
    "collapsed": true
   },
   "outputs": [],
   "source": [
    "##### In case we want to do SVM regression/other types of models later"
   ]
  },
  {
   "cell_type": "code",
   "execution_count": null,
   "metadata": {
    "collapsed": true
   },
   "outputs": [],
   "source": [
    "#calculate the accuracy here\n",
    "#your code here\n",
    "start_time = time.time()\n",
    "\n",
    "best = LinearSVC(C=C_best, class_weight=None, dual=True, fit_intercept=True,\n",
    "      intercept_scaling=1, loss='hinge', max_iter=1000, multi_class='ovr',\n",
    "      penalty='l2', random_state=None, tol=0.0001, verbose=0)\n",
    "best.fit(Xmatrix_train, Yresp_train)\n",
    "\n",
    "training_accuracy = best.score(Xmatrix_train, Yresp_train)\n",
    "test_accuracy = best.score(Xmatrix_test, Yresp_test)\n",
    "print '#### based on the best LinearSVC ####'\n",
    "print \"Accuracy on training data: %0.2f\" % (training_accuracy)\n",
    "print \"Accuracy on test data:     %0.2f\" % (test_accuracy)\n",
    "print '----- %s seconds to run -----'%(time.time() - start_time)"
   ]
  }
 ],
 "metadata": {
  "kernelspec": {
   "display_name": "Python 2",
   "language": "python",
   "name": "python2"
  },
  "language_info": {
   "codemirror_mode": {
    "name": "ipython",
    "version": 2
   },
   "file_extension": ".py",
   "mimetype": "text/x-python",
   "name": "python",
   "nbconvert_exporter": "python",
   "pygments_lexer": "ipython2",
   "version": "2.7.10"
  }
 },
 "nbformat": 4,
 "nbformat_minor": 0
}
