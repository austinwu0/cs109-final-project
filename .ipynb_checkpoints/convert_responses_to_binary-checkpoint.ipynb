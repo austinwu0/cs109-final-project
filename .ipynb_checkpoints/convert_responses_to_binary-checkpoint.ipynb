{
 "cells": [
  {
   "cell_type": "code",
   "execution_count": 32,
   "metadata": {
    "collapsed": true
   },
   "outputs": [],
   "source": [
    "%matplotlib inline\n",
    "import numpy as np\n",
    "import scipy as sp\n",
    "import matplotlib as mpl\n",
    "import matplotlib.cm as cm\n",
    "import matplotlib.pyplot as plt\n",
    "import pandas as pd\n",
    "import time\n",
    "import json\n",
    "pd.set_option('display.width', 500)\n",
    "pd.set_option('display.max_columns', 100)\n",
    "pd.set_option('display.notebook_repr_html', True)\n",
    "import seaborn as sns\n",
    "sns.set_style(\"whitegrid\")\n",
    "sns.set_context(\"poster\")"
   ]
  },
  {
   "cell_type": "code",
   "execution_count": 54,
   "metadata": {
    "collapsed": false
   },
   "outputs": [
    {
     "name": "stdout",
     "output_type": "stream",
     "text": [
      "Mean ratio_2015 is: 134.492024044\n"
     ]
    },
    {
     "data": {
      "text/html": [
       "<div>\n",
       "<table border=\"1\" class=\"dataframe\">\n",
       "  <thead>\n",
       "    <tr style=\"text-align: right;\">\n",
       "      <th></th>\n",
       "      <th>zipcode</th>\n",
       "      <th>r_agg_2011</th>\n",
       "      <th>r_agg_2015_adj</th>\n",
       "      <th>r_pct_delta</th>\n",
       "      <th>h_agg_2011</th>\n",
       "      <th>h_agg_2015_adj</th>\n",
       "      <th>h_pct_delta</th>\n",
       "      <th>ratio_2011</th>\n",
       "      <th>ratio_2015</th>\n",
       "      <th>ratio_pct_delta</th>\n",
       "      <th>binary_2015</th>\n",
       "    </tr>\n",
       "  </thead>\n",
       "  <tbody>\n",
       "    <tr>\n",
       "      <th>0</th>\n",
       "      <td>11368</td>\n",
       "      <td>1.868000</td>\n",
       "      <td>2.188278</td>\n",
       "      <td>1.171455</td>\n",
       "      <td>373.833333</td>\n",
       "      <td>431.274105</td>\n",
       "      <td>1.153653</td>\n",
       "      <td>200.124911</td>\n",
       "      <td>197.083754</td>\n",
       "      <td>0.984804</td>\n",
       "      <td>True</td>\n",
       "    </tr>\n",
       "    <tr>\n",
       "      <th>1</th>\n",
       "      <td>79936</td>\n",
       "      <td>0.744167</td>\n",
       "      <td>0.694379</td>\n",
       "      <td>0.933096</td>\n",
       "      <td>80.333333</td>\n",
       "      <td>75.060164</td>\n",
       "      <td>0.934359</td>\n",
       "      <td>107.950728</td>\n",
       "      <td>108.096860</td>\n",
       "      <td>1.001354</td>\n",
       "      <td>False</td>\n",
       "    </tr>\n",
       "    <tr>\n",
       "      <th>2</th>\n",
       "      <td>60629</td>\n",
       "      <td>1.197000</td>\n",
       "      <td>1.180207</td>\n",
       "      <td>0.985971</td>\n",
       "      <td>107.166667</td>\n",
       "      <td>113.430961</td>\n",
       "      <td>1.058454</td>\n",
       "      <td>89.529379</td>\n",
       "      <td>96.111037</td>\n",
       "      <td>1.073514</td>\n",
       "      <td>False</td>\n",
       "    </tr>\n",
       "    <tr>\n",
       "      <th>3</th>\n",
       "      <td>90650</td>\n",
       "      <td>1.524333</td>\n",
       "      <td>1.640026</td>\n",
       "      <td>1.075898</td>\n",
       "      <td>228.750000</td>\n",
       "      <td>292.549418</td>\n",
       "      <td>1.278905</td>\n",
       "      <td>150.065602</td>\n",
       "      <td>178.380911</td>\n",
       "      <td>1.188686</td>\n",
       "      <td>True</td>\n",
       "    </tr>\n",
       "    <tr>\n",
       "      <th>4</th>\n",
       "      <td>11226</td>\n",
       "      <td>1.014000</td>\n",
       "      <td>1.277783</td>\n",
       "      <td>1.260141</td>\n",
       "      <td>309.166667</td>\n",
       "      <td>416.876846</td>\n",
       "      <td>1.348389</td>\n",
       "      <td>304.898093</td>\n",
       "      <td>326.250103</td>\n",
       "      <td>1.070030</td>\n",
       "      <td>True</td>\n",
       "    </tr>\n",
       "  </tbody>\n",
       "</table>\n",
       "</div>"
      ],
      "text/plain": [
       "  zipcode  r_agg_2011  r_agg_2015_adj  r_pct_delta  h_agg_2011  h_agg_2015_adj  h_pct_delta  ratio_2011  ratio_2015  ratio_pct_delta binary_2015\n",
       "0   11368    1.868000        2.188278     1.171455  373.833333      431.274105     1.153653  200.124911  197.083754         0.984804        True\n",
       "1   79936    0.744167        0.694379     0.933096   80.333333       75.060164     0.934359  107.950728  108.096860         1.001354       False\n",
       "2   60629    1.197000        1.180207     0.985971  107.166667      113.430961     1.058454   89.529379   96.111037         1.073514       False\n",
       "3   90650    1.524333        1.640026     1.075898  228.750000      292.549418     1.278905  150.065602  178.380911         1.188686        True\n",
       "4   11226    1.014000        1.277783     1.260141  309.166667      416.876846     1.348389  304.898093  326.250103         1.070030        True"
      ]
     },
     "execution_count": 54,
     "metadata": {},
     "output_type": "execute_result"
    }
   ],
   "source": [
    "rental_ratio = pd.read_pickle('housing_rental_ratio.pkl')\n",
    "rental_ratio = rental_ratio.rename(columns={'RegionName':'zipcode'})\n",
    "mean_ratio_2015 = np.mean(rental_ratio['ratio_2015'])\n",
    "mean_pct_delta = np.mean(rental_ratio['ratio_pct_delta'])\n",
    "rental_ratio['binary_2015'] = rental_ratio['ratio_2015'] > mean_ratio_2015\n",
    "rental_ratio['zipcode'] = rental_ratio['zipcode'].astype(str)\n",
    "\n",
    "print 'Mean ratio_2015 is: ' + str(mean_ratio_2015)\n",
    "rental_ratio.head()"
   ]
  },
  {
   "cell_type": "code",
   "execution_count": 53,
   "metadata": {
    "collapsed": false,
    "scrolled": false
   },
   "outputs": [
    {
     "name": "stdout",
     "output_type": "stream",
     "text": [
      "(22122, 64) (5531, 64)\n"
     ]
    }
   ],
   "source": [
    "train_set_t = pd.read_pickle('data/train_all_features_norm_and_transform.pkl')\n",
    "test_set_t = pd.read_pickle('data/test_all_features_norm_and_transform.pkl')\n",
    "train_set_t['zipcode'] = train_set_t['zipcode'].astype(str)\n",
    "test_set_t['zipcode'] = test_set_t['zipcode'].astype(str)\n",
    "print train_set_t.shape, test_set_t.shape"
   ]
  },
  {
   "cell_type": "code",
   "execution_count": 75,
   "metadata": {
    "collapsed": false
   },
   "outputs": [
    {
     "name": "stdout",
     "output_type": "stream",
     "text": [
      "(7761, 74) (1895, 74)\n"
     ]
    }
   ],
   "source": [
    "train_merged = pd.merge(train_set_t, rental_ratio, on='zipcode').dropna()\n",
    "test_merged = test_set_t.merge(rental_ratio, on='zipcode').dropna()\n",
    "print train_merged.shape, test_merged.shape"
   ]
  },
  {
   "cell_type": "code",
   "execution_count": 76,
   "metadata": {
    "collapsed": false
   },
   "outputs": [],
   "source": [
    "'''lcols = ['A002',\n",
    "         'A054',\n",
    " 'A003',\n",
    " 'median_income',\n",
    " 'A050',\n",
    " 'A052',\n",
    " 'A024',\n",
    " 'A051',\n",
    " 'A038',\n",
    " 'A044',\n",
    " 'A035',\n",
    " 'A026',\n",
    " 'A036',\n",
    " 'A055',\n",
    " 'A040',\n",
    " 'A029',\n",
    " 'A048',\n",
    " 'A017',\n",
    " 'A037',\n",
    " 'A042',\n",
    " 'A020',\n",
    " 'A047',\n",
    " 'A046',\n",
    " 'A056',\n",
    " 'A033',\n",
    " 'A025',\n",
    " 'n_establishments',\n",
    " 'paid_employees',\n",
    " 'A034',\n",
    " 'A045',\n",
    " 'A028',\n",
    " 'prison',\n",
    " 'first_quarter_payroll_1000',\n",
    " 'A009',\n",
    " 'A019',\n",
    " 'A032',\n",
    " 'A031',\n",
    " 'A041',\n",
    " 'A039',\n",
    " 'annual_payroll_1000',\n",
    " 'A030',\n",
    " 'A043',\n",
    " 'A049',\n",
    " 'zipcode',\n",
    " 'ratio_2011']'''"
   ]
  },
  {
   "cell_type": "code",
   "execution_count": 88,
   "metadata": {
    "collapsed": false
   },
   "outputs": [],
   "source": [
    "#lcols = [feature if not in ['Intercept', 'response'] for feature in best_features] + ['ratio_2011']\n",
    "\n",
    "Xmatrix_train = train_merged[lcols].values\n",
    "Yresp_train = train_merged['binary_2015'].values.astype(str)\n",
    "Xmatrix_test = test_merged[lcols].values\n",
    "Yresp_test = test_merged['binary_2015'].values.astype(str)"
   ]
  },
  {
   "cell_type": "code",
   "execution_count": 89,
   "metadata": {
    "collapsed": false,
    "scrolled": true
   },
   "outputs": [
    {
     "name": "stdout",
     "output_type": "stream",
     "text": [
      "BEST {'C': 0.01}\n"
     ]
    }
   ],
   "source": [
    "from sklearn.grid_search import GridSearchCV\n",
    "from sklearn.svm import LinearSVC\n",
    "\n",
    "clfsvm=LinearSVC(loss=\"hinge\")\n",
    "Cs=[0.001, 0.01, 0.1, 1.0, 10.0, 100.0]\n",
    "\n",
    "gs = GridSearchCV(clfsvm, param_grid=dict(C=Cs), cv=5, scoring=\"accuracy\")\n",
    "fit = gs.fit(Xmatrix_train,Yresp_train)\n",
    "best = fit.best_params_\n",
    "print \"BEST\", best"
   ]
  },
  {
   "cell_type": "code",
   "execution_count": 90,
   "metadata": {
    "collapsed": false
   },
   "outputs": [
    {
     "name": "stdout",
     "output_type": "stream",
     "text": [
      "BEST {'C': 0.1}\n",
      "############# based on standard predict ################\n",
      "Accuracy on training data: 0.62724\n",
      "Accuracy on test data:     0.62850\n"
     ]
    },
    {
     "name": "stderr",
     "output_type": "stream",
     "text": [
      "//anaconda/lib/python2.7/site-packages/sklearn/grid_search.py:370: ChangedBehaviorWarning: The long-standing behavior to use the estimator's score function in GridSearchCV.score has changed. The scoring parameter is now used.\n",
      "  ChangedBehaviorWarning)\n"
     ]
    }
   ],
   "source": [
    "#calculate the accuracy here\n",
    "#your code here\n",
    "gsBetter = GridSearchCV(clfsvm,param_grid=dict(C=best.values()), cv=5, scoring=\"accuracy\")\n",
    "fitBetter = gs.fit(Xmatrix_train,Yresp_train)\n",
    "trainingAccuracy = fitBetter.score(Xmatrix_train,Yresp_train)\n",
    "testAccuracy = fitBetter.score(Xmatrix_test,Yresp_test)\n",
    "print \"BEST\", gs.best_params_\n",
    "print \"############# based on standard predict ################\"\n",
    "print \"Accuracy on training data: %0.5f\" % (trainingAccuracy)\n",
    "print \"Accuracy on test data:     %0.5f\" % (testAccuracy)"
   ]
  }
 ],
 "metadata": {
  "kernelspec": {
   "display_name": "Python 2",
   "language": "python",
   "name": "python2"
  },
  "language_info": {
   "codemirror_mode": {
    "name": "ipython",
    "version": 2
   },
   "file_extension": ".py",
   "mimetype": "text/x-python",
   "name": "python",
   "nbconvert_exporter": "python",
   "pygments_lexer": "ipython2",
   "version": "2.7.10"
  }
 },
 "nbformat": 4,
 "nbformat_minor": 0
}
