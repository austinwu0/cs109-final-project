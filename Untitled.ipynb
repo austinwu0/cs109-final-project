{
 "cells": [
  {
   "cell_type": "code",
   "execution_count": 9,
   "metadata": {
    "collapsed": true
   },
   "outputs": [],
   "source": [
    "%matplotlib inline\n",
    "import numpy as np\n",
    "import scipy as sp\n",
    "import matplotlib as mpl\n",
    "import matplotlib.cm as cm\n",
    "import matplotlib.pyplot as plt\n",
    "import pandas as pd\n",
    "pd.set_option('display.width', 500)\n",
    "pd.set_option('display.max_columns', 100)\n",
    "pd.set_option('display.notebook_repr_html', True)\n",
    "import seaborn as sns\n",
    "sns.set_style(\"whitegrid\")\n",
    "sns.set_context(\"poster\")"
   ]
  },
  {
   "cell_type": "code",
   "execution_count": 10,
   "metadata": {
    "collapsed": false
   },
   "outputs": [],
   "source": [
    "dem2000 = pd.read_csv('data/allDemographics2000.csv', low_memory=False)\n",
    "dem2010 = pd.read_csv('data/allDemographics2010.csv', low_memory=False)"
   ]
  },
  {
   "cell_type": "code",
   "execution_count": 11,
   "metadata": {
    "collapsed": false
   },
   "outputs": [],
   "source": [
    "dem2000.columns = dem2000.iloc[0]\n",
    "dem2010.columns = dem2010.iloc[0]\n",
    "dem2000 = dem2000[1:]\n",
    "dem2010 = dem2010[1:]\n",
    "\n",
    "columns2000 = dem2000.columns\n",
    "columns2010 = dem2010.columns"
   ]
  },
  {
   "cell_type": "code",
   "execution_count": 16,
   "metadata": {
    "collapsed": false
   },
   "outputs": [],
   "source": [
    "inBoth = set(columns2000).intersection(columns2010)"
   ]
  },
  {
   "cell_type": "code",
   "execution_count": 23,
   "metadata": {
    "collapsed": false
   },
   "outputs": [
    {
     "data": {
      "text/plain": [
       "195"
      ]
     },
     "execution_count": 23,
     "metadata": {},
     "output_type": "execute_result"
    }
   ],
   "source": [
    "len(columns2000)"
   ]
  },
  {
   "cell_type": "code",
   "execution_count": 24,
   "metadata": {
    "collapsed": false
   },
   "outputs": [
    {
     "data": {
      "text/plain": [
       "375"
      ]
     },
     "execution_count": 24,
     "metadata": {},
     "output_type": "execute_result"
    }
   ],
   "source": [
    "len(columns2010)"
   ]
  },
  {
   "cell_type": "code",
   "execution_count": 25,
   "metadata": {
    "collapsed": false
   },
   "outputs": [
    {
     "data": {
      "text/plain": [
       "{'Geography',\n",
       " 'Id',\n",
       " 'Id2',\n",
       " 'Number; HISPANIC OR LATINO AND RACE - Total population',\n",
       " 'Number; HISPANIC OR LATINO AND RACE - Total population - Not Hispanic or Latino',\n",
       " 'Number; HISPANIC OR LATINO AND RACE - Total population - Not Hispanic or Latino - White alone',\n",
       " 'Number; HOUSEHOLDS BY TYPE - Total households',\n",
       " 'Number; HOUSEHOLDS BY TYPE - Total households - Average household size',\n",
       " 'Number; HOUSEHOLDS BY TYPE - Total households - Households with individuals 65 years and over',\n",
       " 'Number; HOUSEHOLDS BY TYPE - Total households - Households with individuals under 18 years',\n",
       " 'Number; HOUSING OCCUPANCY - Total housing units',\n",
       " 'Number; HOUSING OCCUPANCY - Total housing units - Occupied housing units',\n",
       " 'Number; HOUSING OCCUPANCY - Total housing units - Vacant housing units',\n",
       " 'Number; HOUSING OCCUPANCY - Total housing units - Vacant housing units - For seasonal, recreational, or occasional use',\n",
       " 'Number; HOUSING TENURE - Occupied housing units',\n",
       " 'Number; HOUSING TENURE - Occupied housing units - Owner-occupied housing units',\n",
       " 'Number; HOUSING TENURE - Occupied housing units - Renter-occupied housing units',\n",
       " 'Number; RELATIONSHIP - Total population',\n",
       " 'Number; RELATIONSHIP - Total population - In group quarters',\n",
       " 'Number; RELATIONSHIP - Total population - In group quarters - Institutionalized population',\n",
       " 'Number; RELATIONSHIP - Total population - In group quarters - Noninstitutionalized population',\n",
       " 'Number; RELATIONSHIP - Total population - In households',\n",
       " 'Number; RELATIONSHIP - Total population - In households - Child',\n",
       " 'Number; RELATIONSHIP - Total population - In households - Child - Own child under 18 years',\n",
       " 'Number; RELATIONSHIP - Total population - In households - Householder',\n",
       " 'Number; RELATIONSHIP - Total population - In households - Nonrelatives',\n",
       " 'Number; RELATIONSHIP - Total population - In households - Nonrelatives - Unmarried partner',\n",
       " 'Number; RELATIONSHIP - Total population - In households - Other relatives',\n",
       " 'Number; RELATIONSHIP - Total population - In households - Other relatives - Under 18 years',\n",
       " 'Percent; HISPANIC OR LATINO AND RACE - Total population',\n",
       " 'Percent; HISPANIC OR LATINO AND RACE - Total population - Not Hispanic or Latino',\n",
       " 'Percent; HISPANIC OR LATINO AND RACE - Total population - Not Hispanic or Latino - White alone',\n",
       " 'Percent; HOUSEHOLDS BY TYPE - Total households',\n",
       " 'Percent; HOUSEHOLDS BY TYPE - Total households - Average household size',\n",
       " 'Percent; HOUSEHOLDS BY TYPE - Total households - Households with individuals 65 years and over',\n",
       " 'Percent; HOUSEHOLDS BY TYPE - Total households - Households with individuals under 18 years',\n",
       " 'Percent; HOUSING OCCUPANCY - Total housing units',\n",
       " 'Percent; HOUSING OCCUPANCY - Total housing units - Occupied housing units',\n",
       " 'Percent; HOUSING OCCUPANCY - Total housing units - Vacant housing units',\n",
       " 'Percent; HOUSING OCCUPANCY - Total housing units - Vacant housing units - For seasonal, recreational, or occasional use',\n",
       " 'Percent; HOUSING TENURE - Occupied housing units',\n",
       " 'Percent; HOUSING TENURE - Occupied housing units - Owner-occupied housing units',\n",
       " 'Percent; HOUSING TENURE - Occupied housing units - Renter-occupied housing units',\n",
       " 'Percent; RELATIONSHIP - Total population',\n",
       " 'Percent; RELATIONSHIP - Total population - In group quarters',\n",
       " 'Percent; RELATIONSHIP - Total population - In group quarters - Institutionalized population',\n",
       " 'Percent; RELATIONSHIP - Total population - In group quarters - Noninstitutionalized population',\n",
       " 'Percent; RELATIONSHIP - Total population - In households',\n",
       " 'Percent; RELATIONSHIP - Total population - In households - Child',\n",
       " 'Percent; RELATIONSHIP - Total population - In households - Child - Own child under 18 years',\n",
       " 'Percent; RELATIONSHIP - Total population - In households - Householder',\n",
       " 'Percent; RELATIONSHIP - Total population - In households - Nonrelatives',\n",
       " 'Percent; RELATIONSHIP - Total population - In households - Nonrelatives - Unmarried partner',\n",
       " 'Percent; RELATIONSHIP - Total population - In households - Other relatives',\n",
       " 'Percent; RELATIONSHIP - Total population - In households - Other relatives - Under 18 years'}"
      ]
     },
     "execution_count": 25,
     "metadata": {},
     "output_type": "execute_result"
    }
   ],
   "source": [
    "inBoth"
   ]
  },
  {
   "cell_type": "code",
   "execution_count": null,
   "metadata": {
    "collapsed": true
   },
   "outputs": [],
   "source": []
  }
 ],
 "metadata": {
  "kernelspec": {
   "display_name": "Python 2",
   "language": "python",
   "name": "python2"
  },
  "language_info": {
   "codemirror_mode": {
    "name": "ipython",
    "version": 2
   },
   "file_extension": ".py",
   "mimetype": "text/x-python",
   "name": "python",
   "nbconvert_exporter": "python",
   "pygments_lexer": "ipython2",
   "version": "2.7.10"
  }
 },
 "nbformat": 4,
 "nbformat_minor": 0
}
