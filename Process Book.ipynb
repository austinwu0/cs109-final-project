{
 "cells": [
  {
   "cell_type": "markdown",
   "metadata": {},
   "source": [
    "\n",
    "# Modeling House and Rent Prices Using Neighborhood Factors across the US\n",
    "Anna Zhong, Austin Wu, Cody He, and Eliza Hale for <b>CS109</b>\n",
    "\n",
    "<img src=\"website/images/sanfrancisco_houses3.jpg\">"
   ]
  },
  {
   "cell_type": "markdown",
   "metadata": {},
   "source": [
    "## Contents\n",
    "\n",
    "<a href=\"#project_overview\">1. Project Overview</a>\n",
    "\n",
    "- <a href=\"#project_overview\">Background and Motivation</a>\n",
    "- <a href=\"#project_overview\">Questions</a>\n",
    "- <a href=\"#project_overview\">Our Approach</a>\n",
    "\n",
    "<a href=\"#data\">2. Data</a>\n",
    "\n",
    "- <a href=\"#data\">2.1 House and Rental Price Data</a>\n",
    "- <a href=\"#dem_data\">2.2 Demographic Data</a>\n",
    "- <a href=\"#biz_data\">2.3 Business Data</a>\n",
    "- <a href=\"#yelp_data\">2.4 Yelp Data</a>\n",
    "\n",
    "<a href=\"#exploration\">3. Exploratory Analysis<a/>\n",
    "\n",
    "- <a href=\"#exploration\">3.1 Neighborhood Trends in Demographic and Business Type</a>\n",
    "- <a href=\"#exploration_price\">3.2 Price Trends</a>\n",
    "- <a href=\"exploration_yelp\">3.3 Yelp Business Trends\n",
    "\n",
    "<a href=\"#modeling\">4. Modeling</a>\n",
    "- <a href=\"#modeling\">4.1 Model Features</a>\n",
    "- <a href=\"#model_train\">4.2 Train Data</a>\n",
    "- <a href=\"#baseline\">4.3 Baseline Prediction</a>\n",
    "- <a href=\"#regression\">4.4 Regression (and other models)</a>\n",
    "\n",
    "<a href=\"#conclusion\">5. Conclusion</a>"
   ]
  },
  {
   "cell_type": "markdown",
   "metadata": {},
   "source": [
    "<a id=\"project_overview\"></a>\n",
    "# 1. Project Overview\n",
    "\n",
    "## Background and Motivation\n",
    "As a group of four seniors who are all heading across the United States after graduation and entering the real world, a pressing issue on our minds has been finding our first apartment or house in our new city.  We all want to find a place to call home, while also making a sound financial decision. Where in the city should we live? Should we rent? Should we buy? \n",
    "\n",
    "We are also interested in learning more about our new homes and how the composition of the community and local economy affect the financial value of real estate in our areas. Our new communities will have neighborhoods with their own distinct character, from the posh, expensive district to the gritty, up and coming districts. We are interested in how the fabric of these communities in terms of demographic and economic factors reflect housing indicators in the area. \n",
    "\n",
    "To look deeper into these questions, we decided to look at Price-to-Rent (PTR) ratios of different areas of the United States, which is the median existing home price divided by the average annual rent you would pay for a comparable home in the area. This is an informative metric for whether to buy or rent a property. If PtR ratios are very high in an area, then renting is likely a better deal. If PtR ratios are very low, then buying a home makes more financial sense. \n",
    "\n",
    "\n",
    "## Questions\n",
    "\n",
    "Initially we were interested in looking at changes in housing prices across the US from 2000 to 2010, and how differences in demographic and business features between regions might be able to predict the change in housing prices. First, we had to make a decision about the granularity of our data in terms of geographic divisions.  Did we want to look as neighborhoods within a specific city?  Or look at each city, county, or zipcode in the US? We chose to perform our analysis at the zipcode level in order to maximize the sample size for our regression and to eliminate the intra-region heterogeneity that exists with larger geographies. \n",
    "\n",
    "\n",
    "## Our Approach\n",
    "We initially retrieved zipcode-level data for median house price per square foot across the united state from Zillow, a real estate database company. For our predictors, we aggregated data from a variety of sources. Initially, we used 2010 census data which detailed zipcode-level demographic data. As we iterated through various regression models, we sought to improve our models by adding new predictors to our regression. We aggregated jail data and prison indicator variables (i.e. whether or not there is a jail in a zipcode) from enigma.io, median income data, number of businesses, from Yelp. We also built a python script that would allow us to use features from Census data that only existed at the county level and mapped the values to the corresonding zipcodes within the county. We gathered our predictors and merged them with the housing price data by zipcode.\n",
    "\n",
    "We first regressed census data along with jail/prison data on change in housing prices from 2000 to 2010. Our first model had very low explanatory power, so we sought more features. However, as we thought about the story we wanted to tell, we started thinking that examining other response variables might lend to more interesting and easily interpretable conclusions. We looked at a Zillow metric for home values that accounts for some biases that come with using their raw house price data. We eventually settled on looking at price-to-rent ratio (PTR).\n",
    "\n",
    "With regards to gathering and organizing our data, some of our data, like the 2010 census data and the Zillow real estate data, we were able to download tables that we converted to pandas and cleaned by dropping the NANs in the years we wished to analyze and other miscellenaeous modifications. We stored our pandas dataframes by pickling them.\n",
    "For Yelp we randomly sampled zipcodes, grabbed businesses in categories in active, arts, education, nightlife, pets, shopping, restaurants, and took the proportion of busineseses in each category. For all of our features, we considered if we needed to transform or normalize the data, and did so, if necessary. For some features, where a large fraction of the observed data was a single value, we made binary indicator variables.\n",
    "\n",
    "Eventually, the final model progress was: forward variable selection using ordinary least squares regression, linear regression with lasso regularization, linear regression with ridge regularization, and finally, support vector machines. We also employed k-fold validation and cross-validations for hyperparameters wherever necessary. Ultimately, our best model employed ridge regularization. Below, we will walk you through our project in detail. Please reference the following iPython Notebooks for even greater detail in metholodgy: <b>Data Wrangling,</b> and <b>Yelp Models, Feature Selection and Modeling</b>."
   ]
  },
  {
   "cell_type": "code",
   "execution_count": 2,
   "metadata": {
    "collapsed": true
   },
   "outputs": [],
   "source": [
    "%matplotlib inline\n",
    "import numpy as np\n",
    "import scipy as sp\n",
    "import matplotlib as mpl\n",
    "import matplotlib.cm as cm\n",
    "import matplotlib.pyplot as plt\n",
    "import pandas as pd\n",
    "import time\n",
    "pd.set_option('display.width', 500)\n",
    "pd.set_option('display.max_columns', 100)\n",
    "pd.set_option('display.notebook_repr_html', True)\n",
    "import seaborn as sns\n",
    "sns.set_style(\"whitegrid\")\n",
    "sns.set_context(\"poster\")"
   ]
  },
  {
   "cell_type": "markdown",
   "metadata": {},
   "source": [
    "<a id=\"data\"></a>\n",
    "# 2. Data"
   ]
  },
  {
   "cell_type": "markdown",
   "metadata": {
    "collapsed": true
   },
   "source": [
    "<a id=\"data\"></a>\n",
    "## 2.1 House and Rental Price Data"
   ]
  },
  {
   "cell_type": "markdown",
   "metadata": {},
   "source": [
    "All of the data for our house prices and rental prices came from Zillow at http://www.zillow.com/research/data/. We had originally wanted to model the delta between price data from two points in time (2000 vs 2010). This raised several concerns:\n",
    "\n",
    "1. Is <b>delta</b> the best information to model?\n",
    "2. Which years would be the most appropriate to do our analysis on given the data available to us for features of our model?\n",
    "\n",
    "After some exploratory analysis (simple linear regressions using our demographic data, described below) on the <b>delta</b>, we quickly saw that it would be difficult to model the change in prices on static demographic data alone (we think that it would require time series analysis, and more importantly, several years of demographic data, which was impossible to gather in this short time frame because US census data categories vary by year).\n",
    "\n",
    "This is what led us to temporarily switch to attempting to model the housing prices alone (rather than the change in housing prices). Additional research online, on the topic of predicting housing prices, suggested that we ought to look at the ratio of housing prices to rental prices, or price to rent ratio (PTR ratio). A ratio helps illuminate whether it would be prudent to buy a house or to rent: a high ratio suggests that housing prices far exceed renting prices, so renting would be a better option, whereas a low ratio suggests that housing prices are low, and buying would be a better option.\n",
    "\n",
    "With this in mind, we looked for rental price data from Zillow. Since Zillow only contained rental data from 2011 onward, we were limited to this in scope. With this in mind, we decided to proceed modeling the 2015 PTR ratio with a 2011 PTR baseline, along with various features from demographic and business data as well we describe in the next few sections. For both the housing prices and rental prices we used the \"median price per square foot\" with regard to each Zip Code to keep the scales the same.\n",
    "\n",
    "To see precisely how files were cleaned, please take a look at the <b>Data Wrangling</b> iPython Notebook."
   ]
  },
  {
   "cell_type": "code",
   "execution_count": 3,
   "metadata": {
    "collapsed": false
   },
   "outputs": [
    {
     "data": {
      "text/html": [
       "<div>\n",
       "<table border=\"1\" class=\"dataframe\">\n",
       "  <thead>\n",
       "    <tr style=\"text-align: right;\">\n",
       "      <th></th>\n",
       "      <th>RegionName</th>\n",
       "      <th>r_agg_2011</th>\n",
       "      <th>r_agg_2015_adj</th>\n",
       "      <th>r_pct_delta</th>\n",
       "      <th>h_agg_2011</th>\n",
       "      <th>h_agg_2015_adj</th>\n",
       "      <th>h_pct_delta</th>\n",
       "      <th>ratio_2011</th>\n",
       "      <th>ratio_2015</th>\n",
       "      <th>ratio_pct_delta</th>\n",
       "    </tr>\n",
       "  </thead>\n",
       "  <tbody>\n",
       "    <tr>\n",
       "      <th>0</th>\n",
       "      <td>11368</td>\n",
       "      <td>1.868000</td>\n",
       "      <td>2.188278</td>\n",
       "      <td>1.171455</td>\n",
       "      <td>373.833333</td>\n",
       "      <td>431.274105</td>\n",
       "      <td>1.153653</td>\n",
       "      <td>16.677076</td>\n",
       "      <td>16.423646</td>\n",
       "      <td>0.984804</td>\n",
       "    </tr>\n",
       "    <tr>\n",
       "      <th>1</th>\n",
       "      <td>79936</td>\n",
       "      <td>0.744167</td>\n",
       "      <td>0.694379</td>\n",
       "      <td>0.933096</td>\n",
       "      <td>80.333333</td>\n",
       "      <td>75.060164</td>\n",
       "      <td>0.934359</td>\n",
       "      <td>8.995894</td>\n",
       "      <td>9.008072</td>\n",
       "      <td>1.001354</td>\n",
       "    </tr>\n",
       "    <tr>\n",
       "      <th>2</th>\n",
       "      <td>60629</td>\n",
       "      <td>1.197000</td>\n",
       "      <td>1.180207</td>\n",
       "      <td>0.985971</td>\n",
       "      <td>107.166667</td>\n",
       "      <td>113.430961</td>\n",
       "      <td>1.058454</td>\n",
       "      <td>7.460782</td>\n",
       "      <td>8.009253</td>\n",
       "      <td>1.073514</td>\n",
       "    </tr>\n",
       "    <tr>\n",
       "      <th>3</th>\n",
       "      <td>90650</td>\n",
       "      <td>1.524333</td>\n",
       "      <td>1.640026</td>\n",
       "      <td>1.075898</td>\n",
       "      <td>228.750000</td>\n",
       "      <td>292.549418</td>\n",
       "      <td>1.278905</td>\n",
       "      <td>12.505467</td>\n",
       "      <td>14.865076</td>\n",
       "      <td>1.188686</td>\n",
       "    </tr>\n",
       "    <tr>\n",
       "      <th>4</th>\n",
       "      <td>11226</td>\n",
       "      <td>1.014000</td>\n",
       "      <td>1.277783</td>\n",
       "      <td>1.260141</td>\n",
       "      <td>309.166667</td>\n",
       "      <td>416.876846</td>\n",
       "      <td>1.348389</td>\n",
       "      <td>25.408174</td>\n",
       "      <td>27.187509</td>\n",
       "      <td>1.070030</td>\n",
       "    </tr>\n",
       "  </tbody>\n",
       "</table>\n",
       "</div>"
      ],
      "text/plain": [
       "   RegionName  r_agg_2011  r_agg_2015_adj  r_pct_delta  h_agg_2011  h_agg_2015_adj  h_pct_delta  ratio_2011  ratio_2015  ratio_pct_delta\n",
       "0       11368    1.868000        2.188278     1.171455  373.833333      431.274105     1.153653   16.677076   16.423646         0.984804\n",
       "1       79936    0.744167        0.694379     0.933096   80.333333       75.060164     0.934359    8.995894    9.008072         1.001354\n",
       "2       60629    1.197000        1.180207     0.985971  107.166667      113.430961     1.058454    7.460782    8.009253         1.073514\n",
       "3       90650    1.524333        1.640026     1.075898  228.750000      292.549418     1.278905   12.505467   14.865076         1.188686\n",
       "4       11226    1.014000        1.277783     1.260141  309.166667      416.876846     1.348389   25.408174   27.187509         1.070030"
      ]
     },
     "execution_count": 3,
     "metadata": {},
     "output_type": "execute_result"
    }
   ],
   "source": [
    "pd.read_pickle('data/housing_rental_ratio.pkl').head()"
   ]
  },
  {
   "cell_type": "markdown",
   "metadata": {},
   "source": [
    "<a id=\"dem_data\"></a>\n",
    "## 2.2 Demographic Data"
   ]
  },
  {
   "cell_type": "markdown",
   "metadata": {},
   "source": [
    "To find demographic data, we took data from the 2010 Census on zipcodes across the US. This gave us detailed information on demographics such as sex, age, and race. It also gave us information on household  composition: the percentage of households that have single male and female residents, the percentage of households with single mothers, percentage of households that were family households or non-family households, the percentage of households that had children or seniors, etc. We also integrated jail and prison data as an additional feature.\n",
    "\n",
    "To see precisely how files were cleaned, please take a look at the <b>Data Wrangling</b> iPython Notebook."
   ]
  },
  {
   "cell_type": "code",
   "execution_count": 4,
   "metadata": {
    "collapsed": true
   },
   "outputs": [],
   "source": [
    "prison = pd.read_pickle('data/prison_binary.pkl').drop('state', 1).rename(columns = {'zip': 'zipcode'})\n",
    "jail = pd.read_pickle('data/jail_binary.pkl').rename(columns = {'zip': 'zipcode'})\n",
    "demographics = pd.read_pickle('data/cleaned_demographic_features.pkl').drop(['GEO.id', 'GEO.display-label'], 1)\n",
    "demographics = demographics.rename(columns = {'GEO.id2': 'zipcode'})"
   ]
  },
  {
   "cell_type": "markdown",
   "metadata": {},
   "source": [
    "There are too many demographic variables to see them all here, so to see the full documentation on the variable name encoding, please take a look at the <b>Data Wrangling</b> iPython Notebook."
   ]
  },
  {
   "cell_type": "code",
   "execution_count": 5,
   "metadata": {
    "collapsed": false
   },
   "outputs": [
    {
     "data": {
      "text/html": [
       "<div>\n",
       "<table border=\"1\" class=\"dataframe\">\n",
       "  <thead>\n",
       "    <tr style=\"text-align: right;\">\n",
       "      <th></th>\n",
       "      <th>zipcode</th>\n",
       "      <th>A001</th>\n",
       "      <th>A002</th>\n",
       "      <th>A003</th>\n",
       "      <th>A004</th>\n",
       "      <th>A005</th>\n",
       "      <th>A006</th>\n",
       "      <th>A007</th>\n",
       "      <th>A008</th>\n",
       "      <th>A009</th>\n",
       "      <th>A010</th>\n",
       "      <th>A011</th>\n",
       "      <th>A012</th>\n",
       "      <th>A013</th>\n",
       "      <th>A014</th>\n",
       "      <th>A015</th>\n",
       "      <th>A016</th>\n",
       "      <th>A017</th>\n",
       "      <th>A018</th>\n",
       "      <th>A019</th>\n",
       "      <th>A020</th>\n",
       "      <th>A021</th>\n",
       "      <th>A022</th>\n",
       "      <th>A023</th>\n",
       "      <th>A024</th>\n",
       "      <th>A025</th>\n",
       "      <th>A026</th>\n",
       "      <th>A027</th>\n",
       "      <th>A028</th>\n",
       "      <th>A029</th>\n",
       "      <th>A030</th>\n",
       "      <th>A031</th>\n",
       "      <th>A032</th>\n",
       "      <th>A033</th>\n",
       "      <th>A034</th>\n",
       "      <th>A035</th>\n",
       "      <th>A036</th>\n",
       "      <th>A037</th>\n",
       "      <th>A038</th>\n",
       "      <th>A039</th>\n",
       "      <th>A040</th>\n",
       "      <th>A041</th>\n",
       "      <th>A042</th>\n",
       "      <th>A043</th>\n",
       "      <th>A044</th>\n",
       "      <th>A045</th>\n",
       "      <th>A046</th>\n",
       "      <th>A047</th>\n",
       "      <th>A048</th>\n",
       "      <th>A049</th>\n",
       "      <th>A050</th>\n",
       "      <th>A051</th>\n",
       "      <th>A052</th>\n",
       "      <th>A053</th>\n",
       "      <th>A054</th>\n",
       "      <th>A055</th>\n",
       "      <th>A056</th>\n",
       "    </tr>\n",
       "  </thead>\n",
       "  <tbody>\n",
       "    <tr>\n",
       "      <th>1</th>\n",
       "      <td>00601</td>\n",
       "      <td>18570</td>\n",
       "      <td>12.8</td>\n",
       "      <td>16.2</td>\n",
       "      <td>13.9</td>\n",
       "      <td>11.7</td>\n",
       "      <td>13.3</td>\n",
       "      <td>13.1</td>\n",
       "      <td>10.2</td>\n",
       "      <td>5.7</td>\n",
       "      <td>3.1</td>\n",
       "      <td>48.9</td>\n",
       "      <td>6.6</td>\n",
       "      <td>8.5</td>\n",
       "      <td>6.9</td>\n",
       "      <td>5.4</td>\n",
       "      <td>6.3</td>\n",
       "      <td>6.3</td>\n",
       "      <td>4.9</td>\n",
       "      <td>2.7</td>\n",
       "      <td>1.3</td>\n",
       "      <td>51.1</td>\n",
       "      <td>6.3</td>\n",
       "      <td>7.7</td>\n",
       "      <td>7</td>\n",
       "      <td>6.3</td>\n",
       "      <td>6.9</td>\n",
       "      <td>6.8</td>\n",
       "      <td>5.3</td>\n",
       "      <td>2.9</td>\n",
       "      <td>1.8</td>\n",
       "      <td>93.1</td>\n",
       "      <td>3.1</td>\n",
       "      <td>0.4</td>\n",
       "      <td>0</td>\n",
       "      <td>0</td>\n",
       "      <td>99.5</td>\n",
       "      <td>77.8</td>\n",
       "      <td>5.1</td>\n",
       "      <td>2.6</td>\n",
       "      <td>20.3</td>\n",
       "      <td>9.6</td>\n",
       "      <td>20.3</td>\n",
       "      <td>10.2</td>\n",
       "      <td>3.3</td>\n",
       "      <td>10.1</td>\n",
       "      <td>5.5</td>\n",
       "      <td>39.5</td>\n",
       "      <td>29</td>\n",
       "      <td>84.3</td>\n",
       "      <td>15.7</td>\n",
       "      <td>2.9</td>\n",
       "      <td>0.5</td>\n",
       "      <td>2.84</td>\n",
       "      <td>3.27</td>\n",
       "      <td>7744</td>\n",
       "      <td>2.87</td>\n",
       "    </tr>\n",
       "    <tr>\n",
       "      <th>2</th>\n",
       "      <td>00602</td>\n",
       "      <td>41520</td>\n",
       "      <td>11.5</td>\n",
       "      <td>15.2</td>\n",
       "      <td>13.5</td>\n",
       "      <td>12.9</td>\n",
       "      <td>14.6</td>\n",
       "      <td>14</td>\n",
       "      <td>10.1</td>\n",
       "      <td>5.7</td>\n",
       "      <td>2.3</td>\n",
       "      <td>49.1</td>\n",
       "      <td>5.9</td>\n",
       "      <td>7.7</td>\n",
       "      <td>6.7</td>\n",
       "      <td>6.4</td>\n",
       "      <td>7</td>\n",
       "      <td>6.8</td>\n",
       "      <td>4.9</td>\n",
       "      <td>2.6</td>\n",
       "      <td>1.1</td>\n",
       "      <td>50.9</td>\n",
       "      <td>5.6</td>\n",
       "      <td>7.5</td>\n",
       "      <td>6.8</td>\n",
       "      <td>6.5</td>\n",
       "      <td>7.6</td>\n",
       "      <td>7.2</td>\n",
       "      <td>5.2</td>\n",
       "      <td>3.1</td>\n",
       "      <td>1.3</td>\n",
       "      <td>86.7</td>\n",
       "      <td>5.3</td>\n",
       "      <td>0.3</td>\n",
       "      <td>0.1</td>\n",
       "      <td>0</td>\n",
       "      <td>99.4</td>\n",
       "      <td>77.6</td>\n",
       "      <td>5.1</td>\n",
       "      <td>2.1</td>\n",
       "      <td>17.4</td>\n",
       "      <td>8</td>\n",
       "      <td>20.5</td>\n",
       "      <td>10.5</td>\n",
       "      <td>3</td>\n",
       "      <td>10</td>\n",
       "      <td>4.9</td>\n",
       "      <td>37.6</td>\n",
       "      <td>25.9</td>\n",
       "      <td>83</td>\n",
       "      <td>17</td>\n",
       "      <td>2.6</td>\n",
       "      <td>1.3</td>\n",
       "      <td>2.76</td>\n",
       "      <td>3.20</td>\n",
       "      <td>18073</td>\n",
       "      <td>2.62</td>\n",
       "    </tr>\n",
       "    <tr>\n",
       "      <th>3</th>\n",
       "      <td>00603</td>\n",
       "      <td>54689</td>\n",
       "      <td>12.2</td>\n",
       "      <td>14.2</td>\n",
       "      <td>13</td>\n",
       "      <td>13</td>\n",
       "      <td>12.7</td>\n",
       "      <td>12.6</td>\n",
       "      <td>12</td>\n",
       "      <td>7</td>\n",
       "      <td>3.3</td>\n",
       "      <td>48.6</td>\n",
       "      <td>6.4</td>\n",
       "      <td>7.3</td>\n",
       "      <td>6.5</td>\n",
       "      <td>6.4</td>\n",
       "      <td>6</td>\n",
       "      <td>5.8</td>\n",
       "      <td>5.6</td>\n",
       "      <td>3.2</td>\n",
       "      <td>1.4</td>\n",
       "      <td>51.4</td>\n",
       "      <td>5.8</td>\n",
       "      <td>7</td>\n",
       "      <td>6.5</td>\n",
       "      <td>6.6</td>\n",
       "      <td>6.6</td>\n",
       "      <td>6.7</td>\n",
       "      <td>6.4</td>\n",
       "      <td>3.7</td>\n",
       "      <td>2.1</td>\n",
       "      <td>82.9</td>\n",
       "      <td>7.6</td>\n",
       "      <td>0.3</td>\n",
       "      <td>0.2</td>\n",
       "      <td>0</td>\n",
       "      <td>98.5</td>\n",
       "      <td>71.1</td>\n",
       "      <td>4.7</td>\n",
       "      <td>1.7</td>\n",
       "      <td>22</td>\n",
       "      <td>10.9</td>\n",
       "      <td>26.4</td>\n",
       "      <td>12.7</td>\n",
       "      <td>4.1</td>\n",
       "      <td>13.8</td>\n",
       "      <td>6.8</td>\n",
       "      <td>34</td>\n",
       "      <td>31.1</td>\n",
       "      <td>82.5</td>\n",
       "      <td>17.5</td>\n",
       "      <td>3.6</td>\n",
       "      <td>1.5</td>\n",
       "      <td>2.53</td>\n",
       "      <td>3.06</td>\n",
       "      <td>25653</td>\n",
       "      <td>2.51</td>\n",
       "    </tr>\n",
       "    <tr>\n",
       "      <th>4</th>\n",
       "      <td>00606</td>\n",
       "      <td>6615</td>\n",
       "      <td>12.8</td>\n",
       "      <td>15.1</td>\n",
       "      <td>14.7</td>\n",
       "      <td>12.1</td>\n",
       "      <td>13.1</td>\n",
       "      <td>13.4</td>\n",
       "      <td>10.5</td>\n",
       "      <td>5.5</td>\n",
       "      <td>2.9</td>\n",
       "      <td>49.4</td>\n",
       "      <td>6.6</td>\n",
       "      <td>7.5</td>\n",
       "      <td>7.1</td>\n",
       "      <td>6.1</td>\n",
       "      <td>6.5</td>\n",
       "      <td>6.3</td>\n",
       "      <td>5.2</td>\n",
       "      <td>2.6</td>\n",
       "      <td>1.4</td>\n",
       "      <td>50.6</td>\n",
       "      <td>6.2</td>\n",
       "      <td>7.5</td>\n",
       "      <td>7.6</td>\n",
       "      <td>6</td>\n",
       "      <td>6.6</td>\n",
       "      <td>7</td>\n",
       "      <td>5.4</td>\n",
       "      <td>2.9</td>\n",
       "      <td>1.5</td>\n",
       "      <td>88.9</td>\n",
       "      <td>4.7</td>\n",
       "      <td>0.4</td>\n",
       "      <td>0</td>\n",
       "      <td>0.1</td>\n",
       "      <td>99.4</td>\n",
       "      <td>74.6</td>\n",
       "      <td>6.2</td>\n",
       "      <td>2.7</td>\n",
       "      <td>18.4</td>\n",
       "      <td>8.1</td>\n",
       "      <td>22.8</td>\n",
       "      <td>12.7</td>\n",
       "      <td>4.5</td>\n",
       "      <td>10.1</td>\n",
       "      <td>4.7</td>\n",
       "      <td>37.5</td>\n",
       "      <td>28.4</td>\n",
       "      <td>83.6</td>\n",
       "      <td>16.4</td>\n",
       "      <td>1.7</td>\n",
       "      <td>0.8</td>\n",
       "      <td>2.75</td>\n",
       "      <td>3.24</td>\n",
       "      <td>2877</td>\n",
       "      <td>2.83</td>\n",
       "    </tr>\n",
       "    <tr>\n",
       "      <th>5</th>\n",
       "      <td>00610</td>\n",
       "      <td>29016</td>\n",
       "      <td>11.8</td>\n",
       "      <td>15.1</td>\n",
       "      <td>12.6</td>\n",
       "      <td>13.4</td>\n",
       "      <td>13.9</td>\n",
       "      <td>12.6</td>\n",
       "      <td>11.2</td>\n",
       "      <td>6.7</td>\n",
       "      <td>2.8</td>\n",
       "      <td>48.6</td>\n",
       "      <td>6.2</td>\n",
       "      <td>7.7</td>\n",
       "      <td>6.4</td>\n",
       "      <td>6.6</td>\n",
       "      <td>6.5</td>\n",
       "      <td>5.9</td>\n",
       "      <td>5.1</td>\n",
       "      <td>3.2</td>\n",
       "      <td>1.1</td>\n",
       "      <td>51.4</td>\n",
       "      <td>5.6</td>\n",
       "      <td>7.5</td>\n",
       "      <td>6.2</td>\n",
       "      <td>6.9</td>\n",
       "      <td>7.4</td>\n",
       "      <td>6.7</td>\n",
       "      <td>6.1</td>\n",
       "      <td>3.5</td>\n",
       "      <td>1.7</td>\n",
       "      <td>82</td>\n",
       "      <td>7.2</td>\n",
       "      <td>0.3</td>\n",
       "      <td>0.1</td>\n",
       "      <td>0</td>\n",
       "      <td>99.2</td>\n",
       "      <td>74.4</td>\n",
       "      <td>4.9</td>\n",
       "      <td>1.9</td>\n",
       "      <td>19.9</td>\n",
       "      <td>9.4</td>\n",
       "      <td>22.8</td>\n",
       "      <td>11</td>\n",
       "      <td>3.4</td>\n",
       "      <td>11.9</td>\n",
       "      <td>5.8</td>\n",
       "      <td>36.5</td>\n",
       "      <td>29.4</td>\n",
       "      <td>85.9</td>\n",
       "      <td>14.1</td>\n",
       "      <td>1.9</td>\n",
       "      <td>0.8</td>\n",
       "      <td>2.67</td>\n",
       "      <td>3.14</td>\n",
       "      <td>12618</td>\n",
       "      <td>2.66</td>\n",
       "    </tr>\n",
       "  </tbody>\n",
       "</table>\n",
       "</div>"
      ],
      "text/plain": [
       "  zipcode   A001  A002  A003  A004  A005  A006  A007  A008 A009 A010  A011 A012 A013 A014 A015 A016 A017 A018 A019 A020  A021 A022 A023 A024 A025 A026 A027 A028 A029 A030  A031 A032 A033 A034 A035  A036  A037 A038 A039  A040  A041  A042  A043 A044  A045 A046  A047  A048  A049  A050 A051 A052  A053  A054   A055  A056\n",
       "1   00601  18570  12.8  16.2  13.9  11.7  13.3  13.1  10.2  5.7  3.1  48.9  6.6  8.5  6.9  5.4  6.3  6.3  4.9  2.7  1.3  51.1  6.3  7.7    7  6.3  6.9  6.8  5.3  2.9  1.8  93.1  3.1  0.4    0    0  99.5  77.8  5.1  2.6  20.3   9.6  20.3  10.2  3.3  10.1  5.5  39.5    29  84.3  15.7  2.9  0.5  2.84  3.27   7744  2.87\n",
       "2   00602  41520  11.5  15.2  13.5  12.9  14.6    14  10.1  5.7  2.3  49.1  5.9  7.7  6.7  6.4    7  6.8  4.9  2.6  1.1  50.9  5.6  7.5  6.8  6.5  7.6  7.2  5.2  3.1  1.3  86.7  5.3  0.3  0.1    0  99.4  77.6  5.1  2.1  17.4     8  20.5  10.5    3    10  4.9  37.6  25.9    83    17  2.6  1.3  2.76  3.20  18073  2.62\n",
       "3   00603  54689  12.2  14.2    13    13  12.7  12.6    12    7  3.3  48.6  6.4  7.3  6.5  6.4    6  5.8  5.6  3.2  1.4  51.4  5.8    7  6.5  6.6  6.6  6.7  6.4  3.7  2.1  82.9  7.6  0.3  0.2    0  98.5  71.1  4.7  1.7    22  10.9  26.4  12.7  4.1  13.8  6.8    34  31.1  82.5  17.5  3.6  1.5  2.53  3.06  25653  2.51\n",
       "4   00606   6615  12.8  15.1  14.7  12.1  13.1  13.4  10.5  5.5  2.9  49.4  6.6  7.5  7.1  6.1  6.5  6.3  5.2  2.6  1.4  50.6  6.2  7.5  7.6    6  6.6    7  5.4  2.9  1.5  88.9  4.7  0.4    0  0.1  99.4  74.6  6.2  2.7  18.4   8.1  22.8  12.7  4.5  10.1  4.7  37.5  28.4  83.6  16.4  1.7  0.8  2.75  3.24   2877  2.83\n",
       "5   00610  29016  11.8  15.1  12.6  13.4  13.9  12.6  11.2  6.7  2.8  48.6  6.2  7.7  6.4  6.6  6.5  5.9  5.1  3.2  1.1  51.4  5.6  7.5  6.2  6.9  7.4  6.7  6.1  3.5  1.7    82  7.2  0.3  0.1    0  99.2  74.4  4.9  1.9  19.9   9.4  22.8    11  3.4  11.9  5.8  36.5  29.4  85.9  14.1  1.9  0.8  2.67  3.14  12618  2.66"
      ]
     },
     "execution_count": 5,
     "metadata": {},
     "output_type": "execute_result"
    }
   ],
   "source": [
    "demographics.head()"
   ]
  },
  {
   "cell_type": "code",
   "execution_count": 6,
   "metadata": {
    "collapsed": false
   },
   "outputs": [
    {
     "data": {
      "text/html": [
       "<div>\n",
       "<table border=\"1\" class=\"dataframe\">\n",
       "  <thead>\n",
       "    <tr style=\"text-align: right;\">\n",
       "      <th></th>\n",
       "      <th>zipcode</th>\n",
       "      <th>prison</th>\n",
       "    </tr>\n",
       "  </thead>\n",
       "  <tbody>\n",
       "    <tr>\n",
       "      <th>0</th>\n",
       "      <td>35034</td>\n",
       "      <td>1</td>\n",
       "    </tr>\n",
       "    <tr>\n",
       "      <th>1</th>\n",
       "      <td>36089</td>\n",
       "      <td>1</td>\n",
       "    </tr>\n",
       "    <tr>\n",
       "      <th>2</th>\n",
       "      <td>35023</td>\n",
       "      <td>1</td>\n",
       "    </tr>\n",
       "    <tr>\n",
       "      <th>3</th>\n",
       "      <td>36025</td>\n",
       "      <td>1</td>\n",
       "    </tr>\n",
       "    <tr>\n",
       "      <th>4</th>\n",
       "      <td>36017</td>\n",
       "      <td>1</td>\n",
       "    </tr>\n",
       "  </tbody>\n",
       "</table>\n",
       "</div>"
      ],
      "text/plain": [
       "  zipcode  prison\n",
       "0   35034       1\n",
       "1   36089       1\n",
       "2   35023       1\n",
       "3   36025       1\n",
       "4   36017       1"
      ]
     },
     "execution_count": 6,
     "metadata": {},
     "output_type": "execute_result"
    }
   ],
   "source": [
    "prison.head()"
   ]
  },
  {
   "cell_type": "code",
   "execution_count": 7,
   "metadata": {
    "collapsed": false
   },
   "outputs": [
    {
     "data": {
      "text/html": [
       "<div>\n",
       "<table border=\"1\" class=\"dataframe\">\n",
       "  <thead>\n",
       "    <tr style=\"text-align: right;\">\n",
       "      <th></th>\n",
       "      <th>zipcode</th>\n",
       "      <th>jail</th>\n",
       "    </tr>\n",
       "  </thead>\n",
       "  <tbody>\n",
       "    <tr>\n",
       "      <th>0</th>\n",
       "      <td>36067</td>\n",
       "      <td>1</td>\n",
       "    </tr>\n",
       "    <tr>\n",
       "      <th>1</th>\n",
       "      <td>36507</td>\n",
       "      <td>1</td>\n",
       "    </tr>\n",
       "    <tr>\n",
       "      <th>2</th>\n",
       "      <td>36016</td>\n",
       "      <td>1</td>\n",
       "    </tr>\n",
       "    <tr>\n",
       "      <th>3</th>\n",
       "      <td>35034</td>\n",
       "      <td>1</td>\n",
       "    </tr>\n",
       "    <tr>\n",
       "      <th>4</th>\n",
       "      <td>35121</td>\n",
       "      <td>1</td>\n",
       "    </tr>\n",
       "  </tbody>\n",
       "</table>\n",
       "</div>"
      ],
      "text/plain": [
       "  zipcode  jail\n",
       "0   36067     1\n",
       "1   36507     1\n",
       "2   36016     1\n",
       "3   35034     1\n",
       "4   35121     1"
      ]
     },
     "execution_count": 7,
     "metadata": {},
     "output_type": "execute_result"
    }
   ],
   "source": [
    "jail.head()"
   ]
  },
  {
   "cell_type": "markdown",
   "metadata": {},
   "source": [
    "<a id=\"biz_data\"></a>\n",
    "## 2.3 Business Data"
   ]
  },
  {
   "cell_type": "markdown",
   "metadata": {},
   "source": [
    "We also retrieved some business data from each zipcode from the US Census. This included the number of businesses within the zipcode, the size and amount of the payroll, as well as the median income of residents of each zipcode. This data was current to 2010.\n",
    "\n",
    "To see precisely how files were cleaned, please take a look at the <b>Data Wrangling</b> iPython Notebook."
   ]
  },
  {
   "cell_type": "code",
   "execution_count": 8,
   "metadata": {
    "collapsed": true
   },
   "outputs": [],
   "source": [
    "bus_patterns = pd.read_pickle('data/business_patterns.pkl').drop('Geographic area name', 1)\n",
    "bus_patterns = bus_patterns.rename(columns = {'Number of establishments':'n_establishments'})\n",
    "income = pd.read_pickle('data/medianIncome.pkl')"
   ]
  },
  {
   "cell_type": "code",
   "execution_count": 9,
   "metadata": {
    "collapsed": false
   },
   "outputs": [
    {
     "data": {
      "text/html": [
       "<div>\n",
       "<table border=\"1\" class=\"dataframe\">\n",
       "  <thead>\n",
       "    <tr style=\"text-align: right;\">\n",
       "      <th></th>\n",
       "      <th>n_establishments</th>\n",
       "      <th>paid_employees</th>\n",
       "      <th>first_quarter_payroll_1000</th>\n",
       "      <th>annual_payroll_1000</th>\n",
       "      <th>zipcode</th>\n",
       "    </tr>\n",
       "  </thead>\n",
       "  <tbody>\n",
       "    <tr>\n",
       "      <th>1</th>\n",
       "      <td>448</td>\n",
       "      <td>9185</td>\n",
       "      <td>70693</td>\n",
       "      <td>314508</td>\n",
       "      <td>01001</td>\n",
       "    </tr>\n",
       "    <tr>\n",
       "      <th>2</th>\n",
       "      <td>570</td>\n",
       "      <td>15633</td>\n",
       "      <td>82069</td>\n",
       "      <td>351589</td>\n",
       "      <td>01002</td>\n",
       "    </tr>\n",
       "    <tr>\n",
       "      <th>3</th>\n",
       "      <td>16</td>\n",
       "      <td>168</td>\n",
       "      <td>1297</td>\n",
       "      <td>5761</td>\n",
       "      <td>01003</td>\n",
       "    </tr>\n",
       "    <tr>\n",
       "      <th>4</th>\n",
       "      <td>21</td>\n",
       "      <td>189</td>\n",
       "      <td>1710</td>\n",
       "      <td>7241</td>\n",
       "      <td>01004</td>\n",
       "    </tr>\n",
       "    <tr>\n",
       "      <th>5</th>\n",
       "      <td>96</td>\n",
       "      <td>926</td>\n",
       "      <td>5698</td>\n",
       "      <td>24382</td>\n",
       "      <td>01005</td>\n",
       "    </tr>\n",
       "  </tbody>\n",
       "</table>\n",
       "</div>"
      ],
      "text/plain": [
       "  n_establishments  paid_employees  first_quarter_payroll_1000  annual_payroll_1000 zipcode\n",
       "1              448            9185                       70693               314508   01001\n",
       "2              570           15633                       82069               351589   01002\n",
       "3               16             168                        1297                 5761   01003\n",
       "4               21             189                        1710                 7241   01004\n",
       "5               96             926                        5698                24382   01005"
      ]
     },
     "execution_count": 9,
     "metadata": {},
     "output_type": "execute_result"
    }
   ],
   "source": [
    "bus_patterns.head()"
   ]
  },
  {
   "cell_type": "code",
   "execution_count": 10,
   "metadata": {
    "collapsed": false
   },
   "outputs": [
    {
     "data": {
      "text/html": [
       "<div>\n",
       "<table border=\"1\" class=\"dataframe\">\n",
       "  <thead>\n",
       "    <tr style=\"text-align: right;\">\n",
       "      <th></th>\n",
       "      <th>zipcode</th>\n",
       "      <th>median_income</th>\n",
       "    </tr>\n",
       "  </thead>\n",
       "  <tbody>\n",
       "    <tr>\n",
       "      <th>0</th>\n",
       "      <td>00601</td>\n",
       "      <td>13318</td>\n",
       "    </tr>\n",
       "    <tr>\n",
       "      <th>1</th>\n",
       "      <td>00602</td>\n",
       "      <td>14947</td>\n",
       "    </tr>\n",
       "    <tr>\n",
       "      <th>2</th>\n",
       "      <td>00603</td>\n",
       "      <td>14437</td>\n",
       "    </tr>\n",
       "    <tr>\n",
       "      <th>3</th>\n",
       "      <td>00606</td>\n",
       "      <td>11155</td>\n",
       "    </tr>\n",
       "    <tr>\n",
       "      <th>4</th>\n",
       "      <td>00610</td>\n",
       "      <td>16367</td>\n",
       "    </tr>\n",
       "  </tbody>\n",
       "</table>\n",
       "</div>"
      ],
      "text/plain": [
       "  zipcode  median_income\n",
       "0   00601          13318\n",
       "1   00602          14947\n",
       "2   00603          14437\n",
       "3   00606          11155\n",
       "4   00610          16367"
      ]
     },
     "execution_count": 10,
     "metadata": {},
     "output_type": "execute_result"
    }
   ],
   "source": [
    "income.head()"
   ]
  },
  {
   "cell_type": "markdown",
   "metadata": {},
   "source": [
    "<a id=\"yelp_data\"></a>\n",
    "## 2.4 Yelp Data"
   ]
  },
  {
   "cell_type": "markdown",
   "metadata": {},
   "source": [
    "To explore our business data in more detail than just the number of businesses present, we decided to look at what types of businesses are present in zip code geographies. To do this, we scraped Yelp data using the Yelp API. See the <b>Data Wrangling</b> iPython Notebook to see the details on this method. There were 17 categories of businesses that we looked for using the API:"
   ]
  },
  {
   "cell_type": "code",
   "execution_count": 11,
   "metadata": {
    "collapsed": true
   },
   "outputs": [],
   "source": [
    "categories = [\n",
    "    'active',\n",
    "    'arts',\n",
    "    'beautysvc',\n",
    "    'education',\n",
    "    'financialservices',\n",
    "    'food',\n",
    "    'health',\n",
    "    'hotelstravel',\n",
    "    'massmedia',\n",
    "    'nightlife',\n",
    "    'pets',\n",
    "    'professional',\n",
    "    'publicservicesgovt',\n",
    "    'realestate',\n",
    "    'religiousorgs',\n",
    "    'restaurants',\n",
    "    'shopping'\n",
    "]"
   ]
  },
  {
   "cell_type": "markdown",
   "metadata": {},
   "source": [
    "Since the number of businesses varied by zipcode, we regularized the data by keeping track of the <b>fraction</b> of businesses in each category, and used this fraction as a feature. For example, if <b>02138</b> had 1,304 restaurants out of a total of 10,000 businesses, then the fraction in the column \"restaurants\" would be 0.1304. See the <b>Data Wrangling</b> iPython Notebook for the complete metholodogy. The cleaned dataframe of features is:"
   ]
  },
  {
   "cell_type": "code",
   "execution_count": 12,
   "metadata": {
    "collapsed": false
   },
   "outputs": [
    {
     "data": {
      "text/html": [
       "<div>\n",
       "<table border=\"1\" class=\"dataframe\">\n",
       "  <thead>\n",
       "    <tr style=\"text-align: right;\">\n",
       "      <th></th>\n",
       "      <th>active</th>\n",
       "      <th>arts</th>\n",
       "      <th>auto</th>\n",
       "      <th>beautysvc</th>\n",
       "      <th>education</th>\n",
       "      <th>financialservices</th>\n",
       "      <th>food</th>\n",
       "      <th>health</th>\n",
       "      <th>hotelstravel</th>\n",
       "      <th>massmedia</th>\n",
       "      <th>nightlife</th>\n",
       "      <th>pets</th>\n",
       "      <th>professional</th>\n",
       "      <th>publicservicesgovt</th>\n",
       "      <th>realestate</th>\n",
       "      <th>religiousorgs</th>\n",
       "      <th>restaurants</th>\n",
       "      <th>shopping</th>\n",
       "      <th>zipcode</th>\n",
       "    </tr>\n",
       "  </thead>\n",
       "  <tbody>\n",
       "    <tr>\n",
       "      <th>0</th>\n",
       "      <td>0.044293</td>\n",
       "      <td>0.018750</td>\n",
       "      <td>0.101630</td>\n",
       "      <td>0.089946</td>\n",
       "      <td>0.015761</td>\n",
       "      <td>0.015489</td>\n",
       "      <td>0.107337</td>\n",
       "      <td>0.063587</td>\n",
       "      <td>0.070924</td>\n",
       "      <td>0.001087</td>\n",
       "      <td>0.029891</td>\n",
       "      <td>0.029891</td>\n",
       "      <td>0.044293</td>\n",
       "      <td>0.005707</td>\n",
       "      <td>0.020109</td>\n",
       "      <td>0.001359</td>\n",
       "      <td>0.172011</td>\n",
       "      <td>0.167935</td>\n",
       "      <td>11705</td>\n",
       "    </tr>\n",
       "    <tr>\n",
       "      <th>0</th>\n",
       "      <td>0.033516</td>\n",
       "      <td>0.012996</td>\n",
       "      <td>0.110123</td>\n",
       "      <td>0.088919</td>\n",
       "      <td>0.010260</td>\n",
       "      <td>0.015732</td>\n",
       "      <td>0.084131</td>\n",
       "      <td>0.093707</td>\n",
       "      <td>0.049932</td>\n",
       "      <td>0.000000</td>\n",
       "      <td>0.026676</td>\n",
       "      <td>0.020520</td>\n",
       "      <td>0.022572</td>\n",
       "      <td>0.004788</td>\n",
       "      <td>0.044460</td>\n",
       "      <td>0.008208</td>\n",
       "      <td>0.202462</td>\n",
       "      <td>0.170999</td>\n",
       "      <td>37128</td>\n",
       "    </tr>\n",
       "    <tr>\n",
       "      <th>0</th>\n",
       "      <td>0.044632</td>\n",
       "      <td>0.027744</td>\n",
       "      <td>0.113390</td>\n",
       "      <td>0.028951</td>\n",
       "      <td>0.019300</td>\n",
       "      <td>0.006031</td>\n",
       "      <td>0.075995</td>\n",
       "      <td>0.048251</td>\n",
       "      <td>0.125452</td>\n",
       "      <td>0.000000</td>\n",
       "      <td>0.007238</td>\n",
       "      <td>0.049457</td>\n",
       "      <td>0.106152</td>\n",
       "      <td>0.002413</td>\n",
       "      <td>0.168878</td>\n",
       "      <td>0.001206</td>\n",
       "      <td>0.044632</td>\n",
       "      <td>0.130277</td>\n",
       "      <td>98260</td>\n",
       "    </tr>\n",
       "    <tr>\n",
       "      <th>0</th>\n",
       "      <td>0.037657</td>\n",
       "      <td>0.016736</td>\n",
       "      <td>0.146444</td>\n",
       "      <td>0.029289</td>\n",
       "      <td>0.008368</td>\n",
       "      <td>0.000000</td>\n",
       "      <td>0.054393</td>\n",
       "      <td>0.033473</td>\n",
       "      <td>0.184100</td>\n",
       "      <td>0.004184</td>\n",
       "      <td>0.008368</td>\n",
       "      <td>0.037657</td>\n",
       "      <td>0.100418</td>\n",
       "      <td>0.008368</td>\n",
       "      <td>0.083682</td>\n",
       "      <td>0.000000</td>\n",
       "      <td>0.108787</td>\n",
       "      <td>0.138075</td>\n",
       "      <td>21660</td>\n",
       "    </tr>\n",
       "    <tr>\n",
       "      <th>0</th>\n",
       "      <td>0.047544</td>\n",
       "      <td>0.051506</td>\n",
       "      <td>0.083994</td>\n",
       "      <td>0.045166</td>\n",
       "      <td>0.020602</td>\n",
       "      <td>0.004754</td>\n",
       "      <td>0.061014</td>\n",
       "      <td>0.108558</td>\n",
       "      <td>0.148177</td>\n",
       "      <td>0.001585</td>\n",
       "      <td>0.002377</td>\n",
       "      <td>0.040412</td>\n",
       "      <td>0.116482</td>\n",
       "      <td>0.003170</td>\n",
       "      <td>0.107765</td>\n",
       "      <td>0.002377</td>\n",
       "      <td>0.032488</td>\n",
       "      <td>0.122029</td>\n",
       "      <td>93924</td>\n",
       "    </tr>\n",
       "  </tbody>\n",
       "</table>\n",
       "</div>"
      ],
      "text/plain": [
       "     active      arts      auto  beautysvc  education  financialservices      food    health  hotelstravel  massmedia  nightlife      pets  professional  publicservicesgovt  realestate  religiousorgs  restaurants  shopping zipcode\n",
       "0  0.044293  0.018750  0.101630   0.089946   0.015761           0.015489  0.107337  0.063587      0.070924   0.001087   0.029891  0.029891      0.044293            0.005707    0.020109       0.001359     0.172011  0.167935   11705\n",
       "0  0.033516  0.012996  0.110123   0.088919   0.010260           0.015732  0.084131  0.093707      0.049932   0.000000   0.026676  0.020520      0.022572            0.004788    0.044460       0.008208     0.202462  0.170999   37128\n",
       "0  0.044632  0.027744  0.113390   0.028951   0.019300           0.006031  0.075995  0.048251      0.125452   0.000000   0.007238  0.049457      0.106152            0.002413    0.168878       0.001206     0.044632  0.130277   98260\n",
       "0  0.037657  0.016736  0.146444   0.029289   0.008368           0.000000  0.054393  0.033473      0.184100   0.004184   0.008368  0.037657      0.100418            0.008368    0.083682       0.000000     0.108787  0.138075   21660\n",
       "0  0.047544  0.051506  0.083994   0.045166   0.020602           0.004754  0.061014  0.108558      0.148177   0.001585   0.002377  0.040412      0.116482            0.003170    0.107765       0.002377     0.032488  0.122029   93924"
      ]
     },
     "execution_count": 12,
     "metadata": {},
     "output_type": "execute_result"
    }
   ],
   "source": [
    "pd.read_pickle('data/yelpexport.pkl').head()"
   ]
  },
  {
   "cell_type": "markdown",
   "metadata": {},
   "source": [
    "<a id=\"exploration\"></a>\n",
    "# 3. Exploratory Data Analysis"
   ]
  },
  {
   "cell_type": "markdown",
   "metadata": {},
   "source": [
    "<a id=\"exploration\"></a>\n",
    "## 3.1 Neighborhood Trends in Business and Demographics"
   ]
  },
  {
   "cell_type": "markdown",
   "metadata": {},
   "source": [
    "Demographic data: do a heat map of single householder and others (minority races?) \n",
    "\n",
    "Business data: rank industries by number of zip codes with that industry as the most popular, map out business data as well?"
   ]
  },
  {
   "cell_type": "markdown",
   "metadata": {},
   "source": [
    "<a id=\"exploration_price\"></a>\n",
    "## 3.2 House and Rent Price Trends"
   ]
  },
  {
   "cell_type": "code",
   "execution_count": 14,
   "metadata": {
    "collapsed": false
   },
   "outputs": [
    {
     "data": {
      "image/png": "[encoded data removed]",
      "text/plain": [
       "<matplotlib.figure.Figure at 0x108b2e410>"
      ]
     },
     "metadata": {},
     "output_type": "display_data"
    }
   ],
   "source": [
    "df = pd.read_pickle('data/housing_rental_ratio.pkl')\n",
    "setbins = range(0,50,2)\n",
    "\n",
    "plt.hist(df['ratio_2011'].dropna().tolist(), bins = setbins, normed=True, alpha=0.6, label='2011');\n",
    "plt.hist(df['ratio_2015'].dropna().tolist(), bins = setbins, normed=True, alpha=0.6, label='2015');\n",
    "plt.title('Histogram of PTR Ratio in 2011 vs. 2015\\n');\n",
    "plt.legend();"
   ]
  },
  {
   "cell_type": "code",
   "execution_count": 15,
   "metadata": {
    "collapsed": false
   },
   "outputs": [
    {
     "data": {
      "image/png": "[encoded data removed]",
      "text/plain": [
       "<matplotlib.figure.Figure at 0x1039d0f90>"
      ]
     },
     "metadata": {},
     "output_type": "display_data"
    }
   ],
   "source": [
    "plt.hist(df['ratio_pct_delta'], bins=np.arange(0,2.1,0.1));\n",
    "plt.axvline(x=1, color=\"red\");\n",
    "plt.title('Percent change in PTR ratio in 2011 to 2015\\n');"
   ]
  },
  {
   "cell_type": "markdown",
   "metadata": {},
   "source": [
    "From the first histogram above, it seems that PTR, on average, increases between 2011 and 2015. However, based on the second histogram above, as well as the third choropleth map below, there is still a substantial fraction of zip codes where the PTR decreases."
   ]
  },
  {
   "cell_type": "markdown",
   "metadata": {},
   "source": [
    "<img src=\"images/PriceToRent.png\">\n",
    "We generated some choropleth maps using d3 to visualize what price-to-rent ratio looks like across the country from 2011 to 2015. This is displayed on the county level, by mapping zipcodes to their corresponding counties. White areas indicate zipcodes that were missing from the Zillow dataset. While there are some states that are relatively homogenous with regards to PTR levels, many areas exhibit heterogeneity. In terms of geographical trends, the coasts tend to have higher PTR ratios than the heartland, though there are exceptions. There seems to be significant change in PTR over this time span: for example it seems to be getting cheaper to rent than to buy a home (as indicated by higher price-to-rent ratios) in California in 2015 compared to 2011. "
   ]
  },
  {
   "cell_type": "markdown",
   "metadata": {},
   "source": [
    "<img src=\"images/Delta.png\">\n",
    "This visualization, which shows the percentage change in the price-to-rent ratio, confirms our hypothesis about renting in California. Along with California, Michigan and the south of Florida seem to be areas where it is becoming increasingly cheaper to rent than to buy a home. In contrast, many areas of texas seem to be exhibiting a decreasing PTR, making it cheaper to buy a home than rent. "
   ]
  },
  {
   "cell_type": "markdown",
   "metadata": {},
   "source": [
    "<a id=\"exploration_yelp\"></a>\n",
    "## 3.3 Yelp Business Trends"
   ]
  },
  {
   "cell_type": "markdown",
   "metadata": {},
   "source": [
    "The Yelp Business data offered a lot of heterogeneity amongst features and zipcodes, as we can see in this choropleth of the prevalence of restaurants in zipcodes across the country. Our data set for Yelp data is only about 900 zipcodes."
   ]
  },
  {
   "cell_type": "markdown",
   "metadata": {},
   "source": [
    "# INCOMPLETE"
   ]
  },
  {
   "cell_type": "markdown",
   "metadata": {},
   "source": [
    "We did some preliminary data analysis on these Yelp features, but found them to be rather subpar in their predictive power. Using feature selection from linear regression, and then more advanced methods like Lasso, Ridge Regression, and SVM, we tried to fit these features on PTR, but without too much success. Furthermore, scraping this data from Yelp took a lot of time (17 API calls for each zip code), and with roughly 10,000 zip codes in our testing and training dataframes, combined, it was impracticable to continue using these features (sadly)."
   ]
  },
  {
   "cell_type": "markdown",
   "metadata": {},
   "source": [
    "<a id=\"modeling\"></a>\n",
    "# 4. Modeling"
   ]
  },
  {
   "cell_type": "code",
   "execution_count": null,
   "metadata": {
    "collapsed": true
   },
   "outputs": [],
   "source": []
  },
  {
   "cell_type": "markdown",
   "metadata": {},
   "source": [
    "<a id=\"modeling\"></a>\n",
    "## 4.1 Model Features"
   ]
  },
  {
   "cell_type": "markdown",
   "metadata": {},
   "source": [
    "We decided to use forward selection to select features for our regressions, this is the function for forward feature selection.\n",
    "\n",
    "We experimented with the threshold for improvement (see \\*\\*\\* threshold \\*\\*\\* below), but found that our model became significantly worse with a tighter threshold.  Therefore we decided to keep features if they improved the model at all - this still lead to the pruning of a little less than 1/3 of the features."
   ]
  },
  {
   "cell_type": "code",
   "execution_count": 1,
   "metadata": {
    "collapsed": true
   },
   "outputs": [],
   "source": [
    "# with help from http://planspace.org/20150423-forward_selection_with_statsmodels/\n",
    "import statsmodels.formula.api as smf\n",
    "\n",
    "def forward_selected(data, response):\n",
    "    \"\"\"Linear model designed by forward selection.\n",
    "\n",
    "    Parameters:\n",
    "    -----------\n",
    "    data : pandas DataFrame with all possible predictors and response\n",
    "\n",
    "    response: string, name of response column in data\n",
    "\n",
    "    Returns:\n",
    "    --------\n",
    "    model: an \"optimal\" fitted statsmodels linear model\n",
    "           with an intercept\n",
    "           selected by forward selection\n",
    "           evaluated by adjusted R-squared\n",
    "    \"\"\"\n",
    "    \n",
    "    remaining = set(data.columns)\n",
    "    remaining.remove(response)\n",
    "    selected = []\n",
    "    current_score, best_new_score = 0.0, 0.0\n",
    "    while remaining and current_score == best_new_score:\n",
    "        scores_with_candidates = []\n",
    "        for candidate in remaining:\n",
    "            formula = \"{} ~ {} + 1\".format(response, ' + '.join(selected + [candidate]))\n",
    "            score = smf.ols(formula, data).fit().rsquared_adj\n",
    "            scores_with_candidates.append((score, candidate))\n",
    "        scores_with_candidates.sort()\n",
    "        best_new_score, best_candidate = scores_with_candidates.pop()\n",
    "        # *** threshold ***\n",
    "        if current_score < (best_new_score * 1):\n",
    "            remaining.remove(best_candidate)\n",
    "            selected.append(best_candidate)\n",
    "            current_score = best_new_score\n",
    "    formula = \"{} ~ {} + 1\".format(response, ' + '.join(selected))\n",
    "    \n",
    "    model = smf.ols(formula, data).fit()\n",
    "    return (model, formula)"
   ]
  },
  {
   "cell_type": "markdown",
   "metadata": {},
   "source": [
    "Import 2015 PTR ratio which is our response, and save the 2011 PTR ratio to be used as a feature"
   ]
  },
  {
   "cell_type": "code",
   "execution_count": 11,
   "metadata": {
    "collapsed": false
   },
   "outputs": [],
   "source": [
    "%%capture\n",
    "ratio_response = pd.read_pickle('data/housing_rental_ratio2.pkl').rename(columns = {'zip': 'zipcode'})\n",
    "ratio_2015_response = ratio_response[['zipcode','ratio_2015']]\n",
    "\n",
    "# create ratio_2011 feature to be predictor!\n",
    "ratio_2011_feature = ratio_response[['zipcode','ratio_2011']]\n",
    "\n",
    "ratio_2011_feature['zipcode'] = ratio_2011_feature['zipcode'].astype('str')\n",
    "ratio_2015_response['zipcode'] = ratio_2015_response['zipcode'].astype('str')"
   ]
  },
  {
   "cell_type": "markdown",
   "metadata": {},
   "source": [
    "Import features which have already been normalized and transformed if they were very right-skewed"
   ]
  },
  {
   "cell_type": "code",
   "execution_count": 12,
   "metadata": {
    "collapsed": true
   },
   "outputs": [],
   "source": [
    "train_set_t = pd.read_pickle('data/train_all_features_norm_and_transform.pkl')\n",
    "test_set_t = pd.read_pickle('data/test_all_features_norm_and_transform.pkl')\n",
    "# save training and testing indices for later use\n",
    "itrain_t_df = pd.DataFrame(train_set_t.index).rename(columns={0: 'ind'})\n",
    "itest_t_df = pd.DataFrame(test_set_t.index).rename(columns={0: 'ind'})\n",
    "\n",
    "features_t = pd.concat([train_set_t, test_set_t])\n",
    "# merge to add PTR ratio for 2011 as a feature\n",
    "features_t = features_t.merge(ratio_2011_feature, how='inner', on='zipcode')"
   ]
  },
  {
   "cell_type": "markdown",
   "metadata": {},
   "source": [
    "merge the feature df with the response df for splitting into training at test sets"
   ]
  },
  {
   "cell_type": "code",
   "execution_count": 13,
   "metadata": {
    "collapsed": false
   },
   "outputs": [
    {
     "name": "stdout",
     "output_type": "stream",
     "text": [
      "8240 samples in training set \n",
      "2066 samples in test set\n"
     ]
    }
   ],
   "source": [
    "merged_ratio_2015 = ratio_2015_response.merge(features_t, how='inner', on=['zipcode'])\n",
    "merged_ratio_2015 = merged_ratio_2015.astype('float')\n",
    "merged_ratio_2015 = merged_ratio_2015.rename(columns={'ratio_2015':'response'})\n",
    "\n",
    "# split into training and test sets\n",
    "ratio_2015_train = merged_ratio_2015.merge(itrain_t_df, how='inner', right_on='ind', left_index=True)\n",
    "ratio_2015_test = merged_ratio_2015.merge(itest_t_df, how='inner', right_on='ind', left_index=True)\n",
    "print '%s samples in training set \\n%s samples in test set'%(ratio_2015_train.shape[0], ratio_2015_test.shape[0])"
   ]
  },
  {
   "cell_type": "markdown",
   "metadata": {},
   "source": [
    "function to calculate RMSE (root mean squared error).  We thought it would be good to compare our results using both r-squared and rmse, as r-squared increases with the number of"
   ]
  },
  {
   "cell_type": "code",
   "execution_count": 16,
   "metadata": {
    "collapsed": true
   },
   "outputs": [],
   "source": [
    "def get_rmse(s, s_predict):\n",
    "    diff = s - s_predict\n",
    "    return np.sqrt(np.dot(diff,diff)/diff.shape[0])"
   ]
  },
  {
   "cell_type": "markdown",
   "metadata": {},
   "source": [
    "Use forward selection to select best features, and calculate rmse for basic OLS regression on these features"
   ]
  },
  {
   "cell_type": "code",
   "execution_count": 17,
   "metadata": {
    "collapsed": false
   },
   "outputs": [
    {
     "name": "stdout",
     "output_type": "stream",
     "text": [
      "0.0615620613098 seconds to train model\n",
      "Response Variable: Ratio 2015\n",
      "RMSE for OLS is 13.6105601759\n"
     ]
    }
   ],
   "source": [
    "import time\n",
    "import patsy\n",
    "from statsmodels.api import add_constant\n",
    "start_time = time.time()\n",
    "\n",
    "# bestmodel_ratio_2015 = forward_selected(ratio_2015_train.drop(['zipcode','ind'],1), 'response')\n",
    "\n",
    "formula = bestmodel_ratio_2015[1].replace('response ~ ','')\n",
    "data = ratio_2015_test.drop(['zipcode','ind'],1).dropna()\n",
    "response = data['response']\n",
    "data = data.drop('response',1)\n",
    "\n",
    "df = patsy.dmatrix(formula, data=data)\n",
    "pred = bestmodel_ratio_2015[0].predict(df, transform=False)\n",
    "\n",
    "ols_rmse = get_rmse(response, pred)\n",
    "\n",
    "print '%s seconds to train model'%(time.time() - start_time)\n",
    "print 'Response Variable: Ratio 2015'\n",
    "print 'RMSE for OLS is ' + str(ols_rmse)"
   ]
  },
  {
   "cell_type": "code",
   "execution_count": null,
   "metadata": {
    "collapsed": true
   },
   "outputs": [],
   "source": []
  },
  {
   "cell_type": "markdown",
   "metadata": {},
   "source": [
    "<a id=\"model_train\"></a>\n",
    "## 4.2 Train Data"
   ]
  },
  {
   "cell_type": "code",
   "execution_count": null,
   "metadata": {
    "collapsed": true
   },
   "outputs": [],
   "source": []
  },
  {
   "cell_type": "markdown",
   "metadata": {},
   "source": [
    "<a id=\"baseline\"></a>\n",
    "## 4.3 Baseline Prediction"
   ]
  },
  {
   "cell_type": "markdown",
   "metadata": {},
   "source": [
    "<a id=\"regression\"></a>\n",
    "## 4.4 Regression \n",
    "Include graphs for evaluation (and all the other models we used)"
   ]
  },
  {
   "cell_type": "markdown",
   "metadata": {},
   "source": [
    "<a id=\"conclusion\"></a>\n",
    "# 5. Conclusion\n",
    "\n",
    "What were our findings?\n",
    "Evaluate each model and talk about next steps."
   ]
  },
  {
   "cell_type": "code",
   "execution_count": null,
   "metadata": {
    "collapsed": true
   },
   "outputs": [],
   "source": []
  },
  {
   "cell_type": "code",
   "execution_count": null,
   "metadata": {
    "collapsed": true
   },
   "outputs": [],
   "source": []
  }
 ],
 "metadata": {
  "kernelspec": {
   "display_name": "Python 2",
   "language": "python",
   "name": "python2"
  },
  "language_info": {
   "codemirror_mode": {
    "name": "ipython",
    "version": 2
   },
   "file_extension": ".py",
   "mimetype": "text/x-python",
   "name": "python",
   "nbconvert_exporter": "python",
   "pygments_lexer": "ipython2",
   "version": "2.7.10"
  }
 },
 "nbformat": 4,
 "nbformat_minor": 0
}
