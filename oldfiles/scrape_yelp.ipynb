{
 "cells": [
  {
   "cell_type": "code",
   "execution_count": 212,
   "metadata": {
    "collapsed": false
   },
   "outputs": [],
   "source": [
    "%matplotlib inline\n",
    "import numpy as np\n",
    "import scipy as sp\n",
    "import matplotlib as mpl\n",
    "import matplotlib.cm as cm\n",
    "import matplotlib.pyplot as plt\n",
    "import pandas as pd\n",
    "import time\n",
    "import json\n",
    "pd.set_option('display.width', 500)\n",
    "pd.set_option('display.max_columns', 100)\n",
    "pd.set_option('display.notebook_repr_html', True)\n",
    "import seaborn as sns\n",
    "sns.set_style(\"whitegrid\")\n",
    "sns.set_context(\"poster\")\n",
    "\n",
    "from pyquery import PyQuery as pq\n",
    "from bs4 import BeautifulSoup\n",
    "import requests\n",
    "import random\n",
    "import time"
   ]
  },
  {
   "cell_type": "code",
   "execution_count": 213,
   "metadata": {
    "collapsed": false
   },
   "outputs": [],
   "source": [
    "categories = {\n",
    "    #'total':'',\n",
    "    'active':'&cflt=active',\n",
    "    'beauty':'&cflt=beautysvc',\n",
    "    'finserv':'&cflt=financialservices',\n",
    "    #'homeserv':'&cflt=homeservices',\n",
    "    'pets':'&cflt=pets',\n",
    "    'religious':'&cflt=religiousorgs',\n",
    "    'arts':'&cflt=arts',\n",
    "    'education':'&cflt=education',\n",
    "    'food':'&cflt=food',\n",
    "    'travel':'&cflt=hotelstravel',\n",
    "    'prof':'&cflt=professional',\n",
    "    'restaurant':'&cflt=restaurants',\n",
    "    'auto':'&cflt=auto',\n",
    "    #'events':'&cflt=eventservices',\n",
    "    'health':'&cflt=health',\n",
    "    #'local':'&cflt=localservices',\n",
    "    're':'&cflt=realestate',\n",
    "    'shopping':'&cflt=shopping'\n",
    "}"
   ]
  },
  {
   "cell_type": "code",
   "execution_count": 230,
   "metadata": {
    "collapsed": false
   },
   "outputs": [],
   "source": [
    "def nBusiness(zipcode, categoriesDict) :\n",
    "    \n",
    "    nBusinesses = {}\n",
    "    \n",
    "    url = \"http://www.yelp.com/search?find_loc=\" + str(zipcode)\n",
    "    \n",
    "    for category in categoriesDict :\n",
    "        get = requests.get(url + categories[category])\n",
    "        soup = BeautifulSoup(get.text, \"html.parser\")\n",
    "        n = soup.find('span', attrs={\"class\": \"pagination-results-window\"}).text\n",
    "        nBusinesses[category] = int(n.split()[-1])\n",
    "    \n",
    "    totalBusiness = float(sum(nBusinesses.values()))\n",
    "    for category in categoriesDict :\n",
    "        nBusinesses[category] = nBusinesses[category] / totalBusiness\n",
    "    \n",
    "    nBusinesses['zipcode'] = zipcode\n",
    "    nBusinesses['total'] = totalBusiness\n",
    "    \n",
    "    return nBusinesses\n",
    "\n",
    "def getCategories(zipcodeList, categoriesDict) :\n",
    "    \n",
    "    i = 0\n",
    "    df = pd.DataFrame()\n",
    "    \n",
    "    for zipcode in zipcodeList :\n",
    "        \n",
    "        i += 1\n",
    "        print str(i) + '/' + str(len(zipcodeList))\n",
    "        \n",
    "        if len(str(zipcode)) < 5 :\n",
    "            useZipCode = (5-len(str(zipcode)))*'0' + str(zipcode)\n",
    "        else :\n",
    "            useZipCode = zipcode\n",
    "        results = nBusiness(useZipCode, categoriesDict)\n",
    "        df=df.append(pd.DataFrame(results, columns=results.keys(), index=[0]))\n",
    "        df.to_pickle('exportdf4.pkl')\n",
    "        \n",
    "        time.sleep(60)\n",
    "    \n",
    "    return df"
   ]
  },
  {
   "cell_type": "code",
   "execution_count": 243,
   "metadata": {
    "collapsed": false,
    "scrolled": true
   },
   "outputs": [],
   "source": [
    "allZips=pd.read_pickle('ZipcodeMVPSnew.pkl')[['RegionName']]['RegionName'].tolist()"
   ]
  },
  {
   "cell_type": "code",
   "execution_count": 244,
   "metadata": {
    "collapsed": false
   },
   "outputs": [
    {
     "name": "stdout",
     "output_type": "stream",
     "text": [
      "1/1000\n"
     ]
    },
    {
     "ename": "AttributeError",
     "evalue": "'NoneType' object has no attribute 'text'",
     "output_type": "error",
     "traceback": [
      "\u001b[0;31m---------------------------------------------------------------------------\u001b[0m",
      "\u001b[0;31mAttributeError\u001b[0m                            Traceback (most recent call last)",
      "\u001b[0;32m<ipython-input-244-9ff499577f6b>\u001b[0m in \u001b[0;36m<module>\u001b[0;34m()\u001b[0m\n\u001b[1;32m      1\u001b[0m \u001b[0msampleZips\u001b[0m \u001b[0;34m=\u001b[0m \u001b[0mrandom\u001b[0m\u001b[0;34m.\u001b[0m\u001b[0msample\u001b[0m\u001b[0;34m(\u001b[0m\u001b[0mallZips\u001b[0m\u001b[0;34m,\u001b[0m \u001b[0;36m1000\u001b[0m\u001b[0;34m)\u001b[0m\u001b[0;34m\u001b[0m\u001b[0m\n\u001b[0;32m----> 2\u001b[0;31m \u001b[0msampledf\u001b[0m \u001b[0;34m=\u001b[0m \u001b[0mgetCategories\u001b[0m\u001b[0;34m(\u001b[0m\u001b[0msampleZips\u001b[0m\u001b[0;34m,\u001b[0m \u001b[0mcategories\u001b[0m\u001b[0;34m)\u001b[0m\u001b[0;34m\u001b[0m\u001b[0m\n\u001b[0m",
      "\u001b[0;32m<ipython-input-230-cceee2824468>\u001b[0m in \u001b[0;36mgetCategories\u001b[0;34m(zipcodeList, categoriesDict)\u001b[0m\n\u001b[1;32m     34\u001b[0m         \u001b[0;32melse\u001b[0m \u001b[0;34m:\u001b[0m\u001b[0;34m\u001b[0m\u001b[0m\n\u001b[1;32m     35\u001b[0m             \u001b[0museZipCode\u001b[0m \u001b[0;34m=\u001b[0m \u001b[0mzipcode\u001b[0m\u001b[0;34m\u001b[0m\u001b[0m\n\u001b[0;32m---> 36\u001b[0;31m         \u001b[0mresults\u001b[0m \u001b[0;34m=\u001b[0m \u001b[0mnBusiness\u001b[0m\u001b[0;34m(\u001b[0m\u001b[0museZipCode\u001b[0m\u001b[0;34m,\u001b[0m \u001b[0mcategoriesDict\u001b[0m\u001b[0;34m)\u001b[0m\u001b[0;34m\u001b[0m\u001b[0m\n\u001b[0m\u001b[1;32m     37\u001b[0m         \u001b[0mdf\u001b[0m\u001b[0;34m=\u001b[0m\u001b[0mdf\u001b[0m\u001b[0;34m.\u001b[0m\u001b[0mappend\u001b[0m\u001b[0;34m(\u001b[0m\u001b[0mpd\u001b[0m\u001b[0;34m.\u001b[0m\u001b[0mDataFrame\u001b[0m\u001b[0;34m(\u001b[0m\u001b[0mresults\u001b[0m\u001b[0;34m,\u001b[0m \u001b[0mcolumns\u001b[0m\u001b[0;34m=\u001b[0m\u001b[0mresults\u001b[0m\u001b[0;34m.\u001b[0m\u001b[0mkeys\u001b[0m\u001b[0;34m(\u001b[0m\u001b[0;34m)\u001b[0m\u001b[0;34m,\u001b[0m \u001b[0mindex\u001b[0m\u001b[0;34m=\u001b[0m\u001b[0;34m[\u001b[0m\u001b[0;36m0\u001b[0m\u001b[0;34m]\u001b[0m\u001b[0;34m)\u001b[0m\u001b[0;34m)\u001b[0m\u001b[0;34m\u001b[0m\u001b[0m\n\u001b[1;32m     38\u001b[0m         \u001b[0mdf\u001b[0m\u001b[0;34m.\u001b[0m\u001b[0mto_pickle\u001b[0m\u001b[0;34m(\u001b[0m\u001b[0;34m'exportdf4.pkl'\u001b[0m\u001b[0;34m)\u001b[0m\u001b[0;34m\u001b[0m\u001b[0m\n",
      "\u001b[0;32m<ipython-input-230-cceee2824468>\u001b[0m in \u001b[0;36mnBusiness\u001b[0;34m(zipcode, categoriesDict)\u001b[0m\n\u001b[1;32m      8\u001b[0m         \u001b[0mget\u001b[0m \u001b[0;34m=\u001b[0m \u001b[0mrequests\u001b[0m\u001b[0;34m.\u001b[0m\u001b[0mget\u001b[0m\u001b[0;34m(\u001b[0m\u001b[0murl\u001b[0m \u001b[0;34m+\u001b[0m \u001b[0mcategories\u001b[0m\u001b[0;34m[\u001b[0m\u001b[0mcategory\u001b[0m\u001b[0;34m]\u001b[0m\u001b[0;34m)\u001b[0m\u001b[0;34m\u001b[0m\u001b[0m\n\u001b[1;32m      9\u001b[0m         \u001b[0msoup\u001b[0m \u001b[0;34m=\u001b[0m \u001b[0mBeautifulSoup\u001b[0m\u001b[0;34m(\u001b[0m\u001b[0mget\u001b[0m\u001b[0;34m.\u001b[0m\u001b[0mtext\u001b[0m\u001b[0;34m,\u001b[0m \u001b[0;34m\"html.parser\"\u001b[0m\u001b[0;34m)\u001b[0m\u001b[0;34m\u001b[0m\u001b[0m\n\u001b[0;32m---> 10\u001b[0;31m         \u001b[0mn\u001b[0m \u001b[0;34m=\u001b[0m \u001b[0msoup\u001b[0m\u001b[0;34m.\u001b[0m\u001b[0mfind\u001b[0m\u001b[0;34m(\u001b[0m\u001b[0;34m'span'\u001b[0m\u001b[0;34m,\u001b[0m \u001b[0mattrs\u001b[0m\u001b[0;34m=\u001b[0m\u001b[0;34m{\u001b[0m\u001b[0;34m\"class\"\u001b[0m\u001b[0;34m:\u001b[0m \u001b[0;34m\"pagination-results-window\"\u001b[0m\u001b[0;34m}\u001b[0m\u001b[0;34m)\u001b[0m\u001b[0;34m.\u001b[0m\u001b[0mtext\u001b[0m\u001b[0;34m\u001b[0m\u001b[0m\n\u001b[0m\u001b[1;32m     11\u001b[0m         \u001b[0mnBusinesses\u001b[0m\u001b[0;34m[\u001b[0m\u001b[0mcategory\u001b[0m\u001b[0;34m]\u001b[0m \u001b[0;34m=\u001b[0m \u001b[0mint\u001b[0m\u001b[0;34m(\u001b[0m\u001b[0mn\u001b[0m\u001b[0;34m.\u001b[0m\u001b[0msplit\u001b[0m\u001b[0;34m(\u001b[0m\u001b[0;34m)\u001b[0m\u001b[0;34m[\u001b[0m\u001b[0;34m-\u001b[0m\u001b[0;36m1\u001b[0m\u001b[0;34m]\u001b[0m\u001b[0;34m)\u001b[0m\u001b[0;34m\u001b[0m\u001b[0m\n\u001b[1;32m     12\u001b[0m \u001b[0;34m\u001b[0m\u001b[0m\n",
      "\u001b[0;31mAttributeError\u001b[0m: 'NoneType' object has no attribute 'text'"
     ]
    }
   ],
   "source": [
    "sampleZips = random.sample(allZips, 1000)\n",
    "sampledf = getCategories(sampleZips, categories)"
   ]
  },
  {
   "cell_type": "code",
   "execution_count": 247,
   "metadata": {
    "collapsed": false
   },
   "outputs": [],
   "source": [
    "get = requests.get('http://www.yelp.com')"
   ]
  },
  {
   "cell_type": "code",
   "execution_count": 248,
   "metadata": {
    "collapsed": true
   },
   "outputs": [],
   "source": [
    "soup = BeautifulSoup(get.text, \"html.parser\")"
   ]
  },
  {
   "cell_type": "code",
   "execution_count": 249,
   "metadata": {
    "collapsed": false
   },
   "outputs": [
    {
     "data": {
      "text/plain": [
       "<!DOCTYPE doctype html>\n",
       "\n",
       "<html>\n",
       "<head>\n",
       "<title>503 Service Unavailable</title>\n",
       "<meta content=\"text/html; charset=utf-8\" http-equiv=\"Content-Type\">\n",
       "<meta content=\"no-cache\" http-equiv=\"Pragma\">\n",
       "<meta content=\"no-cache\" http-equiv=\"Cache-Control\">\n",
       "<meta content=\"0\" http-equiv=\"Expires\">\n",
       "<link href=\"/favicon.ico\" rel=\"shortcut icon\" type=\"image/ico\">\n",
       "<style type=\"text/css\">\n",
       "        html, body, div, h1, h2, p, a {\n",
       "            margin: 0;\n",
       "            padding: 0;\n",
       "            border: 0;\n",
       "            outline: 0;\n",
       "            font-weight: inherit;\n",
       "            font-style: inherit;\n",
       "            font-size: 100%;\n",
       "            font-family: inherit;\n",
       "            vertical-align: baseline;\n",
       "        }\n",
       "\n",
       "        :focus {\n",
       "            outline: 0;\n",
       "        }\n",
       "\n",
       "        body {\n",
       "            line-height: 1;\n",
       "            color: black;\n",
       "            font-family: arial, 'Lucida Grande', 'Bitstream Vera Sans', verdana, sans-serif;\n",
       "            font-size: 12px;\n",
       "            color: #555;\n",
       "            background: #fff;\n",
       "        }\n",
       "\n",
       "        p {\n",
       "            margin: 0;\n",
       "            padding: 0;\n",
       "            text-align:left;\n",
       "            font-size: 12px;\n",
       "            color: #555;\n",
       "            margin-bottom: 10px;\n",
       "        }\n",
       "\n",
       "        h1, h2 {\n",
       "            font-weight: bold;\n",
       "            color: #C41200;\n",
       "        }\n",
       "\n",
       "        h1 {\n",
       "            font-size: 18px;\n",
       "            margin: 0 0 5px;\n",
       "            text-align:left;\n",
       "        }\n",
       "\n",
       "        h2 {\n",
       "            margin:15px 0px 15px 0px;\n",
       "            font-size: 1.5em;\n",
       "        }\n",
       "\n",
       "        a, a:visited {\n",
       "            color: #66c;\n",
       "            text-decoration: none;\n",
       "        }\n",
       "        a:hover {color: #555; text-decoration: underline;}\n",
       "\n",
       "        #wrap {\n",
       "            width: 990px;\n",
       "            margin: 0 auto;\n",
       "        }\n",
       "\n",
       "        #header {\n",
       "            height: 80px;\n",
       "            background:url(//s3-media1.ak.yelpcdn.com/assets/2/www/img/8038f2b948cc/gfx/header_minified.png) no-repeat;\n",
       "            position: relative;\n",
       "            text-align: center;\n",
       "            margin: 10px 0 0;\n",
       "        }\n",
       "\n",
       "        #header #logo {\n",
       "            margin:0 auto;\n",
       "        }\n",
       "\n",
       "        #header #logo a {\n",
       "            display: block;\n",
       "            height: 50px;\n",
       "            outline: 0;\n",
       "            text-decoration: none;\n",
       "            text-indent: -9999px;\n",
       "            white-space: nowrap;\n",
       "        }\n",
       "\n",
       "        #content{\n",
       "            padding: 10px;\n",
       "            border: 1px solid #ccc;\n",
       "            border-top: none;\n",
       "            padding-bottom: 15px;\n",
       "        }\n",
       "\n",
       "        #content h2 {\n",
       "            text-align: center;\n",
       "        }\n",
       "\n",
       "        #content p{\n",
       "            text-align: center;\n",
       "        }\n",
       "\n",
       "    </style>\n",
       "</link></meta></meta></meta></meta></head>\n",
       "<body>\n",
       "<div id=\"wrap\">\n",
       "<div id=\"header\">\n",
       "<h1 id=\"logo\">\n",
       "<a href=\"/\">Yelp</a>\n",
       "</h1>\n",
       "</div>\n",
       "<div id=\"content\">\n",
       "<h2>Sorry, you're not allowed to access this page.</h2>\n",
       "<p>Your IP address is: 65.112.10.60</p>\n",
       "<p>Please retry your request and <a href=\"mailto:feedback+unavailable@yelp.com?subject=IP%20Block%20Message%3A%2065.112.10.60\">contact Yelp</a> if you continue experiencing issues.</p>\n",
       "</div>\n",
       "</div>\n",
       "<script type=\"text/javascript\">\n",
       "          var _gaq = _gaq || [];\n",
       "          _gaq.push(['_setAccount', 'UA-30501-34']);\n",
       "          _gaq.push(['_trackPageview']);\n",
       "\n",
       "          (function() {\n",
       "            var ga = document.createElement('script'); ga.type = 'text/javascript'; ga.async = true;\n",
       "            ga.src = ('https:' == document.location.protocol ? 'https://ssl' : 'http://www') + '.google-analytics.com/ga.js';\n",
       "            var s = document.getElementsByTagName('script')[0]; s.parentNode.insertBefore(ga, s);\n",
       "          })();\n",
       "        </script>\n",
       "</body>\n",
       "</html>"
      ]
     },
     "execution_count": 249,
     "metadata": {},
     "output_type": "execute_result"
    }
   ],
   "source": [
    "soup"
   ]
  },
  {
   "cell_type": "code",
   "execution_count": null,
   "metadata": {
    "collapsed": true
   },
   "outputs": [],
   "source": []
  }
 ],
 "metadata": {
  "kernelspec": {
   "display_name": "Python 2",
   "language": "python",
   "name": "python2"
  },
  "language_info": {
   "codemirror_mode": {
    "name": "ipython",
    "version": 2
   },
   "file_extension": ".py",
   "mimetype": "text/x-python",
   "name": "python",
   "nbconvert_exporter": "python",
   "pygments_lexer": "ipython2",
   "version": "2.7.10"
  }
 },
 "nbformat": 4,
 "nbformat_minor": 0
}
