{
 "cells": [
  {
   "cell_type": "code",
   "execution_count": 104,
   "metadata": {
    "collapsed": false
   },
   "outputs": [],
   "source": [
    "import numpy as np\n",
    "import pandas as pd"
   ]
  },
  {
   "cell_type": "markdown",
   "metadata": {},
   "source": [
    "## Features created in this file:\n",
    "### number of businesses, number of employed persons, first quarter pay, and annual pay per zipcode"
   ]
  },
  {
   "cell_type": "markdown",
   "metadata": {},
   "source": [
    "## to get dataframe that I created in this file:\n",
    "#### df = pd.read_pickle('business_patterns.pkl')"
   ]
  },
  {
   "cell_type": "code",
   "execution_count": 73,
   "metadata": {
    "collapsed": true
   },
   "outputs": [],
   "source": [
    "bus_data_raw = pd.read_csv('BP_2010_00CZ1_with_ann.csv')"
   ]
  },
  {
   "cell_type": "code",
   "execution_count": 74,
   "metadata": {
    "collapsed": false
   },
   "outputs": [
    {
     "data": {
      "text/html": [
       "<div>\n",
       "<table border=\"1\" class=\"dataframe\">\n",
       "  <thead>\n",
       "    <tr style=\"text-align: right;\">\n",
       "      <th></th>\n",
       "      <th>GEO.id</th>\n",
       "      <th>GEO.id2</th>\n",
       "      <th>GEO.display-label</th>\n",
       "      <th>NAICS.id</th>\n",
       "      <th>NAICS.display-label</th>\n",
       "      <th>YEAR.id</th>\n",
       "      <th>ESTAB</th>\n",
       "      <th>EMP</th>\n",
       "      <th>PAYQTR1</th>\n",
       "      <th>PAYANN</th>\n",
       "    </tr>\n",
       "  </thead>\n",
       "  <tbody>\n",
       "    <tr>\n",
       "      <th>0</th>\n",
       "      <td>Geographic identifier code</td>\n",
       "      <td>Id2</td>\n",
       "      <td>Geographic area name</td>\n",
       "      <td>2007 NAICS code</td>\n",
       "      <td>Meaning of 2007 NAICS code</td>\n",
       "      <td>Year</td>\n",
       "      <td>Number of establishments</td>\n",
       "      <td>Paid employees for pay period including March ...</td>\n",
       "      <td>First-quarter payroll ($1,000)</td>\n",
       "      <td>Annual payroll ($1,000)</td>\n",
       "    </tr>\n",
       "    <tr>\n",
       "      <th>1</th>\n",
       "      <td>8610000US00501</td>\n",
       "      <td>00501</td>\n",
       "      <td>ZIP 00501 (Holtsville, NY)</td>\n",
       "      <td>00</td>\n",
       "      <td>Total for all sectors</td>\n",
       "      <td>2010</td>\n",
       "      <td>2</td>\n",
       "      <td>a</td>\n",
       "      <td>D</td>\n",
       "      <td>D</td>\n",
       "    </tr>\n",
       "    <tr>\n",
       "      <th>2</th>\n",
       "      <td>8610000US01001</td>\n",
       "      <td>01001</td>\n",
       "      <td>ZIP 01001 (Agawam, MA)</td>\n",
       "      <td>00</td>\n",
       "      <td>Total for all sectors</td>\n",
       "      <td>2010</td>\n",
       "      <td>448</td>\n",
       "      <td>9185</td>\n",
       "      <td>70693</td>\n",
       "      <td>314508</td>\n",
       "    </tr>\n",
       "    <tr>\n",
       "      <th>3</th>\n",
       "      <td>8610000US01002</td>\n",
       "      <td>01002</td>\n",
       "      <td>ZIP 01002 (Amherst, MA)</td>\n",
       "      <td>00</td>\n",
       "      <td>Total for all sectors</td>\n",
       "      <td>2010</td>\n",
       "      <td>570</td>\n",
       "      <td>15633</td>\n",
       "      <td>82069</td>\n",
       "      <td>351589</td>\n",
       "    </tr>\n",
       "  </tbody>\n",
       "</table>\n",
       "</div>"
      ],
      "text/plain": [
       "                       GEO.id GEO.id2           GEO.display-label  \\\n",
       "0  Geographic identifier code     Id2        Geographic area name   \n",
       "1              8610000US00501   00501  ZIP 00501 (Holtsville, NY)   \n",
       "2              8610000US01001   01001      ZIP 01001 (Agawam, MA)   \n",
       "3              8610000US01002   01002     ZIP 01002 (Amherst, MA)   \n",
       "\n",
       "          NAICS.id         NAICS.display-label YEAR.id  \\\n",
       "0  2007 NAICS code  Meaning of 2007 NAICS code    Year   \n",
       "1               00       Total for all sectors    2010   \n",
       "2               00       Total for all sectors    2010   \n",
       "3               00       Total for all sectors    2010   \n",
       "\n",
       "                      ESTAB  \\\n",
       "0  Number of establishments   \n",
       "1                         2   \n",
       "2                       448   \n",
       "3                       570   \n",
       "\n",
       "                                                 EMP  \\\n",
       "0  Paid employees for pay period including March ...   \n",
       "1                                                  a   \n",
       "2                                               9185   \n",
       "3                                              15633   \n",
       "\n",
       "                          PAYQTR1                   PAYANN  \n",
       "0  First-quarter payroll ($1,000)  Annual payroll ($1,000)  \n",
       "1                               D                        D  \n",
       "2                           70693                   314508  \n",
       "3                           82069                   351589  "
      ]
     },
     "execution_count": 74,
     "metadata": {},
     "output_type": "execute_result"
    }
   ],
   "source": [
    "bus_data_raw.head(4)"
   ]
  },
  {
   "cell_type": "code",
   "execution_count": 88,
   "metadata": {
    "collapsed": false
   },
   "outputs": [],
   "source": [
    "# rename columns and drop unnecessary columns\n",
    "bus_data = bus_data_raw.drop(['GEO.id2','NAICS.id','NAICS.display-label', 'YEAR.id'],1)\n",
    "bus_data.columns = bus_data.iloc[0].values\n",
    "bus_data = bus_data[bus_data['Geographic identifier code'] != 'Geographic identifier code']\n",
    "bus_data = bus_data.reset_index(drop=True)\n",
    "\n",
    "# code from census data that maps letters (in paid employees col) to ints\n",
    "letter_map = {'a':10, 'D':np.nan, 'b':60, 'c':175, 'h':3750, 'f':750, 'i':7500, 'g':1750, 'S':np.nan, 'e':375, 'j':17500, 'l':75000, 'k':37500, 'm':100000}\n",
    "# get list of paid employees column for processing\n",
    "paid_employees_raw = bus_data['Paid employees for pay period including March 12 (number)']\n",
    "\n",
    "# function to process the paid employees. turn strings to ints, and convert letters to corresponding ints.\n",
    "def process_employees(el):\n",
    "    try:\n",
    "        num = int(el)\n",
    "    except ValueError:\n",
    "        num = letter_map[el]\n",
    "    return num\n",
    "\n",
    "# get list of paid employees, all values should be ints\n",
    "paid_employees = [process_employees(el) for el in paid_employees_raw]\n",
    "\n",
    "# do the same for 'first-quarter payroll' and 'annual payroll', they only have the 'D' value\n",
    "first_quarter = [process_employees(el) for el in bus_data['First-quarter payroll ($1,000)']]\n",
    "annual = [process_employees(el) for el in bus_data['Annual payroll ($1,000)']]\n",
    "\n",
    "# add these to dataframe, delete old columns\n",
    "bus_data['paid_employees'] = paid_employees\n",
    "bus_data['first_quarter_payroll_1000'] = first_quarter\n",
    "bus_data['annual_payroll_1000'] = annual\n",
    "# get zipcodes from last 5 characters of 'Geographic identifier code'\n",
    "bus_data['zipcode'] = [el[-5:] for el in bus_data['Geographic identifier code']]\n",
    "bus_data = bus_data.drop(['Paid employees for pay period including March 12 (number)','First-quarter payroll ($1,000)','Annual payroll ($1,000)','Geographic identifier code'],1)"
   ]
  },
  {
   "cell_type": "code",
   "execution_count": 91,
   "metadata": {
    "collapsed": false
   },
   "outputs": [],
   "source": [
    "bus_data = bus_data.dropna(subset = ['annual_payroll_1000', 'first_quarter_payroll_1000'])"
   ]
  },
  {
   "cell_type": "code",
   "execution_count": 92,
   "metadata": {
    "collapsed": false
   },
   "outputs": [
    {
     "data": {
      "text/plain": [
       "((31255, 6), (39105, 10))"
      ]
     },
     "execution_count": 92,
     "metadata": {},
     "output_type": "execute_result"
    }
   ],
   "source": [
    "bus_data.shape, bus_data_raw.shape"
   ]
  },
  {
   "cell_type": "code",
   "execution_count": 93,
   "metadata": {
    "collapsed": false
   },
   "outputs": [],
   "source": [
    "bus_data.to_pickle('business_patterns.pkl')"
   ]
  },
  {
   "cell_type": "code",
   "execution_count": 77,
   "metadata": {
    "collapsed": false
   },
   "outputs": [
    {
     "data": {
      "text/html": [
       "<div>\n",
       "<table border=\"1\" class=\"dataframe\">\n",
       "  <thead>\n",
       "    <tr style=\"text-align: right;\">\n",
       "      <th></th>\n",
       "      <th>Geographic area name</th>\n",
       "      <th>Number of establishments</th>\n",
       "      <th>paid_employees</th>\n",
       "      <th>first_quarter_payroll_1000</th>\n",
       "      <th>annual_payroll_1000</th>\n",
       "      <th>zipcode</th>\n",
       "    </tr>\n",
       "  </thead>\n",
       "  <tbody>\n",
       "    <tr>\n",
       "      <th>0</th>\n",
       "      <td>ZIP 00501 (Holtsville, NY)</td>\n",
       "      <td>2</td>\n",
       "      <td>10</td>\n",
       "      <td>NaN</td>\n",
       "      <td>NaN</td>\n",
       "      <td>00501</td>\n",
       "    </tr>\n",
       "    <tr>\n",
       "      <th>1</th>\n",
       "      <td>ZIP 01001 (Agawam, MA)</td>\n",
       "      <td>448</td>\n",
       "      <td>9185</td>\n",
       "      <td>70693</td>\n",
       "      <td>314508</td>\n",
       "      <td>01001</td>\n",
       "    </tr>\n",
       "    <tr>\n",
       "      <th>2</th>\n",
       "      <td>ZIP 01002 (Amherst, MA)</td>\n",
       "      <td>570</td>\n",
       "      <td>15633</td>\n",
       "      <td>82069</td>\n",
       "      <td>351589</td>\n",
       "      <td>01002</td>\n",
       "    </tr>\n",
       "    <tr>\n",
       "      <th>3</th>\n",
       "      <td>ZIP 01003 (Amherst, MA)</td>\n",
       "      <td>16</td>\n",
       "      <td>168</td>\n",
       "      <td>1297</td>\n",
       "      <td>5761</td>\n",
       "      <td>01003</td>\n",
       "    </tr>\n",
       "  </tbody>\n",
       "</table>\n",
       "</div>"
      ],
      "text/plain": [
       "         Geographic area name Number of establishments  paid_employees  \\\n",
       "0  ZIP 00501 (Holtsville, NY)                        2              10   \n",
       "1      ZIP 01001 (Agawam, MA)                      448            9185   \n",
       "2     ZIP 01002 (Amherst, MA)                      570           15633   \n",
       "3     ZIP 01003 (Amherst, MA)                       16             168   \n",
       "\n",
       "   first_quarter_payroll_1000  annual_payroll_1000 zipcode  \n",
       "0                         NaN                  NaN   00501  \n",
       "1                       70693               314508   01001  \n",
       "2                       82069               351589   01002  \n",
       "3                        1297                 5761   01003  "
      ]
     },
     "execution_count": 77,
     "metadata": {},
     "output_type": "execute_result"
    }
   ],
   "source": [
    "bus_data.head(4)"
   ]
  },
  {
   "cell_type": "code",
   "execution_count": null,
   "metadata": {
    "collapsed": false
   },
   "outputs": [],
   "source": []
  },
  {
   "cell_type": "code",
   "execution_count": null,
   "metadata": {
    "collapsed": true
   },
   "outputs": [],
   "source": []
  }
 ],
 "metadata": {
  "kernelspec": {
   "display_name": "Python 2",
   "language": "python",
   "name": "python2"
  },
  "language_info": {
   "codemirror_mode": {
    "name": "ipython",
    "version": 2
   },
   "file_extension": ".py",
   "mimetype": "text/x-python",
   "name": "python",
   "nbconvert_exporter": "python",
   "pygments_lexer": "ipython2",
   "version": "2.7.10"
  }
 },
 "nbformat": 4,
 "nbformat_minor": 0
}
