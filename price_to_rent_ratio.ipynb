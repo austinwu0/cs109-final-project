{
 "cells": [
  {
   "cell_type": "code",
   "execution_count": 20,
   "metadata": {
    "collapsed": true
   },
   "outputs": [],
   "source": [
    "%matplotlib inline\n",
    "import numpy as np\n",
    "import scipy as sp\n",
    "import matplotlib as mpl\n",
    "import matplotlib.cm as cm\n",
    "import matplotlib.pyplot as plt\n",
    "import pandas as pd\n",
    "import time\n",
    "import json\n",
    "pd.set_option('display.width', 500)\n",
    "pd.set_option('display.max_columns', 100)\n",
    "pd.set_option('display.notebook_repr_html', True)\n",
    "import seaborn as sns\n",
    "sns.set_style(\"whitegrid\")\n",
    "sns.set_context(\"poster\")"
   ]
  },
  {
   "cell_type": "code",
   "execution_count": 22,
   "metadata": {
    "collapsed": false
   },
   "outputs": [],
   "source": [
    "houses = pd.read_pickle('data/response_houses.pkl')\n",
    "houses.columns = ['h_'+str(column) if column != 'RegionName' else column for column in houses.columns]\n",
    "rental = pd.read_pickle('data/response_rental.pkl')\n",
    "rental.columns = ['r_'+str(column) if column != 'RegionName' else column for column in rental.columns]"
   ]
  },
  {
   "cell_type": "code",
   "execution_count": 23,
   "metadata": {
    "collapsed": false
   },
   "outputs": [
    {
     "data": {
      "text/html": [
       "<div>\n",
       "<table border=\"1\" class=\"dataframe\">\n",
       "  <thead>\n",
       "    <tr style=\"text-align: right;\">\n",
       "      <th></th>\n",
       "      <th>RegionName</th>\n",
       "      <th>r_agg_2011</th>\n",
       "      <th>r_agg_2015_adj</th>\n",
       "      <th>r_pct_delta</th>\n",
       "    </tr>\n",
       "  </thead>\n",
       "  <tbody>\n",
       "    <tr>\n",
       "      <th>0</th>\n",
       "      <td>11368</td>\n",
       "      <td>1.868000</td>\n",
       "      <td>2.188278</td>\n",
       "      <td>1.171455</td>\n",
       "    </tr>\n",
       "    <tr>\n",
       "      <th>1</th>\n",
       "      <td>79936</td>\n",
       "      <td>0.744167</td>\n",
       "      <td>0.694379</td>\n",
       "      <td>0.933096</td>\n",
       "    </tr>\n",
       "    <tr>\n",
       "      <th>2</th>\n",
       "      <td>60629</td>\n",
       "      <td>1.197000</td>\n",
       "      <td>1.180207</td>\n",
       "      <td>0.985971</td>\n",
       "    </tr>\n",
       "    <tr>\n",
       "      <th>3</th>\n",
       "      <td>90650</td>\n",
       "      <td>1.524333</td>\n",
       "      <td>1.640026</td>\n",
       "      <td>1.075898</td>\n",
       "    </tr>\n",
       "    <tr>\n",
       "      <th>4</th>\n",
       "      <td>11226</td>\n",
       "      <td>1.014000</td>\n",
       "      <td>1.277783</td>\n",
       "      <td>1.260141</td>\n",
       "    </tr>\n",
       "  </tbody>\n",
       "</table>\n",
       "</div>"
      ],
      "text/plain": [
       "   RegionName  r_agg_2011  r_agg_2015_adj  r_pct_delta\n",
       "0       11368    1.868000        2.188278     1.171455\n",
       "1       79936    0.744167        0.694379     0.933096\n",
       "2       60629    1.197000        1.180207     0.985971\n",
       "3       90650    1.524333        1.640026     1.075898\n",
       "4       11226    1.014000        1.277783     1.260141"
      ]
     },
     "execution_count": 23,
     "metadata": {},
     "output_type": "execute_result"
    }
   ],
   "source": [
    "rental.head()"
   ]
  },
  {
   "cell_type": "code",
   "execution_count": 24,
   "metadata": {
    "collapsed": false
   },
   "outputs": [
    {
     "data": {
      "text/html": [
       "<div>\n",
       "<table border=\"1\" class=\"dataframe\">\n",
       "  <thead>\n",
       "    <tr style=\"text-align: right;\">\n",
       "      <th></th>\n",
       "      <th>RegionName</th>\n",
       "      <th>h_agg_2011</th>\n",
       "      <th>h_agg_2015_adj</th>\n",
       "      <th>h_pct_delta</th>\n",
       "    </tr>\n",
       "  </thead>\n",
       "  <tbody>\n",
       "    <tr>\n",
       "      <th>0</th>\n",
       "      <td>11368</td>\n",
       "      <td>373.833333</td>\n",
       "      <td>431.274105</td>\n",
       "      <td>1.153653</td>\n",
       "    </tr>\n",
       "    <tr>\n",
       "      <th>1</th>\n",
       "      <td>79936</td>\n",
       "      <td>80.333333</td>\n",
       "      <td>75.060164</td>\n",
       "      <td>0.934359</td>\n",
       "    </tr>\n",
       "    <tr>\n",
       "      <th>2</th>\n",
       "      <td>60629</td>\n",
       "      <td>107.166667</td>\n",
       "      <td>113.430961</td>\n",
       "      <td>1.058454</td>\n",
       "    </tr>\n",
       "    <tr>\n",
       "      <th>3</th>\n",
       "      <td>90650</td>\n",
       "      <td>228.750000</td>\n",
       "      <td>292.549418</td>\n",
       "      <td>1.278905</td>\n",
       "    </tr>\n",
       "    <tr>\n",
       "      <th>4</th>\n",
       "      <td>11226</td>\n",
       "      <td>309.166667</td>\n",
       "      <td>416.876846</td>\n",
       "      <td>1.348389</td>\n",
       "    </tr>\n",
       "  </tbody>\n",
       "</table>\n",
       "</div>"
      ],
      "text/plain": [
       "   RegionName  h_agg_2011  h_agg_2015_adj  h_pct_delta\n",
       "0       11368  373.833333      431.274105     1.153653\n",
       "1       79936   80.333333       75.060164     0.934359\n",
       "2       60629  107.166667      113.430961     1.058454\n",
       "3       90650  228.750000      292.549418     1.278905\n",
       "4       11226  309.166667      416.876846     1.348389"
      ]
     },
     "execution_count": 24,
     "metadata": {},
     "output_type": "execute_result"
    }
   ],
   "source": [
    "houses.head()"
   ]
  },
  {
   "cell_type": "code",
   "execution_count": 25,
   "metadata": {
    "collapsed": false
   },
   "outputs": [
    {
     "data": {
      "text/html": [
       "<div>\n",
       "<table border=\"1\" class=\"dataframe\">\n",
       "  <thead>\n",
       "    <tr style=\"text-align: right;\">\n",
       "      <th></th>\n",
       "      <th>RegionName</th>\n",
       "      <th>r_agg_2011</th>\n",
       "      <th>r_agg_2015_adj</th>\n",
       "      <th>r_pct_delta</th>\n",
       "      <th>h_agg_2011</th>\n",
       "      <th>h_agg_2015_adj</th>\n",
       "      <th>h_pct_delta</th>\n",
       "    </tr>\n",
       "  </thead>\n",
       "  <tbody>\n",
       "    <tr>\n",
       "      <th>0</th>\n",
       "      <td>11368</td>\n",
       "      <td>1.868000</td>\n",
       "      <td>2.188278</td>\n",
       "      <td>1.171455</td>\n",
       "      <td>373.833333</td>\n",
       "      <td>431.274105</td>\n",
       "      <td>1.153653</td>\n",
       "    </tr>\n",
       "    <tr>\n",
       "      <th>1</th>\n",
       "      <td>79936</td>\n",
       "      <td>0.744167</td>\n",
       "      <td>0.694379</td>\n",
       "      <td>0.933096</td>\n",
       "      <td>80.333333</td>\n",
       "      <td>75.060164</td>\n",
       "      <td>0.934359</td>\n",
       "    </tr>\n",
       "    <tr>\n",
       "      <th>2</th>\n",
       "      <td>60629</td>\n",
       "      <td>1.197000</td>\n",
       "      <td>1.180207</td>\n",
       "      <td>0.985971</td>\n",
       "      <td>107.166667</td>\n",
       "      <td>113.430961</td>\n",
       "      <td>1.058454</td>\n",
       "    </tr>\n",
       "    <tr>\n",
       "      <th>3</th>\n",
       "      <td>90650</td>\n",
       "      <td>1.524333</td>\n",
       "      <td>1.640026</td>\n",
       "      <td>1.075898</td>\n",
       "      <td>228.750000</td>\n",
       "      <td>292.549418</td>\n",
       "      <td>1.278905</td>\n",
       "    </tr>\n",
       "    <tr>\n",
       "      <th>4</th>\n",
       "      <td>11226</td>\n",
       "      <td>1.014000</td>\n",
       "      <td>1.277783</td>\n",
       "      <td>1.260141</td>\n",
       "      <td>309.166667</td>\n",
       "      <td>416.876846</td>\n",
       "      <td>1.348389</td>\n",
       "    </tr>\n",
       "  </tbody>\n",
       "</table>\n",
       "</div>"
      ],
      "text/plain": [
       "   RegionName  r_agg_2011  r_agg_2015_adj  r_pct_delta  h_agg_2011  h_agg_2015_adj  h_pct_delta\n",
       "0       11368    1.868000        2.188278     1.171455  373.833333      431.274105     1.153653\n",
       "1       79936    0.744167        0.694379     0.933096   80.333333       75.060164     0.934359\n",
       "2       60629    1.197000        1.180207     0.985971  107.166667      113.430961     1.058454\n",
       "3       90650    1.524333        1.640026     1.075898  228.750000      292.549418     1.278905\n",
       "4       11226    1.014000        1.277783     1.260141  309.166667      416.876846     1.348389"
      ]
     },
     "execution_count": 25,
     "metadata": {},
     "output_type": "execute_result"
    }
   ],
   "source": [
    "df = rental.merge(houses, on='RegionName')\n",
    "df.head()"
   ]
  },
  {
   "cell_type": "code",
   "execution_count": 29,
   "metadata": {
    "collapsed": false
   },
   "outputs": [
    {
     "data": {
      "text/html": [
       "<div>\n",
       "<table border=\"1\" class=\"dataframe\">\n",
       "  <thead>\n",
       "    <tr style=\"text-align: right;\">\n",
       "      <th></th>\n",
       "      <th>RegionName</th>\n",
       "      <th>r_agg_2011</th>\n",
       "      <th>r_agg_2015_adj</th>\n",
       "      <th>r_pct_delta</th>\n",
       "      <th>h_agg_2011</th>\n",
       "      <th>h_agg_2015_adj</th>\n",
       "      <th>h_pct_delta</th>\n",
       "      <th>ratio_2011</th>\n",
       "      <th>ratio_2015</th>\n",
       "      <th>ratio_pct_delta</th>\n",
       "    </tr>\n",
       "  </thead>\n",
       "  <tbody>\n",
       "    <tr>\n",
       "      <th>0</th>\n",
       "      <td>11368</td>\n",
       "      <td>1.868000</td>\n",
       "      <td>2.188278</td>\n",
       "      <td>1.171455</td>\n",
       "      <td>373.833333</td>\n",
       "      <td>431.274105</td>\n",
       "      <td>1.153653</td>\n",
       "      <td>200.124911</td>\n",
       "      <td>197.083754</td>\n",
       "      <td>0.984804</td>\n",
       "    </tr>\n",
       "    <tr>\n",
       "      <th>1</th>\n",
       "      <td>79936</td>\n",
       "      <td>0.744167</td>\n",
       "      <td>0.694379</td>\n",
       "      <td>0.933096</td>\n",
       "      <td>80.333333</td>\n",
       "      <td>75.060164</td>\n",
       "      <td>0.934359</td>\n",
       "      <td>107.950728</td>\n",
       "      <td>108.096860</td>\n",
       "      <td>1.001354</td>\n",
       "    </tr>\n",
       "    <tr>\n",
       "      <th>2</th>\n",
       "      <td>60629</td>\n",
       "      <td>1.197000</td>\n",
       "      <td>1.180207</td>\n",
       "      <td>0.985971</td>\n",
       "      <td>107.166667</td>\n",
       "      <td>113.430961</td>\n",
       "      <td>1.058454</td>\n",
       "      <td>89.529379</td>\n",
       "      <td>96.111037</td>\n",
       "      <td>1.073514</td>\n",
       "    </tr>\n",
       "    <tr>\n",
       "      <th>3</th>\n",
       "      <td>90650</td>\n",
       "      <td>1.524333</td>\n",
       "      <td>1.640026</td>\n",
       "      <td>1.075898</td>\n",
       "      <td>228.750000</td>\n",
       "      <td>292.549418</td>\n",
       "      <td>1.278905</td>\n",
       "      <td>150.065602</td>\n",
       "      <td>178.380911</td>\n",
       "      <td>1.188686</td>\n",
       "    </tr>\n",
       "    <tr>\n",
       "      <th>4</th>\n",
       "      <td>11226</td>\n",
       "      <td>1.014000</td>\n",
       "      <td>1.277783</td>\n",
       "      <td>1.260141</td>\n",
       "      <td>309.166667</td>\n",
       "      <td>416.876846</td>\n",
       "      <td>1.348389</td>\n",
       "      <td>304.898093</td>\n",
       "      <td>326.250103</td>\n",
       "      <td>1.070030</td>\n",
       "    </tr>\n",
       "  </tbody>\n",
       "</table>\n",
       "</div>"
      ],
      "text/plain": [
       "   RegionName  r_agg_2011  r_agg_2015_adj  r_pct_delta  h_agg_2011  h_agg_2015_adj  h_pct_delta  ratio_2011  ratio_2015  ratio_pct_delta\n",
       "0       11368    1.868000        2.188278     1.171455  373.833333      431.274105     1.153653  200.124911  197.083754         0.984804\n",
       "1       79936    0.744167        0.694379     0.933096   80.333333       75.060164     0.934359  107.950728  108.096860         1.001354\n",
       "2       60629    1.197000        1.180207     0.985971  107.166667      113.430961     1.058454   89.529379   96.111037         1.073514\n",
       "3       90650    1.524333        1.640026     1.075898  228.750000      292.549418     1.278905  150.065602  178.380911         1.188686\n",
       "4       11226    1.014000        1.277783     1.260141  309.166667      416.876846     1.348389  304.898093  326.250103         1.070030"
      ]
     },
     "execution_count": 29,
     "metadata": {},
     "output_type": "execute_result"
    }
   ],
   "source": [
    "df['ratio_2011'] = df['h_agg_2011'] / df['r_agg_2011']\n",
    "df['ratio_2015'] = df['h_agg_2015_adj'] / df['r_agg_2015_adj']\n",
    "df['ratio_pct_delta'] = df['ratio_2015'] / df['ratio_2011']\n",
    "df.head()"
   ]
  },
  {
   "cell_type": "code",
   "execution_count": 36,
   "metadata": {
    "collapsed": false
   },
   "outputs": [
    {
     "data": {
      "image/png": "[encoded data removed]",
      "text/plain": [
       "<matplotlib.figure.Figure at 0x10bca4410>"
      ]
     },
     "metadata": {},
     "output_type": "display_data"
    }
   ],
   "source": [
    "plt.hist(df['ratio_pct_delta'].dropna().tolist());\n",
    "plt.title('Histogram of Change in Ratio');"
   ]
  },
  {
   "cell_type": "code",
   "execution_count": 45,
   "metadata": {
    "collapsed": false
   },
   "outputs": [
    {
     "data": {
      "image/png": "[encoded data removed]",
      "text/plain": [
       "<matplotlib.figure.Figure at 0x10b6e1ed0>"
      ]
     },
     "metadata": {},
     "output_type": "display_data"
    }
   ],
   "source": [
    "setbins = range(0,500,25)\n",
    "plt.hist(df['ratio_2011'].dropna().tolist(), bins = setbins, alpha=0.6, label='2011');\n",
    "plt.hist(df['ratio_2015'].dropna().tolist(), bins = setbins, alpha=0.6, label='2015');\n",
    "plt.title('Histogram of Ratio in 2011 vs. 2015');\n",
    "plt.legend();"
   ]
  },
  {
   "cell_type": "code",
   "execution_count": null,
   "metadata": {
    "collapsed": true
   },
   "outputs": [],
   "source": []
  }
 ],
 "metadata": {
  "kernelspec": {
   "display_name": "Python 2",
   "language": "python",
   "name": "python2"
  },
  "language_info": {
   "codemirror_mode": {
    "name": "ipython",
    "version": 2
   },
   "file_extension": ".py",
   "mimetype": "text/x-python",
   "name": "python",
   "nbconvert_exporter": "python",
   "pygments_lexer": "ipython2",
   "version": "2.7.10"
  }
 },
 "nbformat": 4,
 "nbformat_minor": 0
}
